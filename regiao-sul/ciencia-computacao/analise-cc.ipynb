{
 "cells": [
  {
   "cell_type": "code",
   "execution_count": 16,
   "metadata": {},
   "outputs": [],
   "source": [
    "import pandas as pd \n",
    "import numpy as np \n",
    "import matplotlib as plt  "
   ]
  },
  {
   "cell_type": "code",
   "execution_count": 17,
   "metadata": {},
   "outputs": [
    {
     "name": "stdout",
     "output_type": "stream",
     "text": [
      "      Cod_curso  Cod_grupo_curso  Cod_regiao_curso Nota_geral  \\\n",
      "0           778             4004                 4       45,6   \n",
      "1           778             4004                 4       41,9   \n",
      "2           778             4004                 4         25   \n",
      "3           778             4004                 4       57,8   \n",
      "4           778             4004                 4       58,6   \n",
      "...         ...              ...               ...        ...   \n",
      "1852    5000385             4004                 4       39,1   \n",
      "1853    5000385             4004                 4       53,5   \n",
      "1854    5000385             4004                 4       38,9   \n",
      "1855    5000385             4004                 4       50,8   \n",
      "1856    5000385             4004                 4       64,6   \n",
      "\n",
      "     Escolaridade_pai Escolaridade_mae Renda Tipo_escola Horas_estudos  \n",
      "0                   D                F     E           A             B  \n",
      "1                   C                E     D           A             E  \n",
      "2                   D                C     D           B             C  \n",
      "3                   E                F     D           B             B  \n",
      "4                   E                E     C           A             B  \n",
      "...               ...              ...   ...         ...           ...  \n",
      "1852                D                E     C           A             C  \n",
      "1853                F                D     B           A             D  \n",
      "1854                B                D     B           A             E  \n",
      "1855                D                C     B           A             C  \n",
      "1856                B                D     C           A             B  \n",
      "\n",
      "[1857 rows x 9 columns]\n"
     ]
    }
   ],
   "source": [
    "regiao_sul_cc = pd.read_csv('regiao-sul-cc.csv', sep=',')\n",
    "\n",
    "print(regiao_sul_cc)"
   ]
  },
  {
   "cell_type": "code",
   "execution_count": 27,
   "metadata": {},
   "outputs": [
    {
     "name": "stdout",
     "output_type": "stream",
     "text": [
      "Cod_curso           0\n",
      "Cod_grupo_curso     0\n",
      "Cod_regiao_curso    0\n",
      "Nota_geral          0\n",
      "Escolaridade_pai    0\n",
      "Escolaridade_mae    0\n",
      "Renda               0\n",
      "Tipo_escola         0\n",
      "Horas_estudos       0\n",
      "dtype: int64\n"
     ]
    }
   ],
   "source": [
    "valores_nulos = regiao_sul_cc.isnull()\n",
    "contagem = valores_nulos.sum()\n",
    "\n",
    "print(contagem)"
   ]
  },
  {
   "cell_type": "code",
   "execution_count": 26,
   "metadata": {},
   "outputs": [],
   "source": [
    "regiao_sul_cc.dropna(inplace=True)"
   ]
  },
  {
   "cell_type": "code",
   "execution_count": 20,
   "metadata": {},
   "outputs": [
    {
     "name": "stdout",
     "output_type": "stream",
     "text": [
      "Escolaridade_pai\n",
      "A    33.500000\n",
      "B    44.285714\n",
      "C    38.437500\n",
      "D    46.672131\n",
      "E    46.529412\n",
      "F    54.941176\n",
      "Name: Nota_geral, dtype: float64\n"
     ]
    }
   ],
   "source": [
    "regiao_sul_cc['Nota_geral'] = pd.to_numeric(regiao_sul_cc['Nota_geral'], errors='coerce')\n",
    "\n",
    "def calcular_media_nota_geral_por_resposta(dataframe):\n",
    "    media_por_resposta = dataframe.groupby('Escolaridade_pai')['Nota_geral'].mean()\n",
    "    \n",
    "    return media_por_resposta\n",
    "\n",
    "media_nota_geral_por_resposta = calcular_media_nota_geral_por_resposta(regiao_sul_cc)\n",
    "print(media_nota_geral_por_resposta)"
   ]
  },
  {
   "cell_type": "code",
   "execution_count": 21,
   "metadata": {},
   "outputs": [
    {
     "name": "stdout",
     "output_type": "stream",
     "text": [
      "Escolaridade_mae\n",
      "A    51.500000\n",
      "B    40.576923\n",
      "C    41.884615\n",
      "D    45.921875\n",
      "E    51.080000\n",
      "F    46.958333\n",
      "Name: Nota_geral, dtype: float64\n"
     ]
    }
   ],
   "source": [
    "def calcular_media_nota_geral_por_resposta(dataframe):\n",
    "    media_por_resposta = dataframe.groupby('Escolaridade_mae')['Nota_geral'].mean()\n",
    "    \n",
    "    return media_por_resposta\n",
    "\n",
    "media_nota_geral_por_resposta = calcular_media_nota_geral_por_resposta(regiao_sul_cc)\n",
    "print(media_nota_geral_por_resposta)"
   ]
  },
  {
   "cell_type": "code",
   "execution_count": 22,
   "metadata": {},
   "outputs": [
    {
     "name": "stdout",
     "output_type": "stream",
     "text": [
      "Renda\n",
      "A    37.700000\n",
      "B    41.432432\n",
      "C    42.500000\n",
      "D    43.640000\n",
      "E    52.843750\n",
      "F    54.000000\n",
      "G    62.333333\n",
      "Name: Nota_geral, dtype: float64\n"
     ]
    }
   ],
   "source": [
    "def calcular_media_nota_geral_por_resposta(dataframe):\n",
    "    media_por_resposta = dataframe.groupby('Renda')['Nota_geral'].mean()\n",
    "    \n",
    "    return media_por_resposta\n",
    "\n",
    "media_nota_geral_por_resposta = calcular_media_nota_geral_por_resposta(regiao_sul_cc)\n",
    "print(media_nota_geral_por_resposta)"
   ]
  },
  {
   "cell_type": "code",
   "execution_count": 23,
   "metadata": {},
   "outputs": [
    {
     "name": "stdout",
     "output_type": "stream",
     "text": [
      "Tipo_escola\n",
      "A    44.452830\n",
      "B    47.117647\n",
      "C    41.000000\n",
      "D    35.333333\n",
      "E    54.666667\n",
      "F          NaN\n",
      "Name: Nota_geral, dtype: float64\n"
     ]
    }
   ],
   "source": [
    "def calcular_media_nota_geral_por_resposta(dataframe):\n",
    "    media_por_resposta = dataframe.groupby('Tipo_escola')['Nota_geral'].mean()\n",
    "    \n",
    "    return media_por_resposta\n",
    "\n",
    "media_nota_geral_por_resposta = calcular_media_nota_geral_por_resposta(regiao_sul_cc)\n",
    "print(media_nota_geral_por_resposta)"
   ]
  },
  {
   "cell_type": "code",
   "execution_count": 24,
   "metadata": {},
   "outputs": [
    {
     "name": "stdout",
     "output_type": "stream",
     "text": [
      "Horas_estudos\n",
      "A    40.454545\n",
      "B    46.523810\n",
      "C    42.576923\n",
      "D    46.772727\n",
      "E    51.105263\n",
      "Name: Nota_geral, dtype: float64\n"
     ]
    }
   ],
   "source": [
    "def calcular_media_nota_geral_por_resposta(dataframe):\n",
    "    media_por_resposta = dataframe.groupby('Horas_estudos')['Nota_geral'].mean()\n",
    "    \n",
    "    return media_por_resposta\n",
    "\n",
    "media_nota_geral_por_resposta = calcular_media_nota_geral_por_resposta(regiao_sul_cc)\n",
    "print(media_nota_geral_por_resposta)"
   ]
  }
 ],
 "metadata": {
  "kernelspec": {
   "display_name": "Python 3",
   "language": "python",
   "name": "python3"
  },
  "language_info": {
   "codemirror_mode": {
    "name": "ipython",
    "version": 3
   },
   "file_extension": ".py",
   "mimetype": "text/x-python",
   "name": "python",
   "nbconvert_exporter": "python",
   "pygments_lexer": "ipython3",
   "version": "3.12.0"
  }
 },
 "nbformat": 4,
 "nbformat_minor": 2
}
