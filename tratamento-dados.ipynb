{
 "cells": [
  {
   "cell_type": "code",
   "execution_count": 2,
   "metadata": {},
   "outputs": [],
   "source": [
    "import pandas as pd\n",
    "import numpy as np\n",
    "from zipfile import ZipFile\n",
    "import os"
   ]
  },
  {
   "cell_type": "code",
   "execution_count": 3,
   "metadata": {},
   "outputs": [
    {
     "name": "stdout",
     "output_type": "stream",
     "text": [
      "        NU_ANO  CO_IES  CO_CATEGAD  CO_ORGACAD  CO_GRUPO  CO_CURSO  \\\n",
      "0         2017       1           1       10028      5710         3   \n",
      "1         2017       1           1       10028      5710         3   \n",
      "2         2017       1           1       10028      5710         3   \n",
      "3         2017       1           1       10028      5710         3   \n",
      "4         2017       1           1       10028      5710         3   \n",
      "...        ...     ...         ...         ...       ...       ...   \n",
      "537431    2017   19578           2       10022      6208   5001279   \n",
      "537432    2017   19578           2       10022      6208   5001279   \n",
      "537433    2017   19578           2       10022      6208   5001279   \n",
      "537434    2017   19578           2       10022      6208   5001279   \n",
      "537435    2017   19578           2       10022      6208   5001279   \n",
      "\n",
      "        CO_MODALIDADE  CO_MUNIC_CURSO  CO_UF_CURSO  CO_REGIAO_CURSO  ...  \\\n",
      "0                   1         5103403           51                5  ...   \n",
      "1                   1         5103403           51                5  ...   \n",
      "2                   1         5103403           51                5  ...   \n",
      "3                   1         5103403           51                5  ...   \n",
      "4                   1         5103403           51                5  ...   \n",
      "...               ...             ...          ...              ...  ...   \n",
      "537431              1         3513009           35                3  ...   \n",
      "537432              1         3513009           35                3  ...   \n",
      "537433              1         3513009           35                3  ...   \n",
      "537434              1         3513009           35                3  ...   \n",
      "537435              1         3513009           35                3  ...   \n",
      "\n",
      "        QE_I72 QE_I73  QE_I74  QE_I75  QE_I76  QE_I77  QE_I78  QE_I79  QE_I80  \\\n",
      "0          NaN    NaN     NaN     NaN     NaN     NaN     NaN     NaN     NaN   \n",
      "1          NaN    NaN     NaN     NaN     NaN     NaN     NaN     NaN     NaN   \n",
      "2          NaN    NaN     NaN     NaN     NaN     NaN     NaN     NaN     NaN   \n",
      "3          NaN    NaN     NaN     NaN     NaN     NaN     NaN     NaN     NaN   \n",
      "4          NaN    NaN     NaN     NaN     NaN     NaN     NaN     NaN     NaN   \n",
      "...        ...    ...     ...     ...     ...     ...     ...     ...     ...   \n",
      "537431     NaN    NaN     NaN     NaN     NaN     NaN     NaN     NaN     NaN   \n",
      "537432     NaN    NaN     NaN     NaN     NaN     NaN     NaN     NaN     NaN   \n",
      "537433     NaN    NaN     NaN     NaN     NaN     NaN     NaN     NaN     NaN   \n",
      "537434     NaN    NaN     NaN     NaN     NaN     NaN     NaN     NaN     NaN   \n",
      "537435     NaN    NaN     NaN     NaN     NaN     NaN     NaN     NaN     NaN   \n",
      "\n",
      "        QE_I81  \n",
      "0          NaN  \n",
      "1          NaN  \n",
      "2          NaN  \n",
      "3          NaN  \n",
      "4          NaN  \n",
      "...        ...  \n",
      "537431     NaN  \n",
      "537432     NaN  \n",
      "537433     NaN  \n",
      "537434     NaN  \n",
      "537435     NaN  \n",
      "\n",
      "[537436 rows x 150 columns]\n"
     ]
    }
   ],
   "source": [
    "diretorio = 'base-original'\n",
    "arquivo_zip = 'pibic-dados.zip'\n",
    "caminho_zip = os.path.join(diretorio, arquivo_zip)\n",
    "nome_arquivo = 'pibic-dados.csv'\n",
    "\n",
    "with ZipFile(caminho_zip, 'r') as zip_file:\n",
    "    pibic_dados = pd.read_csv(zip_file.open(nome_arquivo), \n",
    "                                            sep=';', \n",
    "                                            encoding='utf8', \n",
    "                                            low_memory=False)\n",
    "\n",
    "print(pibic_dados)"
   ]
  },
  {
   "cell_type": "code",
   "execution_count": 4,
   "metadata": {},
   "outputs": [
    {
     "name": "stdout",
     "output_type": "stream",
     "text": [
      "['NU_ANO', 'CO_IES', 'CO_CATEGAD', 'CO_ORGACAD', 'CO_GRUPO', 'CO_CURSO', 'CO_MODALIDADE', 'CO_MUNIC_CURSO', 'CO_UF_CURSO', 'CO_REGIAO_CURSO', 'NU_IDADE', 'TP_SEXO', 'ANO_FIM_EM', 'ANO_IN_GRAD', 'CO_TURNO_GRADUACAO', 'TP_INSCRICAO_ADM', 'TP_INSCRICAO', 'NU_ITEM_OFG', 'NU_ITEM_OFG_Z', 'NU_ITEM_OFG_X', 'NU_ITEM_OFG_N', 'NU_ITEM_OCE', 'NU_ITEM_OCE_Z', 'NU_ITEM_OCE_X', 'NU_ITEM_OCE_N', 'DS_VT_GAB_OFG_ORIG', 'DS_VT_GAB_OFG_FIN', 'DS_VT_GAB_OCE_ORIG', 'DS_VT_GAB_OCE_FIN', 'DS_VT_ESC_OFG', 'DS_VT_ACE_OFG', 'DS_VT_ESC_OCE', 'DS_VT_ACE_OCE', 'TP_PRES', 'TP_PR_GER', 'TP_PR_OB_FG', 'TP_PR_DI_FG', 'TP_PR_OB_CE', 'TP_PR_DI_CE', 'TP_SFG_D1', 'TP_SFG_D2', 'TP_SCE_D1', 'TP_SCE_D2', 'TP_SCE_D3', 'NT_GER', 'NT_FG', 'NT_OBJ_FG', 'NT_DIS_FG', 'NT_FG_D1', 'NT_FG_D1_PT', 'NT_FG_D1_CT', 'NT_FG_D2', 'NT_FG_D2_PT', 'NT_FG_D2_CT', 'NT_CE', 'NT_OBJ_CE', 'NT_DIS_CE', 'NT_CE_D1', 'NT_CE_D2', 'NT_CE_D3', 'CO_RS_I1', 'CO_RS_I2', 'CO_RS_I3', 'CO_RS_I4', 'CO_RS_I5', 'CO_RS_I6', 'CO_RS_I7', 'CO_RS_I8', 'CO_RS_I9', 'QE_I01', 'QE_I02', 'QE_I03', 'QE_I04', 'QE_I05', 'QE_I06', 'QE_I07', 'QE_I08', 'QE_I09', 'QE_I10', 'QE_I11', 'QE_I12', 'QE_I13', 'QE_I14', 'QE_I15', 'QE_I16', 'QE_I17', 'QE_I18', 'QE_I19', 'QE_I20', 'QE_I21', 'QE_I22', 'QE_I23', 'QE_I24', 'QE_I25', 'QE_I26', 'QE_I27', 'QE_I28', 'QE_I29', 'QE_I30', 'QE_I31', 'QE_I32', 'QE_I33', 'QE_I34', 'QE_I35', 'QE_I36', 'QE_I37', 'QE_I38', 'QE_I39', 'QE_I40', 'QE_I41', 'QE_I42', 'QE_I43', 'QE_I44', 'QE_I45', 'QE_I46', 'QE_I47', 'QE_I48', 'QE_I49', 'QE_I50', 'QE_I51', 'QE_I52', 'QE_I53', 'QE_I54', 'QE_I55', 'QE_I56', 'QE_I57', 'QE_I58', 'QE_I59', 'QE_I60', 'QE_I61', 'QE_I62', 'QE_I63', 'QE_I64', 'QE_I65', 'QE_I66', 'QE_I67', 'QE_I68', 'QE_I69', 'QE_I70', 'QE_I71', 'QE_I72', 'QE_I73', 'QE_I74', 'QE_I75', 'QE_I76', 'QE_I77', 'QE_I78', 'QE_I79', 'QE_I80', 'QE_I81']\n"
     ]
    }
   ],
   "source": [
    "colunas = list(pibic_dados.columns)\n",
    "print(colunas)"
   ]
  },
  {
   "cell_type": "code",
   "execution_count": 6,
   "metadata": {},
   "outputs": [
    {
     "name": "stdout",
     "output_type": "stream",
     "text": [
      "        CO_CURSO  CO_GRUPO  CO_REGIAO_CURSO NT_GER QE_I04 QE_I05 QE_I08  \\\n",
      "0              3      5710                5   52,6      D      F      B   \n",
      "1              3      5710                5   63,1      E      D      B   \n",
      "2              3      5710                5   33,7      E      F      F   \n",
      "3              3      5710                5   58,1      D      D      B   \n",
      "4              3      5710                5   46,3      D      F      F   \n",
      "...          ...       ...              ...    ...    ...    ...    ...   \n",
      "537431   5001279      6208                3    NaN      B      C      C   \n",
      "537432   5001279      6208                3    NaN      B      D      B   \n",
      "537433   5001279      6208                3    NaN      B      D      B   \n",
      "537434   5001279      6208                3    NaN      E      D      C   \n",
      "537435   5001279      6208                3    NaN    NaN    NaN    NaN   \n",
      "\n",
      "       QE_I17 QE_I23  \n",
      "0           B      D  \n",
      "1           A      C  \n",
      "2           B      B  \n",
      "3           A      C  \n",
      "4           B      B  \n",
      "...       ...    ...  \n",
      "537431      A      B  \n",
      "537432      A      D  \n",
      "537433      A      B  \n",
      "537434      A      C  \n",
      "537435    NaN    NaN  \n",
      "\n",
      "[537436 rows x 9 columns]\n"
     ]
    }
   ],
   "source": [
    "pibic_filtrado = pibic_dados.loc[:, ['CO_CURSO', 'CO_GRUPO', 'CO_REGIAO_CURSO', 'NT_GER', \n",
    "                                     'QE_I04', 'QE_I05', 'QE_I08', 'QE_I17', 'QE_I23']]\n",
    "print(pibic_filtrado)"
   ]
  },
  {
   "cell_type": "code",
   "execution_count": null,
   "metadata": {},
   "outputs": [],
   "source": [
    "pibic_filtrado.to_csv('resultados-filtrados/pibic_filtrado.csv', index=False)"
   ]
  },
  {
   "cell_type": "code",
   "execution_count": 8,
   "metadata": {},
   "outputs": [
    {
     "name": "stdout",
     "output_type": "stream",
     "text": [
      "        Cod_curso  Cod_grupo_curso  Cod_regiao_curso Nota_geral  \\\n",
      "0               3             5710                 5       52,6   \n",
      "1               3             5710                 5       63,1   \n",
      "2               3             5710                 5       33,7   \n",
      "3               3             5710                 5       58,1   \n",
      "4               3             5710                 5       46,3   \n",
      "...           ...              ...               ...        ...   \n",
      "537431    5001279             6208                 3        NaN   \n",
      "537432    5001279             6208                 3        NaN   \n",
      "537433    5001279             6208                 3        NaN   \n",
      "537434    5001279             6208                 3        NaN   \n",
      "537435    5001279             6208                 3        NaN   \n",
      "\n",
      "       Escolaridade_pai Escolaridade_mae Renda Tipo_escola Horas_estudos  \n",
      "0                     D                F     B           B             D  \n",
      "1                     E                D     B           A             C  \n",
      "2                     E                F     F           B             B  \n",
      "3                     D                D     B           A             C  \n",
      "4                     D                F     F           B             B  \n",
      "...                 ...              ...   ...         ...           ...  \n",
      "537431                B                C     C           A             B  \n",
      "537432                B                D     B           A             D  \n",
      "537433                B                D     B           A             B  \n",
      "537434                E                D     C           A             C  \n",
      "537435              NaN              NaN   NaN         NaN           NaN  \n",
      "\n",
      "[537436 rows x 9 columns]\n"
     ]
    }
   ],
   "source": [
    "pibic_filtrado.rename(columns={\n",
    "    'CO_CURSO': 'Cod_curso',\n",
    "    'CO_GRUPO': 'Cod_grupo_curso',\n",
    "    'CO_REGIAO_CURSO': 'Cod_regiao_curso',\n",
    "    'NT_GER': 'Nota_geral',\n",
    "    'QE_I04': 'Escolaridade_pai',\n",
    "    'QE_I05': 'Escolaridade_mae',\n",
    "    'QE_I08': 'Renda',\n",
    "    'QE_I17': 'Tipo_escola',\n",
    "    'QE_I23': 'Horas_estudos'\n",
    "}, inplace=True)\n",
    "\n",
    "print(pibic_filtrado)"
   ]
  },
  {
   "cell_type": "code",
   "execution_count": 9,
   "metadata": {},
   "outputs": [
    {
     "name": "stdout",
     "output_type": "stream",
     "text": [
      "        Cod_curso  Cod_grupo_curso  Cod_regiao_curso Nota_geral  \\\n",
      "55274       12025             4004                 1        NaN   \n",
      "55275       12025             4004                 1       48,6   \n",
      "55276       12025             4004                 1       63,2   \n",
      "55277       12025             4004                 1       51,1   \n",
      "55278       12025             4004                 1        NaN   \n",
      "...           ...              ...               ...        ...   \n",
      "535797      73438             4004                 1        NaN   \n",
      "535798      73438             4004                 1        NaN   \n",
      "535799      73438             4004                 1        NaN   \n",
      "535800      73438             4004                 1        NaN   \n",
      "535801      73438             4004                 1        NaN   \n",
      "\n",
      "       Escolaridade_pai Escolaridade_mae Renda Tipo_escola Horas_estudos  \n",
      "55274                 D                B     A           A             B  \n",
      "55275                 C                D     A           A             C  \n",
      "55276                 E                E     D           B             C  \n",
      "55277                 C                D     B           B             B  \n",
      "55278               NaN              NaN   NaN         NaN           NaN  \n",
      "...                 ...              ...   ...         ...           ...  \n",
      "535797                B                C     B           A             C  \n",
      "535798                D                D     C           E             C  \n",
      "535799                D                D     D           A             B  \n",
      "535800                E                F     A           A             B  \n",
      "535801                A                B     A           A             C  \n",
      "\n",
      "[626 rows x 9 columns]\n"
     ]
    }
   ],
   "source": [
    "#filtro para análise referentes a região norte e ao grupo de curso de ciência da computação (bacharel)\n",
    "regiao_norte = pibic_filtrado.loc[(pibic_filtrado['Cod_grupo_curso'] == 4004) & (pibic_filtrado['Cod_regiao_curso'] == 1)]\n",
    "ciencia_computacao_norte = pd.DataFrame(regiao_norte)\n",
    "\n",
    "ciencia_computacao_norte.to_csv('resultados-filtrados/regiao-norte-cc.csv', index=False)\n",
    "\n",
    "print(ciencia_computacao_norte)"
   ]
  },
  {
   "cell_type": "code",
   "execution_count": null,
   "metadata": {},
   "outputs": [],
   "source": [
    "regiao_nordeste = pibic_filtrado.loc[(pibic_filtrado['Cod_grupo_curso'] == 4004) & (pibic_filtrado['Cod_regiao_curso'] == 2)]\n",
    "ciencia_computacao_nordeste = pd.DataFrame(regiao_nordeste)\n",
    "\n",
    "ciencia_computacao_nordeste.to_csv('resultados-filtrados/regiao-nordeste-cc.csv', index=False)\n",
    "\n",
    "print(ciencia_computacao_nordeste)"
   ]
  },
  {
   "cell_type": "code",
   "execution_count": null,
   "metadata": {},
   "outputs": [],
   "source": [
    "regiao_sudeste = pibic_filtrado.loc[(pibic_filtrado['Cod_grupo_curso'] == 4004) & (pibic_filtrado['Cod_regiao_curso'] == 3)]\n",
    "ciencia_computacao_sudeste = pd.DataFrame(regiao_sudeste)\n",
    "\n",
    "ciencia_computacao_sudeste.to_csv('resultados-filtrados/regiao-sudeste-cc.csv', index=False)\n",
    "\n",
    "print(ciencia_computacao_sudeste)"
   ]
  },
  {
   "cell_type": "code",
   "execution_count": null,
   "metadata": {},
   "outputs": [],
   "source": [
    "regiao_sul = pibic_filtrado.loc[(pibic_filtrado['Cod_grupo_curso'] == 4004) & (pibic_filtrado['Cod_regiao_curso'] == 4)]\n",
    "ciencia_computacao_sul = pd.DataFrame(regiao_sul)\n",
    "\n",
    "ciencia_computacao_sul.to_csv('resultados-filtrados/regiao-sul-cc.csv', index=False)\n",
    "\n",
    "print(ciencia_computacao_sul)"
   ]
  },
  {
   "cell_type": "code",
   "execution_count": null,
   "metadata": {},
   "outputs": [],
   "source": [
    "regiao_centro_oeste = pibic_filtrado.loc[(pibic_filtrado['Cod_grupo_curso'] == 4004) & (pibic_filtrado['Cod_regiao_curso'] == 5)]\n",
    "ciencia_computacao_centro_oeste = pd.DataFrame(regiao_centro_oeste)\n",
    "\n",
    "ciencia_computacao_centro_oeste.to_csv('resultados-filtrados/regiao-centro-oeste-cc.csv', index=False)\n",
    "\n",
    "print(ciencia_computacao_centro_oeste)"
   ]
  }
 ],
 "metadata": {
  "kernelspec": {
   "display_name": "Python 3",
   "language": "python",
   "name": "python3"
  },
  "language_info": {
   "codemirror_mode": {
    "name": "ipython",
    "version": 3
   },
   "file_extension": ".py",
   "mimetype": "text/x-python",
   "name": "python",
   "nbconvert_exporter": "python",
   "pygments_lexer": "ipython3",
   "version": "3.12.0"
  }
 },
 "nbformat": 4,
 "nbformat_minor": 2
}
