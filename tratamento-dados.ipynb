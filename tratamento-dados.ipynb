{
 "cells": [
  {
   "cell_type": "code",
   "execution_count": null,
   "metadata": {},
   "outputs": [],
   "source": [
    "import pandas as pd\n",
    "import numpy as np\n",
    "from zipfile import ZipFile\n",
    "import os"
   ]
  },
  {
   "cell_type": "code",
   "execution_count": null,
   "metadata": {},
   "outputs": [],
   "source": [
    "diretorio = 'base-original'\n",
    "arquivo_zip = 'pibic-dados.zip'\n",
    "caminho_zip = os.path.join(diretorio, arquivo_zip)\n",
    "nome_arquivo = 'pibic-dados.csv'\n",
    "\n",
    "with ZipFile(caminho_zip, 'r') as zip_file:\n",
    "    pibic_dados = pd.read_csv(zip_file.open(nome_arquivo), \n",
    "                                            sep= ';', \n",
    "                                            encoding= 'utf8', \n",
    "                                            low_memory= False)\n",
    "\n",
    "print(pibic_dados)"
   ]
  },
  {
   "cell_type": "code",
   "execution_count": null,
   "metadata": {},
   "outputs": [],
   "source": [
    "colunas = list(pibic_dados.columns)\n",
    "print(colunas)"
   ]
  },
  {
   "cell_type": "code",
   "execution_count": null,
   "metadata": {},
   "outputs": [],
   "source": [
    "pibic_filtrado = pibic_dados.loc[:, ['CO_CURSO', 'CO_GRUPO', 'CO_REGIAO_CURSO', 'NT_GER', \n",
    "                                     'QE_I04', 'QE_I05', 'QE_I08', 'QE_I17', 'QE_I23']]\n",
    "print(pibic_filtrado)"
   ]
  },
  {
   "cell_type": "code",
   "execution_count": null,
   "metadata": {},
   "outputs": [],
   "source": [
    "pibic_filtrado.to_csv('resultados-filtrados/pibic_filtrado.csv', index=False)"
   ]
  },
  {
   "cell_type": "code",
   "execution_count": null,
   "metadata": {},
   "outputs": [],
   "source": [
    "pibic_filtrado.rename(columns={\n",
    "    'CO_CURSO': 'Cod_curso',\n",
    "    'CO_GRUPO': 'Cod_grupo_curso',\n",
    "    'CO_REGIAO_CURSO': 'Cod_regiao_curso',\n",
    "    'NT_GER': 'Nota_geral',\n",
    "    'QE_I04': 'Escolaridade_pai',\n",
    "    'QE_I05': 'Escolaridade_mae',\n",
    "    'QE_I08': 'Renda',\n",
    "    'QE_I17': 'Tipo_escola',\n",
    "    'QE_I23': 'Horas_estudos'\n",
    "}, inplace=True)\n",
    "\n",
    "print(pibic_filtrado)"
   ]
  },
  {
   "cell_type": "code",
   "execution_count": null,
   "metadata": {},
   "outputs": [],
   "source": [
    "#filtro para análise referentes a região norte e ao grupo de curso de ciência da computação (bacharel)\n",
    "regiao_norte = pibic_filtrado.loc[(pibic_filtrado['Cod_grupo_curso'] == 4004) & (pibic_filtrado['Cod_regiao_curso'] == 1)]\n",
    "ciencia_computacao_norte = pd.DataFrame(regiao_norte)\n",
    "\n",
    "ciencia_computacao_norte.to_csv('resultados-filtrados/regiao-norte-cc.csv', index=False)\n",
    "\n",
    "print(ciencia_computacao_norte)"
   ]
  },
  {
   "cell_type": "code",
   "execution_count": null,
   "metadata": {},
   "outputs": [],
   "source": [
    "regiao_nordeste = pibic_filtrado.loc[(pibic_filtrado['Cod_grupo_curso'] == 4004) & (pibic_filtrado['Cod_regiao_curso'] == 2)]\n",
    "ciencia_computacao_nordeste = pd.DataFrame(regiao_nordeste)\n",
    "\n",
    "ciencia_computacao_nordeste.to_csv('resultados-filtrados/regiao-nordeste-cc.csv', index=False)\n",
    "\n",
    "print(ciencia_computacao_nordeste)"
   ]
  },
  {
   "cell_type": "code",
   "execution_count": null,
   "metadata": {},
   "outputs": [],
   "source": [
    "regiao_sudeste = pibic_filtrado.loc[(pibic_filtrado['Cod_grupo_curso'] == 4004) & (pibic_filtrado['Cod_regiao_curso'] == 3)]\n",
    "ciencia_computacao_sudeste = pd.DataFrame(regiao_sudeste)\n",
    "\n",
    "ciencia_computacao_sudeste.to_csv('resultados-filtrados/regiao-sudeste-cc.csv', index=False)\n",
    "\n",
    "print(ciencia_computacao_sudeste)"
   ]
  },
  {
   "cell_type": "code",
   "execution_count": null,
   "metadata": {},
   "outputs": [],
   "source": [
    "regiao_sul = pibic_filtrado.loc[(pibic_filtrado['Cod_grupo_curso'] == 4004) & (pibic_filtrado['Cod_regiao_curso'] == 4)]\n",
    "ciencia_computacao_sul = pd.DataFrame(regiao_sul)\n",
    "\n",
    "ciencia_computacao_sul.to_csv('resultados-filtrados/regiao-sul-cc.csv', index=False)\n",
    "\n",
    "print(ciencia_computacao_sul)"
   ]
  },
  {
   "cell_type": "code",
   "execution_count": null,
   "metadata": {},
   "outputs": [],
   "source": [
    "regiao_centro_oeste = pibic_filtrado.loc[(pibic_filtrado['Cod_grupo_curso'] == 4004) & (pibic_filtrado['Cod_regiao_curso'] == 5)]\n",
    "ciencia_computacao_centro_oeste = pd.DataFrame(regiao_centro_oeste)\n",
    "\n",
    "ciencia_computacao_centro_oeste.to_csv('resultados-filtrados/regiao-centro-oeste-cc.csv', index=False)\n",
    "\n",
    "print(ciencia_computacao_centro_oeste)"
   ]
  }
 ],
 "metadata": {
  "kernelspec": {
   "display_name": "Python 3",
   "language": "python",
   "name": "python3"
  },
  "language_info": {
   "codemirror_mode": {
    "name": "ipython",
    "version": 3
   },
   "file_extension": ".py",
   "mimetype": "text/x-python",
   "name": "python",
   "nbconvert_exporter": "python",
   "pygments_lexer": "ipython3",
   "version": "3.12.0"
  }
 },
 "nbformat": 4,
 "nbformat_minor": 2
}
