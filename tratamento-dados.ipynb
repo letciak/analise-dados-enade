{
 "cells": [
  {
   "cell_type": "code",
   "execution_count": null,
   "metadata": {},
   "outputs": [],
   "source": [
    "import pandas as pd\n",
    "import numpy as np\n",
    "from zipfile import ZipFile\n",
    "import os"
   ]
  },
  {
   "cell_type": "code",
   "execution_count": null,
   "metadata": {},
   "outputs": [],
   "source": [
    "diretorio = 'base-original'\n",
    "arquivo_zip = 'pibic-dados.zip'\n",
    "caminho_zip = os.path.join(diretorio, arquivo_zip)\n",
    "nome_arquivo = 'pibic-dados.csv'\n",
    "\n",
    "with ZipFile(caminho_zip, 'r') as zip_file:\n",
    "    pibic_dados = pd.read_csv(zip_file.open(nome_arquivo), \n",
    "                                            sep=';', \n",
    "                                            encoding='utf8', \n",
    "                                            low_memory=False)\n",
    "\n",
    "print(pibic_dados)"
   ]
  },
  {
   "cell_type": "code",
   "execution_count": null,
   "metadata": {},
   "outputs": [],
   "source": [
    "colunas = list(pibic_dados.columns)\n",
    "print(colunas)"
   ]
  },
  {
   "cell_type": "code",
   "execution_count": null,
   "metadata": {},
   "outputs": [],
   "source": [
    "pibic_filtrado = pibic_dados.loc[:, ['CO_CURSO', 'CO_GRUPO', 'CO_REGIAO_CURSO', 'NT_GER', \n",
    "                                     'QE_I04', 'QE_I05', 'QE_I08', 'QE_I17', 'QE_I23']]\n",
    "print(pibic_filtrado)"
   ]
  },
  {
   "cell_type": "code",
   "execution_count": null,
   "metadata": {},
   "outputs": [],
   "source": [
    "pibic_filtrado.to_csv('resultados-filtrados/pibic_filtrado.csv', index=False)"
   ]
  },
  {
   "cell_type": "code",
   "execution_count": null,
   "metadata": {},
   "outputs": [],
   "source": [
    "pibic_filtrado.rename(columns={\n",
    "    'CO_CURSO': 'Cod_curso',\n",
    "    'CO_GRUPO': 'Cod_grupo_curso',\n",
    "    'CO_REGIAO_CURSO': 'Cod_regiao_curso',\n",
    "    'NT_GER': 'Nota_geral',\n",
    "    'QE_I04': 'Escolaridade_pai',\n",
    "    'QE_I05': 'Escolaridade_mae',\n",
    "    'QE_I08': 'Renda',\n",
    "    'QE_I17': 'Tipo_escola',\n",
    "    'QE_I23': 'Horas_estudos'\n",
    "}, inplace=True)\n",
    "\n",
    "print(pibic_filtrado)"
   ]
  },
  {
   "cell_type": "code",
   "execution_count": 16,
   "metadata": {},
   "outputs": [
    {
     "name": "stdout",
     "output_type": "stream",
     "text": [
      "        Cod_curso  Cod_grupo_curso  Cod_regiao_curso Nota_geral  \\\n",
      "55274       12025             4004                 1        NaN   \n",
      "55275       12025             4004                 1       48,6   \n",
      "55276       12025             4004                 1       63,2   \n",
      "55277       12025             4004                 1       51,1   \n",
      "55278       12025             4004                 1        NaN   \n",
      "...           ...              ...               ...        ...   \n",
      "535797      73438             4004                 1        NaN   \n",
      "535798      73438             4004                 1        NaN   \n",
      "535799      73438             4004                 1        NaN   \n",
      "535800      73438             4004                 1        NaN   \n",
      "535801      73438             4004                 1        NaN   \n",
      "\n",
      "       Escolaridade_pai Escolaridade_mae Renda Tipo_escola Horas_estudos  \n",
      "55274                 D                B     A           A             B  \n",
      "55275                 C                D     A           A             C  \n",
      "55276                 E                E     D           B             C  \n",
      "55277                 C                D     B           B             B  \n",
      "55278               NaN              NaN   NaN         NaN           NaN  \n",
      "...                 ...              ...   ...         ...           ...  \n",
      "535797                B                C     B           A             C  \n",
      "535798                D                D     C           E             C  \n",
      "535799                D                D     D           A             B  \n",
      "535800                E                F     A           A             B  \n",
      "535801                A                B     A           A             C  \n",
      "\n",
      "[626 rows x 9 columns]\n"
     ]
    }
   ],
   "source": [
    "#filtro para análise referentes a região norte e ao grupo de curso de ciência da computação (bacharel)\n",
    "regiao_norte = pibic_filtrado.loc[(pibic_filtrado['Cod_grupo_curso'] == 4004) & (pibic_filtrado['Cod_regiao_curso'] == 1)]\n",
    "ciencia_computacao_norte = pd.DataFrame(regiao_norte)\n",
    "\n",
    "ciencia_computacao_norte.to_csv('regiao-norte/ciencia-computacao/regiao-norte-cc.csv', index=False)\n",
    "\n",
    "print(ciencia_computacao_norte)"
   ]
  },
  {
   "cell_type": "code",
   "execution_count": 20,
   "metadata": {},
   "outputs": [
    {
     "name": "stdout",
     "output_type": "stream",
     "text": [
      "        Cod_curso  Cod_grupo_curso  Cod_regiao_curso Nota_geral  \\\n",
      "1995          317             4004                 2       34,4   \n",
      "1996          317             4004                 2       39,4   \n",
      "1997          317             4004                 2         50   \n",
      "1998          317             4004                 2        NaN   \n",
      "1999          317             4004                 2       45,3   \n",
      "...           ...              ...               ...        ...   \n",
      "537226    1265453             4004                 2        NaN   \n",
      "537227    1265453             4004                 2        NaN   \n",
      "537228    1265453             4004                 2        NaN   \n",
      "537229    1265453             4004                 2        NaN   \n",
      "537230    1265453             4004                 2        NaN   \n",
      "\n",
      "       Escolaridade_pai Escolaridade_mae Renda Tipo_escola Horas_estudos  \n",
      "1995                  E                E     F           B             B  \n",
      "1996                  E                E     A           B             E  \n",
      "1997                  E                D     D           A             D  \n",
      "1998                NaN              NaN   NaN         NaN           NaN  \n",
      "1999                  D                D     C           B             D  \n",
      "...                 ...              ...   ...         ...           ...  \n",
      "537226              NaN              NaN   NaN         NaN           NaN  \n",
      "537227              NaN              NaN   NaN         NaN           NaN  \n",
      "537228              NaN              NaN   NaN         NaN           NaN  \n",
      "537229              NaN              NaN   NaN         NaN           NaN  \n",
      "537230                D                D     A           A             B  \n",
      "\n",
      "[1911 rows x 9 columns]\n"
     ]
    }
   ],
   "source": [
    "regiao_nordeste = pibic_filtrado.loc[(pibic_filtrado['Cod_grupo_curso'] == 4004) & (pibic_filtrado['Cod_regiao_curso'] == 2)]\n",
    "ciencia_computacao_nordeste = pd.DataFrame(regiao_nordeste)\n",
    "\n",
    "ciencia_computacao_nordeste.to_csv('regiao-nordeste/ciencia-computacao/regiao-nordeste-cc.csv', index=False)\n",
    "\n",
    "print(ciencia_computacao_nordeste)"
   ]
  },
  {
   "cell_type": "code",
   "execution_count": 21,
   "metadata": {},
   "outputs": [
    {
     "name": "stdout",
     "output_type": "stream",
     "text": [
      "        Cod_curso  Cod_grupo_curso  Cod_regiao_curso Nota_geral  \\\n",
      "3892          594             4004                 3       42,8   \n",
      "3893          594             4004                 3       57,2   \n",
      "3894          594             4004                 3       40,3   \n",
      "3895          594             4004                 3       62,5   \n",
      "3896          594             4004                 3       46,1   \n",
      "...           ...              ...               ...        ...   \n",
      "532105    5000356             4004                 3       52,7   \n",
      "532106    5000356             4004                 3       44,1   \n",
      "532107    5000356             4004                 3       54,8   \n",
      "536049     104836             4004                 3        NaN   \n",
      "536050     104836             4004                 3        NaN   \n",
      "\n",
      "       Escolaridade_pai Escolaridade_mae Renda Tipo_escola Horas_estudos  \n",
      "3892                  F                C     B           A             C  \n",
      "3893                  F                E     C           B             E  \n",
      "3894                  B                B     B           A             E  \n",
      "3895                  D                D     B           B             E  \n",
      "3896                  E                D     F           B             C  \n",
      "...                 ...              ...   ...         ...           ...  \n",
      "532105                C                E     E           B             D  \n",
      "532106                E                D     E           A             B  \n",
      "532107                D                D     C           B             D  \n",
      "536049                C                F     E           B             B  \n",
      "536050              NaN              NaN   NaN         NaN           NaN  \n",
      "\n",
      "[5031 rows x 9 columns]\n"
     ]
    }
   ],
   "source": [
    "regiao_sudeste = pibic_filtrado.loc[(pibic_filtrado['Cod_grupo_curso'] == 4004) & (pibic_filtrado['Cod_regiao_curso'] == 3)]\n",
    "ciencia_computacao_sudeste = pd.DataFrame(regiao_sudeste)\n",
    "\n",
    "ciencia_computacao_sudeste.to_csv('regiao-sudeste/ciencia-computacao/regiao-sudeste-cc.csv', index=False)\n",
    "\n",
    "print(ciencia_computacao_sudeste)"
   ]
  },
  {
   "cell_type": "code",
   "execution_count": 22,
   "metadata": {},
   "outputs": [
    {
     "name": "stdout",
     "output_type": "stream",
     "text": [
      "        Cod_curso  Cod_grupo_curso  Cod_regiao_curso Nota_geral  \\\n",
      "5573          778             4004                 4       45,6   \n",
      "5574          778             4004                 4       41,9   \n",
      "5575          778             4004                 4         25   \n",
      "5576          778             4004                 4       57,8   \n",
      "5577          778             4004                 4       58,6   \n",
      "...           ...              ...               ...        ...   \n",
      "532425    5000385             4004                 4       39,1   \n",
      "532426    5000385             4004                 4       53,5   \n",
      "532427    5000385             4004                 4       38,9   \n",
      "532428    5000385             4004                 4       50,8   \n",
      "532429    5000385             4004                 4       64,6   \n",
      "\n",
      "       Escolaridade_pai Escolaridade_mae Renda Tipo_escola Horas_estudos  \n",
      "5573                  D                F     E           A             B  \n",
      "5574                  C                E     D           A             E  \n",
      "5575                  D                C     D           B             C  \n",
      "5576                  E                F     D           B             B  \n",
      "5577                  E                E     C           A             B  \n",
      "...                 ...              ...   ...         ...           ...  \n",
      "532425                D                E     C           A             C  \n",
      "532426                F                D     B           A             D  \n",
      "532427                B                D     B           A             E  \n",
      "532428                D                C     B           A             C  \n",
      "532429                B                D     C           A             B  \n",
      "\n",
      "[1857 rows x 9 columns]\n"
     ]
    }
   ],
   "source": [
    "regiao_sul = pibic_filtrado.loc[(pibic_filtrado['Cod_grupo_curso'] == 4004) & (pibic_filtrado['Cod_regiao_curso'] == 4)]\n",
    "ciencia_computacao_sul = pd.DataFrame(regiao_sul)\n",
    "\n",
    "ciencia_computacao_sul.to_csv('regiao-sul/ciencia-computacao/regiao-sul-cc.csv', index=False)\n",
    "\n",
    "print(ciencia_computacao_sul)"
   ]
  },
  {
   "cell_type": "code",
   "execution_count": 23,
   "metadata": {},
   "outputs": [
    {
     "name": "stdout",
     "output_type": "stream",
     "text": [
      "        Cod_curso  Cod_grupo_curso  Cod_regiao_curso Nota_geral  \\\n",
      "383            36             4004                 5       58,7   \n",
      "384            36             4004                 5       49,8   \n",
      "385            36             4004                 5        NaN   \n",
      "386            36             4004                 5       40,1   \n",
      "387            36             4004                 5       53,2   \n",
      "...           ...              ...               ...        ...   \n",
      "515006    1280431             4004                 5       44,3   \n",
      "515007    1280431             4004                 5       79,2   \n",
      "515008    1280431             4004                 5       46,2   \n",
      "515009    1280431             4004                 5       47,5   \n",
      "515010    1280431             4004                 5       49,6   \n",
      "\n",
      "       Escolaridade_pai Escolaridade_mae Renda Tipo_escola Horas_estudos  \n",
      "383                   D                F     E           A             E  \n",
      "384                   D                C     C           A             C  \n",
      "385                 NaN              NaN   NaN         NaN           NaN  \n",
      "386                   D                D     C           A             C  \n",
      "387                   B                B     B           A             C  \n",
      "...                 ...              ...   ...         ...           ...  \n",
      "515006                C                D     C           A             B  \n",
      "515007                B                B     E           A             C  \n",
      "515008                D                D     C           A             C  \n",
      "515009                D                B     B           A             C  \n",
      "515010                D                F     F           B             B  \n",
      "\n",
      "[761 rows x 9 columns]\n"
     ]
    }
   ],
   "source": [
    "regiao_centro_oeste = pibic_filtrado.loc[(pibic_filtrado['Cod_grupo_curso'] == 4004) & (pibic_filtrado['Cod_regiao_curso'] == 5)]\n",
    "ciencia_computacao_centro_oeste = pd.DataFrame(regiao_centro_oeste)\n",
    "\n",
    "ciencia_computacao_centro_oeste.to_csv('regiao-centro-oeste/ciencia-computacao/regiao-centro-oeste-cc.csv', index=False)\n",
    "\n",
    "print(ciencia_computacao_centro_oeste)"
   ]
  },
  {
   "cell_type": "code",
   "execution_count": 24,
   "metadata": {},
   "outputs": [
    {
     "name": "stdout",
     "output_type": "stream",
     "text": [
      "        Cod_curso  Cod_grupo_curso  Cod_regiao_curso Nota_geral  \\\n",
      "2221          379              702                 1       43,7   \n",
      "2222          379              702                 1        NaN   \n",
      "2223          379              702                 1       51,4   \n",
      "2224          379              702                 1       52,6   \n",
      "2225          379              702                 1        NaN   \n",
      "...           ...              ...               ...        ...   \n",
      "537137    1185309              702                 1        NaN   \n",
      "537138    1185309              702                 1        NaN   \n",
      "537139    1185309              702                 1        NaN   \n",
      "537140    1185309              702                 1        NaN   \n",
      "537141    1185309              702                 1        NaN   \n",
      "\n",
      "       Escolaridade_pai Escolaridade_mae Renda Tipo_escola Horas_estudos  \n",
      "2221                  D                C     C           A             D  \n",
      "2222                NaN              NaN   NaN         NaN           NaN  \n",
      "2223                  C                D     A           A             C  \n",
      "2224                  D                D     A           A             C  \n",
      "2225                NaN              NaN   NaN         NaN           NaN  \n",
      "...                 ...              ...   ...         ...           ...  \n",
      "537137              NaN              NaN   NaN         NaN           NaN  \n",
      "537138              NaN              NaN   NaN         NaN           NaN  \n",
      "537139              NaN              NaN   NaN         NaN           NaN  \n",
      "537140              NaN              NaN   NaN         NaN           NaN  \n",
      "537141              NaN              NaN   NaN         NaN           NaN  \n",
      "\n",
      "[1643 rows x 9 columns]\n"
     ]
    }
   ],
   "source": [
    "#filtro para análise referentes a região norte e ao grupo de curso de matemática (licenciatura)\n",
    "regiao_norte = pibic_filtrado.loc[(pibic_filtrado['Cod_grupo_curso'] == 702) & (pibic_filtrado['Cod_regiao_curso'] == 1)]\n",
    "matematica_norte = pd.DataFrame(regiao_norte)\n",
    "\n",
    "matematica_norte.to_csv('regiao-norte/matematica/regiao-norte-mat.csv', index=False)\n",
    "\n",
    "print(matematica_norte)"
   ]
  },
  {
   "cell_type": "code",
   "execution_count": 25,
   "metadata": {},
   "outputs": [
    {
     "name": "stdout",
     "output_type": "stream",
     "text": [
      "        Cod_curso  Cod_grupo_curso  Cod_regiao_curso Nota_geral  \\\n",
      "1750          297              702                 2       31,4   \n",
      "1751          297              702                 2       36,8   \n",
      "1752          297              702                 2       44,7   \n",
      "1753          297              702                 2        NaN   \n",
      "1754          297              702                 2       39,1   \n",
      "...           ...              ...               ...        ...   \n",
      "535631      58526              702                 2        NaN   \n",
      "535632      58526              702                 2        NaN   \n",
      "535633      58526              702                 2        NaN   \n",
      "535634      58526              702                 2        NaN   \n",
      "537001    1111510              702                 2        NaN   \n",
      "\n",
      "       Escolaridade_pai Escolaridade_mae Renda Tipo_escola Horas_estudos  \n",
      "1750                  B                D     A           A             C  \n",
      "1751                  C                F     B           A             C  \n",
      "1752                  C                B     A           A             C  \n",
      "1753                NaN              NaN   NaN         NaN           NaN  \n",
      "1754                  D                C     A           A             D  \n",
      "...                 ...              ...   ...         ...           ...  \n",
      "535631              NaN              NaN   NaN         NaN           NaN  \n",
      "535632              NaN              NaN   NaN         NaN           NaN  \n",
      "535633              NaN              NaN   NaN         NaN           NaN  \n",
      "535634              NaN              NaN   NaN         NaN           NaN  \n",
      "537001                C                D     A           A             E  \n",
      "\n",
      "[3862 rows x 9 columns]\n"
     ]
    }
   ],
   "source": [
    "regiao_nordeste = pibic_filtrado.loc[(pibic_filtrado['Cod_grupo_curso'] == 702) & (pibic_filtrado['Cod_regiao_curso'] == 2)]\n",
    "matematica_nordeste = pd.DataFrame(regiao_nordeste)\n",
    "\n",
    "matematica_nordeste.to_csv('regiao-nordeste/matematica/regiao-nordeste-mat.csv', index=False)\n",
    "\n",
    "print(matematica_nordeste)"
   ]
  },
  {
   "cell_type": "code",
   "execution_count": 26,
   "metadata": {},
   "outputs": [
    {
     "name": "stdout",
     "output_type": "stream",
     "text": [
      "        Cod_curso  Cod_grupo_curso  Cod_regiao_curso Nota_geral  \\\n",
      "4357          624              702                 3        NaN   \n",
      "4358          624              702                 3       23,6   \n",
      "4359          624              702                 3         51   \n",
      "4360          624              702                 3       60,3   \n",
      "4361          624              702                 3       51,6   \n",
      "...           ...              ...               ...        ...   \n",
      "535935      89886              702                 3        NaN   \n",
      "535936      89886              702                 3        NaN   \n",
      "536058     105058              702                 3        NaN   \n",
      "537071    1166014              702                 3        NaN   \n",
      "537072    1166014              702                 3        NaN   \n",
      "\n",
      "       Escolaridade_pai Escolaridade_mae Renda Tipo_escola Horas_estudos  \n",
      "4357                  E                E     E           A             B  \n",
      "4358                  D                D     A           A             C  \n",
      "4359                  D                D     B           B             D  \n",
      "4360                  D                B     C           A             D  \n",
      "4361                  C                D     B           B             B  \n",
      "...                 ...              ...   ...         ...           ...  \n",
      "535935              NaN              NaN   NaN         NaN           NaN  \n",
      "535936              NaN              NaN   NaN         NaN           NaN  \n",
      "536058              NaN              NaN   NaN         NaN           NaN  \n",
      "537071              NaN              NaN   NaN         NaN           NaN  \n",
      "537072              NaN              NaN   NaN         NaN           NaN  \n",
      "\n",
      "[4638 rows x 9 columns]\n"
     ]
    }
   ],
   "source": [
    "regiao_sudeste = pibic_filtrado.loc[(pibic_filtrado['Cod_grupo_curso'] == 702) & (pibic_filtrado['Cod_regiao_curso'] == 3)]\n",
    "matematica_sudeste = pd.DataFrame(regiao_sudeste)\n",
    "\n",
    "matematica_sudeste.to_csv('regiao-sudeste/matematica/regiao-sudeste-mat.csv', index=False)\n",
    "\n",
    "print(matematica_sudeste)"
   ]
  },
  {
   "cell_type": "code",
   "execution_count": 27,
   "metadata": {},
   "outputs": [
    {
     "name": "stdout",
     "output_type": "stream",
     "text": [
      "        Cod_curso  Cod_grupo_curso  Cod_regiao_curso Nota_geral  \\\n",
      "5218          768              702                 4       31,8   \n",
      "5219          768              702                 4       49,1   \n",
      "5220          768              702                 4       35,1   \n",
      "5221          768              702                 4       27,7   \n",
      "5222          768              702                 4       41,6   \n",
      "...           ...              ...               ...        ...   \n",
      "534923       1766              702                 4        NaN   \n",
      "534924       1766              702                 4        NaN   \n",
      "534925       1766              702                 4        NaN   \n",
      "535131      22317              702                 4        NaN   \n",
      "535132      22317              702                 4        NaN   \n",
      "\n",
      "       Escolaridade_pai Escolaridade_mae Renda Tipo_escola Horas_estudos  \n",
      "5218                  A                B     B           A             B  \n",
      "5219                  D                B     C           A             B  \n",
      "5220                  B                C     E           A             B  \n",
      "5221                  C                D     B           A             C  \n",
      "5222                  B                D     C           A             B  \n",
      "...                 ...              ...   ...         ...           ...  \n",
      "534923              NaN              NaN   NaN         NaN           NaN  \n",
      "534924              NaN              NaN   NaN         NaN           NaN  \n",
      "534925                B                C     B           A             A  \n",
      "535131              NaN              NaN   NaN         NaN           NaN  \n",
      "535132              NaN              NaN   NaN         NaN           NaN  \n",
      "\n",
      "[2303 rows x 9 columns]\n"
     ]
    }
   ],
   "source": [
    "regiao_sul = pibic_filtrado.loc[(pibic_filtrado['Cod_grupo_curso'] == 702) & (pibic_filtrado['Cod_regiao_curso'] == 4)]\n",
    "matematica_sul = pd.DataFrame(regiao_sul)\n",
    "\n",
    "matematica_sul.to_csv('regiao-sul/matematica/regiao-sul-mat.csv', index=False)\n",
    "\n",
    "print(matematica_sul)"
   ]
  },
  {
   "cell_type": "code",
   "execution_count": 28,
   "metadata": {},
   "outputs": [
    {
     "name": "stdout",
     "output_type": "stream",
     "text": [
      "        Cod_curso  Cod_grupo_curso  Cod_regiao_curso Nota_geral  \\\n",
      "310            26              702                 5       18,9   \n",
      "311            26              702                 5       31,6   \n",
      "312            26              702                 5       35,3   \n",
      "313            26              702                 5       32,9   \n",
      "314            26              702                 5       27,8   \n",
      "...           ...              ...               ...        ...   \n",
      "528166    1404185              702                 5       20,3   \n",
      "528167    1404185              702                 5       42,2   \n",
      "528168    1404185              702                 5       24,7   \n",
      "528169    1404185              702                 5        NaN   \n",
      "535860      82245              702                 5        NaN   \n",
      "\n",
      "       Escolaridade_pai Escolaridade_mae Renda Tipo_escola Horas_estudos  \n",
      "310                   D                D     C           A             B  \n",
      "311                   E                E     E           A             B  \n",
      "312                   D                E     B           A             D  \n",
      "313                   E                D     E           B             B  \n",
      "314                   A                D     B           B             B  \n",
      "...                 ...              ...   ...         ...           ...  \n",
      "528166                A                A     D           A             B  \n",
      "528167                B                B     B           A             C  \n",
      "528168                C                C     C           A             B  \n",
      "528169              NaN              NaN   NaN         NaN           NaN  \n",
      "535860              NaN              NaN   NaN         NaN           NaN  \n",
      "\n",
      "[964 rows x 9 columns]\n"
     ]
    }
   ],
   "source": [
    "regiao_centro_oeste = pibic_filtrado.loc[(pibic_filtrado['Cod_grupo_curso'] == 702) & (pibic_filtrado['Cod_regiao_curso'] == 5)]\n",
    "matematica_centro_oeste = pd.DataFrame(regiao_centro_oeste)\n",
    "\n",
    "matematica_centro_oeste.to_csv('regiao-centro-oeste/matematica/regiao-centro-oeste-mat.csv', index=False)\n",
    "\n",
    "print(matematica_centro_oeste)"
   ]
  }
 ],
 "metadata": {
  "kernelspec": {
   "display_name": "Python 3",
   "language": "python",
   "name": "python3"
  },
  "language_info": {
   "codemirror_mode": {
    "name": "ipython",
    "version": 3
   },
   "file_extension": ".py",
   "mimetype": "text/x-python",
   "name": "python",
   "nbconvert_exporter": "python",
   "pygments_lexer": "ipython3",
   "version": "3.12.0"
  }
 },
 "nbformat": 4,
 "nbformat_minor": 2
}
