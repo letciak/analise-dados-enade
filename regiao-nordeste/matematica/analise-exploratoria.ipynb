{
 "cells": [
  {
   "cell_type": "code",
   "execution_count": 1,
   "metadata": {},
   "outputs": [],
   "source": [
    "import pandas as pd\n",
    "import plotly.express as px"
   ]
  },
  {
   "cell_type": "code",
   "execution_count": 2,
   "metadata": {},
   "outputs": [
    {
     "name": "stdout",
     "output_type": "stream",
     "text": [
      "      Cod_curso  Cod_grupo_curso  Cod_regiao_curso Nota_geral  \\\n",
      "0           297              702                 2       31,4   \n",
      "1           297              702                 2       36,8   \n",
      "2           297              702                 2       44,7   \n",
      "3           297              702                 2        NaN   \n",
      "4           297              702                 2       39,1   \n",
      "...         ...              ...               ...        ...   \n",
      "3857      58526              702                 2        NaN   \n",
      "3858      58526              702                 2        NaN   \n",
      "3859      58526              702                 2        NaN   \n",
      "3860      58526              702                 2        NaN   \n",
      "3861    1111510              702                 2        NaN   \n",
      "\n",
      "     Escolaridade_pai Escolaridade_mae Renda Tipo_escola Horas_estudos  \n",
      "0                   B                D     A           A             C  \n",
      "1                   C                F     B           A             C  \n",
      "2                   C                B     A           A             C  \n",
      "3                 NaN              NaN   NaN         NaN           NaN  \n",
      "4                   D                C     A           A             D  \n",
      "...               ...              ...   ...         ...           ...  \n",
      "3857              NaN              NaN   NaN         NaN           NaN  \n",
      "3858              NaN              NaN   NaN         NaN           NaN  \n",
      "3859              NaN              NaN   NaN         NaN           NaN  \n",
      "3860              NaN              NaN   NaN         NaN           NaN  \n",
      "3861                C                D     A           A             E  \n",
      "\n",
      "[3862 rows x 9 columns]\n"
     ]
    }
   ],
   "source": [
    "regiao_nordeste_mat = pd.read_csv('regiao-nordeste-mat.csv', sep=',')\n",
    "\n",
    "print(regiao_nordeste_mat)"
   ]
  },
  {
   "cell_type": "code",
   "execution_count": 3,
   "metadata": {},
   "outputs": [
    {
     "name": "stdout",
     "output_type": "stream",
     "text": [
      "Cod_curso             0\n",
      "Cod_grupo_curso       0\n",
      "Cod_regiao_curso      0\n",
      "Nota_geral          662\n",
      "Escolaridade_pai    591\n",
      "Escolaridade_mae    591\n",
      "Renda               591\n",
      "Tipo_escola         591\n",
      "Horas_estudos       591\n",
      "dtype: int64\n"
     ]
    }
   ],
   "source": [
    "valores_nulos = regiao_nordeste_mat.isnull()\n",
    "contagem = valores_nulos.sum()\n",
    "\n",
    "print(contagem)"
   ]
  },
  {
   "cell_type": "code",
   "execution_count": 4,
   "metadata": {},
   "outputs": [],
   "source": [
    "regiao_nordeste_mat.dropna(inplace=True)"
   ]
  },
  {
   "cell_type": "code",
   "execution_count": 5,
   "metadata": {},
   "outputs": [
    {
     "name": "stdout",
     "output_type": "stream",
     "text": [
      "     Nota_geral Renda Escolaridade_mae Escolaridade_pai\n",
      "0          31,4     A                D                B\n",
      "1          36,8     B                F                C\n",
      "2          44,7     A                B                C\n",
      "4          39,1     A                C                D\n",
      "5          38,1     B                B                B\n",
      "...         ...   ...              ...              ...\n",
      "3847       69,7     C                D                D\n",
      "3848         55     B                B                B\n",
      "3849       35,3     A                B                A\n",
      "3850         31     D                D                A\n",
      "3851       42,6     A                D                B\n",
      "\n",
      "[3118 rows x 4 columns]\n"
     ]
    }
   ],
   "source": [
    "filtro = ['Nota_geral', 'Renda', 'Escolaridade_mae', 'Escolaridade_pai']\n",
    "dados_explorados = regiao_nordeste_mat[filtro]\n",
    "\n",
    "print(dados_explorados)"
   ]
  },
  {
   "cell_type": "code",
   "execution_count": 9,
   "metadata": {},
   "outputs": [
    {
     "data": {
      "application/vnd.plotly.v1+json": {
       "config": {
        "plotlyServerURL": "https://plot.ly"
       },
       "data": [
        {
         "alignmentgroup": "True",
         "hovertemplate": "Renda=%{x}<br>Nota Geral=%{y}<extra></extra>",
         "legendgroup": "",
         "marker": {
          "color": "#636efa"
         },
         "name": "",
         "notched": false,
         "offsetgroup": "",
         "orientation": "v",
         "showlegend": false,
         "type": "box",
         "x": [
          "Média alta",
          "Renda baixa",
          "Média alta",
          "Renda baixa",
          "Renda baixa",
          "Média baixa",
          "Média alta",
          "Renda baixa",
          "Média baixa",
          "Média baixa",
          "Média baixa",
          "Renda baixa",
          "Média baixa",
          "Renda baixa",
          "Renda baixa",
          "Média baixa",
          "Média baixa",
          "Renda baixa",
          "Média baixa",
          "Renda baixa",
          "Média baixa",
          "Média baixa",
          "Média baixa",
          "Média alta",
          "Média alta",
          "Média baixa",
          "Média alta",
          "Média baixa",
          "Renda baixa",
          "Renda baixa",
          "Renda baixa",
          "Média baixa",
          "Média alta",
          "Renda alta",
          "Renda baixa",
          "Média alta",
          "Média baixa",
          "Renda alta",
          "Média baixa",
          "Renda baixa",
          "Média alta",
          "Renda baixa",
          "Média alta",
          "Média baixa",
          "Renda baixa",
          "Renda baixa",
          "Média alta",
          "Média baixa",
          "Média baixa",
          "Média baixa",
          "Renda baixa",
          "Média baixa",
          "Renda alta",
          "Média baixa",
          "Média baixa",
          "Média baixa",
          "Média alta",
          "Renda alta",
          "Renda baixa",
          "Média baixa",
          "Média baixa",
          "Média baixa",
          "Renda baixa",
          "Média alta",
          "Média baixa",
          "Média baixa",
          "Renda baixa",
          "Média baixa",
          "Média baixa",
          "Renda baixa",
          "Renda baixa",
          "Renda alta",
          "Renda baixa",
          "Média baixa",
          "Média alta",
          "Média alta",
          "Renda baixa",
          "Renda baixa",
          "Média alta",
          "Renda alta",
          "Média baixa",
          "Média alta",
          "Média baixa",
          "Média baixa",
          "Média baixa",
          "Média alta",
          "Média alta",
          "Média alta",
          "Renda baixa",
          "Renda baixa",
          "Renda baixa",
          "Renda baixa",
          "Média baixa",
          "Renda baixa",
          "Média baixa",
          "Média alta",
          "Média alta",
          "Renda alta",
          "Média alta",
          "Renda baixa",
          "Média baixa",
          "Renda baixa",
          "Renda baixa",
          "Média baixa",
          "Renda baixa",
          "Média baixa",
          "Renda baixa",
          "Média baixa",
          "Renda baixa",
          "Renda baixa",
          "Média baixa",
          "Média baixa",
          "Média baixa",
          "Média alta",
          "Renda baixa",
          "Média baixa",
          "Média baixa",
          "Renda baixa",
          "Renda baixa",
          "Média alta",
          "Média baixa",
          "Renda baixa",
          "Média baixa",
          "Renda baixa",
          "Renda baixa",
          "Média alta",
          "Média baixa",
          "Média baixa",
          "Média baixa",
          "Média baixa",
          "Média baixa",
          "Média baixa",
          "Média baixa",
          "Renda baixa",
          "Média baixa",
          "Média baixa",
          "Média baixa",
          "Média baixa",
          "Média baixa",
          "Média baixa",
          "Renda baixa",
          "Média baixa",
          "Renda baixa",
          "Renda baixa",
          "Renda baixa",
          "Renda baixa",
          "Renda baixa",
          "Renda baixa",
          "Renda baixa",
          "Renda baixa",
          "Renda baixa",
          "Renda baixa",
          "Renda baixa",
          "Renda baixa",
          "Renda baixa",
          "Renda baixa",
          "Média alta",
          "Média baixa",
          "Média alta",
          "Média baixa",
          "Renda baixa",
          "Média baixa",
          "Média baixa",
          "Média baixa",
          "Renda baixa",
          "Média baixa",
          "Média alta",
          "Renda baixa",
          "Renda baixa",
          "Média baixa",
          "Renda baixa",
          "Média baixa",
          "Renda baixa",
          "Renda alta",
          "Renda baixa",
          "Renda baixa",
          "Média alta",
          "Renda baixa",
          "Renda baixa",
          "Renda baixa",
          "Renda baixa",
          "Média alta",
          "Média alta",
          "Renda alta",
          "Renda alta",
          "Média baixa",
          "Renda baixa",
          "Média alta",
          "Média baixa",
          "Média alta",
          "Renda baixa",
          "Média baixa",
          "Média alta",
          "Média baixa",
          "Média baixa",
          "Média baixa",
          "Renda alta",
          "Média baixa",
          "Média baixa",
          "Média baixa",
          "Média baixa",
          "Renda baixa",
          "Média baixa",
          "Renda baixa",
          "Média baixa",
          "Renda baixa",
          "Média baixa",
          "Renda baixa",
          "Renda baixa",
          "Renda baixa",
          "Média baixa",
          "Média baixa",
          "Média baixa",
          "Média baixa",
          "Média baixa",
          "Média baixa",
          "Renda baixa",
          "Renda baixa",
          "Média baixa",
          "Média alta",
          "Média baixa",
          "Renda baixa",
          "Renda baixa",
          "Média baixa",
          "Média baixa",
          "Média baixa",
          "Renda baixa",
          "Média baixa",
          "Renda baixa",
          "Média baixa",
          "Média baixa",
          "Média baixa",
          "Renda baixa",
          "Renda baixa",
          "Média baixa",
          "Média baixa",
          "Renda baixa",
          "Renda baixa",
          "Renda baixa",
          "Renda baixa",
          "Renda baixa",
          "Renda baixa",
          "Renda baixa",
          "Renda baixa",
          "Média baixa",
          "Média alta",
          "Renda baixa",
          "Média alta",
          "Média baixa",
          "Renda alta",
          "Média baixa",
          "Renda baixa",
          "Renda baixa",
          "Média alta",
          "Média baixa",
          "Renda alta",
          "Média alta",
          "Média baixa",
          "Média alta",
          "Renda baixa",
          "Média baixa",
          "Renda baixa",
          "Média baixa",
          "Média baixa",
          "Renda baixa",
          "Renda baixa",
          "Renda baixa",
          "Renda baixa",
          "Renda baixa",
          "Renda baixa",
          "Média baixa",
          "Média baixa",
          "Média baixa",
          "Média baixa",
          "Média baixa",
          "Renda baixa",
          "Renda baixa",
          "Renda baixa",
          "Renda baixa",
          "Renda baixa",
          "Renda baixa",
          "Renda baixa",
          "Renda baixa",
          "Média baixa",
          "Média alta",
          "Renda baixa",
          "Média baixa",
          "Renda baixa",
          "Renda baixa",
          "Renda baixa",
          "Média baixa",
          "Média baixa",
          "Média alta",
          "Renda alta",
          "Média alta",
          "Renda baixa",
          "Média alta",
          "Renda baixa",
          "Média baixa",
          "Renda baixa",
          "Média baixa",
          "Média baixa",
          "Renda baixa",
          "Renda baixa",
          "Renda baixa",
          "Média baixa",
          "Média alta",
          "Renda baixa",
          "Renda baixa",
          "Renda baixa",
          "Renda baixa",
          "Renda baixa",
          "Média baixa",
          "Média alta"
         ],
         "x0": " ",
         "xaxis": "x",
         "y": [
          52,
          39,
          55,
          46,
          34,
          30,
          30,
          23,
          14,
          22,
          18,
          26,
          13,
          32,
          33,
          26,
          15,
          25,
          33,
          43,
          33,
          41,
          22,
          39,
          34,
          37,
          69,
          57,
          29,
          51,
          42,
          52,
          66,
          88,
          71,
          38,
          73,
          57,
          27,
          22,
          38,
          38,
          31,
          57,
          26,
          39,
          22,
          43,
          29,
          49,
          35,
          22,
          0,
          42,
          38,
          56,
          12,
          26,
          41,
          54,
          38,
          31,
          50,
          62,
          35,
          30,
          39,
          52,
          43,
          47,
          40,
          57,
          46,
          38,
          45,
          33,
          31,
          39,
          36,
          40,
          47,
          41,
          30,
          48,
          38,
          27,
          48,
          31,
          58,
          24,
          31,
          39,
          48,
          49,
          39,
          56,
          32,
          37,
          37,
          27,
          49,
          16,
          31,
          36,
          0,
          37,
          14,
          23,
          35,
          23,
          22,
          43,
          38,
          0,
          25,
          40,
          52,
          50,
          38,
          34,
          40,
          60,
          37,
          14,
          61,
          25,
          41,
          60,
          46,
          26,
          37,
          43,
          37,
          48,
          31,
          36,
          31,
          47,
          44,
          29,
          69,
          38,
          49,
          26,
          51,
          32,
          38,
          19,
          26,
          38,
          36,
          26,
          62,
          17,
          39,
          36,
          35,
          53,
          41,
          38,
          13,
          30,
          35,
          45,
          33,
          45,
          63,
          31,
          26,
          25,
          23,
          15,
          25,
          45,
          18,
          23,
          42,
          31,
          30,
          21,
          13,
          29,
          55,
          30,
          26,
          58,
          61,
          26,
          53,
          35,
          25,
          48,
          59,
          26,
          36,
          20,
          39,
          22,
          25,
          54,
          30,
          42,
          53,
          13,
          0,
          38,
          46,
          61,
          31,
          35,
          38,
          34,
          48,
          32,
          39,
          45,
          36,
          24,
          25,
          40,
          29,
          18,
          30,
          28,
          34,
          44,
          21,
          33,
          25,
          64,
          17,
          34,
          26,
          46,
          26,
          30,
          25,
          23,
          46,
          46,
          20,
          0,
          19,
          30,
          57,
          39,
          58,
          35,
          53,
          53,
          40,
          62,
          27,
          66,
          49,
          36,
          41,
          40,
          26,
          14,
          38,
          34,
          28,
          34,
          29,
          25,
          38,
          32,
          42,
          33,
          41,
          27,
          26,
          26,
          31,
          46,
          44,
          23,
          39,
          34,
          35,
          25,
          42,
          47,
          41,
          31,
          52,
          18,
          29,
          58,
          26,
          48,
          20,
          56,
          39,
          44,
          36,
          40,
          26,
          27,
          23,
          35,
          37,
          30,
          25,
          29,
          39,
          41,
          31,
          28,
          33,
          25,
          55,
          31
         ],
         "y0": " ",
         "yaxis": "y"
        }
       ],
       "layout": {
        "boxmode": "group",
        "legend": {
         "tracegroupgap": 0
        },
        "margin": {
         "t": 60
        },
        "template": {
         "data": {
          "bar": [
           {
            "error_x": {
             "color": "#2a3f5f"
            },
            "error_y": {
             "color": "#2a3f5f"
            },
            "marker": {
             "line": {
              "color": "#E5ECF6",
              "width": 0.5
             },
             "pattern": {
              "fillmode": "overlay",
              "size": 10,
              "solidity": 0.2
             }
            },
            "type": "bar"
           }
          ],
          "barpolar": [
           {
            "marker": {
             "line": {
              "color": "#E5ECF6",
              "width": 0.5
             },
             "pattern": {
              "fillmode": "overlay",
              "size": 10,
              "solidity": 0.2
             }
            },
            "type": "barpolar"
           }
          ],
          "carpet": [
           {
            "aaxis": {
             "endlinecolor": "#2a3f5f",
             "gridcolor": "white",
             "linecolor": "white",
             "minorgridcolor": "white",
             "startlinecolor": "#2a3f5f"
            },
            "baxis": {
             "endlinecolor": "#2a3f5f",
             "gridcolor": "white",
             "linecolor": "white",
             "minorgridcolor": "white",
             "startlinecolor": "#2a3f5f"
            },
            "type": "carpet"
           }
          ],
          "choropleth": [
           {
            "colorbar": {
             "outlinewidth": 0,
             "ticks": ""
            },
            "type": "choropleth"
           }
          ],
          "contour": [
           {
            "colorbar": {
             "outlinewidth": 0,
             "ticks": ""
            },
            "colorscale": [
             [
              0,
              "#0d0887"
             ],
             [
              0.1111111111111111,
              "#46039f"
             ],
             [
              0.2222222222222222,
              "#7201a8"
             ],
             [
              0.3333333333333333,
              "#9c179e"
             ],
             [
              0.4444444444444444,
              "#bd3786"
             ],
             [
              0.5555555555555556,
              "#d8576b"
             ],
             [
              0.6666666666666666,
              "#ed7953"
             ],
             [
              0.7777777777777778,
              "#fb9f3a"
             ],
             [
              0.8888888888888888,
              "#fdca26"
             ],
             [
              1,
              "#f0f921"
             ]
            ],
            "type": "contour"
           }
          ],
          "contourcarpet": [
           {
            "colorbar": {
             "outlinewidth": 0,
             "ticks": ""
            },
            "type": "contourcarpet"
           }
          ],
          "heatmap": [
           {
            "colorbar": {
             "outlinewidth": 0,
             "ticks": ""
            },
            "colorscale": [
             [
              0,
              "#0d0887"
             ],
             [
              0.1111111111111111,
              "#46039f"
             ],
             [
              0.2222222222222222,
              "#7201a8"
             ],
             [
              0.3333333333333333,
              "#9c179e"
             ],
             [
              0.4444444444444444,
              "#bd3786"
             ],
             [
              0.5555555555555556,
              "#d8576b"
             ],
             [
              0.6666666666666666,
              "#ed7953"
             ],
             [
              0.7777777777777778,
              "#fb9f3a"
             ],
             [
              0.8888888888888888,
              "#fdca26"
             ],
             [
              1,
              "#f0f921"
             ]
            ],
            "type": "heatmap"
           }
          ],
          "heatmapgl": [
           {
            "colorbar": {
             "outlinewidth": 0,
             "ticks": ""
            },
            "colorscale": [
             [
              0,
              "#0d0887"
             ],
             [
              0.1111111111111111,
              "#46039f"
             ],
             [
              0.2222222222222222,
              "#7201a8"
             ],
             [
              0.3333333333333333,
              "#9c179e"
             ],
             [
              0.4444444444444444,
              "#bd3786"
             ],
             [
              0.5555555555555556,
              "#d8576b"
             ],
             [
              0.6666666666666666,
              "#ed7953"
             ],
             [
              0.7777777777777778,
              "#fb9f3a"
             ],
             [
              0.8888888888888888,
              "#fdca26"
             ],
             [
              1,
              "#f0f921"
             ]
            ],
            "type": "heatmapgl"
           }
          ],
          "histogram": [
           {
            "marker": {
             "pattern": {
              "fillmode": "overlay",
              "size": 10,
              "solidity": 0.2
             }
            },
            "type": "histogram"
           }
          ],
          "histogram2d": [
           {
            "colorbar": {
             "outlinewidth": 0,
             "ticks": ""
            },
            "colorscale": [
             [
              0,
              "#0d0887"
             ],
             [
              0.1111111111111111,
              "#46039f"
             ],
             [
              0.2222222222222222,
              "#7201a8"
             ],
             [
              0.3333333333333333,
              "#9c179e"
             ],
             [
              0.4444444444444444,
              "#bd3786"
             ],
             [
              0.5555555555555556,
              "#d8576b"
             ],
             [
              0.6666666666666666,
              "#ed7953"
             ],
             [
              0.7777777777777778,
              "#fb9f3a"
             ],
             [
              0.8888888888888888,
              "#fdca26"
             ],
             [
              1,
              "#f0f921"
             ]
            ],
            "type": "histogram2d"
           }
          ],
          "histogram2dcontour": [
           {
            "colorbar": {
             "outlinewidth": 0,
             "ticks": ""
            },
            "colorscale": [
             [
              0,
              "#0d0887"
             ],
             [
              0.1111111111111111,
              "#46039f"
             ],
             [
              0.2222222222222222,
              "#7201a8"
             ],
             [
              0.3333333333333333,
              "#9c179e"
             ],
             [
              0.4444444444444444,
              "#bd3786"
             ],
             [
              0.5555555555555556,
              "#d8576b"
             ],
             [
              0.6666666666666666,
              "#ed7953"
             ],
             [
              0.7777777777777778,
              "#fb9f3a"
             ],
             [
              0.8888888888888888,
              "#fdca26"
             ],
             [
              1,
              "#f0f921"
             ]
            ],
            "type": "histogram2dcontour"
           }
          ],
          "mesh3d": [
           {
            "colorbar": {
             "outlinewidth": 0,
             "ticks": ""
            },
            "type": "mesh3d"
           }
          ],
          "parcoords": [
           {
            "line": {
             "colorbar": {
              "outlinewidth": 0,
              "ticks": ""
             }
            },
            "type": "parcoords"
           }
          ],
          "pie": [
           {
            "automargin": true,
            "type": "pie"
           }
          ],
          "scatter": [
           {
            "fillpattern": {
             "fillmode": "overlay",
             "size": 10,
             "solidity": 0.2
            },
            "type": "scatter"
           }
          ],
          "scatter3d": [
           {
            "line": {
             "colorbar": {
              "outlinewidth": 0,
              "ticks": ""
             }
            },
            "marker": {
             "colorbar": {
              "outlinewidth": 0,
              "ticks": ""
             }
            },
            "type": "scatter3d"
           }
          ],
          "scattercarpet": [
           {
            "marker": {
             "colorbar": {
              "outlinewidth": 0,
              "ticks": ""
             }
            },
            "type": "scattercarpet"
           }
          ],
          "scattergeo": [
           {
            "marker": {
             "colorbar": {
              "outlinewidth": 0,
              "ticks": ""
             }
            },
            "type": "scattergeo"
           }
          ],
          "scattergl": [
           {
            "marker": {
             "colorbar": {
              "outlinewidth": 0,
              "ticks": ""
             }
            },
            "type": "scattergl"
           }
          ],
          "scattermapbox": [
           {
            "marker": {
             "colorbar": {
              "outlinewidth": 0,
              "ticks": ""
             }
            },
            "type": "scattermapbox"
           }
          ],
          "scatterpolar": [
           {
            "marker": {
             "colorbar": {
              "outlinewidth": 0,
              "ticks": ""
             }
            },
            "type": "scatterpolar"
           }
          ],
          "scatterpolargl": [
           {
            "marker": {
             "colorbar": {
              "outlinewidth": 0,
              "ticks": ""
             }
            },
            "type": "scatterpolargl"
           }
          ],
          "scatterternary": [
           {
            "marker": {
             "colorbar": {
              "outlinewidth": 0,
              "ticks": ""
             }
            },
            "type": "scatterternary"
           }
          ],
          "surface": [
           {
            "colorbar": {
             "outlinewidth": 0,
             "ticks": ""
            },
            "colorscale": [
             [
              0,
              "#0d0887"
             ],
             [
              0.1111111111111111,
              "#46039f"
             ],
             [
              0.2222222222222222,
              "#7201a8"
             ],
             [
              0.3333333333333333,
              "#9c179e"
             ],
             [
              0.4444444444444444,
              "#bd3786"
             ],
             [
              0.5555555555555556,
              "#d8576b"
             ],
             [
              0.6666666666666666,
              "#ed7953"
             ],
             [
              0.7777777777777778,
              "#fb9f3a"
             ],
             [
              0.8888888888888888,
              "#fdca26"
             ],
             [
              1,
              "#f0f921"
             ]
            ],
            "type": "surface"
           }
          ],
          "table": [
           {
            "cells": {
             "fill": {
              "color": "#EBF0F8"
             },
             "line": {
              "color": "white"
             }
            },
            "header": {
             "fill": {
              "color": "#C8D4E3"
             },
             "line": {
              "color": "white"
             }
            },
            "type": "table"
           }
          ]
         },
         "layout": {
          "annotationdefaults": {
           "arrowcolor": "#2a3f5f",
           "arrowhead": 0,
           "arrowwidth": 1
          },
          "autotypenumbers": "strict",
          "coloraxis": {
           "colorbar": {
            "outlinewidth": 0,
            "ticks": ""
           }
          },
          "colorscale": {
           "diverging": [
            [
             0,
             "#8e0152"
            ],
            [
             0.1,
             "#c51b7d"
            ],
            [
             0.2,
             "#de77ae"
            ],
            [
             0.3,
             "#f1b6da"
            ],
            [
             0.4,
             "#fde0ef"
            ],
            [
             0.5,
             "#f7f7f7"
            ],
            [
             0.6,
             "#e6f5d0"
            ],
            [
             0.7,
             "#b8e186"
            ],
            [
             0.8,
             "#7fbc41"
            ],
            [
             0.9,
             "#4d9221"
            ],
            [
             1,
             "#276419"
            ]
           ],
           "sequential": [
            [
             0,
             "#0d0887"
            ],
            [
             0.1111111111111111,
             "#46039f"
            ],
            [
             0.2222222222222222,
             "#7201a8"
            ],
            [
             0.3333333333333333,
             "#9c179e"
            ],
            [
             0.4444444444444444,
             "#bd3786"
            ],
            [
             0.5555555555555556,
             "#d8576b"
            ],
            [
             0.6666666666666666,
             "#ed7953"
            ],
            [
             0.7777777777777778,
             "#fb9f3a"
            ],
            [
             0.8888888888888888,
             "#fdca26"
            ],
            [
             1,
             "#f0f921"
            ]
           ],
           "sequentialminus": [
            [
             0,
             "#0d0887"
            ],
            [
             0.1111111111111111,
             "#46039f"
            ],
            [
             0.2222222222222222,
             "#7201a8"
            ],
            [
             0.3333333333333333,
             "#9c179e"
            ],
            [
             0.4444444444444444,
             "#bd3786"
            ],
            [
             0.5555555555555556,
             "#d8576b"
            ],
            [
             0.6666666666666666,
             "#ed7953"
            ],
            [
             0.7777777777777778,
             "#fb9f3a"
            ],
            [
             0.8888888888888888,
             "#fdca26"
            ],
            [
             1,
             "#f0f921"
            ]
           ]
          },
          "colorway": [
           "#636efa",
           "#EF553B",
           "#00cc96",
           "#ab63fa",
           "#FFA15A",
           "#19d3f3",
           "#FF6692",
           "#B6E880",
           "#FF97FF",
           "#FECB52"
          ],
          "font": {
           "color": "#2a3f5f"
          },
          "geo": {
           "bgcolor": "white",
           "lakecolor": "white",
           "landcolor": "#E5ECF6",
           "showlakes": true,
           "showland": true,
           "subunitcolor": "white"
          },
          "hoverlabel": {
           "align": "left"
          },
          "hovermode": "closest",
          "mapbox": {
           "style": "light"
          },
          "paper_bgcolor": "white",
          "plot_bgcolor": "#E5ECF6",
          "polar": {
           "angularaxis": {
            "gridcolor": "white",
            "linecolor": "white",
            "ticks": ""
           },
           "bgcolor": "#E5ECF6",
           "radialaxis": {
            "gridcolor": "white",
            "linecolor": "white",
            "ticks": ""
           }
          },
          "scene": {
           "xaxis": {
            "backgroundcolor": "#E5ECF6",
            "gridcolor": "white",
            "gridwidth": 2,
            "linecolor": "white",
            "showbackground": true,
            "ticks": "",
            "zerolinecolor": "white"
           },
           "yaxis": {
            "backgroundcolor": "#E5ECF6",
            "gridcolor": "white",
            "gridwidth": 2,
            "linecolor": "white",
            "showbackground": true,
            "ticks": "",
            "zerolinecolor": "white"
           },
           "zaxis": {
            "backgroundcolor": "#E5ECF6",
            "gridcolor": "white",
            "gridwidth": 2,
            "linecolor": "white",
            "showbackground": true,
            "ticks": "",
            "zerolinecolor": "white"
           }
          },
          "shapedefaults": {
           "line": {
            "color": "#2a3f5f"
           }
          },
          "ternary": {
           "aaxis": {
            "gridcolor": "white",
            "linecolor": "white",
            "ticks": ""
           },
           "baxis": {
            "gridcolor": "white",
            "linecolor": "white",
            "ticks": ""
           },
           "bgcolor": "#E5ECF6",
           "caxis": {
            "gridcolor": "white",
            "linecolor": "white",
            "ticks": ""
           }
          },
          "title": {
           "x": 0.05
          },
          "xaxis": {
           "automargin": true,
           "gridcolor": "white",
           "linecolor": "white",
           "ticks": "",
           "title": {
            "standoff": 15
           },
           "zerolinecolor": "white",
           "zerolinewidth": 2
          },
          "yaxis": {
           "automargin": true,
           "gridcolor": "white",
           "linecolor": "white",
           "ticks": "",
           "title": {
            "standoff": 15
           },
           "zerolinecolor": "white",
           "zerolinewidth": 2
          }
         }
        },
        "title": {
         "text": "Boxplot de Renda em relação à Nota Geral",
         "x": 0.5,
         "y": 0.95
        },
        "xaxis": {
         "anchor": "y",
         "categoryarray": [
          "Renda baixa",
          "Média baixa",
          "Média alta",
          "Renda alta"
         ],
         "categoryorder": "array",
         "domain": [
          0,
          1
         ],
         "title": {
          "text": "Renda"
         }
        },
        "yaxis": {
         "anchor": "x",
         "domain": [
          0,
          1
         ],
         "title": {
          "text": "Nota Geral"
         }
        }
       }
      }
     },
     "metadata": {},
     "output_type": "display_data"
    }
   ],
   "source": [
    "categorias = {\n",
    "    'A': 'Renda baixa',\n",
    "    'B': 'Média baixa',\n",
    "    'C': 'Média alta',\n",
    "    'D': 'Média alta',\n",
    "    'E': 'Renda alta',\n",
    "    'F': 'Renda alta',\n",
    "    'G': 'Renda alta'\n",
    "}\n",
    "\n",
    "ordem_categorias = {'Renda baixa': 1, 'Média baixa': 2, 'Média alta': 3, 'Renda alta': 4}\n",
    "\n",
    "dados_explorados['Nota_geral'] = pd.to_numeric(dados_explorados['Nota_geral'], errors='coerce')\n",
    "dados_explorados = dados_explorados.dropna(subset=['Nota_geral'])\n",
    "\n",
    "dados_explorados['Categoria'] = dados_explorados['Renda'].map(categorias)\n",
    "\n",
    "#calcular as medianas das notas gerais para cada categoria de renda\n",
    "medianas = dados_explorados.groupby('Categoria')['Nota_geral'].median().reset_index()\n",
    "\n",
    "#ordenar os resultados com base nas medianas\n",
    "medianas['ordem_categoria'] = medianas['Categoria'].map(ordem_categorias)\n",
    "medianas = medianas.sort_values(by='ordem_categoria')\n",
    "\n",
    "\n",
    "fig = px.box(dados_explorados, x='Categoria', y='Nota_geral', \n",
    "             labels={'Categoria': 'Renda', 'Nota_geral': 'Nota Geral'},\n",
    "             category_orders={\"Categoria\": medianas['Categoria']})\n",
    "fig.update_layout(title='Boxplot de Renda em relação à Nota Geral', title_x=0.5, title_y=0.95)\n",
    "fig.show()"
   ]
  },
  {
   "cell_type": "code",
   "execution_count": 7,
   "metadata": {},
   "outputs": [
    {
     "data": {
      "application/vnd.plotly.v1+json": {
       "config": {
        "plotlyServerURL": "https://plot.ly"
       },
       "data": [
        {
         "alignmentgroup": "True",
         "hovertemplate": "Escolaridade da Mãe=%{x}<br>Nota Geral=%{y}<extra></extra>",
         "legendgroup": "",
         "marker": {
          "color": "#636efa"
         },
         "name": "",
         "notched": false,
         "offsetgroup": "",
         "orientation": "v",
         "showlegend": false,
         "type": "box",
         "x": [
          "Ensino superior",
          "Ensino fundamental",
          "Ensino médio",
          "Ensino fundamental",
          "Ensino médio",
          "Ensino fundamental",
          "Nenhuma escolaridade",
          "Ensino superior",
          "Ensino médio",
          "Ensino fundamental",
          "Ensino fundamental",
          "Ensino fundamental",
          "Nenhuma escolaridade",
          "Ensino fundamental",
          "Ensino fundamental",
          "Ensino médio",
          "Ensino fundamental",
          "Ensino fundamental",
          "Ensino fundamental",
          "Ensino fundamental",
          "Ensino fundamental",
          "Ensino fundamental",
          "Ensino fundamental",
          "Ensino médio",
          "Ensino fundamental",
          "Ensino médio",
          "Ensino médio",
          "Ensino fundamental",
          "Ensino superior",
          "Nenhuma escolaridade",
          "Ensino fundamental",
          "Ensino médio",
          "Ensino superior",
          "Pós-graduação",
          "Ensino médio",
          "Ensino médio",
          "Ensino superior",
          "Ensino médio",
          "Ensino médio",
          "Ensino fundamental",
          "Ensino fundamental",
          "Ensino médio",
          "Ensino médio",
          "Ensino médio",
          "Ensino fundamental",
          "Ensino fundamental",
          "Ensino médio",
          "Ensino fundamental",
          "Ensino superior",
          "Ensino médio",
          "Ensino médio",
          "Ensino médio",
          "Ensino fundamental",
          "Ensino fundamental",
          "Ensino superior",
          "Ensino médio",
          "Ensino médio",
          "Ensino médio",
          "Ensino fundamental",
          "Ensino fundamental",
          "Ensino fundamental",
          "Ensino médio",
          "Ensino fundamental",
          "Ensino médio",
          "Ensino fundamental",
          "Ensino superior",
          "Ensino fundamental",
          "Ensino fundamental",
          "Nenhuma escolaridade",
          "Ensino médio",
          "Nenhuma escolaridade",
          "Ensino médio",
          "Ensino fundamental",
          "Ensino médio",
          "Ensino fundamental",
          "Ensino superior",
          "Ensino médio",
          "Ensino fundamental",
          "Ensino superior",
          "Pós-graduação",
          "Ensino médio",
          "Pós-graduação",
          "Ensino fundamental",
          "Ensino fundamental",
          "Pós-graduação",
          "Pós-graduação",
          "Pós-graduação",
          "Ensino superior",
          "Ensino fundamental",
          "Ensino fundamental",
          "Ensino fundamental",
          "Ensino fundamental",
          "Ensino superior",
          "Ensino fundamental",
          "Ensino fundamental",
          "Ensino médio",
          "Ensino superior",
          "Ensino médio",
          "Ensino médio",
          "Ensino superior",
          "Ensino fundamental",
          "Ensino fundamental",
          "Nenhuma escolaridade",
          "Ensino superior",
          "Ensino fundamental",
          "Ensino fundamental",
          "Nenhuma escolaridade",
          "Ensino médio",
          "Ensino fundamental",
          "Ensino fundamental",
          "Ensino fundamental",
          "Ensino médio",
          "Ensino médio",
          "Ensino médio",
          "Ensino fundamental",
          "Ensino fundamental",
          "Ensino fundamental",
          "Ensino fundamental",
          "Ensino fundamental",
          "Ensino médio",
          "Ensino médio",
          "Ensino médio",
          "Ensino fundamental",
          "Ensino médio",
          "Ensino fundamental",
          "Ensino superior",
          "Ensino médio",
          "Ensino fundamental",
          "Ensino fundamental",
          "Ensino médio",
          "Ensino fundamental",
          "Ensino fundamental",
          "Ensino fundamental",
          "Ensino fundamental",
          "Ensino fundamental",
          "Ensino médio",
          "Ensino superior",
          "Ensino fundamental",
          "Nenhuma escolaridade",
          "Ensino fundamental",
          "Ensino médio",
          "Ensino médio",
          "Ensino fundamental",
          "Ensino médio",
          "Ensino médio",
          "Ensino fundamental",
          "Ensino médio",
          "Ensino fundamental",
          "Ensino fundamental",
          "Ensino fundamental",
          "Ensino fundamental",
          "Nenhuma escolaridade",
          "Ensino fundamental",
          "Ensino fundamental",
          "Ensino fundamental",
          "Ensino médio",
          "Ensino fundamental",
          "Ensino médio",
          "Nenhuma escolaridade",
          "Ensino fundamental",
          "Ensino fundamental",
          "Ensino médio",
          "Ensino fundamental",
          "Ensino fundamental",
          "Ensino fundamental",
          "Ensino fundamental",
          "Ensino fundamental",
          "Nenhuma escolaridade",
          "Ensino fundamental",
          "Ensino fundamental",
          "Ensino fundamental",
          "Ensino fundamental",
          "Ensino fundamental",
          "Ensino superior",
          "Ensino médio",
          "Ensino fundamental",
          "Ensino superior",
          "Ensino fundamental",
          "Ensino fundamental",
          "Ensino fundamental",
          "Ensino fundamental",
          "Ensino fundamental",
          "Pós-graduação",
          "Ensino fundamental",
          "Ensino médio",
          "Ensino fundamental",
          "Ensino fundamental",
          "Ensino fundamental",
          "Ensino superior",
          "Ensino fundamental",
          "Ensino superior",
          "Ensino fundamental",
          "Ensino fundamental",
          "Ensino fundamental",
          "Ensino superior",
          "Ensino fundamental",
          "Ensino fundamental",
          "Nenhuma escolaridade",
          "Ensino médio",
          "Ensino fundamental",
          "Ensino fundamental",
          "Nenhuma escolaridade",
          "Ensino médio",
          "Ensino médio",
          "Ensino médio",
          "Ensino médio",
          "Ensino fundamental",
          "Ensino fundamental",
          "Ensino fundamental",
          "Ensino fundamental",
          "Ensino fundamental",
          "Pós-graduação",
          "Nenhuma escolaridade",
          "Ensino fundamental",
          "Nenhuma escolaridade",
          "Ensino médio",
          "Ensino fundamental",
          "Ensino fundamental",
          "Ensino fundamental",
          "Ensino fundamental",
          "Ensino médio",
          "Ensino fundamental",
          "Ensino fundamental",
          "Ensino médio",
          "Ensino superior",
          "Ensino médio",
          "Ensino fundamental",
          "Ensino superior",
          "Ensino fundamental",
          "Ensino fundamental",
          "Nenhuma escolaridade",
          "Ensino médio",
          "Ensino médio",
          "Ensino médio",
          "Ensino médio",
          "Ensino fundamental",
          "Nenhuma escolaridade",
          "Ensino fundamental",
          "Ensino fundamental",
          "Ensino médio",
          "Nenhuma escolaridade",
          "Nenhuma escolaridade",
          "Ensino fundamental",
          "Ensino médio",
          "Ensino médio",
          "Ensino médio",
          "Ensino fundamental",
          "Ensino superior",
          "Ensino fundamental",
          "Ensino médio",
          "Ensino fundamental",
          "Ensino médio",
          "Ensino superior",
          "Ensino médio",
          "Ensino fundamental",
          "Ensino médio",
          "Ensino fundamental",
          "Ensino fundamental",
          "Ensino médio",
          "Ensino fundamental",
          "Ensino fundamental",
          "Ensino fundamental",
          "Ensino fundamental",
          "Pós-graduação",
          "Ensino fundamental",
          "Ensino fundamental",
          "Ensino fundamental",
          "Nenhuma escolaridade",
          "Ensino fundamental",
          "Ensino fundamental",
          "Ensino médio",
          "Ensino fundamental",
          "Ensino fundamental",
          "Ensino médio",
          "Ensino fundamental",
          "Ensino superior",
          "Ensino fundamental",
          "Ensino fundamental",
          "Ensino médio",
          "Ensino fundamental",
          "Ensino fundamental",
          "Ensino fundamental",
          "Ensino fundamental",
          "Ensino médio",
          "Ensino fundamental",
          "Ensino fundamental",
          "Ensino fundamental",
          "Ensino fundamental",
          "Ensino fundamental",
          "Ensino fundamental",
          "Ensino médio",
          "Ensino fundamental",
          "Ensino fundamental",
          "Ensino fundamental",
          "Ensino superior",
          "Nenhuma escolaridade",
          "Pós-graduação",
          "Ensino médio",
          "Nenhuma escolaridade",
          "Ensino médio",
          "Nenhuma escolaridade",
          "Nenhuma escolaridade",
          "Ensino fundamental",
          "Ensino fundamental",
          "Ensino médio",
          "Ensino fundamental",
          "Nenhuma escolaridade",
          "Ensino fundamental",
          "Ensino fundamental",
          "Nenhuma escolaridade",
          "Ensino médio",
          "Ensino médio",
          "Ensino fundamental",
          "Ensino médio"
         ],
         "x0": " ",
         "xaxis": "x",
         "y": [
          52,
          39,
          55,
          46,
          34,
          30,
          30,
          23,
          14,
          22,
          18,
          26,
          13,
          32,
          33,
          26,
          15,
          25,
          33,
          43,
          33,
          41,
          22,
          39,
          34,
          37,
          69,
          57,
          29,
          51,
          42,
          52,
          66,
          88,
          71,
          38,
          73,
          57,
          27,
          22,
          38,
          38,
          31,
          57,
          26,
          39,
          22,
          43,
          29,
          49,
          35,
          22,
          0,
          42,
          38,
          56,
          12,
          26,
          41,
          54,
          38,
          31,
          50,
          62,
          35,
          30,
          39,
          52,
          43,
          47,
          40,
          57,
          46,
          38,
          45,
          33,
          31,
          39,
          36,
          40,
          47,
          41,
          30,
          48,
          38,
          27,
          48,
          31,
          58,
          24,
          31,
          39,
          48,
          49,
          39,
          56,
          32,
          37,
          37,
          27,
          49,
          16,
          31,
          36,
          0,
          37,
          14,
          23,
          35,
          23,
          22,
          43,
          38,
          0,
          25,
          40,
          52,
          50,
          38,
          34,
          40,
          60,
          37,
          14,
          61,
          25,
          41,
          60,
          46,
          26,
          37,
          43,
          37,
          48,
          31,
          36,
          31,
          47,
          44,
          29,
          69,
          38,
          49,
          26,
          51,
          32,
          38,
          19,
          26,
          38,
          36,
          26,
          62,
          17,
          39,
          36,
          35,
          53,
          41,
          38,
          13,
          30,
          35,
          45,
          33,
          45,
          63,
          31,
          26,
          25,
          23,
          15,
          25,
          45,
          18,
          23,
          42,
          31,
          30,
          21,
          13,
          29,
          55,
          30,
          26,
          58,
          61,
          26,
          53,
          35,
          25,
          48,
          59,
          26,
          36,
          20,
          39,
          22,
          25,
          54,
          30,
          42,
          53,
          13,
          0,
          38,
          46,
          61,
          31,
          35,
          38,
          34,
          48,
          32,
          39,
          45,
          36,
          24,
          25,
          40,
          29,
          18,
          30,
          28,
          34,
          44,
          21,
          33,
          25,
          64,
          17,
          34,
          26,
          46,
          26,
          30,
          25,
          23,
          46,
          46,
          20,
          0,
          19,
          30,
          57,
          39,
          58,
          35,
          53,
          53,
          40,
          62,
          27,
          66,
          49,
          36,
          41,
          40,
          26,
          14,
          38,
          34,
          28,
          34,
          29,
          25,
          38,
          32,
          42,
          33,
          41,
          27,
          26,
          26,
          31,
          46,
          44,
          23,
          39,
          34,
          35,
          25,
          42,
          47,
          41,
          31,
          52,
          18,
          29,
          58,
          26,
          48,
          20,
          56,
          39,
          44,
          36,
          40,
          26,
          27,
          23,
          35,
          37,
          30,
          25,
          29,
          39,
          41,
          31,
          28,
          33,
          25,
          55,
          31
         ],
         "y0": " ",
         "yaxis": "y"
        }
       ],
       "layout": {
        "boxmode": "group",
        "legend": {
         "tracegroupgap": 0
        },
        "margin": {
         "t": 60
        },
        "template": {
         "data": {
          "bar": [
           {
            "error_x": {
             "color": "#2a3f5f"
            },
            "error_y": {
             "color": "#2a3f5f"
            },
            "marker": {
             "line": {
              "color": "#E5ECF6",
              "width": 0.5
             },
             "pattern": {
              "fillmode": "overlay",
              "size": 10,
              "solidity": 0.2
             }
            },
            "type": "bar"
           }
          ],
          "barpolar": [
           {
            "marker": {
             "line": {
              "color": "#E5ECF6",
              "width": 0.5
             },
             "pattern": {
              "fillmode": "overlay",
              "size": 10,
              "solidity": 0.2
             }
            },
            "type": "barpolar"
           }
          ],
          "carpet": [
           {
            "aaxis": {
             "endlinecolor": "#2a3f5f",
             "gridcolor": "white",
             "linecolor": "white",
             "minorgridcolor": "white",
             "startlinecolor": "#2a3f5f"
            },
            "baxis": {
             "endlinecolor": "#2a3f5f",
             "gridcolor": "white",
             "linecolor": "white",
             "minorgridcolor": "white",
             "startlinecolor": "#2a3f5f"
            },
            "type": "carpet"
           }
          ],
          "choropleth": [
           {
            "colorbar": {
             "outlinewidth": 0,
             "ticks": ""
            },
            "type": "choropleth"
           }
          ],
          "contour": [
           {
            "colorbar": {
             "outlinewidth": 0,
             "ticks": ""
            },
            "colorscale": [
             [
              0,
              "#0d0887"
             ],
             [
              0.1111111111111111,
              "#46039f"
             ],
             [
              0.2222222222222222,
              "#7201a8"
             ],
             [
              0.3333333333333333,
              "#9c179e"
             ],
             [
              0.4444444444444444,
              "#bd3786"
             ],
             [
              0.5555555555555556,
              "#d8576b"
             ],
             [
              0.6666666666666666,
              "#ed7953"
             ],
             [
              0.7777777777777778,
              "#fb9f3a"
             ],
             [
              0.8888888888888888,
              "#fdca26"
             ],
             [
              1,
              "#f0f921"
             ]
            ],
            "type": "contour"
           }
          ],
          "contourcarpet": [
           {
            "colorbar": {
             "outlinewidth": 0,
             "ticks": ""
            },
            "type": "contourcarpet"
           }
          ],
          "heatmap": [
           {
            "colorbar": {
             "outlinewidth": 0,
             "ticks": ""
            },
            "colorscale": [
             [
              0,
              "#0d0887"
             ],
             [
              0.1111111111111111,
              "#46039f"
             ],
             [
              0.2222222222222222,
              "#7201a8"
             ],
             [
              0.3333333333333333,
              "#9c179e"
             ],
             [
              0.4444444444444444,
              "#bd3786"
             ],
             [
              0.5555555555555556,
              "#d8576b"
             ],
             [
              0.6666666666666666,
              "#ed7953"
             ],
             [
              0.7777777777777778,
              "#fb9f3a"
             ],
             [
              0.8888888888888888,
              "#fdca26"
             ],
             [
              1,
              "#f0f921"
             ]
            ],
            "type": "heatmap"
           }
          ],
          "heatmapgl": [
           {
            "colorbar": {
             "outlinewidth": 0,
             "ticks": ""
            },
            "colorscale": [
             [
              0,
              "#0d0887"
             ],
             [
              0.1111111111111111,
              "#46039f"
             ],
             [
              0.2222222222222222,
              "#7201a8"
             ],
             [
              0.3333333333333333,
              "#9c179e"
             ],
             [
              0.4444444444444444,
              "#bd3786"
             ],
             [
              0.5555555555555556,
              "#d8576b"
             ],
             [
              0.6666666666666666,
              "#ed7953"
             ],
             [
              0.7777777777777778,
              "#fb9f3a"
             ],
             [
              0.8888888888888888,
              "#fdca26"
             ],
             [
              1,
              "#f0f921"
             ]
            ],
            "type": "heatmapgl"
           }
          ],
          "histogram": [
           {
            "marker": {
             "pattern": {
              "fillmode": "overlay",
              "size": 10,
              "solidity": 0.2
             }
            },
            "type": "histogram"
           }
          ],
          "histogram2d": [
           {
            "colorbar": {
             "outlinewidth": 0,
             "ticks": ""
            },
            "colorscale": [
             [
              0,
              "#0d0887"
             ],
             [
              0.1111111111111111,
              "#46039f"
             ],
             [
              0.2222222222222222,
              "#7201a8"
             ],
             [
              0.3333333333333333,
              "#9c179e"
             ],
             [
              0.4444444444444444,
              "#bd3786"
             ],
             [
              0.5555555555555556,
              "#d8576b"
             ],
             [
              0.6666666666666666,
              "#ed7953"
             ],
             [
              0.7777777777777778,
              "#fb9f3a"
             ],
             [
              0.8888888888888888,
              "#fdca26"
             ],
             [
              1,
              "#f0f921"
             ]
            ],
            "type": "histogram2d"
           }
          ],
          "histogram2dcontour": [
           {
            "colorbar": {
             "outlinewidth": 0,
             "ticks": ""
            },
            "colorscale": [
             [
              0,
              "#0d0887"
             ],
             [
              0.1111111111111111,
              "#46039f"
             ],
             [
              0.2222222222222222,
              "#7201a8"
             ],
             [
              0.3333333333333333,
              "#9c179e"
             ],
             [
              0.4444444444444444,
              "#bd3786"
             ],
             [
              0.5555555555555556,
              "#d8576b"
             ],
             [
              0.6666666666666666,
              "#ed7953"
             ],
             [
              0.7777777777777778,
              "#fb9f3a"
             ],
             [
              0.8888888888888888,
              "#fdca26"
             ],
             [
              1,
              "#f0f921"
             ]
            ],
            "type": "histogram2dcontour"
           }
          ],
          "mesh3d": [
           {
            "colorbar": {
             "outlinewidth": 0,
             "ticks": ""
            },
            "type": "mesh3d"
           }
          ],
          "parcoords": [
           {
            "line": {
             "colorbar": {
              "outlinewidth": 0,
              "ticks": ""
             }
            },
            "type": "parcoords"
           }
          ],
          "pie": [
           {
            "automargin": true,
            "type": "pie"
           }
          ],
          "scatter": [
           {
            "fillpattern": {
             "fillmode": "overlay",
             "size": 10,
             "solidity": 0.2
            },
            "type": "scatter"
           }
          ],
          "scatter3d": [
           {
            "line": {
             "colorbar": {
              "outlinewidth": 0,
              "ticks": ""
             }
            },
            "marker": {
             "colorbar": {
              "outlinewidth": 0,
              "ticks": ""
             }
            },
            "type": "scatter3d"
           }
          ],
          "scattercarpet": [
           {
            "marker": {
             "colorbar": {
              "outlinewidth": 0,
              "ticks": ""
             }
            },
            "type": "scattercarpet"
           }
          ],
          "scattergeo": [
           {
            "marker": {
             "colorbar": {
              "outlinewidth": 0,
              "ticks": ""
             }
            },
            "type": "scattergeo"
           }
          ],
          "scattergl": [
           {
            "marker": {
             "colorbar": {
              "outlinewidth": 0,
              "ticks": ""
             }
            },
            "type": "scattergl"
           }
          ],
          "scattermapbox": [
           {
            "marker": {
             "colorbar": {
              "outlinewidth": 0,
              "ticks": ""
             }
            },
            "type": "scattermapbox"
           }
          ],
          "scatterpolar": [
           {
            "marker": {
             "colorbar": {
              "outlinewidth": 0,
              "ticks": ""
             }
            },
            "type": "scatterpolar"
           }
          ],
          "scatterpolargl": [
           {
            "marker": {
             "colorbar": {
              "outlinewidth": 0,
              "ticks": ""
             }
            },
            "type": "scatterpolargl"
           }
          ],
          "scatterternary": [
           {
            "marker": {
             "colorbar": {
              "outlinewidth": 0,
              "ticks": ""
             }
            },
            "type": "scatterternary"
           }
          ],
          "surface": [
           {
            "colorbar": {
             "outlinewidth": 0,
             "ticks": ""
            },
            "colorscale": [
             [
              0,
              "#0d0887"
             ],
             [
              0.1111111111111111,
              "#46039f"
             ],
             [
              0.2222222222222222,
              "#7201a8"
             ],
             [
              0.3333333333333333,
              "#9c179e"
             ],
             [
              0.4444444444444444,
              "#bd3786"
             ],
             [
              0.5555555555555556,
              "#d8576b"
             ],
             [
              0.6666666666666666,
              "#ed7953"
             ],
             [
              0.7777777777777778,
              "#fb9f3a"
             ],
             [
              0.8888888888888888,
              "#fdca26"
             ],
             [
              1,
              "#f0f921"
             ]
            ],
            "type": "surface"
           }
          ],
          "table": [
           {
            "cells": {
             "fill": {
              "color": "#EBF0F8"
             },
             "line": {
              "color": "white"
             }
            },
            "header": {
             "fill": {
              "color": "#C8D4E3"
             },
             "line": {
              "color": "white"
             }
            },
            "type": "table"
           }
          ]
         },
         "layout": {
          "annotationdefaults": {
           "arrowcolor": "#2a3f5f",
           "arrowhead": 0,
           "arrowwidth": 1
          },
          "autotypenumbers": "strict",
          "coloraxis": {
           "colorbar": {
            "outlinewidth": 0,
            "ticks": ""
           }
          },
          "colorscale": {
           "diverging": [
            [
             0,
             "#8e0152"
            ],
            [
             0.1,
             "#c51b7d"
            ],
            [
             0.2,
             "#de77ae"
            ],
            [
             0.3,
             "#f1b6da"
            ],
            [
             0.4,
             "#fde0ef"
            ],
            [
             0.5,
             "#f7f7f7"
            ],
            [
             0.6,
             "#e6f5d0"
            ],
            [
             0.7,
             "#b8e186"
            ],
            [
             0.8,
             "#7fbc41"
            ],
            [
             0.9,
             "#4d9221"
            ],
            [
             1,
             "#276419"
            ]
           ],
           "sequential": [
            [
             0,
             "#0d0887"
            ],
            [
             0.1111111111111111,
             "#46039f"
            ],
            [
             0.2222222222222222,
             "#7201a8"
            ],
            [
             0.3333333333333333,
             "#9c179e"
            ],
            [
             0.4444444444444444,
             "#bd3786"
            ],
            [
             0.5555555555555556,
             "#d8576b"
            ],
            [
             0.6666666666666666,
             "#ed7953"
            ],
            [
             0.7777777777777778,
             "#fb9f3a"
            ],
            [
             0.8888888888888888,
             "#fdca26"
            ],
            [
             1,
             "#f0f921"
            ]
           ],
           "sequentialminus": [
            [
             0,
             "#0d0887"
            ],
            [
             0.1111111111111111,
             "#46039f"
            ],
            [
             0.2222222222222222,
             "#7201a8"
            ],
            [
             0.3333333333333333,
             "#9c179e"
            ],
            [
             0.4444444444444444,
             "#bd3786"
            ],
            [
             0.5555555555555556,
             "#d8576b"
            ],
            [
             0.6666666666666666,
             "#ed7953"
            ],
            [
             0.7777777777777778,
             "#fb9f3a"
            ],
            [
             0.8888888888888888,
             "#fdca26"
            ],
            [
             1,
             "#f0f921"
            ]
           ]
          },
          "colorway": [
           "#636efa",
           "#EF553B",
           "#00cc96",
           "#ab63fa",
           "#FFA15A",
           "#19d3f3",
           "#FF6692",
           "#B6E880",
           "#FF97FF",
           "#FECB52"
          ],
          "font": {
           "color": "#2a3f5f"
          },
          "geo": {
           "bgcolor": "white",
           "lakecolor": "white",
           "landcolor": "#E5ECF6",
           "showlakes": true,
           "showland": true,
           "subunitcolor": "white"
          },
          "hoverlabel": {
           "align": "left"
          },
          "hovermode": "closest",
          "mapbox": {
           "style": "light"
          },
          "paper_bgcolor": "white",
          "plot_bgcolor": "#E5ECF6",
          "polar": {
           "angularaxis": {
            "gridcolor": "white",
            "linecolor": "white",
            "ticks": ""
           },
           "bgcolor": "#E5ECF6",
           "radialaxis": {
            "gridcolor": "white",
            "linecolor": "white",
            "ticks": ""
           }
          },
          "scene": {
           "xaxis": {
            "backgroundcolor": "#E5ECF6",
            "gridcolor": "white",
            "gridwidth": 2,
            "linecolor": "white",
            "showbackground": true,
            "ticks": "",
            "zerolinecolor": "white"
           },
           "yaxis": {
            "backgroundcolor": "#E5ECF6",
            "gridcolor": "white",
            "gridwidth": 2,
            "linecolor": "white",
            "showbackground": true,
            "ticks": "",
            "zerolinecolor": "white"
           },
           "zaxis": {
            "backgroundcolor": "#E5ECF6",
            "gridcolor": "white",
            "gridwidth": 2,
            "linecolor": "white",
            "showbackground": true,
            "ticks": "",
            "zerolinecolor": "white"
           }
          },
          "shapedefaults": {
           "line": {
            "color": "#2a3f5f"
           }
          },
          "ternary": {
           "aaxis": {
            "gridcolor": "white",
            "linecolor": "white",
            "ticks": ""
           },
           "baxis": {
            "gridcolor": "white",
            "linecolor": "white",
            "ticks": ""
           },
           "bgcolor": "#E5ECF6",
           "caxis": {
            "gridcolor": "white",
            "linecolor": "white",
            "ticks": ""
           }
          },
          "title": {
           "x": 0.05
          },
          "xaxis": {
           "automargin": true,
           "gridcolor": "white",
           "linecolor": "white",
           "ticks": "",
           "title": {
            "standoff": 15
           },
           "zerolinecolor": "white",
           "zerolinewidth": 2
          },
          "yaxis": {
           "automargin": true,
           "gridcolor": "white",
           "linecolor": "white",
           "ticks": "",
           "title": {
            "standoff": 15
           },
           "zerolinecolor": "white",
           "zerolinewidth": 2
          }
         }
        },
        "title": {
         "text": "Boxplot de Escolaridade da Mãe em relação à Nota Geral",
         "x": 0.5,
         "y": 0.95
        },
        "xaxis": {
         "anchor": "y",
         "categoryarray": [
          "Nenhuma escolaridade",
          "Ensino fundamental",
          "Ensino médio",
          "Ensino superior",
          "Pós-graduação"
         ],
         "categoryorder": "array",
         "domain": [
          0,
          1
         ],
         "title": {
          "text": "Escolaridade da Mãe"
         }
        },
        "yaxis": {
         "anchor": "x",
         "domain": [
          0,
          1
         ],
         "title": {
          "text": "Nota Geral"
         }
        }
       }
      }
     },
     "metadata": {},
     "output_type": "display_data"
    }
   ],
   "source": [
    "categorias = {\n",
    "    'A': 'Nenhuma escolaridade',\n",
    "    'B': 'Ensino fundamental',\n",
    "    'C': 'Ensino fundamental',\n",
    "    'D': 'Ensino médio',\n",
    "    'E': 'Ensino superior',\n",
    "    'F': 'Pós-graduação'\n",
    "}\n",
    "\n",
    "ordem_categorias = {'Nenhuma escolaridade': 1, 'Ensino fundamental': 2, \n",
    "                    'Ensino médio': 3, 'Ensino superior': 4, 'Pós-graduação': 5}\n",
    "\n",
    "dados_explorados['Nota_geral'] = pd.to_numeric(dados_explorados['Nota_geral'], errors='coerce')\n",
    "dados_explorados = dados_explorados.dropna(subset=['Nota_geral'])\n",
    "\n",
    "dados_explorados['Categoria'] = dados_explorados['Escolaridade_mae'].map(categorias)\n",
    "\n",
    "medianas = dados_explorados.groupby('Categoria')['Nota_geral'].median().reset_index()\n",
    "\n",
    "medianas['ordem_categoria'] = medianas['Categoria'].map(ordem_categorias)\n",
    "medianas = medianas.sort_values(by='ordem_categoria')\n",
    "\n",
    "fig = px.box(dados_explorados, x='Categoria', y='Nota_geral', \n",
    "             labels={'Categoria': 'Escolaridade da Mãe', 'Nota_geral': 'Nota Geral'},\n",
    "             category_orders={\"Categoria\": medianas['Categoria']})\n",
    "fig.update_layout(title='Boxplot de Escolaridade da Mãe em relação à Nota Geral', title_x=0.5, title_y=0.95)\n",
    "fig.show()"
   ]
  },
  {
   "cell_type": "code",
   "execution_count": 8,
   "metadata": {},
   "outputs": [
    {
     "data": {
      "application/vnd.plotly.v1+json": {
       "config": {
        "plotlyServerURL": "https://plot.ly"
       },
       "data": [
        {
         "alignmentgroup": "True",
         "hovertemplate": "Escolaridade do Pai=%{x}<br>Nota Geral=%{y}<extra></extra>",
         "legendgroup": "",
         "marker": {
          "color": "#636efa"
         },
         "name": "",
         "notched": false,
         "offsetgroup": "",
         "orientation": "v",
         "showlegend": false,
         "type": "box",
         "x": [
          "Ensino médio",
          "Ensino fundamental",
          "Ensino médio",
          "Nenhuma escolaridade",
          "Ensino superior",
          "Nenhuma escolaridade",
          "Nenhuma escolaridade",
          "Ensino superior",
          "Nenhuma escolaridade",
          "Nenhuma escolaridade",
          "Nenhuma escolaridade",
          "Nenhuma escolaridade",
          "Ensino fundamental",
          "Ensino fundamental",
          "Ensino fundamental",
          "Ensino médio",
          "Ensino médio",
          "Ensino fundamental",
          "Ensino médio",
          "Ensino fundamental",
          "Nenhuma escolaridade",
          "Ensino fundamental",
          "Ensino médio",
          "Pós-graduação",
          "Ensino fundamental",
          "Ensino fundamental",
          "Ensino médio",
          "Ensino fundamental",
          "Ensino médio",
          "Nenhuma escolaridade",
          "Ensino fundamental",
          "Ensino médio",
          "Ensino superior",
          "Ensino médio",
          "Ensino médio",
          "Ensino fundamental",
          "Ensino superior",
          "Ensino superior",
          "Ensino médio",
          "Ensino médio",
          "Nenhuma escolaridade",
          "Ensino fundamental",
          "Ensino médio",
          "Ensino médio",
          "Ensino fundamental",
          "Ensino fundamental",
          "Ensino fundamental",
          "Ensino fundamental",
          "Nenhuma escolaridade",
          "Ensino fundamental",
          "Ensino fundamental",
          "Ensino médio",
          "Nenhuma escolaridade",
          "Ensino fundamental",
          "Ensino superior",
          "Ensino fundamental",
          "Ensino fundamental",
          "Ensino médio",
          "Ensino fundamental",
          "Ensino médio",
          "Ensino fundamental",
          "Ensino fundamental",
          "Ensino fundamental",
          "Ensino médio",
          "Ensino fundamental",
          "Ensino médio",
          "Ensino fundamental",
          "Ensino fundamental",
          "Nenhuma escolaridade",
          "Ensino fundamental",
          "Nenhuma escolaridade",
          "Ensino médio",
          "Ensino fundamental",
          "Ensino fundamental",
          "Ensino fundamental",
          "Ensino fundamental",
          "Ensino médio",
          "Nenhuma escolaridade",
          "Ensino médio",
          "Pós-graduação",
          "Ensino fundamental",
          "Ensino fundamental",
          "Ensino fundamental",
          "Ensino superior",
          "Ensino fundamental",
          "Ensino médio",
          "Pós-graduação",
          "Ensino médio",
          "Ensino fundamental",
          "Ensino fundamental",
          "Ensino fundamental",
          "Nenhuma escolaridade",
          "Ensino superior",
          "Ensino fundamental",
          "Ensino fundamental",
          "Ensino médio",
          "Ensino superior",
          "Ensino médio",
          "Ensino fundamental",
          "Nenhuma escolaridade",
          "Ensino fundamental",
          "Ensino fundamental",
          "Nenhuma escolaridade",
          "Ensino médio",
          "Ensino fundamental",
          "Ensino fundamental",
          "Nenhuma escolaridade",
          "Ensino fundamental",
          "Ensino fundamental",
          "Ensino fundamental",
          "Ensino fundamental",
          "Ensino fundamental",
          "Ensino fundamental",
          "Ensino médio",
          "Ensino fundamental",
          "Ensino fundamental",
          "Ensino fundamental",
          "Ensino fundamental",
          "Ensino fundamental",
          "Ensino fundamental",
          "Nenhuma escolaridade",
          "Ensino fundamental",
          "Ensino fundamental",
          "Ensino fundamental",
          "Ensino fundamental",
          "Ensino fundamental",
          "Ensino fundamental",
          "Ensino fundamental",
          "Nenhuma escolaridade",
          "Ensino médio",
          "Ensino fundamental",
          "Ensino fundamental",
          "Ensino fundamental",
          "Ensino fundamental",
          "Ensino fundamental",
          "Ensino médio",
          "Ensino fundamental",
          "Ensino médio",
          "Nenhuma escolaridade",
          "Ensino fundamental",
          "Ensino superior",
          "Ensino fundamental",
          "Ensino fundamental",
          "Nenhuma escolaridade",
          "Nenhuma escolaridade",
          "Ensino fundamental",
          "Ensino médio",
          "Ensino fundamental",
          "Ensino fundamental",
          "Ensino fundamental",
          "Ensino fundamental",
          "Ensino fundamental",
          "Ensino médio",
          "Ensino médio",
          "Ensino fundamental",
          "Ensino fundamental",
          "Ensino fundamental",
          "Ensino fundamental",
          "Ensino fundamental",
          "Ensino fundamental",
          "Nenhuma escolaridade",
          "Ensino fundamental",
          "Ensino fundamental",
          "Ensino fundamental",
          "Ensino fundamental",
          "Ensino fundamental",
          "Ensino fundamental",
          "Ensino fundamental",
          "Nenhuma escolaridade",
          "Ensino fundamental",
          "Nenhuma escolaridade",
          "Ensino fundamental",
          "Ensino fundamental",
          "Ensino médio",
          "Ensino fundamental",
          "Nenhuma escolaridade",
          "Ensino fundamental",
          "Ensino fundamental",
          "Ensino fundamental",
          "Ensino fundamental",
          "Nenhuma escolaridade",
          "Ensino médio",
          "Ensino médio",
          "Ensino médio",
          "Ensino fundamental",
          "Ensino fundamental",
          "Nenhuma escolaridade",
          "Ensino fundamental",
          "Ensino médio",
          "Ensino superior",
          "Ensino fundamental",
          "Ensino fundamental",
          "Ensino fundamental",
          "Nenhuma escolaridade",
          "Ensino médio",
          "Ensino fundamental",
          "Ensino fundamental",
          "Ensino fundamental",
          "Ensino médio",
          "Ensino fundamental",
          "Ensino fundamental",
          "Nenhuma escolaridade",
          "Ensino médio",
          "Ensino médio",
          "Ensino médio",
          "Ensino fundamental",
          "Ensino fundamental",
          "Ensino fundamental",
          "Ensino fundamental",
          "Ensino fundamental",
          "Ensino fundamental",
          "Ensino superior",
          "Nenhuma escolaridade",
          "Ensino fundamental",
          "Nenhuma escolaridade",
          "Ensino superior",
          "Ensino fundamental",
          "Ensino fundamental",
          "Ensino fundamental",
          "Ensino fundamental",
          "Ensino médio",
          "Ensino fundamental",
          "Ensino fundamental",
          "Ensino fundamental",
          "Ensino médio",
          "Ensino médio",
          "Ensino fundamental",
          "Nenhuma escolaridade",
          "Ensino fundamental",
          "Ensino médio",
          "Nenhuma escolaridade",
          "Ensino médio",
          "Ensino superior",
          "Ensino fundamental",
          "Ensino médio",
          "Nenhuma escolaridade",
          "Nenhuma escolaridade",
          "Ensino fundamental",
          "Nenhuma escolaridade",
          "Ensino médio",
          "Nenhuma escolaridade",
          "Nenhuma escolaridade",
          "Nenhuma escolaridade",
          "Ensino fundamental",
          "Ensino fundamental",
          "Ensino médio",
          "Nenhuma escolaridade",
          "Ensino fundamental",
          "Nenhuma escolaridade",
          "Ensino superior",
          "Ensino fundamental",
          "Ensino fundamental",
          "Nenhuma escolaridade",
          "Ensino superior",
          "Nenhuma escolaridade",
          "Ensino médio",
          "Ensino fundamental",
          "Nenhuma escolaridade",
          "Ensino médio",
          "Nenhuma escolaridade",
          "Ensino fundamental",
          "Ensino fundamental",
          "Ensino fundamental",
          "Nenhuma escolaridade",
          "Ensino fundamental",
          "Ensino fundamental",
          "Ensino fundamental",
          "Ensino fundamental",
          "Ensino fundamental",
          "Nenhuma escolaridade",
          "Ensino fundamental",
          "Ensino fundamental",
          "Nenhuma escolaridade",
          "Ensino médio",
          "Nenhuma escolaridade",
          "Ensino fundamental",
          "Nenhuma escolaridade",
          "Nenhuma escolaridade",
          "Ensino fundamental",
          "Nenhuma escolaridade",
          "Ensino fundamental",
          "Ensino fundamental",
          "Ensino fundamental",
          "Ensino fundamental",
          "Ensino fundamental",
          "Ensino fundamental",
          "Ensino fundamental",
          "Ensino fundamental",
          "Ensino fundamental",
          "Ensino fundamental",
          "Ensino fundamental",
          "Ensino fundamental",
          "Ensino fundamental",
          "Nenhuma escolaridade",
          "Ensino superior",
          "Nenhuma escolaridade",
          "Ensino superior",
          "Ensino fundamental",
          "Nenhuma escolaridade",
          "Ensino fundamental",
          "Nenhuma escolaridade",
          "Nenhuma escolaridade",
          "Ensino fundamental",
          "Ensino fundamental",
          "Nenhuma escolaridade",
          "Nenhuma escolaridade",
          "Ensino fundamental",
          "Ensino fundamental",
          "Ensino fundamental",
          "Nenhuma escolaridade",
          "Ensino médio",
          "Ensino fundamental",
          "Ensino fundamental",
          "Nenhuma escolaridade"
         ],
         "x0": " ",
         "xaxis": "x",
         "y": [
          52,
          39,
          55,
          46,
          34,
          30,
          30,
          23,
          14,
          22,
          18,
          26,
          13,
          32,
          33,
          26,
          15,
          25,
          33,
          43,
          33,
          41,
          22,
          39,
          34,
          37,
          69,
          57,
          29,
          51,
          42,
          52,
          66,
          88,
          71,
          38,
          73,
          57,
          27,
          22,
          38,
          38,
          31,
          57,
          26,
          39,
          22,
          43,
          29,
          49,
          35,
          22,
          0,
          42,
          38,
          56,
          12,
          26,
          41,
          54,
          38,
          31,
          50,
          62,
          35,
          30,
          39,
          52,
          43,
          47,
          40,
          57,
          46,
          38,
          45,
          33,
          31,
          39,
          36,
          40,
          47,
          41,
          30,
          48,
          38,
          27,
          48,
          31,
          58,
          24,
          31,
          39,
          48,
          49,
          39,
          56,
          32,
          37,
          37,
          27,
          49,
          16,
          31,
          36,
          0,
          37,
          14,
          23,
          35,
          23,
          22,
          43,
          38,
          0,
          25,
          40,
          52,
          50,
          38,
          34,
          40,
          60,
          37,
          14,
          61,
          25,
          41,
          60,
          46,
          26,
          37,
          43,
          37,
          48,
          31,
          36,
          31,
          47,
          44,
          29,
          69,
          38,
          49,
          26,
          51,
          32,
          38,
          19,
          26,
          38,
          36,
          26,
          62,
          17,
          39,
          36,
          35,
          53,
          41,
          38,
          13,
          30,
          35,
          45,
          33,
          45,
          63,
          31,
          26,
          25,
          23,
          15,
          25,
          45,
          18,
          23,
          42,
          31,
          30,
          21,
          13,
          29,
          55,
          30,
          26,
          58,
          61,
          26,
          53,
          35,
          25,
          48,
          59,
          26,
          36,
          20,
          39,
          22,
          25,
          54,
          30,
          42,
          53,
          13,
          0,
          38,
          46,
          61,
          31,
          35,
          38,
          34,
          48,
          32,
          39,
          45,
          36,
          24,
          25,
          40,
          29,
          18,
          30,
          28,
          34,
          44,
          21,
          33,
          25,
          64,
          17,
          34,
          26,
          46,
          26,
          30,
          25,
          23,
          46,
          46,
          20,
          0,
          19,
          30,
          57,
          39,
          58,
          35,
          53,
          53,
          40,
          62,
          27,
          66,
          49,
          36,
          41,
          40,
          26,
          14,
          38,
          34,
          28,
          34,
          29,
          25,
          38,
          32,
          42,
          33,
          41,
          27,
          26,
          26,
          31,
          46,
          44,
          23,
          39,
          34,
          35,
          25,
          42,
          47,
          41,
          31,
          52,
          18,
          29,
          58,
          26,
          48,
          20,
          56,
          39,
          44,
          36,
          40,
          26,
          27,
          23,
          35,
          37,
          30,
          25,
          29,
          39,
          41,
          31,
          28,
          33,
          25,
          55,
          31
         ],
         "y0": " ",
         "yaxis": "y"
        }
       ],
       "layout": {
        "boxmode": "group",
        "legend": {
         "tracegroupgap": 0
        },
        "margin": {
         "t": 60
        },
        "template": {
         "data": {
          "bar": [
           {
            "error_x": {
             "color": "#2a3f5f"
            },
            "error_y": {
             "color": "#2a3f5f"
            },
            "marker": {
             "line": {
              "color": "#E5ECF6",
              "width": 0.5
             },
             "pattern": {
              "fillmode": "overlay",
              "size": 10,
              "solidity": 0.2
             }
            },
            "type": "bar"
           }
          ],
          "barpolar": [
           {
            "marker": {
             "line": {
              "color": "#E5ECF6",
              "width": 0.5
             },
             "pattern": {
              "fillmode": "overlay",
              "size": 10,
              "solidity": 0.2
             }
            },
            "type": "barpolar"
           }
          ],
          "carpet": [
           {
            "aaxis": {
             "endlinecolor": "#2a3f5f",
             "gridcolor": "white",
             "linecolor": "white",
             "minorgridcolor": "white",
             "startlinecolor": "#2a3f5f"
            },
            "baxis": {
             "endlinecolor": "#2a3f5f",
             "gridcolor": "white",
             "linecolor": "white",
             "minorgridcolor": "white",
             "startlinecolor": "#2a3f5f"
            },
            "type": "carpet"
           }
          ],
          "choropleth": [
           {
            "colorbar": {
             "outlinewidth": 0,
             "ticks": ""
            },
            "type": "choropleth"
           }
          ],
          "contour": [
           {
            "colorbar": {
             "outlinewidth": 0,
             "ticks": ""
            },
            "colorscale": [
             [
              0,
              "#0d0887"
             ],
             [
              0.1111111111111111,
              "#46039f"
             ],
             [
              0.2222222222222222,
              "#7201a8"
             ],
             [
              0.3333333333333333,
              "#9c179e"
             ],
             [
              0.4444444444444444,
              "#bd3786"
             ],
             [
              0.5555555555555556,
              "#d8576b"
             ],
             [
              0.6666666666666666,
              "#ed7953"
             ],
             [
              0.7777777777777778,
              "#fb9f3a"
             ],
             [
              0.8888888888888888,
              "#fdca26"
             ],
             [
              1,
              "#f0f921"
             ]
            ],
            "type": "contour"
           }
          ],
          "contourcarpet": [
           {
            "colorbar": {
             "outlinewidth": 0,
             "ticks": ""
            },
            "type": "contourcarpet"
           }
          ],
          "heatmap": [
           {
            "colorbar": {
             "outlinewidth": 0,
             "ticks": ""
            },
            "colorscale": [
             [
              0,
              "#0d0887"
             ],
             [
              0.1111111111111111,
              "#46039f"
             ],
             [
              0.2222222222222222,
              "#7201a8"
             ],
             [
              0.3333333333333333,
              "#9c179e"
             ],
             [
              0.4444444444444444,
              "#bd3786"
             ],
             [
              0.5555555555555556,
              "#d8576b"
             ],
             [
              0.6666666666666666,
              "#ed7953"
             ],
             [
              0.7777777777777778,
              "#fb9f3a"
             ],
             [
              0.8888888888888888,
              "#fdca26"
             ],
             [
              1,
              "#f0f921"
             ]
            ],
            "type": "heatmap"
           }
          ],
          "heatmapgl": [
           {
            "colorbar": {
             "outlinewidth": 0,
             "ticks": ""
            },
            "colorscale": [
             [
              0,
              "#0d0887"
             ],
             [
              0.1111111111111111,
              "#46039f"
             ],
             [
              0.2222222222222222,
              "#7201a8"
             ],
             [
              0.3333333333333333,
              "#9c179e"
             ],
             [
              0.4444444444444444,
              "#bd3786"
             ],
             [
              0.5555555555555556,
              "#d8576b"
             ],
             [
              0.6666666666666666,
              "#ed7953"
             ],
             [
              0.7777777777777778,
              "#fb9f3a"
             ],
             [
              0.8888888888888888,
              "#fdca26"
             ],
             [
              1,
              "#f0f921"
             ]
            ],
            "type": "heatmapgl"
           }
          ],
          "histogram": [
           {
            "marker": {
             "pattern": {
              "fillmode": "overlay",
              "size": 10,
              "solidity": 0.2
             }
            },
            "type": "histogram"
           }
          ],
          "histogram2d": [
           {
            "colorbar": {
             "outlinewidth": 0,
             "ticks": ""
            },
            "colorscale": [
             [
              0,
              "#0d0887"
             ],
             [
              0.1111111111111111,
              "#46039f"
             ],
             [
              0.2222222222222222,
              "#7201a8"
             ],
             [
              0.3333333333333333,
              "#9c179e"
             ],
             [
              0.4444444444444444,
              "#bd3786"
             ],
             [
              0.5555555555555556,
              "#d8576b"
             ],
             [
              0.6666666666666666,
              "#ed7953"
             ],
             [
              0.7777777777777778,
              "#fb9f3a"
             ],
             [
              0.8888888888888888,
              "#fdca26"
             ],
             [
              1,
              "#f0f921"
             ]
            ],
            "type": "histogram2d"
           }
          ],
          "histogram2dcontour": [
           {
            "colorbar": {
             "outlinewidth": 0,
             "ticks": ""
            },
            "colorscale": [
             [
              0,
              "#0d0887"
             ],
             [
              0.1111111111111111,
              "#46039f"
             ],
             [
              0.2222222222222222,
              "#7201a8"
             ],
             [
              0.3333333333333333,
              "#9c179e"
             ],
             [
              0.4444444444444444,
              "#bd3786"
             ],
             [
              0.5555555555555556,
              "#d8576b"
             ],
             [
              0.6666666666666666,
              "#ed7953"
             ],
             [
              0.7777777777777778,
              "#fb9f3a"
             ],
             [
              0.8888888888888888,
              "#fdca26"
             ],
             [
              1,
              "#f0f921"
             ]
            ],
            "type": "histogram2dcontour"
           }
          ],
          "mesh3d": [
           {
            "colorbar": {
             "outlinewidth": 0,
             "ticks": ""
            },
            "type": "mesh3d"
           }
          ],
          "parcoords": [
           {
            "line": {
             "colorbar": {
              "outlinewidth": 0,
              "ticks": ""
             }
            },
            "type": "parcoords"
           }
          ],
          "pie": [
           {
            "automargin": true,
            "type": "pie"
           }
          ],
          "scatter": [
           {
            "fillpattern": {
             "fillmode": "overlay",
             "size": 10,
             "solidity": 0.2
            },
            "type": "scatter"
           }
          ],
          "scatter3d": [
           {
            "line": {
             "colorbar": {
              "outlinewidth": 0,
              "ticks": ""
             }
            },
            "marker": {
             "colorbar": {
              "outlinewidth": 0,
              "ticks": ""
             }
            },
            "type": "scatter3d"
           }
          ],
          "scattercarpet": [
           {
            "marker": {
             "colorbar": {
              "outlinewidth": 0,
              "ticks": ""
             }
            },
            "type": "scattercarpet"
           }
          ],
          "scattergeo": [
           {
            "marker": {
             "colorbar": {
              "outlinewidth": 0,
              "ticks": ""
             }
            },
            "type": "scattergeo"
           }
          ],
          "scattergl": [
           {
            "marker": {
             "colorbar": {
              "outlinewidth": 0,
              "ticks": ""
             }
            },
            "type": "scattergl"
           }
          ],
          "scattermapbox": [
           {
            "marker": {
             "colorbar": {
              "outlinewidth": 0,
              "ticks": ""
             }
            },
            "type": "scattermapbox"
           }
          ],
          "scatterpolar": [
           {
            "marker": {
             "colorbar": {
              "outlinewidth": 0,
              "ticks": ""
             }
            },
            "type": "scatterpolar"
           }
          ],
          "scatterpolargl": [
           {
            "marker": {
             "colorbar": {
              "outlinewidth": 0,
              "ticks": ""
             }
            },
            "type": "scatterpolargl"
           }
          ],
          "scatterternary": [
           {
            "marker": {
             "colorbar": {
              "outlinewidth": 0,
              "ticks": ""
             }
            },
            "type": "scatterternary"
           }
          ],
          "surface": [
           {
            "colorbar": {
             "outlinewidth": 0,
             "ticks": ""
            },
            "colorscale": [
             [
              0,
              "#0d0887"
             ],
             [
              0.1111111111111111,
              "#46039f"
             ],
             [
              0.2222222222222222,
              "#7201a8"
             ],
             [
              0.3333333333333333,
              "#9c179e"
             ],
             [
              0.4444444444444444,
              "#bd3786"
             ],
             [
              0.5555555555555556,
              "#d8576b"
             ],
             [
              0.6666666666666666,
              "#ed7953"
             ],
             [
              0.7777777777777778,
              "#fb9f3a"
             ],
             [
              0.8888888888888888,
              "#fdca26"
             ],
             [
              1,
              "#f0f921"
             ]
            ],
            "type": "surface"
           }
          ],
          "table": [
           {
            "cells": {
             "fill": {
              "color": "#EBF0F8"
             },
             "line": {
              "color": "white"
             }
            },
            "header": {
             "fill": {
              "color": "#C8D4E3"
             },
             "line": {
              "color": "white"
             }
            },
            "type": "table"
           }
          ]
         },
         "layout": {
          "annotationdefaults": {
           "arrowcolor": "#2a3f5f",
           "arrowhead": 0,
           "arrowwidth": 1
          },
          "autotypenumbers": "strict",
          "coloraxis": {
           "colorbar": {
            "outlinewidth": 0,
            "ticks": ""
           }
          },
          "colorscale": {
           "diverging": [
            [
             0,
             "#8e0152"
            ],
            [
             0.1,
             "#c51b7d"
            ],
            [
             0.2,
             "#de77ae"
            ],
            [
             0.3,
             "#f1b6da"
            ],
            [
             0.4,
             "#fde0ef"
            ],
            [
             0.5,
             "#f7f7f7"
            ],
            [
             0.6,
             "#e6f5d0"
            ],
            [
             0.7,
             "#b8e186"
            ],
            [
             0.8,
             "#7fbc41"
            ],
            [
             0.9,
             "#4d9221"
            ],
            [
             1,
             "#276419"
            ]
           ],
           "sequential": [
            [
             0,
             "#0d0887"
            ],
            [
             0.1111111111111111,
             "#46039f"
            ],
            [
             0.2222222222222222,
             "#7201a8"
            ],
            [
             0.3333333333333333,
             "#9c179e"
            ],
            [
             0.4444444444444444,
             "#bd3786"
            ],
            [
             0.5555555555555556,
             "#d8576b"
            ],
            [
             0.6666666666666666,
             "#ed7953"
            ],
            [
             0.7777777777777778,
             "#fb9f3a"
            ],
            [
             0.8888888888888888,
             "#fdca26"
            ],
            [
             1,
             "#f0f921"
            ]
           ],
           "sequentialminus": [
            [
             0,
             "#0d0887"
            ],
            [
             0.1111111111111111,
             "#46039f"
            ],
            [
             0.2222222222222222,
             "#7201a8"
            ],
            [
             0.3333333333333333,
             "#9c179e"
            ],
            [
             0.4444444444444444,
             "#bd3786"
            ],
            [
             0.5555555555555556,
             "#d8576b"
            ],
            [
             0.6666666666666666,
             "#ed7953"
            ],
            [
             0.7777777777777778,
             "#fb9f3a"
            ],
            [
             0.8888888888888888,
             "#fdca26"
            ],
            [
             1,
             "#f0f921"
            ]
           ]
          },
          "colorway": [
           "#636efa",
           "#EF553B",
           "#00cc96",
           "#ab63fa",
           "#FFA15A",
           "#19d3f3",
           "#FF6692",
           "#B6E880",
           "#FF97FF",
           "#FECB52"
          ],
          "font": {
           "color": "#2a3f5f"
          },
          "geo": {
           "bgcolor": "white",
           "lakecolor": "white",
           "landcolor": "#E5ECF6",
           "showlakes": true,
           "showland": true,
           "subunitcolor": "white"
          },
          "hoverlabel": {
           "align": "left"
          },
          "hovermode": "closest",
          "mapbox": {
           "style": "light"
          },
          "paper_bgcolor": "white",
          "plot_bgcolor": "#E5ECF6",
          "polar": {
           "angularaxis": {
            "gridcolor": "white",
            "linecolor": "white",
            "ticks": ""
           },
           "bgcolor": "#E5ECF6",
           "radialaxis": {
            "gridcolor": "white",
            "linecolor": "white",
            "ticks": ""
           }
          },
          "scene": {
           "xaxis": {
            "backgroundcolor": "#E5ECF6",
            "gridcolor": "white",
            "gridwidth": 2,
            "linecolor": "white",
            "showbackground": true,
            "ticks": "",
            "zerolinecolor": "white"
           },
           "yaxis": {
            "backgroundcolor": "#E5ECF6",
            "gridcolor": "white",
            "gridwidth": 2,
            "linecolor": "white",
            "showbackground": true,
            "ticks": "",
            "zerolinecolor": "white"
           },
           "zaxis": {
            "backgroundcolor": "#E5ECF6",
            "gridcolor": "white",
            "gridwidth": 2,
            "linecolor": "white",
            "showbackground": true,
            "ticks": "",
            "zerolinecolor": "white"
           }
          },
          "shapedefaults": {
           "line": {
            "color": "#2a3f5f"
           }
          },
          "ternary": {
           "aaxis": {
            "gridcolor": "white",
            "linecolor": "white",
            "ticks": ""
           },
           "baxis": {
            "gridcolor": "white",
            "linecolor": "white",
            "ticks": ""
           },
           "bgcolor": "#E5ECF6",
           "caxis": {
            "gridcolor": "white",
            "linecolor": "white",
            "ticks": ""
           }
          },
          "title": {
           "x": 0.05
          },
          "xaxis": {
           "automargin": true,
           "gridcolor": "white",
           "linecolor": "white",
           "ticks": "",
           "title": {
            "standoff": 15
           },
           "zerolinecolor": "white",
           "zerolinewidth": 2
          },
          "yaxis": {
           "automargin": true,
           "gridcolor": "white",
           "linecolor": "white",
           "ticks": "",
           "title": {
            "standoff": 15
           },
           "zerolinecolor": "white",
           "zerolinewidth": 2
          }
         }
        },
        "title": {
         "text": "Boxplot de Escolaridade do Pai em relação à Nota Geral",
         "x": 0.5,
         "y": 0.95
        },
        "xaxis": {
         "anchor": "y",
         "categoryarray": [
          "Nenhuma escolaridade",
          "Ensino fundamental",
          "Ensino médio",
          "Ensino superior",
          "Pós-graduação"
         ],
         "categoryorder": "array",
         "domain": [
          0,
          1
         ],
         "title": {
          "text": "Escolaridade do Pai"
         }
        },
        "yaxis": {
         "anchor": "x",
         "domain": [
          0,
          1
         ],
         "title": {
          "text": "Nota Geral"
         }
        }
       }
      }
     },
     "metadata": {},
     "output_type": "display_data"
    }
   ],
   "source": [
    "categorias = {\n",
    "    'A': 'Nenhuma escolaridade',\n",
    "    'B': 'Ensino fundamental',\n",
    "    'C': 'Ensino fundamental',\n",
    "    'D': 'Ensino médio',\n",
    "    'E': 'Ensino superior',\n",
    "    'F': 'Pós-graduação'\n",
    "}\n",
    "\n",
    "ordem_categorias = {'Nenhuma escolaridade': 1, 'Ensino fundamental': 2, \n",
    "                    'Ensino médio': 3, 'Ensino superior': 4, 'Pós-graduação': 5}\n",
    "\n",
    "dados_explorados['Nota_geral'] = pd.to_numeric(dados_explorados['Nota_geral'], errors='coerce')\n",
    "dados_explorados = dados_explorados.dropna(subset=['Nota_geral'])\n",
    "\n",
    "dados_explorados['Categoria'] = dados_explorados['Escolaridade_pai'].map(categorias)\n",
    "\n",
    "medianas = dados_explorados.groupby('Categoria')['Nota_geral'].median().reset_index()\n",
    "\n",
    "medianas['ordem_categoria'] = medianas['Categoria'].map(ordem_categorias)\n",
    "medianas = medianas.sort_values(by='ordem_categoria')\n",
    "\n",
    "fig = px.box(dados_explorados, x='Categoria', y='Nota_geral', \n",
    "             labels={'Categoria': 'Escolaridade do Pai', 'Nota_geral': 'Nota Geral'},\n",
    "             category_orders={\"Categoria\": medianas['Categoria']})\n",
    "fig.update_layout(title='Boxplot de Escolaridade do Pai em relação à Nota Geral', title_x=0.5, title_y=0.95)\n",
    "fig.show()"
   ]
  }
 ],
 "metadata": {
  "kernelspec": {
   "display_name": "Python 3",
   "language": "python",
   "name": "python3"
  },
  "language_info": {
   "codemirror_mode": {
    "name": "ipython",
    "version": 3
   },
   "file_extension": ".py",
   "mimetype": "text/x-python",
   "name": "python",
   "nbconvert_exporter": "python",
   "pygments_lexer": "ipython3",
   "version": "3.12.0"
  }
 },
 "nbformat": 4,
 "nbformat_minor": 2
}
