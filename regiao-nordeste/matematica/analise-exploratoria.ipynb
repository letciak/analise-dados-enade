{
 "cells": [
  {
   "cell_type": "code",
   "execution_count": null,
   "metadata": {},
   "outputs": [],
   "source": [
    "import pandas as pd\n",
    "import plotly.express as px"
   ]
  },
  {
   "cell_type": "code",
   "execution_count": null,
   "metadata": {},
   "outputs": [],
   "source": [
    "regiao_nordeste_mat = pd.read_csv('regiao-nordeste-mat.csv', sep=',')\n",
    "\n",
    "print(regiao_nordeste_mat)"
   ]
  },
  {
   "cell_type": "code",
   "execution_count": null,
   "metadata": {},
   "outputs": [],
   "source": [
    "valores_nulos = regiao_nordeste_mat.isnull()\n",
    "contagem = valores_nulos.sum()\n",
    "\n",
    "print(contagem)"
   ]
  },
  {
   "cell_type": "code",
   "execution_count": null,
   "metadata": {},
   "outputs": [],
   "source": [
    "regiao_nordeste_mat.dropna(inplace=True)"
   ]
  },
  {
   "cell_type": "code",
   "execution_count": null,
   "metadata": {},
   "outputs": [],
   "source": [
    "filtro = ['Nota_geral', 'Renda', 'Escolaridade_mae', 'Escolaridade_pai']\n",
    "dados_explorados = regiao_nordeste_mat[filtro]\n",
    "\n",
    "print(dados_explorados)"
   ]
  },
  {
   "cell_type": "code",
   "execution_count": null,
   "metadata": {},
   "outputs": [],
   "source": [
    "categorias = {\n",
    "    'A': 'Renda baixa',\n",
    "    'B': 'Média baixa',\n",
    "    'C': 'Média alta',\n",
    "    'D': 'Média alta',\n",
    "    'E': 'Renda alta',\n",
    "    'F': 'Renda alta',\n",
    "    'G': 'Renda alta'\n",
    "}\n",
    "\n",
    "#definindo a ordem correta das categorias\n",
    "ordem_categorias = {'Renda baixa': 1, 'Média baixa': 2, 'Média alta': 3, 'Renda alta': 4}\n",
    "dados_explorados['Categoria'] = dados_explorados['Renda'].map(categorias)\n",
    "\n",
    "#adicionando uma coluna de ordenação com base na ordem das categorias\n",
    "dados_explorados['ordem_categoria'] = dados_explorados['Categoria'].map(ordem_categorias)\n",
    "\n",
    "dados_explorados = dados_explorados.sort_values(by=['ordem_categoria', 'Nota_geral'])\n",
    "\n",
    "fig = px.box(dados_explorados, x='Categoria', y='Nota_geral', \n",
    "             labels={'Categoria': 'Renda', 'Nota_geral': 'Nota Geral'})\n",
    "fig.update_layout(title='Boxplot de Renda em relação à Nota Geral', title_x=0.5, title_y=0.95)\n",
    "fig.show()"
   ]
  },
  {
   "cell_type": "code",
   "execution_count": null,
   "metadata": {},
   "outputs": [],
   "source": [
    "categorias = {\n",
    "    'A': 'Nenhuma escolaridade',\n",
    "    'B': 'Ensino fundamental',\n",
    "    'C': 'Ensino fundamental',\n",
    "    'D': 'Ensino médio',\n",
    "    'E': 'Ensino superior',\n",
    "    'F': 'Pós-graduação'\n",
    "}\n",
    "\n",
    "ordem_categorias = {'Nenhuma escolaridade': 1, 'Ensino fundamental': 2, \n",
    "                    'Ensino médio': 3, 'Ensino superior': 4, 'Pós-graduação': 5}\n",
    "\n",
    "dados_explorados['Categoria'] = dados_explorados['Escolaridade_mae'].map(categorias)\n",
    "\n",
    "dados_explorados['ordem_categoria'] = dados_explorados['Categoria'].map(ordem_categorias)\n",
    "\n",
    "dados_explorados = dados_explorados.sort_values(by=['ordem_categoria', 'Nota_geral'])\n",
    "\n",
    "fig = px.box(dados_explorados, x='Categoria', y='Nota_geral', \n",
    "             labels={'Categoria': 'Escolaridade da Mãe', 'Nota_geral': 'Nota Geral'})\n",
    "fig.update_layout(title='Boxplot de Escolaridade da Mãe em relação à Nota Geral', title_x=0.5, title_y=0.95)\n",
    "fig.show()"
   ]
  },
  {
   "cell_type": "code",
   "execution_count": null,
   "metadata": {},
   "outputs": [],
   "source": [
    "categorias = {\n",
    "    'A': 'Nenhuma escolaridade',\n",
    "    'B': 'Ensino fundamental',\n",
    "    'C': 'Ensino fundamental',\n",
    "    'D': 'Ensino médio',\n",
    "    'E': 'Ensino superior',\n",
    "    'F': 'Pós-graduação'\n",
    "}\n",
    "\n",
    "ordem_categorias = {'Nenhuma escolaridade': 1, 'Ensino fundamental': 2, \n",
    "                    'Ensino médio': 3, 'Ensino superior': 4, 'Pós-graduação': 5}\n",
    "\n",
    "dados_explorados['Categoria'] = dados_explorados['Escolaridade_pai'].map(categorias)\n",
    "\n",
    "dados_explorados['ordem_categoria'] = dados_explorados['Categoria'].map(ordem_categorias)\n",
    "\n",
    "dados_explorados = dados_explorados.sort_values(by=['ordem_categoria', 'Nota_geral'])\n",
    "\n",
    "fig = px.box(dados_explorados, x='Categoria', y='Nota_geral', \n",
    "             labels={'Categoria': 'Escolaridade do Pai', 'Nota_geral': 'Nota Geral'})\n",
    "fig.update_layout(title='Boxplot de Escolaridade do Pai em relação à Nota Geral', title_x=0.5, title_y=0.95)\n",
    "fig.show()"
   ]
  }
 ],
 "metadata": {
  "kernelspec": {
   "display_name": "Python 3",
   "language": "python",
   "name": "python3"
  },
  "language_info": {
   "codemirror_mode": {
    "name": "ipython",
    "version": 3
   },
   "file_extension": ".py",
   "mimetype": "text/x-python",
   "name": "python",
   "nbconvert_exporter": "python",
   "pygments_lexer": "ipython3",
   "version": "3.12.0"
  }
 },
 "nbformat": 4,
 "nbformat_minor": 2
}
