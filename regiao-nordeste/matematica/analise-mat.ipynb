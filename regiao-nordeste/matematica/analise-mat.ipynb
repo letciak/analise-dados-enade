{
 "cells": [
  {
   "cell_type": "code",
   "execution_count": 16,
   "metadata": {},
   "outputs": [],
   "source": [
    "import pandas as pd\n",
    "import numpy as np\n",
    "import matplotlib as plt"
   ]
  },
  {
   "cell_type": "code",
   "execution_count": 17,
   "metadata": {},
   "outputs": [
    {
     "name": "stdout",
     "output_type": "stream",
     "text": [
      "      Cod_curso  Cod_grupo_curso  Cod_regiao_curso Nota_geral  \\\n",
      "0           297              702                 2       31,4   \n",
      "1           297              702                 2       36,8   \n",
      "2           297              702                 2       44,7   \n",
      "3           297              702                 2        NaN   \n",
      "4           297              702                 2       39,1   \n",
      "...         ...              ...               ...        ...   \n",
      "3857      58526              702                 2        NaN   \n",
      "3858      58526              702                 2        NaN   \n",
      "3859      58526              702                 2        NaN   \n",
      "3860      58526              702                 2        NaN   \n",
      "3861    1111510              702                 2        NaN   \n",
      "\n",
      "     Escolaridade_pai Escolaridade_mae Renda Tipo_escola Horas_estudos  \n",
      "0                   B                D     A           A             C  \n",
      "1                   C                F     B           A             C  \n",
      "2                   C                B     A           A             C  \n",
      "3                 NaN              NaN   NaN         NaN           NaN  \n",
      "4                   D                C     A           A             D  \n",
      "...               ...              ...   ...         ...           ...  \n",
      "3857              NaN              NaN   NaN         NaN           NaN  \n",
      "3858              NaN              NaN   NaN         NaN           NaN  \n",
      "3859              NaN              NaN   NaN         NaN           NaN  \n",
      "3860              NaN              NaN   NaN         NaN           NaN  \n",
      "3861                C                D     A           A             E  \n",
      "\n",
      "[3862 rows x 9 columns]\n"
     ]
    }
   ],
   "source": [
    "regiao_nordeste_mat = pd.read_csv('regiao-nordeste-mat.csv', sep=',')\n",
    "\n",
    "print(regiao_nordeste_mat)"
   ]
  },
  {
   "cell_type": "code",
   "execution_count": 18,
   "metadata": {},
   "outputs": [
    {
     "name": "stdout",
     "output_type": "stream",
     "text": [
      "Cod_curso             0\n",
      "Cod_grupo_curso       0\n",
      "Cod_regiao_curso      0\n",
      "Nota_geral          662\n",
      "Escolaridade_pai    591\n",
      "Escolaridade_mae    591\n",
      "Renda               591\n",
      "Tipo_escola         591\n",
      "Horas_estudos       591\n",
      "dtype: int64\n"
     ]
    }
   ],
   "source": [
    "valores_nulos = regiao_nordeste_mat.isnull()\n",
    "contagem = valores_nulos.sum()\n",
    "\n",
    "print(contagem)"
   ]
  },
  {
   "cell_type": "code",
   "execution_count": 19,
   "metadata": {},
   "outputs": [],
   "source": [
    "regiao_nordeste_mat.dropna(inplace=True)"
   ]
  },
  {
   "cell_type": "code",
   "execution_count": 20,
   "metadata": {},
   "outputs": [
    {
     "name": "stdout",
     "output_type": "stream",
     "text": [
      "Escolaridade_pai\n",
      "A    31.937500\n",
      "B    36.747967\n",
      "C    35.183673\n",
      "D    37.824561\n",
      "E    45.666667\n",
      "F    42.333333\n",
      "Name: Nota_geral, dtype: float64\n"
     ]
    }
   ],
   "source": [
    "regiao_nordeste_mat['Nota_geral'] = pd.to_numeric(regiao_nordeste_mat['Nota_geral'], errors='coerce')\n",
    "\n",
    "def calcular_media_nota_geral_por_resposta(dataframe):\n",
    "    media_por_resposta = dataframe.groupby('Escolaridade_pai')['Nota_geral'].mean()\n",
    "    \n",
    "    return media_por_resposta\n",
    "\n",
    "media_nota_geral_por_resposta = calcular_media_nota_geral_por_resposta(regiao_nordeste_mat)\n",
    "print(media_nota_geral_por_resposta)"
   ]
  },
  {
   "cell_type": "code",
   "execution_count": 21,
   "metadata": {},
   "outputs": [
    {
     "name": "stdout",
     "output_type": "stream",
     "text": [
      "Escolaridade_pai  Media_Nota_Geral  Desvio_Padrao_Nota_Geral  Coeficiente_Variacao_Nota_Geral\n",
      "               A         31.937500                 13.062578                         0.409004\n",
      "               B         36.747967                 11.033922                         0.300259\n",
      "               C         35.183673                 12.459390                         0.354124\n",
      "               D         37.824561                 17.152804                         0.453483\n",
      "               E         45.666667                 15.304747                         0.335140\n",
      "               F         42.333333                  4.932883                         0.116525\n"
     ]
    }
   ],
   "source": [
    "grupo_escolaridade = regiao_nordeste_mat.groupby('Escolaridade_pai')\n",
    "\n",
    "estatisticas_por_escolaridade = grupo_escolaridade['Nota_geral'].agg(['mean', 'std', 'var'])\n",
    "\n",
    "estatisticas_por_escolaridade['Coeficiente_Variacao_Nota_Geral'] = (estatisticas_por_escolaridade['std'] / estatisticas_por_escolaridade['mean']) \n",
    "\n",
    "estatisticas_por_escolaridade.columns = ['Media_Nota_Geral', 'Desvio_Padrao_Nota_Geral', 'Variancia_Nota_Geral', 'Coeficiente_Variacao_Nota_Geral']\n",
    "\n",
    "estatisticas_por_escolaridade['Escolaridade_pai'] = estatisticas_por_escolaridade.index\n",
    "resultado_final = estatisticas_por_escolaridade[['Escolaridade_pai', 'Media_Nota_Geral', 'Desvio_Padrao_Nota_Geral', 'Coeficiente_Variacao_Nota_Geral']]\n",
    "\n",
    "\n",
    "print(resultado_final.to_string(index=False))"
   ]
  },
  {
   "cell_type": "code",
   "execution_count": 22,
   "metadata": {},
   "outputs": [
    {
     "name": "stdout",
     "output_type": "stream",
     "text": [
      "Escolaridade_mae\n",
      "A    30.923077\n",
      "B    34.929204\n",
      "C    37.549020\n",
      "D    37.581395\n",
      "E    37.642857\n",
      "F    44.100000\n",
      "Name: Nota_geral, dtype: float64\n"
     ]
    }
   ],
   "source": [
    "def calcular_media_nota_geral_por_resposta(dataframe):\n",
    "    media_por_resposta = dataframe.groupby('Escolaridade_mae')['Nota_geral'].mean()\n",
    "    \n",
    "    return media_por_resposta\n",
    "\n",
    "media_nota_geral_por_resposta = calcular_media_nota_geral_por_resposta(regiao_nordeste_mat)\n",
    "print(media_nota_geral_por_resposta)"
   ]
  },
  {
   "cell_type": "code",
   "execution_count": 23,
   "metadata": {},
   "outputs": [
    {
     "name": "stdout",
     "output_type": "stream",
     "text": [
      "Escolaridade_mae  Media_Nota_Geral  Desvio_Padrao_Nota_Geral  Coeficiente_Variacao_Nota_Geral\n",
      "               A         30.923077                 12.247197                         0.396054\n",
      "               B         34.929204                 12.999119                         0.372156\n",
      "               C         37.549020                 11.691559                         0.311368\n",
      "               D         37.581395                 14.847036                         0.395063\n",
      "               E         37.642857                 12.031484                         0.319622\n",
      "               F         44.100000                 17.278439                         0.391801\n"
     ]
    }
   ],
   "source": [
    "grupo_escolaridade = regiao_nordeste_mat.groupby('Escolaridade_mae')\n",
    "\n",
    "estatisticas_por_escolaridade = grupo_escolaridade['Nota_geral'].agg(['mean', 'std', 'var'])\n",
    "\n",
    "estatisticas_por_escolaridade['Coeficiente_Variacao_Nota_Geral'] = (estatisticas_por_escolaridade['std'] / estatisticas_por_escolaridade['mean']) \n",
    "\n",
    "estatisticas_por_escolaridade.columns = ['Media_Nota_Geral', 'Desvio_Padrao_Nota_Geral', 'Variancia_Nota_Geral', 'Coeficiente_Variacao_Nota_Geral']\n",
    "\n",
    "estatisticas_por_escolaridade['Escolaridade_mae'] = estatisticas_por_escolaridade.index\n",
    "resultado_final = estatisticas_por_escolaridade[['Escolaridade_mae', 'Media_Nota_Geral', 'Desvio_Padrao_Nota_Geral', 'Coeficiente_Variacao_Nota_Geral']]\n",
    "\n",
    "\n",
    "print(resultado_final.to_string(index=False))"
   ]
  },
  {
   "cell_type": "code",
   "execution_count": 24,
   "metadata": {},
   "outputs": [
    {
     "name": "stdout",
     "output_type": "stream",
     "text": [
      "Renda\n",
      "A    33.853846\n",
      "B    37.162602\n",
      "C    39.529412\n",
      "D    37.461538\n",
      "E    42.416667\n",
      "F    40.500000\n",
      "Name: Nota_geral, dtype: float64\n"
     ]
    }
   ],
   "source": [
    "def calcular_media_nota_geral_por_resposta(dataframe):\n",
    "    media_por_resposta = dataframe.groupby('Renda')['Nota_geral'].mean()\n",
    "    \n",
    "    return media_por_resposta\n",
    "\n",
    "media_nota_geral_por_resposta = calcular_media_nota_geral_por_resposta(regiao_nordeste_mat)\n",
    "print(media_nota_geral_por_resposta)"
   ]
  },
  {
   "cell_type": "code",
   "execution_count": 25,
   "metadata": {},
   "outputs": [
    {
     "name": "stdout",
     "output_type": "stream",
     "text": [
      "Renda  Media_Nota_Geral  Desvio_Padrao_Nota_Geral  Coeficiente_Variacao_Nota_Geral\n",
      "    A         33.853846                 13.195085                         0.389766\n",
      "    B         37.162602                 12.155667                         0.327094\n",
      "    C         39.529412                 12.863468                         0.325415\n",
      "    D         37.461538                 17.400265                         0.464483\n",
      "    E         42.416667                 22.030798                         0.519390\n",
      "    F         40.500000                  6.363961                         0.157135\n"
     ]
    }
   ],
   "source": [
    "grupo_escolaridade = regiao_nordeste_mat.groupby('Renda')\n",
    "\n",
    "estatisticas_por_escolaridade = grupo_escolaridade['Nota_geral'].agg(['mean', 'std', 'var'])\n",
    "\n",
    "estatisticas_por_escolaridade['Coeficiente_Variacao_Nota_Geral'] = (estatisticas_por_escolaridade['std'] / estatisticas_por_escolaridade['mean']) \n",
    "\n",
    "estatisticas_por_escolaridade.columns = ['Media_Nota_Geral', 'Desvio_Padrao_Nota_Geral', 'Variancia_Nota_Geral', 'Coeficiente_Variacao_Nota_Geral']\n",
    "\n",
    "estatisticas_por_escolaridade['Renda'] = estatisticas_por_escolaridade.index\n",
    "resultado_final = estatisticas_por_escolaridade[['Renda', 'Media_Nota_Geral', 'Desvio_Padrao_Nota_Geral', 'Coeficiente_Variacao_Nota_Geral']]\n",
    "\n",
    "\n",
    "print(resultado_final.to_string(index=False))"
   ]
  },
  {
   "cell_type": "code",
   "execution_count": 26,
   "metadata": {},
   "outputs": [
    {
     "name": "stdout",
     "output_type": "stream",
     "text": [
      "Tipo_escola\n",
      "A    35.700389\n",
      "B    40.431818\n",
      "D    32.571429\n",
      "E    35.166667\n",
      "Name: Nota_geral, dtype: float64\n"
     ]
    }
   ],
   "source": [
    "def calcular_media_nota_geral_por_resposta(dataframe):\n",
    "    media_por_resposta = dataframe.groupby('Tipo_escola')['Nota_geral'].mean()\n",
    "    \n",
    "    return media_por_resposta\n",
    "\n",
    "media_nota_geral_por_resposta = calcular_media_nota_geral_por_resposta(regiao_nordeste_mat)\n",
    "print(media_nota_geral_por_resposta)"
   ]
  },
  {
   "cell_type": "code",
   "execution_count": 27,
   "metadata": {},
   "outputs": [
    {
     "name": "stdout",
     "output_type": "stream",
     "text": [
      "Tipo_escola  Media_Nota_Geral  Desvio_Padrao_Nota_Geral  Coeficiente_Variacao_Nota_Geral\n",
      "          A         35.700389                 13.367394                         0.374433\n",
      "          B         40.431818                 14.721283                         0.364101\n",
      "          D         32.571429                  7.546680                         0.231696\n",
      "          E         35.166667                  8.158840                         0.232005\n"
     ]
    }
   ],
   "source": [
    "grupo_escolaridade = regiao_nordeste_mat.groupby('Tipo_escola')\n",
    "\n",
    "estatisticas_por_escolaridade = grupo_escolaridade['Nota_geral'].agg(['mean', 'std', 'var'])\n",
    "\n",
    "estatisticas_por_escolaridade['Coeficiente_Variacao_Nota_Geral'] = (estatisticas_por_escolaridade['std'] / estatisticas_por_escolaridade['mean']) \n",
    "\n",
    "estatisticas_por_escolaridade.columns = ['Media_Nota_Geral', 'Desvio_Padrao_Nota_Geral', 'Variancia_Nota_Geral', 'Coeficiente_Variacao_Nota_Geral']\n",
    "\n",
    "estatisticas_por_escolaridade['Tipo_escola'] = estatisticas_por_escolaridade.index\n",
    "resultado_final = estatisticas_por_escolaridade[['Tipo_escola', 'Media_Nota_Geral', 'Desvio_Padrao_Nota_Geral', 'Coeficiente_Variacao_Nota_Geral']]\n",
    "\n",
    "\n",
    "print(resultado_final.to_string(index=False))"
   ]
  },
  {
   "cell_type": "code",
   "execution_count": 28,
   "metadata": {},
   "outputs": [
    {
     "name": "stdout",
     "output_type": "stream",
     "text": [
      "Horas_estudos\n",
      "A    30.714286\n",
      "B    35.159091\n",
      "C    36.769231\n",
      "D    38.978723\n",
      "E    38.133333\n",
      "Name: Nota_geral, dtype: float64\n"
     ]
    }
   ],
   "source": [
    "def calcular_media_nota_geral_por_resposta(dataframe):\n",
    "    media_por_resposta = dataframe.groupby('Horas_estudos')['Nota_geral'].mean()\n",
    "    \n",
    "    return media_por_resposta\n",
    "\n",
    "media_nota_geral_por_resposta = calcular_media_nota_geral_por_resposta(regiao_nordeste_mat)\n",
    "print(media_nota_geral_por_resposta)"
   ]
  },
  {
   "cell_type": "code",
   "execution_count": 29,
   "metadata": {},
   "outputs": [
    {
     "name": "stdout",
     "output_type": "stream",
     "text": [
      "Horas_estudos  Media_Nota_Geral  Desvio_Padrao_Nota_Geral  Coeficiente_Variacao_Nota_Geral\n",
      "            A         30.714286                 11.730490                         0.381923\n",
      "            B         35.159091                 14.264582                         0.405715\n",
      "            C         36.769231                 11.797436                         0.320851\n",
      "            D         38.978723                 12.587933                         0.322944\n",
      "            E         38.133333                 15.930308                         0.417753\n"
     ]
    }
   ],
   "source": [
    "grupo_escolaridade = regiao_nordeste_mat.groupby('Horas_estudos')\n",
    "\n",
    "estatisticas_por_escolaridade = grupo_escolaridade['Nota_geral'].agg(['mean', 'std', 'var'])\n",
    "\n",
    "estatisticas_por_escolaridade['Coeficiente_Variacao_Nota_Geral'] = (estatisticas_por_escolaridade['std'] / estatisticas_por_escolaridade['mean']) \n",
    "\n",
    "estatisticas_por_escolaridade.columns = ['Media_Nota_Geral', 'Desvio_Padrao_Nota_Geral', 'Variancia_Nota_Geral', 'Coeficiente_Variacao_Nota_Geral']\n",
    "\n",
    "estatisticas_por_escolaridade['Horas_estudos'] = estatisticas_por_escolaridade.index\n",
    "resultado_final = estatisticas_por_escolaridade[['Horas_estudos', 'Media_Nota_Geral', 'Desvio_Padrao_Nota_Geral', 'Coeficiente_Variacao_Nota_Geral']]\n",
    "\n",
    "\n",
    "print(resultado_final.to_string(index=False))"
   ]
  }
 ],
 "metadata": {
  "kernelspec": {
   "display_name": "Python 3",
   "language": "python",
   "name": "python3"
  },
  "language_info": {
   "codemirror_mode": {
    "name": "ipython",
    "version": 3
   },
   "file_extension": ".py",
   "mimetype": "text/x-python",
   "name": "python",
   "nbconvert_exporter": "python",
   "pygments_lexer": "ipython3",
   "version": "3.12.0"
  }
 },
 "nbformat": 4,
 "nbformat_minor": 2
}
