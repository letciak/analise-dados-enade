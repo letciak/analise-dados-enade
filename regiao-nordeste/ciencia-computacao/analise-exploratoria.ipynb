{
 "cells": [
  {
   "cell_type": "code",
   "execution_count": 1,
   "metadata": {},
   "outputs": [],
   "source": [
    "import pandas as pd\n",
    "import plotly.express as px"
   ]
  },
  {
   "cell_type": "code",
   "execution_count": 2,
   "metadata": {},
   "outputs": [
    {
     "name": "stdout",
     "output_type": "stream",
     "text": [
      "      Cod_curso  Cod_grupo_curso  Cod_regiao_curso Nota_geral  \\\n",
      "0           317             4004                 2       34,4   \n",
      "1           317             4004                 2       39,4   \n",
      "2           317             4004                 2         50   \n",
      "3           317             4004                 2        NaN   \n",
      "4           317             4004                 2       45,3   \n",
      "...         ...              ...               ...        ...   \n",
      "1906    1265453             4004                 2        NaN   \n",
      "1907    1265453             4004                 2        NaN   \n",
      "1908    1265453             4004                 2        NaN   \n",
      "1909    1265453             4004                 2        NaN   \n",
      "1910    1265453             4004                 2        NaN   \n",
      "\n",
      "     Escolaridade_pai Escolaridade_mae Renda Tipo_escola Horas_estudos  \n",
      "0                   E                E     F           B             B  \n",
      "1                   E                E     A           B             E  \n",
      "2                   E                D     D           A             D  \n",
      "3                 NaN              NaN   NaN         NaN           NaN  \n",
      "4                   D                D     C           B             D  \n",
      "...               ...              ...   ...         ...           ...  \n",
      "1906              NaN              NaN   NaN         NaN           NaN  \n",
      "1907              NaN              NaN   NaN         NaN           NaN  \n",
      "1908              NaN              NaN   NaN         NaN           NaN  \n",
      "1909              NaN              NaN   NaN         NaN           NaN  \n",
      "1910                D                D     A           A             B  \n",
      "\n",
      "[1911 rows x 9 columns]\n"
     ]
    }
   ],
   "source": [
    "regiao_nordeste_cc = pd.read_csv('regiao-nordeste-cc.csv', sep=',')\n",
    "\n",
    "print(regiao_nordeste_cc)"
   ]
  },
  {
   "cell_type": "code",
   "execution_count": 3,
   "metadata": {},
   "outputs": [
    {
     "name": "stdout",
     "output_type": "stream",
     "text": [
      "Cod_curso             0\n",
      "Cod_grupo_curso       0\n",
      "Cod_regiao_curso      0\n",
      "Nota_geral          270\n",
      "Escolaridade_pai    228\n",
      "Escolaridade_mae    228\n",
      "Renda               228\n",
      "Tipo_escola         228\n",
      "Horas_estudos       228\n",
      "dtype: int64\n"
     ]
    }
   ],
   "source": [
    "valores_nulos = regiao_nordeste_cc.isnull()\n",
    "contagem = valores_nulos.sum()\n",
    "\n",
    "print(contagem)"
   ]
  },
  {
   "cell_type": "code",
   "execution_count": 4,
   "metadata": {},
   "outputs": [],
   "source": [
    "regiao_nordeste_cc.dropna(inplace=True)"
   ]
  },
  {
   "cell_type": "code",
   "execution_count": 5,
   "metadata": {},
   "outputs": [
    {
     "name": "stdout",
     "output_type": "stream",
     "text": [
      "     Nota_geral Renda Escolaridade_mae Escolaridade_pai\n",
      "0          34,4     F                E                E\n",
      "1          39,4     A                E                E\n",
      "2            50     D                D                E\n",
      "4          45,3     C                D                D\n",
      "5          34,6     A                D                D\n",
      "...         ...   ...              ...              ...\n",
      "1879         52     C                A                D\n",
      "1880         47     E                D                C\n",
      "1881       44,8     A                D                A\n",
      "1882       60,8     B                D                C\n",
      "1883       45,6     B                D                D\n",
      "\n",
      "[1615 rows x 4 columns]\n"
     ]
    }
   ],
   "source": [
    "filtro = ['Nota_geral', 'Renda', 'Escolaridade_mae', 'Escolaridade_pai']\n",
    "dados_explorados = regiao_nordeste_cc[filtro]\n",
    "\n",
    "print(dados_explorados)"
   ]
  },
  {
   "cell_type": "code",
   "execution_count": 9,
   "metadata": {},
   "outputs": [
    {
     "data": {
      "application/vnd.plotly.v1+json": {
       "config": {
        "plotlyServerURL": "https://plot.ly"
       },
       "data": [
        {
         "alignmentgroup": "True",
         "hovertemplate": "Renda=%{x}<br>Nota Geral=%{y}<extra></extra>",
         "legendgroup": "",
         "marker": {
          "color": "#636efa"
         },
         "name": "",
         "notched": false,
         "offsetgroup": "",
         "orientation": "v",
         "showlegend": false,
         "type": "box",
         "x": [
          "Média alta",
          "Média alta",
          "Renda alta",
          "Média baixa",
          "Renda alta",
          "Média baixa",
          "Renda alta",
          "Média baixa",
          "Média alta",
          "Média baixa",
          "Média alta",
          "Renda alta",
          "Média baixa",
          "Média alta",
          "Média alta",
          "Renda baixa",
          "Média alta",
          "Renda alta",
          "Renda baixa",
          "Renda alta",
          "Renda alta",
          "Média alta",
          "Renda alta",
          "Média alta",
          "Renda alta",
          "Renda alta",
          "Renda alta",
          "Renda alta",
          "Média alta",
          "Média alta",
          "Renda baixa",
          "Renda alta",
          "Média alta",
          "Média baixa",
          "Média alta",
          "Média alta",
          "Média alta",
          "Média baixa",
          "Renda baixa",
          "Média baixa",
          "Média baixa",
          "Média baixa",
          "Renda alta",
          "Renda alta",
          "Renda alta",
          "Renda alta",
          "Média baixa",
          "Renda alta",
          "Renda alta",
          "Média baixa",
          "Renda alta",
          "Renda alta",
          "Renda baixa",
          "Média alta",
          "Média alta",
          "Renda baixa",
          "Média alta",
          "Média alta",
          "Média baixa",
          "Renda alta",
          "Renda baixa",
          "Renda alta",
          "Média alta",
          "Renda alta",
          "Renda alta",
          "Renda alta",
          "Renda alta",
          "Renda alta",
          "Renda alta",
          "Renda baixa",
          "Média baixa",
          "Renda alta",
          "Média baixa",
          "Renda baixa",
          "Média baixa",
          "Renda alta",
          "Renda alta",
          "Renda alta",
          "Média alta",
          "Média alta",
          "Média baixa",
          "Renda alta",
          "Média alta",
          "Média alta",
          "Renda alta",
          "Média alta",
          "Média baixa",
          "Média baixa",
          "Média baixa",
          "Média alta",
          "Média baixa",
          "Média baixa",
          "Média alta",
          "Renda alta",
          "Média baixa",
          "Média baixa",
          "Média baixa",
          "Média baixa",
          "Renda baixa",
          "Média alta",
          "Média alta",
          "Renda baixa",
          "Média baixa",
          "Média alta",
          "Renda alta",
          "Renda baixa",
          "Média baixa",
          "Renda alta",
          "Média baixa",
          "Renda alta",
          "Renda alta",
          "Média alta",
          "Renda alta",
          "Média baixa",
          "Renda baixa",
          "Média baixa",
          "Média alta",
          "Média alta",
          "Renda baixa",
          "Média baixa",
          "Renda alta",
          "Média baixa",
          "Média alta",
          "Renda baixa",
          "Média baixa",
          "Renda baixa",
          "Média alta",
          "Média baixa",
          "Média alta",
          "Média baixa",
          "Média alta",
          "Média baixa",
          "Média baixa",
          "Média alta",
          "Renda baixa",
          "Média alta",
          "Renda alta",
          "Média baixa",
          "Renda baixa",
          "Renda baixa",
          "Renda baixa",
          "Média alta",
          "Média baixa",
          "Média alta",
          "Renda alta",
          "Média baixa",
          "Média alta",
          "Média alta",
          "Renda baixa",
          "Média alta",
          "Média alta",
          "Média alta",
          "Média baixa",
          "Renda baixa",
          "Renda baixa",
          "Média alta",
          "Renda baixa",
          "Renda alta",
          "Média baixa",
          "Média baixa",
          "Renda alta",
          "Renda baixa",
          "Média alta",
          "Renda alta"
         ],
         "x0": " ",
         "xaxis": "x",
         "y": [
          50,
          43,
          25,
          44,
          48,
          55,
          41,
          47,
          65,
          20,
          32,
          44,
          40,
          57,
          46,
          34,
          44,
          52,
          50,
          42,
          55,
          35,
          31,
          28,
          37,
          50,
          44,
          44,
          50,
          50,
          59,
          50,
          25,
          41,
          39,
          57,
          54,
          64,
          17,
          58,
          44,
          55,
          71,
          43,
          77,
          69,
          49,
          55,
          58,
          79,
          47,
          80,
          49,
          52,
          58,
          41,
          59,
          65,
          44,
          65,
          61,
          73,
          61,
          78,
          0,
          62,
          38,
          35,
          22,
          43,
          43,
          43,
          35,
          28,
          50,
          47,
          26,
          59,
          36,
          53,
          38,
          57,
          52,
          37,
          46,
          31,
          26,
          35,
          21,
          57,
          41,
          50,
          34,
          53,
          28,
          44,
          39,
          11,
          42,
          53,
          35,
          26,
          25,
          27,
          28,
          20,
          44,
          50,
          45,
          23,
          45,
          37,
          49,
          36,
          25,
          35,
          30,
          24,
          27,
          19,
          72,
          32,
          33,
          29,
          29,
          25,
          28,
          38,
          42,
          20,
          44,
          42,
          45,
          42,
          33,
          38,
          34,
          55,
          36,
          42,
          37,
          28,
          49,
          69,
          55,
          44,
          45,
          0,
          51,
          28,
          43,
          35,
          33,
          54,
          27,
          58,
          55,
          45,
          57,
          54,
          62,
          59,
          52,
          47
         ],
         "y0": " ",
         "yaxis": "y"
        }
       ],
       "layout": {
        "boxmode": "group",
        "legend": {
         "tracegroupgap": 0
        },
        "margin": {
         "t": 60
        },
        "template": {
         "data": {
          "bar": [
           {
            "error_x": {
             "color": "#2a3f5f"
            },
            "error_y": {
             "color": "#2a3f5f"
            },
            "marker": {
             "line": {
              "color": "#E5ECF6",
              "width": 0.5
             },
             "pattern": {
              "fillmode": "overlay",
              "size": 10,
              "solidity": 0.2
             }
            },
            "type": "bar"
           }
          ],
          "barpolar": [
           {
            "marker": {
             "line": {
              "color": "#E5ECF6",
              "width": 0.5
             },
             "pattern": {
              "fillmode": "overlay",
              "size": 10,
              "solidity": 0.2
             }
            },
            "type": "barpolar"
           }
          ],
          "carpet": [
           {
            "aaxis": {
             "endlinecolor": "#2a3f5f",
             "gridcolor": "white",
             "linecolor": "white",
             "minorgridcolor": "white",
             "startlinecolor": "#2a3f5f"
            },
            "baxis": {
             "endlinecolor": "#2a3f5f",
             "gridcolor": "white",
             "linecolor": "white",
             "minorgridcolor": "white",
             "startlinecolor": "#2a3f5f"
            },
            "type": "carpet"
           }
          ],
          "choropleth": [
           {
            "colorbar": {
             "outlinewidth": 0,
             "ticks": ""
            },
            "type": "choropleth"
           }
          ],
          "contour": [
           {
            "colorbar": {
             "outlinewidth": 0,
             "ticks": ""
            },
            "colorscale": [
             [
              0,
              "#0d0887"
             ],
             [
              0.1111111111111111,
              "#46039f"
             ],
             [
              0.2222222222222222,
              "#7201a8"
             ],
             [
              0.3333333333333333,
              "#9c179e"
             ],
             [
              0.4444444444444444,
              "#bd3786"
             ],
             [
              0.5555555555555556,
              "#d8576b"
             ],
             [
              0.6666666666666666,
              "#ed7953"
             ],
             [
              0.7777777777777778,
              "#fb9f3a"
             ],
             [
              0.8888888888888888,
              "#fdca26"
             ],
             [
              1,
              "#f0f921"
             ]
            ],
            "type": "contour"
           }
          ],
          "contourcarpet": [
           {
            "colorbar": {
             "outlinewidth": 0,
             "ticks": ""
            },
            "type": "contourcarpet"
           }
          ],
          "heatmap": [
           {
            "colorbar": {
             "outlinewidth": 0,
             "ticks": ""
            },
            "colorscale": [
             [
              0,
              "#0d0887"
             ],
             [
              0.1111111111111111,
              "#46039f"
             ],
             [
              0.2222222222222222,
              "#7201a8"
             ],
             [
              0.3333333333333333,
              "#9c179e"
             ],
             [
              0.4444444444444444,
              "#bd3786"
             ],
             [
              0.5555555555555556,
              "#d8576b"
             ],
             [
              0.6666666666666666,
              "#ed7953"
             ],
             [
              0.7777777777777778,
              "#fb9f3a"
             ],
             [
              0.8888888888888888,
              "#fdca26"
             ],
             [
              1,
              "#f0f921"
             ]
            ],
            "type": "heatmap"
           }
          ],
          "heatmapgl": [
           {
            "colorbar": {
             "outlinewidth": 0,
             "ticks": ""
            },
            "colorscale": [
             [
              0,
              "#0d0887"
             ],
             [
              0.1111111111111111,
              "#46039f"
             ],
             [
              0.2222222222222222,
              "#7201a8"
             ],
             [
              0.3333333333333333,
              "#9c179e"
             ],
             [
              0.4444444444444444,
              "#bd3786"
             ],
             [
              0.5555555555555556,
              "#d8576b"
             ],
             [
              0.6666666666666666,
              "#ed7953"
             ],
             [
              0.7777777777777778,
              "#fb9f3a"
             ],
             [
              0.8888888888888888,
              "#fdca26"
             ],
             [
              1,
              "#f0f921"
             ]
            ],
            "type": "heatmapgl"
           }
          ],
          "histogram": [
           {
            "marker": {
             "pattern": {
              "fillmode": "overlay",
              "size": 10,
              "solidity": 0.2
             }
            },
            "type": "histogram"
           }
          ],
          "histogram2d": [
           {
            "colorbar": {
             "outlinewidth": 0,
             "ticks": ""
            },
            "colorscale": [
             [
              0,
              "#0d0887"
             ],
             [
              0.1111111111111111,
              "#46039f"
             ],
             [
              0.2222222222222222,
              "#7201a8"
             ],
             [
              0.3333333333333333,
              "#9c179e"
             ],
             [
              0.4444444444444444,
              "#bd3786"
             ],
             [
              0.5555555555555556,
              "#d8576b"
             ],
             [
              0.6666666666666666,
              "#ed7953"
             ],
             [
              0.7777777777777778,
              "#fb9f3a"
             ],
             [
              0.8888888888888888,
              "#fdca26"
             ],
             [
              1,
              "#f0f921"
             ]
            ],
            "type": "histogram2d"
           }
          ],
          "histogram2dcontour": [
           {
            "colorbar": {
             "outlinewidth": 0,
             "ticks": ""
            },
            "colorscale": [
             [
              0,
              "#0d0887"
             ],
             [
              0.1111111111111111,
              "#46039f"
             ],
             [
              0.2222222222222222,
              "#7201a8"
             ],
             [
              0.3333333333333333,
              "#9c179e"
             ],
             [
              0.4444444444444444,
              "#bd3786"
             ],
             [
              0.5555555555555556,
              "#d8576b"
             ],
             [
              0.6666666666666666,
              "#ed7953"
             ],
             [
              0.7777777777777778,
              "#fb9f3a"
             ],
             [
              0.8888888888888888,
              "#fdca26"
             ],
             [
              1,
              "#f0f921"
             ]
            ],
            "type": "histogram2dcontour"
           }
          ],
          "mesh3d": [
           {
            "colorbar": {
             "outlinewidth": 0,
             "ticks": ""
            },
            "type": "mesh3d"
           }
          ],
          "parcoords": [
           {
            "line": {
             "colorbar": {
              "outlinewidth": 0,
              "ticks": ""
             }
            },
            "type": "parcoords"
           }
          ],
          "pie": [
           {
            "automargin": true,
            "type": "pie"
           }
          ],
          "scatter": [
           {
            "fillpattern": {
             "fillmode": "overlay",
             "size": 10,
             "solidity": 0.2
            },
            "type": "scatter"
           }
          ],
          "scatter3d": [
           {
            "line": {
             "colorbar": {
              "outlinewidth": 0,
              "ticks": ""
             }
            },
            "marker": {
             "colorbar": {
              "outlinewidth": 0,
              "ticks": ""
             }
            },
            "type": "scatter3d"
           }
          ],
          "scattercarpet": [
           {
            "marker": {
             "colorbar": {
              "outlinewidth": 0,
              "ticks": ""
             }
            },
            "type": "scattercarpet"
           }
          ],
          "scattergeo": [
           {
            "marker": {
             "colorbar": {
              "outlinewidth": 0,
              "ticks": ""
             }
            },
            "type": "scattergeo"
           }
          ],
          "scattergl": [
           {
            "marker": {
             "colorbar": {
              "outlinewidth": 0,
              "ticks": ""
             }
            },
            "type": "scattergl"
           }
          ],
          "scattermapbox": [
           {
            "marker": {
             "colorbar": {
              "outlinewidth": 0,
              "ticks": ""
             }
            },
            "type": "scattermapbox"
           }
          ],
          "scatterpolar": [
           {
            "marker": {
             "colorbar": {
              "outlinewidth": 0,
              "ticks": ""
             }
            },
            "type": "scatterpolar"
           }
          ],
          "scatterpolargl": [
           {
            "marker": {
             "colorbar": {
              "outlinewidth": 0,
              "ticks": ""
             }
            },
            "type": "scatterpolargl"
           }
          ],
          "scatterternary": [
           {
            "marker": {
             "colorbar": {
              "outlinewidth": 0,
              "ticks": ""
             }
            },
            "type": "scatterternary"
           }
          ],
          "surface": [
           {
            "colorbar": {
             "outlinewidth": 0,
             "ticks": ""
            },
            "colorscale": [
             [
              0,
              "#0d0887"
             ],
             [
              0.1111111111111111,
              "#46039f"
             ],
             [
              0.2222222222222222,
              "#7201a8"
             ],
             [
              0.3333333333333333,
              "#9c179e"
             ],
             [
              0.4444444444444444,
              "#bd3786"
             ],
             [
              0.5555555555555556,
              "#d8576b"
             ],
             [
              0.6666666666666666,
              "#ed7953"
             ],
             [
              0.7777777777777778,
              "#fb9f3a"
             ],
             [
              0.8888888888888888,
              "#fdca26"
             ],
             [
              1,
              "#f0f921"
             ]
            ],
            "type": "surface"
           }
          ],
          "table": [
           {
            "cells": {
             "fill": {
              "color": "#EBF0F8"
             },
             "line": {
              "color": "white"
             }
            },
            "header": {
             "fill": {
              "color": "#C8D4E3"
             },
             "line": {
              "color": "white"
             }
            },
            "type": "table"
           }
          ]
         },
         "layout": {
          "annotationdefaults": {
           "arrowcolor": "#2a3f5f",
           "arrowhead": 0,
           "arrowwidth": 1
          },
          "autotypenumbers": "strict",
          "coloraxis": {
           "colorbar": {
            "outlinewidth": 0,
            "ticks": ""
           }
          },
          "colorscale": {
           "diverging": [
            [
             0,
             "#8e0152"
            ],
            [
             0.1,
             "#c51b7d"
            ],
            [
             0.2,
             "#de77ae"
            ],
            [
             0.3,
             "#f1b6da"
            ],
            [
             0.4,
             "#fde0ef"
            ],
            [
             0.5,
             "#f7f7f7"
            ],
            [
             0.6,
             "#e6f5d0"
            ],
            [
             0.7,
             "#b8e186"
            ],
            [
             0.8,
             "#7fbc41"
            ],
            [
             0.9,
             "#4d9221"
            ],
            [
             1,
             "#276419"
            ]
           ],
           "sequential": [
            [
             0,
             "#0d0887"
            ],
            [
             0.1111111111111111,
             "#46039f"
            ],
            [
             0.2222222222222222,
             "#7201a8"
            ],
            [
             0.3333333333333333,
             "#9c179e"
            ],
            [
             0.4444444444444444,
             "#bd3786"
            ],
            [
             0.5555555555555556,
             "#d8576b"
            ],
            [
             0.6666666666666666,
             "#ed7953"
            ],
            [
             0.7777777777777778,
             "#fb9f3a"
            ],
            [
             0.8888888888888888,
             "#fdca26"
            ],
            [
             1,
             "#f0f921"
            ]
           ],
           "sequentialminus": [
            [
             0,
             "#0d0887"
            ],
            [
             0.1111111111111111,
             "#46039f"
            ],
            [
             0.2222222222222222,
             "#7201a8"
            ],
            [
             0.3333333333333333,
             "#9c179e"
            ],
            [
             0.4444444444444444,
             "#bd3786"
            ],
            [
             0.5555555555555556,
             "#d8576b"
            ],
            [
             0.6666666666666666,
             "#ed7953"
            ],
            [
             0.7777777777777778,
             "#fb9f3a"
            ],
            [
             0.8888888888888888,
             "#fdca26"
            ],
            [
             1,
             "#f0f921"
            ]
           ]
          },
          "colorway": [
           "#636efa",
           "#EF553B",
           "#00cc96",
           "#ab63fa",
           "#FFA15A",
           "#19d3f3",
           "#FF6692",
           "#B6E880",
           "#FF97FF",
           "#FECB52"
          ],
          "font": {
           "color": "#2a3f5f"
          },
          "geo": {
           "bgcolor": "white",
           "lakecolor": "white",
           "landcolor": "#E5ECF6",
           "showlakes": true,
           "showland": true,
           "subunitcolor": "white"
          },
          "hoverlabel": {
           "align": "left"
          },
          "hovermode": "closest",
          "mapbox": {
           "style": "light"
          },
          "paper_bgcolor": "white",
          "plot_bgcolor": "#E5ECF6",
          "polar": {
           "angularaxis": {
            "gridcolor": "white",
            "linecolor": "white",
            "ticks": ""
           },
           "bgcolor": "#E5ECF6",
           "radialaxis": {
            "gridcolor": "white",
            "linecolor": "white",
            "ticks": ""
           }
          },
          "scene": {
           "xaxis": {
            "backgroundcolor": "#E5ECF6",
            "gridcolor": "white",
            "gridwidth": 2,
            "linecolor": "white",
            "showbackground": true,
            "ticks": "",
            "zerolinecolor": "white"
           },
           "yaxis": {
            "backgroundcolor": "#E5ECF6",
            "gridcolor": "white",
            "gridwidth": 2,
            "linecolor": "white",
            "showbackground": true,
            "ticks": "",
            "zerolinecolor": "white"
           },
           "zaxis": {
            "backgroundcolor": "#E5ECF6",
            "gridcolor": "white",
            "gridwidth": 2,
            "linecolor": "white",
            "showbackground": true,
            "ticks": "",
            "zerolinecolor": "white"
           }
          },
          "shapedefaults": {
           "line": {
            "color": "#2a3f5f"
           }
          },
          "ternary": {
           "aaxis": {
            "gridcolor": "white",
            "linecolor": "white",
            "ticks": ""
           },
           "baxis": {
            "gridcolor": "white",
            "linecolor": "white",
            "ticks": ""
           },
           "bgcolor": "#E5ECF6",
           "caxis": {
            "gridcolor": "white",
            "linecolor": "white",
            "ticks": ""
           }
          },
          "title": {
           "x": 0.05
          },
          "xaxis": {
           "automargin": true,
           "gridcolor": "white",
           "linecolor": "white",
           "ticks": "",
           "title": {
            "standoff": 15
           },
           "zerolinecolor": "white",
           "zerolinewidth": 2
          },
          "yaxis": {
           "automargin": true,
           "gridcolor": "white",
           "linecolor": "white",
           "ticks": "",
           "title": {
            "standoff": 15
           },
           "zerolinecolor": "white",
           "zerolinewidth": 2
          }
         }
        },
        "title": {
         "text": "Boxplot de Renda em relação à Nota Geral",
         "x": 0.5,
         "y": 0.95
        },
        "xaxis": {
         "anchor": "y",
         "categoryarray": [
          "Renda baixa",
          "Média baixa",
          "Média alta",
          "Renda alta"
         ],
         "categoryorder": "array",
         "domain": [
          0,
          1
         ],
         "title": {
          "text": "Renda"
         }
        },
        "yaxis": {
         "anchor": "x",
         "domain": [
          0,
          1
         ],
         "title": {
          "text": "Nota Geral"
         }
        }
       }
      }
     },
     "metadata": {},
     "output_type": "display_data"
    }
   ],
   "source": [
    "categorias = {\n",
    "    'A': 'Renda baixa',\n",
    "    'B': 'Média baixa',\n",
    "    'C': 'Média alta',\n",
    "    'D': 'Média alta',\n",
    "    'E': 'Renda alta',\n",
    "    'F': 'Renda alta',\n",
    "    'G': 'Renda alta'\n",
    "}\n",
    "\n",
    "ordem_categorias = {'Renda baixa': 1, 'Média baixa': 2, 'Média alta': 3, 'Renda alta': 4}\n",
    "\n",
    "dados_explorados['Nota_geral'] = pd.to_numeric(dados_explorados['Nota_geral'], errors='coerce')\n",
    "dados_explorados = dados_explorados.dropna(subset=['Nota_geral'])\n",
    "\n",
    "dados_explorados['Categoria'] = dados_explorados['Renda'].map(categorias)\n",
    "\n",
    "#calcular as medianas das notas gerais para cada categoria de renda\n",
    "medianas = dados_explorados.groupby('Categoria')['Nota_geral'].median().reset_index()\n",
    "\n",
    "#ordenar os resultados com base nas medianas\n",
    "medianas['ordem_categoria'] = medianas['Categoria'].map(ordem_categorias)\n",
    "medianas = medianas.sort_values(by='ordem_categoria')\n",
    "\n",
    "\n",
    "fig = px.box(dados_explorados, x='Categoria', y='Nota_geral', \n",
    "             labels={'Categoria': 'Renda', 'Nota_geral': 'Nota Geral'},\n",
    "             category_orders={\"Categoria\": medianas['Categoria']})\n",
    "fig.update_layout(title='Boxplot de Renda em relação à Nota Geral', title_x=0.5, title_y=0.95)\n",
    "fig.show()"
   ]
  },
  {
   "cell_type": "code",
   "execution_count": 7,
   "metadata": {},
   "outputs": [
    {
     "data": {
      "application/vnd.plotly.v1+json": {
       "config": {
        "plotlyServerURL": "https://plot.ly"
       },
       "data": [
        {
         "alignmentgroup": "True",
         "hovertemplate": "Escolaridade da Mãe=%{x}<br>Nota Geral=%{y}<extra></extra>",
         "legendgroup": "",
         "marker": {
          "color": "#636efa"
         },
         "name": "",
         "notched": false,
         "offsetgroup": "",
         "orientation": "v",
         "showlegend": false,
         "type": "box",
         "x": [
          "Ensino médio",
          "Ensino médio",
          "Ensino superior",
          "Ensino fundamental",
          "Ensino médio",
          "Ensino fundamental",
          "Ensino médio",
          "Ensino fundamental",
          "Ensino médio",
          "Ensino superior",
          "Ensino médio",
          "Ensino superior",
          "Ensino médio",
          "Ensino superior",
          "Ensino superior",
          "Ensino médio",
          "Ensino médio",
          "Ensino médio",
          "Ensino médio",
          "Ensino superior",
          "Ensino superior",
          "Ensino médio",
          "Pós-graduação",
          "Ensino médio",
          "Ensino médio",
          "Pós-graduação",
          "Pós-graduação",
          "Ensino médio",
          "Ensino fundamental",
          "Ensino fundamental",
          "Ensino fundamental",
          "Ensino superior",
          "Ensino médio",
          "Ensino médio",
          "Ensino médio",
          "Ensino médio",
          "Ensino fundamental",
          "Ensino médio",
          "Ensino médio",
          "Pós-graduação",
          "Ensino médio",
          "Ensino médio",
          "Ensino superior",
          "Ensino superior",
          "Pós-graduação",
          "Pós-graduação",
          "Ensino fundamental",
          "Pós-graduação",
          "Ensino superior",
          "Ensino superior",
          "Ensino médio",
          "Ensino superior",
          "Pós-graduação",
          "Ensino fundamental",
          "Pós-graduação",
          "Ensino médio",
          "Ensino médio",
          "Ensino superior",
          "Ensino médio",
          "Pós-graduação",
          "Ensino médio",
          "Pós-graduação",
          "Ensino superior",
          "Ensino superior",
          "Pós-graduação",
          "Pós-graduação",
          "Pós-graduação",
          "Ensino médio",
          "Pós-graduação",
          "Ensino médio",
          "Ensino médio",
          "Ensino superior",
          "Ensino fundamental",
          "Ensino superior",
          "Ensino fundamental",
          "Ensino fundamental",
          "Pós-graduação",
          "Ensino superior",
          "Ensino superior",
          "Pós-graduação",
          "Ensino superior",
          "Pós-graduação",
          "Ensino superior",
          "Ensino médio",
          "Ensino superior",
          "Ensino fundamental",
          "Ensino fundamental",
          "Ensino fundamental",
          "Ensino médio",
          "Ensino superior",
          "Ensino superior",
          "Ensino médio",
          "Ensino fundamental",
          "Pós-graduação",
          "Ensino médio",
          "Ensino superior",
          "Ensino fundamental",
          "Ensino médio",
          "Ensino fundamental",
          "Ensino médio",
          "Ensino médio",
          "Ensino médio",
          "Ensino superior",
          "Ensino médio",
          "Ensino fundamental",
          "Ensino médio",
          "Pós-graduação",
          "Ensino médio",
          "Ensino fundamental",
          "Ensino médio",
          "Ensino médio",
          "Ensino médio",
          "Pós-graduação",
          "Ensino superior",
          "Ensino fundamental",
          "Ensino médio",
          "Ensino fundamental",
          "Ensino médio",
          "Pós-graduação",
          "Pós-graduação",
          "Ensino superior",
          "Ensino fundamental",
          "Ensino superior",
          "Ensino fundamental",
          "Ensino superior",
          "Ensino fundamental",
          "Ensino médio",
          "Ensino fundamental",
          "Pós-graduação",
          "Ensino médio",
          "Ensino superior",
          "Ensino médio",
          "Ensino médio",
          "Ensino médio",
          "Ensino superior",
          "Ensino fundamental",
          "Ensino superior",
          "Ensino superior",
          "Ensino médio",
          "Ensino médio",
          "Ensino superior",
          "Ensino médio",
          "Ensino médio",
          "Ensino médio",
          "Pós-graduação",
          "Ensino médio",
          "Ensino médio",
          "Pós-graduação",
          "Ensino médio",
          "Ensino fundamental",
          "Ensino superior",
          "Ensino superior",
          "Ensino fundamental",
          "Nenhuma escolaridade",
          "Ensino fundamental",
          "Ensino superior",
          "Ensino fundamental",
          "Ensino médio",
          "Ensino médio",
          "Ensino médio",
          "Pós-graduação",
          "Ensino superior",
          "Nenhuma escolaridade",
          "Ensino médio"
         ],
         "x0": " ",
         "xaxis": "x",
         "y": [
          50,
          43,
          25,
          44,
          48,
          55,
          41,
          47,
          65,
          20,
          32,
          44,
          40,
          57,
          46,
          34,
          44,
          52,
          50,
          42,
          55,
          35,
          31,
          28,
          37,
          50,
          44,
          44,
          50,
          50,
          59,
          50,
          25,
          41,
          39,
          57,
          54,
          64,
          17,
          58,
          44,
          55,
          71,
          43,
          77,
          69,
          49,
          55,
          58,
          79,
          47,
          80,
          49,
          52,
          58,
          41,
          59,
          65,
          44,
          65,
          61,
          73,
          61,
          78,
          0,
          62,
          38,
          35,
          22,
          43,
          43,
          43,
          35,
          28,
          50,
          47,
          26,
          59,
          36,
          53,
          38,
          57,
          52,
          37,
          46,
          31,
          26,
          35,
          21,
          57,
          41,
          50,
          34,
          53,
          28,
          44,
          39,
          11,
          42,
          53,
          35,
          26,
          25,
          27,
          28,
          20,
          44,
          50,
          45,
          23,
          45,
          37,
          49,
          36,
          25,
          35,
          30,
          24,
          27,
          19,
          72,
          32,
          33,
          29,
          29,
          25,
          28,
          38,
          42,
          20,
          44,
          42,
          45,
          42,
          33,
          38,
          34,
          55,
          36,
          42,
          37,
          28,
          49,
          69,
          55,
          44,
          45,
          0,
          51,
          28,
          43,
          35,
          33,
          54,
          27,
          58,
          55,
          45,
          57,
          54,
          62,
          59,
          52,
          47
         ],
         "y0": " ",
         "yaxis": "y"
        }
       ],
       "layout": {
        "boxmode": "group",
        "legend": {
         "tracegroupgap": 0
        },
        "margin": {
         "t": 60
        },
        "template": {
         "data": {
          "bar": [
           {
            "error_x": {
             "color": "#2a3f5f"
            },
            "error_y": {
             "color": "#2a3f5f"
            },
            "marker": {
             "line": {
              "color": "#E5ECF6",
              "width": 0.5
             },
             "pattern": {
              "fillmode": "overlay",
              "size": 10,
              "solidity": 0.2
             }
            },
            "type": "bar"
           }
          ],
          "barpolar": [
           {
            "marker": {
             "line": {
              "color": "#E5ECF6",
              "width": 0.5
             },
             "pattern": {
              "fillmode": "overlay",
              "size": 10,
              "solidity": 0.2
             }
            },
            "type": "barpolar"
           }
          ],
          "carpet": [
           {
            "aaxis": {
             "endlinecolor": "#2a3f5f",
             "gridcolor": "white",
             "linecolor": "white",
             "minorgridcolor": "white",
             "startlinecolor": "#2a3f5f"
            },
            "baxis": {
             "endlinecolor": "#2a3f5f",
             "gridcolor": "white",
             "linecolor": "white",
             "minorgridcolor": "white",
             "startlinecolor": "#2a3f5f"
            },
            "type": "carpet"
           }
          ],
          "choropleth": [
           {
            "colorbar": {
             "outlinewidth": 0,
             "ticks": ""
            },
            "type": "choropleth"
           }
          ],
          "contour": [
           {
            "colorbar": {
             "outlinewidth": 0,
             "ticks": ""
            },
            "colorscale": [
             [
              0,
              "#0d0887"
             ],
             [
              0.1111111111111111,
              "#46039f"
             ],
             [
              0.2222222222222222,
              "#7201a8"
             ],
             [
              0.3333333333333333,
              "#9c179e"
             ],
             [
              0.4444444444444444,
              "#bd3786"
             ],
             [
              0.5555555555555556,
              "#d8576b"
             ],
             [
              0.6666666666666666,
              "#ed7953"
             ],
             [
              0.7777777777777778,
              "#fb9f3a"
             ],
             [
              0.8888888888888888,
              "#fdca26"
             ],
             [
              1,
              "#f0f921"
             ]
            ],
            "type": "contour"
           }
          ],
          "contourcarpet": [
           {
            "colorbar": {
             "outlinewidth": 0,
             "ticks": ""
            },
            "type": "contourcarpet"
           }
          ],
          "heatmap": [
           {
            "colorbar": {
             "outlinewidth": 0,
             "ticks": ""
            },
            "colorscale": [
             [
              0,
              "#0d0887"
             ],
             [
              0.1111111111111111,
              "#46039f"
             ],
             [
              0.2222222222222222,
              "#7201a8"
             ],
             [
              0.3333333333333333,
              "#9c179e"
             ],
             [
              0.4444444444444444,
              "#bd3786"
             ],
             [
              0.5555555555555556,
              "#d8576b"
             ],
             [
              0.6666666666666666,
              "#ed7953"
             ],
             [
              0.7777777777777778,
              "#fb9f3a"
             ],
             [
              0.8888888888888888,
              "#fdca26"
             ],
             [
              1,
              "#f0f921"
             ]
            ],
            "type": "heatmap"
           }
          ],
          "heatmapgl": [
           {
            "colorbar": {
             "outlinewidth": 0,
             "ticks": ""
            },
            "colorscale": [
             [
              0,
              "#0d0887"
             ],
             [
              0.1111111111111111,
              "#46039f"
             ],
             [
              0.2222222222222222,
              "#7201a8"
             ],
             [
              0.3333333333333333,
              "#9c179e"
             ],
             [
              0.4444444444444444,
              "#bd3786"
             ],
             [
              0.5555555555555556,
              "#d8576b"
             ],
             [
              0.6666666666666666,
              "#ed7953"
             ],
             [
              0.7777777777777778,
              "#fb9f3a"
             ],
             [
              0.8888888888888888,
              "#fdca26"
             ],
             [
              1,
              "#f0f921"
             ]
            ],
            "type": "heatmapgl"
           }
          ],
          "histogram": [
           {
            "marker": {
             "pattern": {
              "fillmode": "overlay",
              "size": 10,
              "solidity": 0.2
             }
            },
            "type": "histogram"
           }
          ],
          "histogram2d": [
           {
            "colorbar": {
             "outlinewidth": 0,
             "ticks": ""
            },
            "colorscale": [
             [
              0,
              "#0d0887"
             ],
             [
              0.1111111111111111,
              "#46039f"
             ],
             [
              0.2222222222222222,
              "#7201a8"
             ],
             [
              0.3333333333333333,
              "#9c179e"
             ],
             [
              0.4444444444444444,
              "#bd3786"
             ],
             [
              0.5555555555555556,
              "#d8576b"
             ],
             [
              0.6666666666666666,
              "#ed7953"
             ],
             [
              0.7777777777777778,
              "#fb9f3a"
             ],
             [
              0.8888888888888888,
              "#fdca26"
             ],
             [
              1,
              "#f0f921"
             ]
            ],
            "type": "histogram2d"
           }
          ],
          "histogram2dcontour": [
           {
            "colorbar": {
             "outlinewidth": 0,
             "ticks": ""
            },
            "colorscale": [
             [
              0,
              "#0d0887"
             ],
             [
              0.1111111111111111,
              "#46039f"
             ],
             [
              0.2222222222222222,
              "#7201a8"
             ],
             [
              0.3333333333333333,
              "#9c179e"
             ],
             [
              0.4444444444444444,
              "#bd3786"
             ],
             [
              0.5555555555555556,
              "#d8576b"
             ],
             [
              0.6666666666666666,
              "#ed7953"
             ],
             [
              0.7777777777777778,
              "#fb9f3a"
             ],
             [
              0.8888888888888888,
              "#fdca26"
             ],
             [
              1,
              "#f0f921"
             ]
            ],
            "type": "histogram2dcontour"
           }
          ],
          "mesh3d": [
           {
            "colorbar": {
             "outlinewidth": 0,
             "ticks": ""
            },
            "type": "mesh3d"
           }
          ],
          "parcoords": [
           {
            "line": {
             "colorbar": {
              "outlinewidth": 0,
              "ticks": ""
             }
            },
            "type": "parcoords"
           }
          ],
          "pie": [
           {
            "automargin": true,
            "type": "pie"
           }
          ],
          "scatter": [
           {
            "fillpattern": {
             "fillmode": "overlay",
             "size": 10,
             "solidity": 0.2
            },
            "type": "scatter"
           }
          ],
          "scatter3d": [
           {
            "line": {
             "colorbar": {
              "outlinewidth": 0,
              "ticks": ""
             }
            },
            "marker": {
             "colorbar": {
              "outlinewidth": 0,
              "ticks": ""
             }
            },
            "type": "scatter3d"
           }
          ],
          "scattercarpet": [
           {
            "marker": {
             "colorbar": {
              "outlinewidth": 0,
              "ticks": ""
             }
            },
            "type": "scattercarpet"
           }
          ],
          "scattergeo": [
           {
            "marker": {
             "colorbar": {
              "outlinewidth": 0,
              "ticks": ""
             }
            },
            "type": "scattergeo"
           }
          ],
          "scattergl": [
           {
            "marker": {
             "colorbar": {
              "outlinewidth": 0,
              "ticks": ""
             }
            },
            "type": "scattergl"
           }
          ],
          "scattermapbox": [
           {
            "marker": {
             "colorbar": {
              "outlinewidth": 0,
              "ticks": ""
             }
            },
            "type": "scattermapbox"
           }
          ],
          "scatterpolar": [
           {
            "marker": {
             "colorbar": {
              "outlinewidth": 0,
              "ticks": ""
             }
            },
            "type": "scatterpolar"
           }
          ],
          "scatterpolargl": [
           {
            "marker": {
             "colorbar": {
              "outlinewidth": 0,
              "ticks": ""
             }
            },
            "type": "scatterpolargl"
           }
          ],
          "scatterternary": [
           {
            "marker": {
             "colorbar": {
              "outlinewidth": 0,
              "ticks": ""
             }
            },
            "type": "scatterternary"
           }
          ],
          "surface": [
           {
            "colorbar": {
             "outlinewidth": 0,
             "ticks": ""
            },
            "colorscale": [
             [
              0,
              "#0d0887"
             ],
             [
              0.1111111111111111,
              "#46039f"
             ],
             [
              0.2222222222222222,
              "#7201a8"
             ],
             [
              0.3333333333333333,
              "#9c179e"
             ],
             [
              0.4444444444444444,
              "#bd3786"
             ],
             [
              0.5555555555555556,
              "#d8576b"
             ],
             [
              0.6666666666666666,
              "#ed7953"
             ],
             [
              0.7777777777777778,
              "#fb9f3a"
             ],
             [
              0.8888888888888888,
              "#fdca26"
             ],
             [
              1,
              "#f0f921"
             ]
            ],
            "type": "surface"
           }
          ],
          "table": [
           {
            "cells": {
             "fill": {
              "color": "#EBF0F8"
             },
             "line": {
              "color": "white"
             }
            },
            "header": {
             "fill": {
              "color": "#C8D4E3"
             },
             "line": {
              "color": "white"
             }
            },
            "type": "table"
           }
          ]
         },
         "layout": {
          "annotationdefaults": {
           "arrowcolor": "#2a3f5f",
           "arrowhead": 0,
           "arrowwidth": 1
          },
          "autotypenumbers": "strict",
          "coloraxis": {
           "colorbar": {
            "outlinewidth": 0,
            "ticks": ""
           }
          },
          "colorscale": {
           "diverging": [
            [
             0,
             "#8e0152"
            ],
            [
             0.1,
             "#c51b7d"
            ],
            [
             0.2,
             "#de77ae"
            ],
            [
             0.3,
             "#f1b6da"
            ],
            [
             0.4,
             "#fde0ef"
            ],
            [
             0.5,
             "#f7f7f7"
            ],
            [
             0.6,
             "#e6f5d0"
            ],
            [
             0.7,
             "#b8e186"
            ],
            [
             0.8,
             "#7fbc41"
            ],
            [
             0.9,
             "#4d9221"
            ],
            [
             1,
             "#276419"
            ]
           ],
           "sequential": [
            [
             0,
             "#0d0887"
            ],
            [
             0.1111111111111111,
             "#46039f"
            ],
            [
             0.2222222222222222,
             "#7201a8"
            ],
            [
             0.3333333333333333,
             "#9c179e"
            ],
            [
             0.4444444444444444,
             "#bd3786"
            ],
            [
             0.5555555555555556,
             "#d8576b"
            ],
            [
             0.6666666666666666,
             "#ed7953"
            ],
            [
             0.7777777777777778,
             "#fb9f3a"
            ],
            [
             0.8888888888888888,
             "#fdca26"
            ],
            [
             1,
             "#f0f921"
            ]
           ],
           "sequentialminus": [
            [
             0,
             "#0d0887"
            ],
            [
             0.1111111111111111,
             "#46039f"
            ],
            [
             0.2222222222222222,
             "#7201a8"
            ],
            [
             0.3333333333333333,
             "#9c179e"
            ],
            [
             0.4444444444444444,
             "#bd3786"
            ],
            [
             0.5555555555555556,
             "#d8576b"
            ],
            [
             0.6666666666666666,
             "#ed7953"
            ],
            [
             0.7777777777777778,
             "#fb9f3a"
            ],
            [
             0.8888888888888888,
             "#fdca26"
            ],
            [
             1,
             "#f0f921"
            ]
           ]
          },
          "colorway": [
           "#636efa",
           "#EF553B",
           "#00cc96",
           "#ab63fa",
           "#FFA15A",
           "#19d3f3",
           "#FF6692",
           "#B6E880",
           "#FF97FF",
           "#FECB52"
          ],
          "font": {
           "color": "#2a3f5f"
          },
          "geo": {
           "bgcolor": "white",
           "lakecolor": "white",
           "landcolor": "#E5ECF6",
           "showlakes": true,
           "showland": true,
           "subunitcolor": "white"
          },
          "hoverlabel": {
           "align": "left"
          },
          "hovermode": "closest",
          "mapbox": {
           "style": "light"
          },
          "paper_bgcolor": "white",
          "plot_bgcolor": "#E5ECF6",
          "polar": {
           "angularaxis": {
            "gridcolor": "white",
            "linecolor": "white",
            "ticks": ""
           },
           "bgcolor": "#E5ECF6",
           "radialaxis": {
            "gridcolor": "white",
            "linecolor": "white",
            "ticks": ""
           }
          },
          "scene": {
           "xaxis": {
            "backgroundcolor": "#E5ECF6",
            "gridcolor": "white",
            "gridwidth": 2,
            "linecolor": "white",
            "showbackground": true,
            "ticks": "",
            "zerolinecolor": "white"
           },
           "yaxis": {
            "backgroundcolor": "#E5ECF6",
            "gridcolor": "white",
            "gridwidth": 2,
            "linecolor": "white",
            "showbackground": true,
            "ticks": "",
            "zerolinecolor": "white"
           },
           "zaxis": {
            "backgroundcolor": "#E5ECF6",
            "gridcolor": "white",
            "gridwidth": 2,
            "linecolor": "white",
            "showbackground": true,
            "ticks": "",
            "zerolinecolor": "white"
           }
          },
          "shapedefaults": {
           "line": {
            "color": "#2a3f5f"
           }
          },
          "ternary": {
           "aaxis": {
            "gridcolor": "white",
            "linecolor": "white",
            "ticks": ""
           },
           "baxis": {
            "gridcolor": "white",
            "linecolor": "white",
            "ticks": ""
           },
           "bgcolor": "#E5ECF6",
           "caxis": {
            "gridcolor": "white",
            "linecolor": "white",
            "ticks": ""
           }
          },
          "title": {
           "x": 0.05
          },
          "xaxis": {
           "automargin": true,
           "gridcolor": "white",
           "linecolor": "white",
           "ticks": "",
           "title": {
            "standoff": 15
           },
           "zerolinecolor": "white",
           "zerolinewidth": 2
          },
          "yaxis": {
           "automargin": true,
           "gridcolor": "white",
           "linecolor": "white",
           "ticks": "",
           "title": {
            "standoff": 15
           },
           "zerolinecolor": "white",
           "zerolinewidth": 2
          }
         }
        },
        "title": {
         "text": "Boxplot de Escolaridade da Mãe em relação à Nota Geral",
         "x": 0.5,
         "y": 0.95
        },
        "xaxis": {
         "anchor": "y",
         "categoryarray": [
          "Nenhuma escolaridade",
          "Ensino fundamental",
          "Ensino médio",
          "Ensino superior",
          "Pós-graduação"
         ],
         "categoryorder": "array",
         "domain": [
          0,
          1
         ],
         "title": {
          "text": "Escolaridade da Mãe"
         }
        },
        "yaxis": {
         "anchor": "x",
         "domain": [
          0,
          1
         ],
         "title": {
          "text": "Nota Geral"
         }
        }
       }
      }
     },
     "metadata": {},
     "output_type": "display_data"
    }
   ],
   "source": [
    "categorias = {\n",
    "    'A': 'Nenhuma escolaridade',\n",
    "    'B': 'Ensino fundamental',\n",
    "    'C': 'Ensino fundamental',\n",
    "    'D': 'Ensino médio',\n",
    "    'E': 'Ensino superior',\n",
    "    'F': 'Pós-graduação'\n",
    "}\n",
    "\n",
    "ordem_categorias = {'Nenhuma escolaridade': 1, 'Ensino fundamental': 2, \n",
    "                    'Ensino médio': 3, 'Ensino superior': 4, 'Pós-graduação': 5}\n",
    "\n",
    "dados_explorados['Nota_geral'] = pd.to_numeric(dados_explorados['Nota_geral'], errors='coerce')\n",
    "dados_explorados = dados_explorados.dropna(subset=['Nota_geral'])\n",
    "\n",
    "dados_explorados['Categoria'] = dados_explorados['Escolaridade_mae'].map(categorias)\n",
    "\n",
    "medianas = dados_explorados.groupby('Categoria')['Nota_geral'].median().reset_index()\n",
    "\n",
    "medianas['ordem_categoria'] = medianas['Categoria'].map(ordem_categorias)\n",
    "medianas = medianas.sort_values(by='ordem_categoria')\n",
    "\n",
    "fig = px.box(dados_explorados, x='Categoria', y='Nota_geral', \n",
    "             labels={'Categoria': 'Escolaridade da Mãe', 'Nota_geral': 'Nota Geral'},\n",
    "             category_orders={\"Categoria\": medianas['Categoria']})\n",
    "fig.update_layout(title='Boxplot de Escolaridade da Mãe em relação à Nota Geral', title_x=0.5, title_y=0.95)\n",
    "fig.show()"
   ]
  },
  {
   "cell_type": "code",
   "execution_count": 8,
   "metadata": {},
   "outputs": [
    {
     "data": {
      "application/vnd.plotly.v1+json": {
       "config": {
        "plotlyServerURL": "https://plot.ly"
       },
       "data": [
        {
         "alignmentgroup": "True",
         "hovertemplate": "Escolaridade do Pai=%{x}<br>Nota Geral=%{y}<extra></extra>",
         "legendgroup": "",
         "marker": {
          "color": "#636efa"
         },
         "name": "",
         "notched": false,
         "offsetgroup": "",
         "orientation": "v",
         "showlegend": false,
         "type": "box",
         "x": [
          "Ensino superior",
          "Ensino superior",
          "Ensino médio",
          "Ensino superior",
          "Pós-graduação",
          "Ensino médio",
          "Ensino superior",
          "Ensino médio",
          "Ensino fundamental",
          "Ensino médio",
          "Ensino médio",
          "Ensino médio",
          "Ensino fundamental",
          "Pós-graduação",
          "Ensino fundamental",
          "Ensino médio",
          "Ensino superior",
          "Ensino médio",
          "Ensino médio",
          "Ensino médio",
          "Ensino superior",
          "Ensino médio",
          "Pós-graduação",
          "Ensino fundamental",
          "Ensino superior",
          "Pós-graduação",
          "Pós-graduação",
          "Ensino superior",
          "Ensino fundamental",
          "Ensino superior",
          "Ensino médio",
          "Ensino médio",
          "Ensino médio",
          "Ensino fundamental",
          "Ensino médio",
          "Ensino médio",
          "Ensino médio",
          "Ensino superior",
          "Ensino médio",
          "Ensino médio",
          "Ensino superior",
          "Ensino fundamental",
          "Ensino superior",
          "Ensino médio",
          "Ensino superior",
          "Ensino superior",
          "Ensino fundamental",
          "Pós-graduação",
          "Ensino médio",
          "Ensino médio",
          "Pós-graduação",
          "Pós-graduação",
          "Ensino médio",
          "Ensino médio",
          "Ensino médio",
          "Pós-graduação",
          "Ensino médio",
          "Ensino superior",
          "Ensino médio",
          "Pós-graduação",
          "Ensino fundamental",
          "Ensino superior",
          "Ensino superior",
          "Ensino superior",
          "Ensino fundamental",
          "Ensino superior",
          "Ensino médio",
          "Ensino médio",
          "Ensino médio",
          "Ensino médio",
          "Ensino fundamental",
          "Ensino superior",
          "Ensino fundamental",
          "Pós-graduação",
          "Ensino fundamental",
          "Ensino médio",
          "Ensino médio",
          "Ensino superior",
          "Ensino médio",
          "Ensino médio",
          "Ensino médio",
          "Ensino superior",
          "Ensino médio",
          "Ensino superior",
          "Pós-graduação",
          "Ensino médio",
          "Ensino fundamental",
          "Ensino fundamental",
          "Ensino fundamental",
          "Ensino médio",
          "Ensino médio",
          "Ensino médio",
          "Ensino médio",
          "Ensino fundamental",
          "Ensino fundamental",
          "Nenhuma escolaridade",
          "Ensino médio",
          "Nenhuma escolaridade",
          "Ensino fundamental",
          "Ensino médio",
          "Ensino fundamental",
          "Ensino fundamental",
          "Ensino fundamental",
          "Ensino superior",
          "Ensino fundamental",
          "Ensino médio",
          "Ensino fundamental",
          "Ensino médio",
          "Ensino fundamental",
          "Ensino superior",
          "Ensino médio",
          "Ensino médio",
          "Pós-graduação",
          "Ensino superior",
          "Ensino fundamental",
          "Ensino fundamental",
          "Ensino fundamental",
          "Ensino médio",
          "Ensino superior",
          "Ensino médio",
          "Ensino superior",
          "Ensino fundamental",
          "Ensino fundamental",
          "Ensino fundamental",
          "Ensino médio",
          "Ensino fundamental",
          "Ensino fundamental",
          "Ensino fundamental",
          "Ensino médio",
          "Ensino superior",
          "Ensino superior",
          "Ensino superior",
          "Ensino médio",
          "Ensino fundamental",
          "Ensino médio",
          "Nenhuma escolaridade",
          "Pós-graduação",
          "Ensino médio",
          "Ensino médio",
          "Ensino fundamental",
          "Ensino fundamental",
          "Ensino médio",
          "Ensino médio",
          "Ensino superior",
          "Ensino superior",
          "Ensino superior",
          "Ensino médio",
          "Pós-graduação",
          "Ensino médio",
          "Ensino fundamental",
          "Ensino superior",
          "Ensino superior",
          "Ensino fundamental",
          "Nenhuma escolaridade",
          "Ensino fundamental",
          "Ensino superior",
          "Ensino fundamental",
          "Ensino médio",
          "Ensino médio",
          "Ensino fundamental",
          "Ensino médio",
          "Ensino médio",
          "Ensino médio",
          "Ensino fundamental"
         ],
         "x0": " ",
         "xaxis": "x",
         "y": [
          50,
          43,
          25,
          44,
          48,
          55,
          41,
          47,
          65,
          20,
          32,
          44,
          40,
          57,
          46,
          34,
          44,
          52,
          50,
          42,
          55,
          35,
          31,
          28,
          37,
          50,
          44,
          44,
          50,
          50,
          59,
          50,
          25,
          41,
          39,
          57,
          54,
          64,
          17,
          58,
          44,
          55,
          71,
          43,
          77,
          69,
          49,
          55,
          58,
          79,
          47,
          80,
          49,
          52,
          58,
          41,
          59,
          65,
          44,
          65,
          61,
          73,
          61,
          78,
          0,
          62,
          38,
          35,
          22,
          43,
          43,
          43,
          35,
          28,
          50,
          47,
          26,
          59,
          36,
          53,
          38,
          57,
          52,
          37,
          46,
          31,
          26,
          35,
          21,
          57,
          41,
          50,
          34,
          53,
          28,
          44,
          39,
          11,
          42,
          53,
          35,
          26,
          25,
          27,
          28,
          20,
          44,
          50,
          45,
          23,
          45,
          37,
          49,
          36,
          25,
          35,
          30,
          24,
          27,
          19,
          72,
          32,
          33,
          29,
          29,
          25,
          28,
          38,
          42,
          20,
          44,
          42,
          45,
          42,
          33,
          38,
          34,
          55,
          36,
          42,
          37,
          28,
          49,
          69,
          55,
          44,
          45,
          0,
          51,
          28,
          43,
          35,
          33,
          54,
          27,
          58,
          55,
          45,
          57,
          54,
          62,
          59,
          52,
          47
         ],
         "y0": " ",
         "yaxis": "y"
        }
       ],
       "layout": {
        "boxmode": "group",
        "legend": {
         "tracegroupgap": 0
        },
        "margin": {
         "t": 60
        },
        "template": {
         "data": {
          "bar": [
           {
            "error_x": {
             "color": "#2a3f5f"
            },
            "error_y": {
             "color": "#2a3f5f"
            },
            "marker": {
             "line": {
              "color": "#E5ECF6",
              "width": 0.5
             },
             "pattern": {
              "fillmode": "overlay",
              "size": 10,
              "solidity": 0.2
             }
            },
            "type": "bar"
           }
          ],
          "barpolar": [
           {
            "marker": {
             "line": {
              "color": "#E5ECF6",
              "width": 0.5
             },
             "pattern": {
              "fillmode": "overlay",
              "size": 10,
              "solidity": 0.2
             }
            },
            "type": "barpolar"
           }
          ],
          "carpet": [
           {
            "aaxis": {
             "endlinecolor": "#2a3f5f",
             "gridcolor": "white",
             "linecolor": "white",
             "minorgridcolor": "white",
             "startlinecolor": "#2a3f5f"
            },
            "baxis": {
             "endlinecolor": "#2a3f5f",
             "gridcolor": "white",
             "linecolor": "white",
             "minorgridcolor": "white",
             "startlinecolor": "#2a3f5f"
            },
            "type": "carpet"
           }
          ],
          "choropleth": [
           {
            "colorbar": {
             "outlinewidth": 0,
             "ticks": ""
            },
            "type": "choropleth"
           }
          ],
          "contour": [
           {
            "colorbar": {
             "outlinewidth": 0,
             "ticks": ""
            },
            "colorscale": [
             [
              0,
              "#0d0887"
             ],
             [
              0.1111111111111111,
              "#46039f"
             ],
             [
              0.2222222222222222,
              "#7201a8"
             ],
             [
              0.3333333333333333,
              "#9c179e"
             ],
             [
              0.4444444444444444,
              "#bd3786"
             ],
             [
              0.5555555555555556,
              "#d8576b"
             ],
             [
              0.6666666666666666,
              "#ed7953"
             ],
             [
              0.7777777777777778,
              "#fb9f3a"
             ],
             [
              0.8888888888888888,
              "#fdca26"
             ],
             [
              1,
              "#f0f921"
             ]
            ],
            "type": "contour"
           }
          ],
          "contourcarpet": [
           {
            "colorbar": {
             "outlinewidth": 0,
             "ticks": ""
            },
            "type": "contourcarpet"
           }
          ],
          "heatmap": [
           {
            "colorbar": {
             "outlinewidth": 0,
             "ticks": ""
            },
            "colorscale": [
             [
              0,
              "#0d0887"
             ],
             [
              0.1111111111111111,
              "#46039f"
             ],
             [
              0.2222222222222222,
              "#7201a8"
             ],
             [
              0.3333333333333333,
              "#9c179e"
             ],
             [
              0.4444444444444444,
              "#bd3786"
             ],
             [
              0.5555555555555556,
              "#d8576b"
             ],
             [
              0.6666666666666666,
              "#ed7953"
             ],
             [
              0.7777777777777778,
              "#fb9f3a"
             ],
             [
              0.8888888888888888,
              "#fdca26"
             ],
             [
              1,
              "#f0f921"
             ]
            ],
            "type": "heatmap"
           }
          ],
          "heatmapgl": [
           {
            "colorbar": {
             "outlinewidth": 0,
             "ticks": ""
            },
            "colorscale": [
             [
              0,
              "#0d0887"
             ],
             [
              0.1111111111111111,
              "#46039f"
             ],
             [
              0.2222222222222222,
              "#7201a8"
             ],
             [
              0.3333333333333333,
              "#9c179e"
             ],
             [
              0.4444444444444444,
              "#bd3786"
             ],
             [
              0.5555555555555556,
              "#d8576b"
             ],
             [
              0.6666666666666666,
              "#ed7953"
             ],
             [
              0.7777777777777778,
              "#fb9f3a"
             ],
             [
              0.8888888888888888,
              "#fdca26"
             ],
             [
              1,
              "#f0f921"
             ]
            ],
            "type": "heatmapgl"
           }
          ],
          "histogram": [
           {
            "marker": {
             "pattern": {
              "fillmode": "overlay",
              "size": 10,
              "solidity": 0.2
             }
            },
            "type": "histogram"
           }
          ],
          "histogram2d": [
           {
            "colorbar": {
             "outlinewidth": 0,
             "ticks": ""
            },
            "colorscale": [
             [
              0,
              "#0d0887"
             ],
             [
              0.1111111111111111,
              "#46039f"
             ],
             [
              0.2222222222222222,
              "#7201a8"
             ],
             [
              0.3333333333333333,
              "#9c179e"
             ],
             [
              0.4444444444444444,
              "#bd3786"
             ],
             [
              0.5555555555555556,
              "#d8576b"
             ],
             [
              0.6666666666666666,
              "#ed7953"
             ],
             [
              0.7777777777777778,
              "#fb9f3a"
             ],
             [
              0.8888888888888888,
              "#fdca26"
             ],
             [
              1,
              "#f0f921"
             ]
            ],
            "type": "histogram2d"
           }
          ],
          "histogram2dcontour": [
           {
            "colorbar": {
             "outlinewidth": 0,
             "ticks": ""
            },
            "colorscale": [
             [
              0,
              "#0d0887"
             ],
             [
              0.1111111111111111,
              "#46039f"
             ],
             [
              0.2222222222222222,
              "#7201a8"
             ],
             [
              0.3333333333333333,
              "#9c179e"
             ],
             [
              0.4444444444444444,
              "#bd3786"
             ],
             [
              0.5555555555555556,
              "#d8576b"
             ],
             [
              0.6666666666666666,
              "#ed7953"
             ],
             [
              0.7777777777777778,
              "#fb9f3a"
             ],
             [
              0.8888888888888888,
              "#fdca26"
             ],
             [
              1,
              "#f0f921"
             ]
            ],
            "type": "histogram2dcontour"
           }
          ],
          "mesh3d": [
           {
            "colorbar": {
             "outlinewidth": 0,
             "ticks": ""
            },
            "type": "mesh3d"
           }
          ],
          "parcoords": [
           {
            "line": {
             "colorbar": {
              "outlinewidth": 0,
              "ticks": ""
             }
            },
            "type": "parcoords"
           }
          ],
          "pie": [
           {
            "automargin": true,
            "type": "pie"
           }
          ],
          "scatter": [
           {
            "fillpattern": {
             "fillmode": "overlay",
             "size": 10,
             "solidity": 0.2
            },
            "type": "scatter"
           }
          ],
          "scatter3d": [
           {
            "line": {
             "colorbar": {
              "outlinewidth": 0,
              "ticks": ""
             }
            },
            "marker": {
             "colorbar": {
              "outlinewidth": 0,
              "ticks": ""
             }
            },
            "type": "scatter3d"
           }
          ],
          "scattercarpet": [
           {
            "marker": {
             "colorbar": {
              "outlinewidth": 0,
              "ticks": ""
             }
            },
            "type": "scattercarpet"
           }
          ],
          "scattergeo": [
           {
            "marker": {
             "colorbar": {
              "outlinewidth": 0,
              "ticks": ""
             }
            },
            "type": "scattergeo"
           }
          ],
          "scattergl": [
           {
            "marker": {
             "colorbar": {
              "outlinewidth": 0,
              "ticks": ""
             }
            },
            "type": "scattergl"
           }
          ],
          "scattermapbox": [
           {
            "marker": {
             "colorbar": {
              "outlinewidth": 0,
              "ticks": ""
             }
            },
            "type": "scattermapbox"
           }
          ],
          "scatterpolar": [
           {
            "marker": {
             "colorbar": {
              "outlinewidth": 0,
              "ticks": ""
             }
            },
            "type": "scatterpolar"
           }
          ],
          "scatterpolargl": [
           {
            "marker": {
             "colorbar": {
              "outlinewidth": 0,
              "ticks": ""
             }
            },
            "type": "scatterpolargl"
           }
          ],
          "scatterternary": [
           {
            "marker": {
             "colorbar": {
              "outlinewidth": 0,
              "ticks": ""
             }
            },
            "type": "scatterternary"
           }
          ],
          "surface": [
           {
            "colorbar": {
             "outlinewidth": 0,
             "ticks": ""
            },
            "colorscale": [
             [
              0,
              "#0d0887"
             ],
             [
              0.1111111111111111,
              "#46039f"
             ],
             [
              0.2222222222222222,
              "#7201a8"
             ],
             [
              0.3333333333333333,
              "#9c179e"
             ],
             [
              0.4444444444444444,
              "#bd3786"
             ],
             [
              0.5555555555555556,
              "#d8576b"
             ],
             [
              0.6666666666666666,
              "#ed7953"
             ],
             [
              0.7777777777777778,
              "#fb9f3a"
             ],
             [
              0.8888888888888888,
              "#fdca26"
             ],
             [
              1,
              "#f0f921"
             ]
            ],
            "type": "surface"
           }
          ],
          "table": [
           {
            "cells": {
             "fill": {
              "color": "#EBF0F8"
             },
             "line": {
              "color": "white"
             }
            },
            "header": {
             "fill": {
              "color": "#C8D4E3"
             },
             "line": {
              "color": "white"
             }
            },
            "type": "table"
           }
          ]
         },
         "layout": {
          "annotationdefaults": {
           "arrowcolor": "#2a3f5f",
           "arrowhead": 0,
           "arrowwidth": 1
          },
          "autotypenumbers": "strict",
          "coloraxis": {
           "colorbar": {
            "outlinewidth": 0,
            "ticks": ""
           }
          },
          "colorscale": {
           "diverging": [
            [
             0,
             "#8e0152"
            ],
            [
             0.1,
             "#c51b7d"
            ],
            [
             0.2,
             "#de77ae"
            ],
            [
             0.3,
             "#f1b6da"
            ],
            [
             0.4,
             "#fde0ef"
            ],
            [
             0.5,
             "#f7f7f7"
            ],
            [
             0.6,
             "#e6f5d0"
            ],
            [
             0.7,
             "#b8e186"
            ],
            [
             0.8,
             "#7fbc41"
            ],
            [
             0.9,
             "#4d9221"
            ],
            [
             1,
             "#276419"
            ]
           ],
           "sequential": [
            [
             0,
             "#0d0887"
            ],
            [
             0.1111111111111111,
             "#46039f"
            ],
            [
             0.2222222222222222,
             "#7201a8"
            ],
            [
             0.3333333333333333,
             "#9c179e"
            ],
            [
             0.4444444444444444,
             "#bd3786"
            ],
            [
             0.5555555555555556,
             "#d8576b"
            ],
            [
             0.6666666666666666,
             "#ed7953"
            ],
            [
             0.7777777777777778,
             "#fb9f3a"
            ],
            [
             0.8888888888888888,
             "#fdca26"
            ],
            [
             1,
             "#f0f921"
            ]
           ],
           "sequentialminus": [
            [
             0,
             "#0d0887"
            ],
            [
             0.1111111111111111,
             "#46039f"
            ],
            [
             0.2222222222222222,
             "#7201a8"
            ],
            [
             0.3333333333333333,
             "#9c179e"
            ],
            [
             0.4444444444444444,
             "#bd3786"
            ],
            [
             0.5555555555555556,
             "#d8576b"
            ],
            [
             0.6666666666666666,
             "#ed7953"
            ],
            [
             0.7777777777777778,
             "#fb9f3a"
            ],
            [
             0.8888888888888888,
             "#fdca26"
            ],
            [
             1,
             "#f0f921"
            ]
           ]
          },
          "colorway": [
           "#636efa",
           "#EF553B",
           "#00cc96",
           "#ab63fa",
           "#FFA15A",
           "#19d3f3",
           "#FF6692",
           "#B6E880",
           "#FF97FF",
           "#FECB52"
          ],
          "font": {
           "color": "#2a3f5f"
          },
          "geo": {
           "bgcolor": "white",
           "lakecolor": "white",
           "landcolor": "#E5ECF6",
           "showlakes": true,
           "showland": true,
           "subunitcolor": "white"
          },
          "hoverlabel": {
           "align": "left"
          },
          "hovermode": "closest",
          "mapbox": {
           "style": "light"
          },
          "paper_bgcolor": "white",
          "plot_bgcolor": "#E5ECF6",
          "polar": {
           "angularaxis": {
            "gridcolor": "white",
            "linecolor": "white",
            "ticks": ""
           },
           "bgcolor": "#E5ECF6",
           "radialaxis": {
            "gridcolor": "white",
            "linecolor": "white",
            "ticks": ""
           }
          },
          "scene": {
           "xaxis": {
            "backgroundcolor": "#E5ECF6",
            "gridcolor": "white",
            "gridwidth": 2,
            "linecolor": "white",
            "showbackground": true,
            "ticks": "",
            "zerolinecolor": "white"
           },
           "yaxis": {
            "backgroundcolor": "#E5ECF6",
            "gridcolor": "white",
            "gridwidth": 2,
            "linecolor": "white",
            "showbackground": true,
            "ticks": "",
            "zerolinecolor": "white"
           },
           "zaxis": {
            "backgroundcolor": "#E5ECF6",
            "gridcolor": "white",
            "gridwidth": 2,
            "linecolor": "white",
            "showbackground": true,
            "ticks": "",
            "zerolinecolor": "white"
           }
          },
          "shapedefaults": {
           "line": {
            "color": "#2a3f5f"
           }
          },
          "ternary": {
           "aaxis": {
            "gridcolor": "white",
            "linecolor": "white",
            "ticks": ""
           },
           "baxis": {
            "gridcolor": "white",
            "linecolor": "white",
            "ticks": ""
           },
           "bgcolor": "#E5ECF6",
           "caxis": {
            "gridcolor": "white",
            "linecolor": "white",
            "ticks": ""
           }
          },
          "title": {
           "x": 0.05
          },
          "xaxis": {
           "automargin": true,
           "gridcolor": "white",
           "linecolor": "white",
           "ticks": "",
           "title": {
            "standoff": 15
           },
           "zerolinecolor": "white",
           "zerolinewidth": 2
          },
          "yaxis": {
           "automargin": true,
           "gridcolor": "white",
           "linecolor": "white",
           "ticks": "",
           "title": {
            "standoff": 15
           },
           "zerolinecolor": "white",
           "zerolinewidth": 2
          }
         }
        },
        "title": {
         "text": "Boxplot de Escolaridade do Pai em relação à Nota Geral",
         "x": 0.5,
         "y": 0.95
        },
        "xaxis": {
         "anchor": "y",
         "categoryarray": [
          "Nenhuma escolaridade",
          "Ensino fundamental",
          "Ensino médio",
          "Ensino superior",
          "Pós-graduação"
         ],
         "categoryorder": "array",
         "domain": [
          0,
          1
         ],
         "title": {
          "text": "Escolaridade do Pai"
         }
        },
        "yaxis": {
         "anchor": "x",
         "domain": [
          0,
          1
         ],
         "title": {
          "text": "Nota Geral"
         }
        }
       }
      }
     },
     "metadata": {},
     "output_type": "display_data"
    }
   ],
   "source": [
    "categorias = {\n",
    "    'A': 'Nenhuma escolaridade',\n",
    "    'B': 'Ensino fundamental',\n",
    "    'C': 'Ensino fundamental',\n",
    "    'D': 'Ensino médio',\n",
    "    'E': 'Ensino superior',\n",
    "    'F': 'Pós-graduação'\n",
    "}\n",
    "\n",
    "ordem_categorias = {'Nenhuma escolaridade': 1, 'Ensino fundamental': 2, \n",
    "                    'Ensino médio': 3, 'Ensino superior': 4, 'Pós-graduação': 5}\n",
    "\n",
    "dados_explorados['Nota_geral'] = pd.to_numeric(dados_explorados['Nota_geral'], errors='coerce')\n",
    "dados_explorados = dados_explorados.dropna(subset=['Nota_geral'])\n",
    "\n",
    "dados_explorados['Categoria'] = dados_explorados['Escolaridade_pai'].map(categorias)\n",
    "\n",
    "medianas = dados_explorados.groupby('Categoria')['Nota_geral'].median().reset_index()\n",
    "\n",
    "medianas['ordem_categoria'] = medianas['Categoria'].map(ordem_categorias)\n",
    "medianas = medianas.sort_values(by='ordem_categoria')\n",
    "\n",
    "fig = px.box(dados_explorados, x='Categoria', y='Nota_geral', \n",
    "             labels={'Categoria': 'Escolaridade do Pai', 'Nota_geral': 'Nota Geral'},\n",
    "             category_orders={\"Categoria\": medianas['Categoria']})\n",
    "fig.update_layout(title='Boxplot de Escolaridade do Pai em relação à Nota Geral', title_x=0.5, title_y=0.95)\n",
    "fig.show()"
   ]
  }
 ],
 "metadata": {
  "kernelspec": {
   "display_name": "Python 3",
   "language": "python",
   "name": "python3"
  },
  "language_info": {
   "codemirror_mode": {
    "name": "ipython",
    "version": 3
   },
   "file_extension": ".py",
   "mimetype": "text/x-python",
   "name": "python",
   "nbconvert_exporter": "python",
   "pygments_lexer": "ipython3",
   "version": "3.12.0"
  }
 },
 "nbformat": 4,
 "nbformat_minor": 2
}
