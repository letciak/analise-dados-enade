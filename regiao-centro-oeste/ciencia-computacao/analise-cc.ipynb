{
 "cells": [
  {
   "cell_type": "code",
   "execution_count": 1,
   "metadata": {},
   "outputs": [],
   "source": [
    "import pandas as pd\n",
    "import numpy as np"
   ]
  },
  {
   "cell_type": "code",
   "execution_count": 2,
   "metadata": {},
   "outputs": [
    {
     "name": "stdout",
     "output_type": "stream",
     "text": [
      "     Cod_curso  Cod_grupo_curso  Cod_regiao_curso Nota_geral Escolaridade_pai  \\\n",
      "0           36             4004                 5       58,7                D   \n",
      "1           36             4004                 5       49,8                D   \n",
      "2           36             4004                 5        NaN              NaN   \n",
      "3           36             4004                 5       40,1                D   \n",
      "4           36             4004                 5       53,2                B   \n",
      "..         ...              ...               ...        ...              ...   \n",
      "756    1280431             4004                 5       44,3                C   \n",
      "757    1280431             4004                 5       79,2                B   \n",
      "758    1280431             4004                 5       46,2                D   \n",
      "759    1280431             4004                 5       47,5                D   \n",
      "760    1280431             4004                 5       49,6                D   \n",
      "\n",
      "    Escolaridade_mae Renda Tipo_escola Horas_estudos  \n",
      "0                  F     E           A             E  \n",
      "1                  C     C           A             C  \n",
      "2                NaN   NaN         NaN           NaN  \n",
      "3                  D     C           A             C  \n",
      "4                  B     B           A             C  \n",
      "..               ...   ...         ...           ...  \n",
      "756                D     C           A             B  \n",
      "757                B     E           A             C  \n",
      "758                D     C           A             C  \n",
      "759                B     B           A             C  \n",
      "760                F     F           B             B  \n",
      "\n",
      "[761 rows x 9 columns]\n"
     ]
    }
   ],
   "source": [
    "regiao_centro_oeste_cc = pd.read_csv('regiao-centro-oeste-cc.csv', sep=',')\n",
    "\n",
    "print(regiao_centro_oeste_cc)"
   ]
  },
  {
   "cell_type": "code",
   "execution_count": 3,
   "metadata": {},
   "outputs": [
    {
     "name": "stdout",
     "output_type": "stream",
     "text": [
      "Cod_curso             0\n",
      "Cod_grupo_curso       0\n",
      "Cod_regiao_curso      0\n",
      "Nota_geral          140\n",
      "Escolaridade_pai    113\n",
      "Escolaridade_mae    113\n",
      "Renda               113\n",
      "Tipo_escola         113\n",
      "Horas_estudos       113\n",
      "dtype: int64\n"
     ]
    }
   ],
   "source": [
    "valores_nulos = regiao_centro_oeste_cc.isnull()\n",
    "contagem = valores_nulos.sum()\n",
    "\n",
    "print(contagem)"
   ]
  },
  {
   "cell_type": "code",
   "execution_count": 4,
   "metadata": {},
   "outputs": [],
   "source": [
    "regiao_centro_oeste_cc.dropna(inplace=True)"
   ]
  },
  {
   "cell_type": "code",
   "execution_count": 5,
   "metadata": {},
   "outputs": [
    {
     "name": "stdout",
     "output_type": "stream",
     "text": [
      "Escolaridade_pai\n",
      "A          NaN\n",
      "B    33.444444\n",
      "C    44.666667\n",
      "D    41.136364\n",
      "E    38.083333\n",
      "F    30.333333\n",
      "Name: Nota_geral, dtype: float64\n"
     ]
    }
   ],
   "source": [
    "regiao_centro_oeste_cc['Nota_geral'] = pd.to_numeric(regiao_centro_oeste_cc['Nota_geral'], errors='coerce')\n",
    "\n",
    "def calcular_media_nota_geral_por_resposta(dataframe):\n",
    "    media_por_resposta = dataframe.groupby('Escolaridade_pai')['Nota_geral'].mean()\n",
    "    \n",
    "    return media_por_resposta\n",
    "\n",
    "media_nota_geral_por_resposta = calcular_media_nota_geral_por_resposta(regiao_centro_oeste_cc)\n",
    "print(media_nota_geral_por_resposta)"
   ]
  },
  {
   "cell_type": "code",
   "execution_count": 6,
   "metadata": {},
   "outputs": [
    {
     "name": "stdout",
     "output_type": "stream",
     "text": [
      "Escolaridade_pai  Media_Nota_Geral  Desvio_Padrao_Nota_Geral  Coeficiente_Variacao_Nota_Geral\n",
      "               A               NaN                       NaN                              NaN\n",
      "               B         33.444444                 11.103053                         0.331985\n",
      "               C         44.666667                  3.511885                         0.078624\n",
      "               D         41.136364                 10.498505                         0.255212\n",
      "               E         38.083333                 17.681312                         0.464280\n",
      "               F         30.333333                  9.451631                         0.311592\n"
     ]
    }
   ],
   "source": [
    "grupo_escolaridade = regiao_centro_oeste_cc.groupby('Escolaridade_pai')\n",
    "\n",
    "estatisticas_por_escolaridade = grupo_escolaridade['Nota_geral'].agg(['mean', 'std', 'var'])\n",
    "\n",
    "estatisticas_por_escolaridade['Coeficiente_Variacao_Nota_Geral'] = (estatisticas_por_escolaridade['std'] / estatisticas_por_escolaridade['mean']) \n",
    "\n",
    "estatisticas_por_escolaridade.columns = ['Media_Nota_Geral', 'Desvio_Padrao_Nota_Geral', 'Variancia_Nota_Geral', 'Coeficiente_Variacao_Nota_Geral']\n",
    "\n",
    "estatisticas_por_escolaridade['Escolaridade_pai'] = estatisticas_por_escolaridade.index\n",
    "resultado_final = estatisticas_por_escolaridade[['Escolaridade_pai', 'Media_Nota_Geral', 'Desvio_Padrao_Nota_Geral', 'Coeficiente_Variacao_Nota_Geral']]\n",
    "\n",
    "\n",
    "print(resultado_final.to_string(index=False))"
   ]
  },
  {
   "cell_type": "code",
   "execution_count": 7,
   "metadata": {},
   "outputs": [
    {
     "name": "stdout",
     "output_type": "stream",
     "text": [
      "Escolaridade_mae\n",
      "A          NaN\n",
      "B    35.142857\n",
      "C    39.666667\n",
      "D    38.294118\n",
      "E    41.727273\n",
      "F    36.750000\n",
      "Name: Nota_geral, dtype: float64\n"
     ]
    }
   ],
   "source": [
    "def calcular_media_nota_geral_por_resposta(dataframe):\n",
    "    media_por_resposta = dataframe.groupby('Escolaridade_mae')['Nota_geral'].mean()\n",
    "    \n",
    "    return media_por_resposta\n",
    "\n",
    "media_nota_geral_por_resposta = calcular_media_nota_geral_por_resposta(regiao_centro_oeste_cc)\n",
    "print(media_nota_geral_por_resposta)"
   ]
  },
  {
   "cell_type": "code",
   "execution_count": 8,
   "metadata": {},
   "outputs": [
    {
     "name": "stdout",
     "output_type": "stream",
     "text": [
      "Escolaridade_mae  Media_Nota_Geral  Desvio_Padrao_Nota_Geral  Coeficiente_Variacao_Nota_Geral\n",
      "               A               NaN                       NaN                              NaN\n",
      "               B         35.142857                 11.739230                         0.334043\n",
      "               C         39.666667                 16.919417                         0.426540\n",
      "               D         38.294118                 14.507604                         0.378847\n",
      "               E         41.727273                 10.238075                         0.245357\n",
      "               F         36.750000                 10.292161                         0.280059\n"
     ]
    }
   ],
   "source": [
    "grupo_escolaridade = regiao_centro_oeste_cc.groupby('Escolaridade_mae')\n",
    "\n",
    "estatisticas_por_escolaridade = grupo_escolaridade['Nota_geral'].agg(['mean', 'std', 'var'])\n",
    "\n",
    "estatisticas_por_escolaridade['Coeficiente_Variacao_Nota_Geral'] = (estatisticas_por_escolaridade['std'] / estatisticas_por_escolaridade['mean']) \n",
    "\n",
    "estatisticas_por_escolaridade.columns = ['Media_Nota_Geral', 'Desvio_Padrao_Nota_Geral', 'Variancia_Nota_Geral', 'Coeficiente_Variacao_Nota_Geral']\n",
    "\n",
    "estatisticas_por_escolaridade['Escolaridade_mae'] = estatisticas_por_escolaridade.index\n",
    "resultado_final = estatisticas_por_escolaridade[['Escolaridade_mae', 'Media_Nota_Geral', 'Desvio_Padrao_Nota_Geral', 'Coeficiente_Variacao_Nota_Geral']]\n",
    "\n",
    "\n",
    "print(resultado_final.to_string(index=False))"
   ]
  },
  {
   "cell_type": "code",
   "execution_count": 9,
   "metadata": {},
   "outputs": [
    {
     "name": "stdout",
     "output_type": "stream",
     "text": [
      "Renda\n",
      "A    35.000000\n",
      "B    34.750000\n",
      "C    38.500000\n",
      "D    42.250000\n",
      "E    42.333333\n",
      "F    52.000000\n",
      "G    45.000000\n",
      "Name: Nota_geral, dtype: float64\n"
     ]
    }
   ],
   "source": [
    "def calcular_media_nota_geral_por_resposta(dataframe):\n",
    "    media_por_resposta = dataframe.groupby('Renda')['Nota_geral'].mean()\n",
    "    \n",
    "    return media_por_resposta\n",
    "\n",
    "media_nota_geral_por_resposta = calcular_media_nota_geral_por_resposta(regiao_centro_oeste_cc)\n",
    "print(media_nota_geral_por_resposta)"
   ]
  },
  {
   "cell_type": "code",
   "execution_count": 10,
   "metadata": {},
   "outputs": [
    {
     "name": "stdout",
     "output_type": "stream",
     "text": [
      "Renda  Media_Nota_Geral  Desvio_Padrao_Nota_Geral  Coeficiente_Variacao_Nota_Geral\n",
      "    A         35.000000                 15.337862                         0.438225\n",
      "    B         34.750000                 13.601471                         0.391409\n",
      "    C         38.500000                  3.507136                         0.091094\n",
      "    D         42.250000                 13.781458                         0.326188\n",
      "    E         42.333333                 10.269697                         0.242591\n",
      "    F         52.000000                  7.071068                         0.135982\n",
      "    G         45.000000                  5.656854                         0.125708\n"
     ]
    }
   ],
   "source": [
    "grupo_escolaridade = regiao_centro_oeste_cc.groupby('Renda')\n",
    "\n",
    "estatisticas_por_escolaridade = grupo_escolaridade['Nota_geral'].agg(['mean', 'std', 'var'])\n",
    "\n",
    "estatisticas_por_escolaridade['Coeficiente_Variacao_Nota_Geral'] = (estatisticas_por_escolaridade['std'] / estatisticas_por_escolaridade['mean']) \n",
    "\n",
    "estatisticas_por_escolaridade.columns = ['Media_Nota_Geral', 'Desvio_Padrao_Nota_Geral', 'Variancia_Nota_Geral', 'Coeficiente_Variacao_Nota_Geral']\n",
    "\n",
    "estatisticas_por_escolaridade['Renda'] = estatisticas_por_escolaridade.index\n",
    "resultado_final = estatisticas_por_escolaridade[['Renda', 'Media_Nota_Geral', 'Desvio_Padrao_Nota_Geral', 'Coeficiente_Variacao_Nota_Geral']]\n",
    "\n",
    "\n",
    "print(resultado_final.to_string(index=False))"
   ]
  },
  {
   "cell_type": "code",
   "execution_count": 11,
   "metadata": {},
   "outputs": [
    {
     "name": "stdout",
     "output_type": "stream",
     "text": [
      "Tipo_escola\n",
      "A    37.750000\n",
      "B    41.055556\n",
      "C          NaN\n",
      "D    28.000000\n",
      "E    36.000000\n",
      "F          NaN\n",
      "Name: Nota_geral, dtype: float64\n"
     ]
    }
   ],
   "source": [
    "def calcular_media_nota_geral_por_resposta(dataframe):\n",
    "    media_por_resposta = dataframe.groupby('Tipo_escola')['Nota_geral'].mean()\n",
    "    \n",
    "    return media_por_resposta\n",
    "\n",
    "media_nota_geral_por_resposta = calcular_media_nota_geral_por_resposta(regiao_centro_oeste_cc)\n",
    "print(media_nota_geral_por_resposta)"
   ]
  },
  {
   "cell_type": "code",
   "execution_count": 12,
   "metadata": {},
   "outputs": [
    {
     "name": "stdout",
     "output_type": "stream",
     "text": [
      "Tipo_escola  Media_Nota_Geral  Desvio_Padrao_Nota_Geral  Coeficiente_Variacao_Nota_Geral\n",
      "          A         37.750000                 11.705095                         0.310069\n",
      "          B         41.055556                 14.317707                         0.348740\n",
      "          C               NaN                       NaN                              NaN\n",
      "          D         28.000000                  9.899495                         0.353553\n",
      "          E         36.000000                       NaN                              NaN\n",
      "          F               NaN                       NaN                              NaN\n"
     ]
    }
   ],
   "source": [
    "grupo_escolaridade = regiao_centro_oeste_cc.groupby('Tipo_escola')\n",
    "\n",
    "estatisticas_por_escolaridade = grupo_escolaridade['Nota_geral'].agg(['mean', 'std', 'var'])\n",
    "\n",
    "estatisticas_por_escolaridade['Coeficiente_Variacao_Nota_Geral'] = (estatisticas_por_escolaridade['std'] / estatisticas_por_escolaridade['mean']) \n",
    "\n",
    "estatisticas_por_escolaridade.columns = ['Media_Nota_Geral', 'Desvio_Padrao_Nota_Geral', 'Variancia_Nota_Geral', 'Coeficiente_Variacao_Nota_Geral']\n",
    "\n",
    "estatisticas_por_escolaridade['Tipo_escola'] = estatisticas_por_escolaridade.index\n",
    "resultado_final = estatisticas_por_escolaridade[['Tipo_escola', 'Media_Nota_Geral', 'Desvio_Padrao_Nota_Geral', 'Coeficiente_Variacao_Nota_Geral']]\n",
    "\n",
    "\n",
    "print(resultado_final.to_string(index=False))"
   ]
  },
  {
   "cell_type": "code",
   "execution_count": 13,
   "metadata": {},
   "outputs": [
    {
     "name": "stdout",
     "output_type": "stream",
     "text": [
      "Horas_estudos\n",
      "A    43.000000\n",
      "B    39.250000\n",
      "C    35.384615\n",
      "D    45.333333\n",
      "E    35.625000\n",
      "Name: Nota_geral, dtype: float64\n"
     ]
    }
   ],
   "source": [
    "def calcular_media_nota_geral_por_resposta(dataframe):\n",
    "    media_por_resposta = dataframe.groupby('Horas_estudos')['Nota_geral'].mean()\n",
    "    \n",
    "    return media_por_resposta\n",
    "\n",
    "media_nota_geral_por_resposta = calcular_media_nota_geral_por_resposta(regiao_centro_oeste_cc)\n",
    "print(media_nota_geral_por_resposta)"
   ]
  },
  {
   "cell_type": "code",
   "execution_count": 14,
   "metadata": {},
   "outputs": [
    {
     "name": "stdout",
     "output_type": "stream",
     "text": [
      "Horas_estudos  Media_Nota_Geral  Desvio_Padrao_Nota_Geral  Coeficiente_Variacao_Nota_Geral\n",
      "            A         43.000000                 15.556349                         0.361776\n",
      "            B         39.250000                 11.470213                         0.292235\n",
      "            C         35.384615                 16.383622                         0.463015\n",
      "            D         45.333333                  6.282250                         0.138579\n",
      "            E         35.625000                 11.697833                         0.328360\n"
     ]
    }
   ],
   "source": [
    "grupo_escolaridade = regiao_centro_oeste_cc.groupby('Horas_estudos')\n",
    "\n",
    "estatisticas_por_escolaridade = grupo_escolaridade['Nota_geral'].agg(['mean', 'std', 'var'])\n",
    "\n",
    "estatisticas_por_escolaridade['Coeficiente_Variacao_Nota_Geral'] = (estatisticas_por_escolaridade['std'] / estatisticas_por_escolaridade['mean']) \n",
    "\n",
    "estatisticas_por_escolaridade.columns = ['Media_Nota_Geral', 'Desvio_Padrao_Nota_Geral', 'Variancia_Nota_Geral', 'Coeficiente_Variacao_Nota_Geral']\n",
    "\n",
    "estatisticas_por_escolaridade['Horas_estudos'] = estatisticas_por_escolaridade.index\n",
    "resultado_final = estatisticas_por_escolaridade[['Horas_estudos', 'Media_Nota_Geral', 'Desvio_Padrao_Nota_Geral', 'Coeficiente_Variacao_Nota_Geral']]\n",
    "\n",
    "\n",
    "print(resultado_final.to_string(index=False))"
   ]
  }
 ],
 "metadata": {
  "kernelspec": {
   "display_name": "Python 3",
   "language": "python",
   "name": "python3"
  },
  "language_info": {
   "codemirror_mode": {
    "name": "ipython",
    "version": 3
   },
   "file_extension": ".py",
   "mimetype": "text/x-python",
   "name": "python",
   "nbconvert_exporter": "python",
   "pygments_lexer": "ipython3",
   "version": "3.12.0"
  }
 },
 "nbformat": 4,
 "nbformat_minor": 2
}
