{
 "cells": [
  {
   "cell_type": "code",
   "execution_count": 1,
   "metadata": {},
   "outputs": [],
   "source": [
    "import pandas as pd\n",
    "import plotly.express as px"
   ]
  },
  {
   "cell_type": "code",
   "execution_count": 2,
   "metadata": {},
   "outputs": [
    {
     "name": "stdout",
     "output_type": "stream",
     "text": [
      "     Cod_curso  Cod_grupo_curso  Cod_regiao_curso Nota_geral Escolaridade_pai  \\\n",
      "0           36             4004                 5       58,7                D   \n",
      "1           36             4004                 5       49,8                D   \n",
      "2           36             4004                 5        NaN              NaN   \n",
      "3           36             4004                 5       40,1                D   \n",
      "4           36             4004                 5       53,2                B   \n",
      "..         ...              ...               ...        ...              ...   \n",
      "756    1280431             4004                 5       44,3                C   \n",
      "757    1280431             4004                 5       79,2                B   \n",
      "758    1280431             4004                 5       46,2                D   \n",
      "759    1280431             4004                 5       47,5                D   \n",
      "760    1280431             4004                 5       49,6                D   \n",
      "\n",
      "    Escolaridade_mae Renda Tipo_escola Horas_estudos  \n",
      "0                  F     E           A             E  \n",
      "1                  C     C           A             C  \n",
      "2                NaN   NaN         NaN           NaN  \n",
      "3                  D     C           A             C  \n",
      "4                  B     B           A             C  \n",
      "..               ...   ...         ...           ...  \n",
      "756                D     C           A             B  \n",
      "757                B     E           A             C  \n",
      "758                D     C           A             C  \n",
      "759                B     B           A             C  \n",
      "760                F     F           B             B  \n",
      "\n",
      "[761 rows x 9 columns]\n"
     ]
    }
   ],
   "source": [
    "regiao_centro_oeste_cc = pd.read_csv('regiao-centro-oeste-cc.csv', sep=',')\n",
    "\n",
    "print(regiao_centro_oeste_cc)"
   ]
  },
  {
   "cell_type": "code",
   "execution_count": 3,
   "metadata": {},
   "outputs": [
    {
     "name": "stdout",
     "output_type": "stream",
     "text": [
      "Cod_curso             0\n",
      "Cod_grupo_curso       0\n",
      "Cod_regiao_curso      0\n",
      "Nota_geral          140\n",
      "Escolaridade_pai    113\n",
      "Escolaridade_mae    113\n",
      "Renda               113\n",
      "Tipo_escola         113\n",
      "Horas_estudos       113\n",
      "dtype: int64\n"
     ]
    }
   ],
   "source": [
    "valores_nulos = regiao_centro_oeste_cc.isnull()\n",
    "contagem = valores_nulos.sum()\n",
    "\n",
    "print(contagem)"
   ]
  },
  {
   "cell_type": "code",
   "execution_count": 4,
   "metadata": {},
   "outputs": [],
   "source": [
    "regiao_centro_oeste_cc.dropna(inplace=True)"
   ]
  },
  {
   "cell_type": "code",
   "execution_count": 5,
   "metadata": {},
   "outputs": [
    {
     "name": "stdout",
     "output_type": "stream",
     "text": [
      "    Nota_geral Renda Escolaridade_mae Escolaridade_pai\n",
      "0         58,7     E                F                D\n",
      "1         49,8     C                C                D\n",
      "3         40,1     C                D                D\n",
      "4         53,2     B                B                B\n",
      "5         52,4     B                F                E\n",
      "..         ...   ...              ...              ...\n",
      "756       44,3     C                D                C\n",
      "757       79,2     E                B                B\n",
      "758       46,2     C                D                D\n",
      "759       47,5     B                B                D\n",
      "760       49,6     F                F                D\n",
      "\n",
      "[607 rows x 4 columns]\n"
     ]
    }
   ],
   "source": [
    "filtro = ['Nota_geral', 'Renda', 'Escolaridade_mae', 'Escolaridade_pai']\n",
    "dados_explorados = regiao_centro_oeste_cc[filtro]\n",
    "\n",
    "print(dados_explorados)"
   ]
  },
  {
   "cell_type": "code",
   "execution_count": 8,
   "metadata": {},
   "outputs": [
    {
     "data": {
      "application/vnd.plotly.v1+json": {
       "config": {
        "plotlyServerURL": "https://plot.ly"
       },
       "data": [
        {
         "alignmentgroup": "True",
         "hovertemplate": "Renda=%{x}<br>Nota Geral=%{y}<extra></extra>",
         "legendgroup": "",
         "marker": {
          "color": "#636efa"
         },
         "name": "",
         "notched": false,
         "offsetgroup": "",
         "orientation": "v",
         "showlegend": false,
         "type": "box",
         "x": [
          "Renda alta",
          "Média alta",
          "Média alta",
          "Média baixa",
          "Média baixa",
          "Renda alta",
          "Renda alta",
          "Média baixa",
          "Média alta",
          "Média baixa",
          "Média alta",
          "Renda alta",
          "Renda alta",
          "Média alta",
          "Média baixa",
          "Média alta",
          "Média alta",
          "Renda alta",
          "Média baixa",
          "Média alta",
          "Média baixa",
          "Renda alta",
          "Renda alta",
          "Renda alta",
          "Renda alta",
          "Renda alta",
          "Renda alta",
          "Média alta",
          "Renda alta",
          "Renda alta",
          "Renda alta",
          "Renda alta",
          "Renda alta",
          "Renda alta",
          "Renda alta",
          "Renda alta",
          "Renda alta",
          "Renda alta",
          "Média alta",
          "Renda alta",
          "Renda alta",
          "Renda alta",
          "Média baixa",
          "Renda alta",
          "Renda alta",
          "Renda alta",
          "Média alta",
          "Média baixa",
          "Renda alta",
          "Renda alta",
          "Renda alta",
          "Renda alta",
          "Média baixa",
          "Renda alta",
          "Média alta",
          "Renda alta",
          "Média alta",
          "Renda alta",
          "Renda alta",
          "Média baixa",
          "Renda alta",
          "Média alta",
          "Renda alta",
          "Renda alta",
          "Renda alta",
          "Renda alta",
          "Renda alta",
          "Média baixa",
          "Renda alta",
          "Renda alta",
          "Renda alta",
          "Renda alta",
          "Média alta",
          "Renda alta",
          "Média baixa",
          "Renda alta",
          "Renda alta",
          "Renda alta",
          "Renda alta",
          "Renda alta",
          "Média alta",
          "Renda alta",
          "Renda alta",
          "Média alta",
          "Renda baixa",
          "Renda alta",
          "Renda alta",
          "Renda alta",
          "Renda alta",
          "Média alta",
          "Média alta",
          "Renda alta",
          "Média alta",
          "Renda alta",
          "Renda alta",
          "Renda alta",
          "Renda alta",
          "Renda alta",
          "Média baixa",
          "Média alta",
          "Renda baixa",
          "Renda baixa",
          "Renda alta",
          "Média baixa",
          "Renda baixa",
          "Média baixa",
          "Renda alta",
          "Renda alta",
          "Renda alta",
          "Média alta",
          "Média alta",
          "Média alta",
          "Média baixa",
          "Renda alta",
          "Renda alta",
          "Média alta",
          "Renda alta",
          "Média alta",
          "Renda baixa",
          "Renda alta",
          "Média baixa",
          "Média alta",
          "Média alta",
          "Renda baixa",
          "Média alta",
          "Média baixa",
          "Média baixa",
          "Média alta",
          "Média baixa",
          "Média alta",
          "Média baixa",
          "Média baixa",
          "Média baixa",
          "Média alta",
          "Renda alta",
          "Média baixa",
          "Média alta",
          "Média alta",
          "Média alta",
          "Média baixa",
          "Renda alta",
          "Média alta",
          "Renda baixa",
          "Média baixa",
          "Média baixa",
          "Renda alta",
          "Média alta",
          "Renda baixa",
          "Média alta",
          "Renda alta",
          "Média baixa",
          "Média baixa",
          "Média baixa",
          "Renda alta",
          "Média alta",
          "Renda alta",
          "Média alta",
          "Média baixa",
          "Renda alta",
          "Média alta",
          "Média alta",
          "Média alta",
          "Média baixa",
          "Média alta",
          "Média baixa",
          "Renda baixa",
          "Média alta",
          "Média alta",
          "Média alta",
          "Renda alta",
          "Média alta",
          "Média alta",
          "Renda baixa",
          "Média alta",
          "Média alta",
          "Média baixa",
          "Média alta",
          "Média alta",
          "Média baixa",
          "Renda alta",
          "Média alta",
          "Média baixa",
          "Média baixa",
          "Renda alta",
          "Média baixa",
          "Média baixa",
          "Média alta",
          "Renda alta",
          "Renda alta",
          "Renda alta",
          "Média baixa",
          "Média alta",
          "Média alta",
          "Renda alta",
          "Média alta",
          "Renda alta",
          "Média baixa",
          "Renda baixa",
          "Média baixa",
          "Média alta",
          "Média alta",
          "Média alta",
          "Renda alta",
          "Média alta",
          "Média baixa",
          "Média alta",
          "Renda baixa",
          "Média baixa",
          "Média baixa",
          "Média baixa",
          "Média alta",
          "Renda alta",
          "Renda alta",
          "Média alta",
          "Média alta",
          "Renda alta",
          "Média baixa",
          "Média baixa",
          "Média baixa",
          "Média alta",
          "Renda alta",
          "Média alta",
          "Renda alta",
          "Média alta",
          "Média alta",
          "Média alta",
          "Renda alta",
          "Renda alta",
          "Média baixa",
          "Média baixa",
          "Média baixa",
          "Média baixa",
          "Média alta",
          "Média alta",
          "Média baixa",
          "Renda baixa",
          "Média alta",
          "Média baixa",
          "Média alta",
          "Média alta",
          "Média alta",
          "Renda baixa",
          "Média baixa",
          "Média baixa",
          "Renda alta",
          "Média alta",
          "Média baixa",
          "Média baixa",
          "Renda baixa",
          "Renda alta",
          "Média baixa",
          "Média alta",
          "Média alta",
          "Média alta",
          "Média baixa",
          "Renda baixa",
          "Média alta",
          "Renda baixa",
          "Média baixa",
          "Média baixa",
          "Média alta",
          "Média alta",
          "Média baixa",
          "Média baixa",
          "Média baixa",
          "Média baixa",
          "Renda baixa",
          "Média baixa",
          "Média alta",
          "Média alta",
          "Renda baixa",
          "Renda baixa",
          "Renda baixa",
          "Média baixa",
          "Média alta",
          "Média baixa",
          "Média baixa",
          "Média alta",
          "Média baixa",
          "Média alta",
          "Média alta",
          "Renda alta",
          "Renda alta",
          "Média alta",
          "Média alta",
          "Média baixa",
          "Média alta",
          "Média alta",
          "Renda alta",
          "Renda alta",
          "Média alta",
          "Média alta",
          "Média alta",
          "Renda alta",
          "Renda baixa",
          "Renda alta",
          "Média alta",
          "Média baixa",
          "Média baixa",
          "Média alta",
          "Renda alta",
          "Média alta",
          "Renda alta",
          "Média baixa",
          "Média alta",
          "Média alta",
          "Renda alta",
          "Média alta",
          "Média alta",
          "Renda alta",
          "Média alta",
          "Renda alta",
          "Renda alta",
          "Renda alta",
          "Média baixa",
          "Renda alta",
          "Renda alta",
          "Renda alta",
          "Média baixa",
          "Média baixa",
          "Média alta",
          "Média alta",
          "Média baixa",
          "Renda alta",
          "Média alta",
          "Renda alta",
          "Renda alta",
          "Média alta",
          "Média baixa",
          "Renda alta",
          "Renda alta",
          "Renda baixa",
          "Renda alta",
          "Média baixa",
          "Renda alta",
          "Média alta",
          "Renda alta",
          "Renda alta",
          "Média baixa",
          "Média alta",
          "Renda alta",
          "Renda alta",
          "Renda alta",
          "Média alta",
          "Renda alta",
          "Média alta",
          "Renda baixa",
          "Renda baixa",
          "Média baixa",
          "Média alta",
          "Média alta",
          "Renda baixa",
          "Renda alta",
          "Renda baixa",
          "Renda baixa",
          "Renda baixa",
          "Média alta",
          "Média alta",
          "Renda alta",
          "Média alta",
          "Média baixa",
          "Média baixa",
          "Renda alta",
          "Média baixa",
          "Renda alta",
          "Renda baixa",
          "Média alta",
          "Média alta",
          "Média baixa",
          "Média baixa",
          "Média baixa",
          "Média alta",
          "Renda baixa",
          "Média baixa",
          "Média alta",
          "Média alta",
          "Renda alta",
          "Média alta",
          "Renda baixa",
          "Média alta",
          "Média baixa",
          "Renda alta",
          "Média alta",
          "Renda alta",
          "Média baixa",
          "Média baixa",
          "Média baixa",
          "Média alta",
          "Média alta",
          "Renda alta",
          "Média baixa",
          "Média baixa",
          "Renda baixa",
          "Média alta",
          "Média alta",
          "Média alta",
          "Média baixa",
          "Média baixa",
          "Renda baixa",
          "Média alta",
          "Média alta",
          "Média baixa",
          "Média alta",
          "Média alta",
          "Média baixa",
          "Renda baixa",
          "Média baixa",
          "Média alta",
          "Média alta",
          "Média alta",
          "Média baixa",
          "Renda alta",
          "Média baixa",
          "Renda alta",
          "Média baixa",
          "Renda baixa",
          "Média baixa",
          "Média alta",
          "Média alta",
          "Renda alta",
          "Média baixa",
          "Média baixa",
          "Média baixa",
          "Renda baixa",
          "Renda alta",
          "Média alta",
          "Média alta",
          "Média alta",
          "Média baixa",
          "Média baixa",
          "Média alta",
          "Média alta",
          "Renda alta",
          "Média baixa",
          "Média alta",
          "Média baixa",
          "Renda baixa",
          "Renda alta",
          "Renda baixa",
          "Renda alta",
          "Média baixa",
          "Média baixa",
          "Média baixa",
          "Média baixa",
          "Renda alta",
          "Média baixa",
          "Média alta",
          "Média baixa",
          "Renda alta",
          "Renda baixa",
          "Renda alta",
          "Média alta",
          "Média alta",
          "Média baixa",
          "Média baixa",
          "Média baixa",
          "Renda alta",
          "Média baixa",
          "Média baixa",
          "Média baixa",
          "Média alta",
          "Média baixa",
          "Média baixa",
          "Média baixa",
          "Renda alta",
          "Média alta",
          "Média alta",
          "Renda alta",
          "Renda alta",
          "Média baixa",
          "Média alta",
          "Renda alta",
          "Renda baixa",
          "Renda alta",
          "Média alta",
          "Média baixa",
          "Média baixa",
          "Média baixa",
          "Média baixa",
          "Média baixa",
          "Renda baixa",
          "Renda baixa",
          "Média alta",
          "Renda baixa",
          "Renda alta",
          "Média baixa",
          "Média baixa",
          "Média baixa",
          "Média baixa",
          "Média baixa",
          "Média alta",
          "Média alta",
          "Renda baixa",
          "Média baixa",
          "Renda baixa",
          "Média baixa",
          "Média alta",
          "Média alta",
          "Média baixa",
          "Renda alta",
          "Renda baixa",
          "Média alta",
          "Média alta",
          "Renda alta",
          "Média alta",
          "Renda alta",
          "Média baixa",
          "Renda alta",
          "Renda baixa",
          "Média baixa",
          "Renda alta",
          "Renda alta",
          "Renda alta",
          "Média baixa",
          "Média alta",
          "Média alta",
          "Média alta",
          "Renda baixa",
          "Renda baixa",
          "Média baixa",
          "Renda alta",
          "Renda baixa",
          "Média baixa",
          "Média baixa",
          "Média alta",
          "Média alta",
          "Renda alta",
          "Média baixa",
          "Média alta",
          "Média baixa",
          "Média alta",
          "Média baixa",
          "Renda alta",
          "Média baixa",
          "Média alta",
          "Média baixa",
          "Média baixa",
          "Renda baixa",
          "Renda baixa",
          "Média alta",
          "Renda baixa",
          "Média baixa",
          "Média alta",
          "Média baixa",
          "Média baixa",
          "Renda baixa",
          "Renda alta",
          "Média alta",
          "Renda baixa",
          "Média alta",
          "Média baixa",
          "Média alta",
          "Média baixa",
          "Renda baixa",
          "Média baixa",
          "Renda baixa",
          "Renda baixa",
          "Média alta",
          "Renda baixa",
          "Média baixa",
          "Renda baixa",
          "Renda baixa",
          "Renda baixa",
          "Renda baixa",
          "Renda alta",
          "Média baixa",
          "Renda alta",
          "Renda baixa",
          "Média baixa",
          "Renda alta",
          "Renda baixa",
          "Renda alta",
          "Renda baixa",
          "Média alta",
          "Média baixa",
          "Média alta",
          "Média alta",
          "Média alta",
          "Renda alta",
          "Renda alta",
          "Média baixa",
          "Média alta",
          "Renda alta",
          "Média alta",
          "Média baixa",
          "Média alta",
          "Média baixa",
          "Renda alta",
          "Média baixa",
          "Média alta",
          "Renda baixa",
          "Média alta",
          "Renda alta",
          "Média alta",
          "Média alta",
          "Média baixa",
          "Média alta",
          "Média alta",
          "Média alta",
          "Média alta",
          "Média alta",
          "Renda alta",
          "Média alta",
          "Renda alta",
          "Média alta",
          "Média baixa",
          "Renda alta"
         ],
         "x0": " ",
         "xaxis": "x",
         "y": [
          "58,7",
          "49,8",
          "40,1",
          "53,2",
          "52,4",
          "22,4",
          "53,3",
          "44,4",
          "66",
          "36,5",
          "32,1",
          "23",
          "55,8",
          "35,5",
          "39,5",
          "68,3",
          "46,5",
          "39,1",
          "25,4",
          "36",
          "54,9",
          "61,9",
          "43,3",
          "62,8",
          "42,7",
          "79,9",
          "73,9",
          "51,8",
          "66,9",
          "74,6",
          "60,3",
          "52,1",
          "17,8",
          "56,4",
          "39,7",
          "48,6",
          "65,8",
          "54,8",
          "58,6",
          "60,6",
          "56,1",
          "56,7",
          "55,4",
          "69,7",
          "59,3",
          "48,6",
          "55,3",
          "33,8",
          "66,3",
          "37,8",
          "50",
          "59,8",
          "56,4",
          "51,7",
          "38,8",
          "52,9",
          "34,8",
          "50,8",
          "56,3",
          "54,3",
          "56,1",
          "40,4",
          "54,6",
          "40,9",
          "49,2",
          "54,7",
          "66,4",
          "13,2",
          "38,6",
          "43,9",
          "42,3",
          "57",
          "49,4",
          "60,9",
          "33,3",
          "20,9",
          "40,2",
          "25,1",
          "2,7",
          "39,9",
          "46,6",
          "55,7",
          "22,7",
          "47,8",
          "43,2",
          "52,7",
          "59,2",
          "47,8",
          "48,6",
          "16,3",
          "43,1",
          "44,4",
          "50,5",
          "51,9",
          "63,2",
          "36,9",
          "47",
          "41,1",
          "33,7",
          "47,6",
          "33,1",
          "47,7",
          "40,8",
          "36,7",
          "68,5",
          "46,9",
          "56,2",
          "51,1",
          "37,1",
          "54,4",
          "46",
          "45,2",
          "42",
          "43,7",
          "33,8",
          "32,4",
          "32,3",
          "44,7",
          "48,4",
          "49",
          "57,6",
          "58,3",
          "56,9",
          "28,8",
          "46,2",
          "60,8",
          "50,3",
          "38,1",
          "45",
          "62,7",
          "47,9",
          "38,3",
          "45,8",
          "34,8",
          "40,5",
          "43,7",
          "46,9",
          "51,2",
          "56,5",
          "39,1",
          "58,5",
          "33,5",
          "54,3",
          "48,1",
          "48,9",
          "34,2",
          "45,6",
          "44,9",
          "41,7",
          "65,5",
          "45,9",
          "38,5",
          "38,9",
          "42,1",
          "48,7",
          "61,6",
          "37,3",
          "52,4",
          "28,7",
          "68,7",
          "38",
          "38",
          "40,7",
          "46,7",
          "70,2",
          "48,4",
          "34,6",
          "61,7",
          "55,8",
          "71,8",
          "43,8",
          "48,4",
          "66,2",
          "26,2",
          "46,7",
          "48,3",
          "37,7",
          "61,1",
          "54,2",
          "42,3",
          "50,2",
          "21,6",
          "51,5",
          "49,7",
          "60,5",
          "52,5",
          "57,2",
          "52,8",
          "40,1",
          "62,4",
          "59,4",
          "50,8",
          "62,1",
          "62,1",
          "40,8",
          "73,5",
          "46,2",
          "70,2",
          "48,1",
          "53,1",
          "40,6",
          "47,9",
          "62,8",
          "53,5",
          "61",
          "69,9",
          "52,7",
          "57,1",
          "61,7",
          "45,3",
          "35,6",
          "45,9",
          "47,2",
          "56,6",
          "69,1",
          "41,1",
          "39,7",
          "33,1",
          "66,4",
          "54",
          "54,3",
          "50,7",
          "46,7",
          "60,3",
          "35,5",
          "32,1",
          "53,5",
          "39",
          "50,2",
          "31,5",
          "22,4",
          "53,8",
          "18,2",
          "34,6",
          "30,7",
          "36,6",
          "34,1",
          "33,2",
          "31,6",
          "59,4",
          "41,6",
          "42,9",
          "0",
          "24",
          "60,5",
          "41,9",
          "16,5",
          "46,5",
          "20,5",
          "30,6",
          "7,2",
          "43,5",
          "41,5",
          "39",
          "40,6",
          "44,4",
          "54,6",
          "22,5",
          "45,5",
          "29,2",
          "33,6",
          "36,3",
          "19,7",
          "54,5",
          "36",
          "40,2",
          "26,3",
          "34,3",
          "45",
          "25,8",
          "30,8",
          "27,4",
          "47,1",
          "48,1",
          "39,3",
          "28,4",
          "32",
          "30,9",
          "42,8",
          "46,4",
          "51,7",
          "68,2",
          "51,6",
          "65,1",
          "66,2",
          "48",
          "62,4",
          "53,3",
          "59,8",
          "57,7",
          "57,8",
          "47,3",
          "52,5",
          "39,6",
          "70,1",
          "61,4",
          "52,2",
          "47,2",
          "47,6",
          "61,1",
          "16,6",
          "47,1",
          "19,6",
          "22,6",
          "23,8",
          "26,1",
          "29,6",
          "33,3",
          "41,8",
          "65,9",
          "25,4",
          "39,4",
          "39,5",
          "40,5",
          "45,3",
          "44,8",
          "33,5",
          "34,1",
          "34,7",
          "33,8",
          "47,9",
          "43,4",
          "43,3",
          "57,4",
          "34",
          "35,6",
          "44,9",
          "51,1",
          "28,7",
          "34,7",
          "41,2",
          "48,9",
          "54,2",
          "53,7",
          "53,9",
          "52,7",
          "53,3",
          "30,1",
          "45",
          "46,6",
          "45,4",
          "51,3",
          "30,3",
          "34,3",
          "46,9",
          "46,9",
          "29,7",
          "35,2",
          "26,1",
          "30,6",
          "37,2",
          "53",
          "29,1",
          "64,9",
          "40,8",
          "41,5",
          "33,1",
          "20,6",
          "33,1",
          "39,6",
          "17,7",
          "41",
          "37,4",
          "30,1",
          "38,9",
          "38,4",
          "46,6",
          "41,6",
          "29,7",
          "34,8",
          "48,2",
          "15,4",
          "20,2",
          "31,5",
          "46,5",
          "30,3",
          "19,7",
          "7,2",
          "21",
          "41,1",
          "37,5",
          "23,6",
          "18,2",
          "27,8",
          "42,7",
          "32,3",
          "30",
          "30,8",
          "38,6",
          "20,6",
          "12,9",
          "31",
          "26,7",
          "13,8",
          "21,8",
          "21,7",
          "19,6",
          "35,6",
          "21,6",
          "24,4",
          "28,7",
          "25,2",
          "26,2",
          "40,9",
          "31,8",
          "35,8",
          "16,3",
          "30,4",
          "36,5",
          "26,1",
          "34,2",
          "28,6",
          "28,2",
          "60,8",
          "52,5",
          "34,4",
          "28,9",
          "46,2",
          "40,5",
          "34,3",
          "23,5",
          "36,3",
          "15,5",
          "18,1",
          "23,8",
          "16,3",
          "16,1",
          "36,5",
          "24,9",
          "28,2",
          "39,2",
          "56,1",
          "39,7",
          "51,4",
          "29,2",
          "29,2",
          "23,9",
          "45",
          "35,6",
          "37,9",
          "30,8",
          "36,9",
          "23,1",
          "28,9",
          "32,5",
          "46,1",
          "47,1",
          "25,4",
          "37,7",
          "41,7",
          "41",
          "26,5",
          "43,3",
          "34,5",
          "17,9",
          "40,9",
          "27,6",
          "16,7",
          "18,6",
          "21",
          "30,6",
          "27,8",
          "30,6",
          "29,5",
          "26,8",
          "50,4",
          "43,5",
          "39,6",
          "24,3",
          "40,3",
          "21",
          "36,7",
          "30,6",
          "26,6",
          "37,2",
          "22,8",
          "28",
          "22,7",
          "37",
          "31,7",
          "11,5",
          "18,9",
          "26,9",
          "37,6",
          "33,1",
          "35,7",
          "32,6",
          "34,8",
          "35,5",
          "33,6",
          "17,3",
          "20,5",
          "48,1",
          "44,9",
          "27",
          "35,1",
          "38",
          "35",
          "21,6",
          "52,2",
          "29,2",
          "55,6",
          "33,6",
          "45,3",
          "67,2",
          "37,9",
          "24,4",
          "54,2",
          "45,1",
          "51,9",
          "57,7",
          "49",
          "48",
          "26,9",
          "25,6",
          "26,9",
          "37,3",
          "25,7",
          "36,2",
          "37,2",
          "26,1",
          "25,8",
          "29,6",
          "11,7",
          "26,8",
          "21,6",
          "8,9",
          "50,8",
          "45",
          "47,3",
          "53,4",
          "35",
          "51,1",
          "44,6",
          "44,9",
          "36,6",
          "36,3",
          "46,6",
          "41,5",
          "35,7",
          "63,7",
          "43,3",
          "53,9",
          "47,6",
          "57,5",
          "26,9",
          "28,4",
          "57,3",
          "45,7",
          "37,6",
          "40,8",
          "38,2",
          "24,2",
          "54,6",
          "26,5",
          "52",
          "47",
          "50,5",
          "46,8",
          "60,2",
          "13",
          "47,6",
          "42,3",
          "37",
          "51,6",
          "34,2",
          "19,3",
          "46",
          "9,8",
          "37,9",
          "19",
          "50,6",
          "48,6",
          "52,3",
          "49,7",
          "58,4",
          "39,9",
          "41,8",
          "52,8",
          "32,1",
          "43,8",
          "41,8",
          "38,7",
          "64,1",
          "60,4",
          "30,6",
          "17,4",
          "30,5",
          "39,8",
          "45,8",
          "28,6",
          "42,7",
          "43,9",
          "34",
          "37,7",
          "35,9",
          "35,5",
          "35,6",
          "55,1",
          "36,4",
          "35,5",
          "45,1",
          "44,3",
          "79,2",
          "46,2",
          "47,5",
          "49,6"
         ],
         "y0": " ",
         "yaxis": "y"
        }
       ],
       "layout": {
        "boxmode": "group",
        "legend": {
         "tracegroupgap": 0
        },
        "margin": {
         "t": 60
        },
        "template": {
         "data": {
          "bar": [
           {
            "error_x": {
             "color": "#2a3f5f"
            },
            "error_y": {
             "color": "#2a3f5f"
            },
            "marker": {
             "line": {
              "color": "#E5ECF6",
              "width": 0.5
             },
             "pattern": {
              "fillmode": "overlay",
              "size": 10,
              "solidity": 0.2
             }
            },
            "type": "bar"
           }
          ],
          "barpolar": [
           {
            "marker": {
             "line": {
              "color": "#E5ECF6",
              "width": 0.5
             },
             "pattern": {
              "fillmode": "overlay",
              "size": 10,
              "solidity": 0.2
             }
            },
            "type": "barpolar"
           }
          ],
          "carpet": [
           {
            "aaxis": {
             "endlinecolor": "#2a3f5f",
             "gridcolor": "white",
             "linecolor": "white",
             "minorgridcolor": "white",
             "startlinecolor": "#2a3f5f"
            },
            "baxis": {
             "endlinecolor": "#2a3f5f",
             "gridcolor": "white",
             "linecolor": "white",
             "minorgridcolor": "white",
             "startlinecolor": "#2a3f5f"
            },
            "type": "carpet"
           }
          ],
          "choropleth": [
           {
            "colorbar": {
             "outlinewidth": 0,
             "ticks": ""
            },
            "type": "choropleth"
           }
          ],
          "contour": [
           {
            "colorbar": {
             "outlinewidth": 0,
             "ticks": ""
            },
            "colorscale": [
             [
              0,
              "#0d0887"
             ],
             [
              0.1111111111111111,
              "#46039f"
             ],
             [
              0.2222222222222222,
              "#7201a8"
             ],
             [
              0.3333333333333333,
              "#9c179e"
             ],
             [
              0.4444444444444444,
              "#bd3786"
             ],
             [
              0.5555555555555556,
              "#d8576b"
             ],
             [
              0.6666666666666666,
              "#ed7953"
             ],
             [
              0.7777777777777778,
              "#fb9f3a"
             ],
             [
              0.8888888888888888,
              "#fdca26"
             ],
             [
              1,
              "#f0f921"
             ]
            ],
            "type": "contour"
           }
          ],
          "contourcarpet": [
           {
            "colorbar": {
             "outlinewidth": 0,
             "ticks": ""
            },
            "type": "contourcarpet"
           }
          ],
          "heatmap": [
           {
            "colorbar": {
             "outlinewidth": 0,
             "ticks": ""
            },
            "colorscale": [
             [
              0,
              "#0d0887"
             ],
             [
              0.1111111111111111,
              "#46039f"
             ],
             [
              0.2222222222222222,
              "#7201a8"
             ],
             [
              0.3333333333333333,
              "#9c179e"
             ],
             [
              0.4444444444444444,
              "#bd3786"
             ],
             [
              0.5555555555555556,
              "#d8576b"
             ],
             [
              0.6666666666666666,
              "#ed7953"
             ],
             [
              0.7777777777777778,
              "#fb9f3a"
             ],
             [
              0.8888888888888888,
              "#fdca26"
             ],
             [
              1,
              "#f0f921"
             ]
            ],
            "type": "heatmap"
           }
          ],
          "heatmapgl": [
           {
            "colorbar": {
             "outlinewidth": 0,
             "ticks": ""
            },
            "colorscale": [
             [
              0,
              "#0d0887"
             ],
             [
              0.1111111111111111,
              "#46039f"
             ],
             [
              0.2222222222222222,
              "#7201a8"
             ],
             [
              0.3333333333333333,
              "#9c179e"
             ],
             [
              0.4444444444444444,
              "#bd3786"
             ],
             [
              0.5555555555555556,
              "#d8576b"
             ],
             [
              0.6666666666666666,
              "#ed7953"
             ],
             [
              0.7777777777777778,
              "#fb9f3a"
             ],
             [
              0.8888888888888888,
              "#fdca26"
             ],
             [
              1,
              "#f0f921"
             ]
            ],
            "type": "heatmapgl"
           }
          ],
          "histogram": [
           {
            "marker": {
             "pattern": {
              "fillmode": "overlay",
              "size": 10,
              "solidity": 0.2
             }
            },
            "type": "histogram"
           }
          ],
          "histogram2d": [
           {
            "colorbar": {
             "outlinewidth": 0,
             "ticks": ""
            },
            "colorscale": [
             [
              0,
              "#0d0887"
             ],
             [
              0.1111111111111111,
              "#46039f"
             ],
             [
              0.2222222222222222,
              "#7201a8"
             ],
             [
              0.3333333333333333,
              "#9c179e"
             ],
             [
              0.4444444444444444,
              "#bd3786"
             ],
             [
              0.5555555555555556,
              "#d8576b"
             ],
             [
              0.6666666666666666,
              "#ed7953"
             ],
             [
              0.7777777777777778,
              "#fb9f3a"
             ],
             [
              0.8888888888888888,
              "#fdca26"
             ],
             [
              1,
              "#f0f921"
             ]
            ],
            "type": "histogram2d"
           }
          ],
          "histogram2dcontour": [
           {
            "colorbar": {
             "outlinewidth": 0,
             "ticks": ""
            },
            "colorscale": [
             [
              0,
              "#0d0887"
             ],
             [
              0.1111111111111111,
              "#46039f"
             ],
             [
              0.2222222222222222,
              "#7201a8"
             ],
             [
              0.3333333333333333,
              "#9c179e"
             ],
             [
              0.4444444444444444,
              "#bd3786"
             ],
             [
              0.5555555555555556,
              "#d8576b"
             ],
             [
              0.6666666666666666,
              "#ed7953"
             ],
             [
              0.7777777777777778,
              "#fb9f3a"
             ],
             [
              0.8888888888888888,
              "#fdca26"
             ],
             [
              1,
              "#f0f921"
             ]
            ],
            "type": "histogram2dcontour"
           }
          ],
          "mesh3d": [
           {
            "colorbar": {
             "outlinewidth": 0,
             "ticks": ""
            },
            "type": "mesh3d"
           }
          ],
          "parcoords": [
           {
            "line": {
             "colorbar": {
              "outlinewidth": 0,
              "ticks": ""
             }
            },
            "type": "parcoords"
           }
          ],
          "pie": [
           {
            "automargin": true,
            "type": "pie"
           }
          ],
          "scatter": [
           {
            "fillpattern": {
             "fillmode": "overlay",
             "size": 10,
             "solidity": 0.2
            },
            "type": "scatter"
           }
          ],
          "scatter3d": [
           {
            "line": {
             "colorbar": {
              "outlinewidth": 0,
              "ticks": ""
             }
            },
            "marker": {
             "colorbar": {
              "outlinewidth": 0,
              "ticks": ""
             }
            },
            "type": "scatter3d"
           }
          ],
          "scattercarpet": [
           {
            "marker": {
             "colorbar": {
              "outlinewidth": 0,
              "ticks": ""
             }
            },
            "type": "scattercarpet"
           }
          ],
          "scattergeo": [
           {
            "marker": {
             "colorbar": {
              "outlinewidth": 0,
              "ticks": ""
             }
            },
            "type": "scattergeo"
           }
          ],
          "scattergl": [
           {
            "marker": {
             "colorbar": {
              "outlinewidth": 0,
              "ticks": ""
             }
            },
            "type": "scattergl"
           }
          ],
          "scattermapbox": [
           {
            "marker": {
             "colorbar": {
              "outlinewidth": 0,
              "ticks": ""
             }
            },
            "type": "scattermapbox"
           }
          ],
          "scatterpolar": [
           {
            "marker": {
             "colorbar": {
              "outlinewidth": 0,
              "ticks": ""
             }
            },
            "type": "scatterpolar"
           }
          ],
          "scatterpolargl": [
           {
            "marker": {
             "colorbar": {
              "outlinewidth": 0,
              "ticks": ""
             }
            },
            "type": "scatterpolargl"
           }
          ],
          "scatterternary": [
           {
            "marker": {
             "colorbar": {
              "outlinewidth": 0,
              "ticks": ""
             }
            },
            "type": "scatterternary"
           }
          ],
          "surface": [
           {
            "colorbar": {
             "outlinewidth": 0,
             "ticks": ""
            },
            "colorscale": [
             [
              0,
              "#0d0887"
             ],
             [
              0.1111111111111111,
              "#46039f"
             ],
             [
              0.2222222222222222,
              "#7201a8"
             ],
             [
              0.3333333333333333,
              "#9c179e"
             ],
             [
              0.4444444444444444,
              "#bd3786"
             ],
             [
              0.5555555555555556,
              "#d8576b"
             ],
             [
              0.6666666666666666,
              "#ed7953"
             ],
             [
              0.7777777777777778,
              "#fb9f3a"
             ],
             [
              0.8888888888888888,
              "#fdca26"
             ],
             [
              1,
              "#f0f921"
             ]
            ],
            "type": "surface"
           }
          ],
          "table": [
           {
            "cells": {
             "fill": {
              "color": "#EBF0F8"
             },
             "line": {
              "color": "white"
             }
            },
            "header": {
             "fill": {
              "color": "#C8D4E3"
             },
             "line": {
              "color": "white"
             }
            },
            "type": "table"
           }
          ]
         },
         "layout": {
          "annotationdefaults": {
           "arrowcolor": "#2a3f5f",
           "arrowhead": 0,
           "arrowwidth": 1
          },
          "autotypenumbers": "strict",
          "coloraxis": {
           "colorbar": {
            "outlinewidth": 0,
            "ticks": ""
           }
          },
          "colorscale": {
           "diverging": [
            [
             0,
             "#8e0152"
            ],
            [
             0.1,
             "#c51b7d"
            ],
            [
             0.2,
             "#de77ae"
            ],
            [
             0.3,
             "#f1b6da"
            ],
            [
             0.4,
             "#fde0ef"
            ],
            [
             0.5,
             "#f7f7f7"
            ],
            [
             0.6,
             "#e6f5d0"
            ],
            [
             0.7,
             "#b8e186"
            ],
            [
             0.8,
             "#7fbc41"
            ],
            [
             0.9,
             "#4d9221"
            ],
            [
             1,
             "#276419"
            ]
           ],
           "sequential": [
            [
             0,
             "#0d0887"
            ],
            [
             0.1111111111111111,
             "#46039f"
            ],
            [
             0.2222222222222222,
             "#7201a8"
            ],
            [
             0.3333333333333333,
             "#9c179e"
            ],
            [
             0.4444444444444444,
             "#bd3786"
            ],
            [
             0.5555555555555556,
             "#d8576b"
            ],
            [
             0.6666666666666666,
             "#ed7953"
            ],
            [
             0.7777777777777778,
             "#fb9f3a"
            ],
            [
             0.8888888888888888,
             "#fdca26"
            ],
            [
             1,
             "#f0f921"
            ]
           ],
           "sequentialminus": [
            [
             0,
             "#0d0887"
            ],
            [
             0.1111111111111111,
             "#46039f"
            ],
            [
             0.2222222222222222,
             "#7201a8"
            ],
            [
             0.3333333333333333,
             "#9c179e"
            ],
            [
             0.4444444444444444,
             "#bd3786"
            ],
            [
             0.5555555555555556,
             "#d8576b"
            ],
            [
             0.6666666666666666,
             "#ed7953"
            ],
            [
             0.7777777777777778,
             "#fb9f3a"
            ],
            [
             0.8888888888888888,
             "#fdca26"
            ],
            [
             1,
             "#f0f921"
            ]
           ]
          },
          "colorway": [
           "#636efa",
           "#EF553B",
           "#00cc96",
           "#ab63fa",
           "#FFA15A",
           "#19d3f3",
           "#FF6692",
           "#B6E880",
           "#FF97FF",
           "#FECB52"
          ],
          "font": {
           "color": "#2a3f5f"
          },
          "geo": {
           "bgcolor": "white",
           "lakecolor": "white",
           "landcolor": "#E5ECF6",
           "showlakes": true,
           "showland": true,
           "subunitcolor": "white"
          },
          "hoverlabel": {
           "align": "left"
          },
          "hovermode": "closest",
          "mapbox": {
           "style": "light"
          },
          "paper_bgcolor": "white",
          "plot_bgcolor": "#E5ECF6",
          "polar": {
           "angularaxis": {
            "gridcolor": "white",
            "linecolor": "white",
            "ticks": ""
           },
           "bgcolor": "#E5ECF6",
           "radialaxis": {
            "gridcolor": "white",
            "linecolor": "white",
            "ticks": ""
           }
          },
          "scene": {
           "xaxis": {
            "backgroundcolor": "#E5ECF6",
            "gridcolor": "white",
            "gridwidth": 2,
            "linecolor": "white",
            "showbackground": true,
            "ticks": "",
            "zerolinecolor": "white"
           },
           "yaxis": {
            "backgroundcolor": "#E5ECF6",
            "gridcolor": "white",
            "gridwidth": 2,
            "linecolor": "white",
            "showbackground": true,
            "ticks": "",
            "zerolinecolor": "white"
           },
           "zaxis": {
            "backgroundcolor": "#E5ECF6",
            "gridcolor": "white",
            "gridwidth": 2,
            "linecolor": "white",
            "showbackground": true,
            "ticks": "",
            "zerolinecolor": "white"
           }
          },
          "shapedefaults": {
           "line": {
            "color": "#2a3f5f"
           }
          },
          "ternary": {
           "aaxis": {
            "gridcolor": "white",
            "linecolor": "white",
            "ticks": ""
           },
           "baxis": {
            "gridcolor": "white",
            "linecolor": "white",
            "ticks": ""
           },
           "bgcolor": "#E5ECF6",
           "caxis": {
            "gridcolor": "white",
            "linecolor": "white",
            "ticks": ""
           }
          },
          "title": {
           "x": 0.05
          },
          "xaxis": {
           "automargin": true,
           "gridcolor": "white",
           "linecolor": "white",
           "ticks": "",
           "title": {
            "standoff": 15
           },
           "zerolinecolor": "white",
           "zerolinewidth": 2
          },
          "yaxis": {
           "automargin": true,
           "gridcolor": "white",
           "linecolor": "white",
           "ticks": "",
           "title": {
            "standoff": 15
           },
           "zerolinecolor": "white",
           "zerolinewidth": 2
          }
         }
        },
        "title": {
         "text": "Boxplot de Renda em relação à Nota Geral",
         "x": 0.5,
         "y": 0.95
        },
        "xaxis": {
         "anchor": "y",
         "domain": [
          0,
          1
         ],
         "title": {
          "text": "Renda"
         }
        },
        "yaxis": {
         "anchor": "x",
         "domain": [
          0,
          1
         ],
         "title": {
          "text": "Nota Geral"
         }
        }
       }
      }
     },
     "metadata": {},
     "output_type": "display_data"
    }
   ],
   "source": [
    "categorias = {\n",
    "    'A': 'Renda baixa',\n",
    "    'B': 'Média baixa',\n",
    "    'C': 'Média alta',\n",
    "    'D': 'Média alta',\n",
    "    'E': 'Renda alta',\n",
    "    'F': 'Renda alta',\n",
    "    'G': 'Renda alta'\n",
    "}\n",
    "\n",
    "dados_explorados.loc[:, 'Categoria'] = dados_explorados['Renda'].map(categorias)\n",
    "\n",
    "fig = px.box(dados_explorados, x='Categoria', y='Nota_geral', \n",
    "             labels={'Categoria': 'Renda', 'Nota_geral': 'Nota Geral'})\n",
    "\n",
    "fig.update_layout(title='Boxplot de Renda em relação à Nota Geral', title_x=0.5, title_y=0.95)\n",
    "fig.show()"
   ]
  },
  {
   "cell_type": "code",
   "execution_count": 7,
   "metadata": {},
   "outputs": [
    {
     "data": {
      "application/vnd.plotly.v1+json": {
       "config": {
        "plotlyServerURL": "https://plot.ly"
       },
       "data": [
        {
         "alignmentgroup": "True",
         "hovertemplate": "Escolaridade da Mãe=%{x}<br>Nota Geral=%{y}<extra></extra>",
         "legendgroup": "",
         "marker": {
          "color": "#636efa"
         },
         "name": "",
         "notched": false,
         "offsetgroup": "",
         "orientation": "v",
         "showlegend": false,
         "type": "box",
         "x": [
          "Pós-graduação",
          "Ensino fundamental",
          "Ensino médio",
          "Ensino fundamental",
          "Pós-graduação",
          "Ensino médio",
          "Ensino médio",
          "Ensino médio",
          "Ensino fundamental",
          "Ensino superior",
          "Ensino superior",
          "Pós-graduação",
          "Pós-graduação",
          "Ensino fundamental",
          "Ensino médio",
          "Ensino médio",
          "Ensino médio",
          "Ensino superior",
          "Ensino fundamental",
          "Pós-graduação",
          "Ensino médio",
          "Ensino fundamental",
          "Pós-graduação",
          "Pós-graduação",
          "Ensino médio",
          "Pós-graduação",
          "Pós-graduação",
          "Ensino fundamental",
          "Ensino superior",
          "Ensino superior",
          "Ensino superior",
          "Ensino médio",
          "Ensino superior",
          "Pós-graduação",
          "Ensino superior",
          "Pós-graduação",
          "Ensino médio",
          "Ensino superior",
          "Ensino médio",
          "Pós-graduação",
          "Ensino superior",
          "Ensino superior",
          "Ensino superior",
          "Ensino médio",
          "Pós-graduação",
          "Pós-graduação",
          "Ensino médio",
          "Ensino médio",
          "Ensino superior",
          "Ensino fundamental",
          "Ensino superior",
          "Pós-graduação",
          "Pós-graduação",
          "Ensino superior",
          "Ensino médio",
          "Ensino superior",
          "Ensino fundamental",
          "Ensino fundamental",
          "Ensino superior",
          "Ensino médio",
          "Pós-graduação",
          "Ensino superior",
          "Ensino superior",
          "Ensino fundamental",
          "Ensino médio",
          "Ensino superior",
          "Pós-graduação",
          "Ensino superior",
          "Ensino fundamental",
          "Ensino superior",
          "Pós-graduação",
          "Ensino superior",
          "Pós-graduação",
          "Ensino médio",
          "Ensino superior",
          "Ensino superior",
          "Pós-graduação",
          "Pós-graduação",
          "Ensino superior",
          "Pós-graduação",
          "Ensino superior",
          "Pós-graduação",
          "Ensino superior",
          "Ensino médio",
          "Ensino superior",
          "Pós-graduação",
          "Ensino médio",
          "Ensino médio",
          "Pós-graduação",
          "Ensino superior",
          "Ensino médio",
          "Ensino superior",
          "Ensino médio",
          "Ensino superior",
          "Ensino superior",
          "Ensino médio",
          "Pós-graduação",
          "Ensino superior",
          "Ensino médio",
          "Ensino superior",
          "Pós-graduação",
          "Ensino superior",
          "Ensino superior",
          "Ensino médio",
          "Pós-graduação",
          "Ensino fundamental",
          "Ensino médio",
          "Ensino superior",
          "Pós-graduação",
          "Ensino médio",
          "Ensino médio",
          "Ensino superior",
          "Pós-graduação",
          "Pós-graduação",
          "Ensino superior",
          "Pós-graduação",
          "Ensino superior",
          "Ensino fundamental",
          "Ensino médio",
          "Pós-graduação",
          "Nenhuma escolaridade",
          "Ensino fundamental",
          "Ensino médio",
          "Pós-graduação",
          "Ensino superior",
          "Ensino fundamental",
          "Ensino fundamental",
          "Ensino médio",
          "Ensino médio",
          "Ensino fundamental",
          "Ensino superior",
          "Ensino médio",
          "Ensino médio",
          "Ensino médio",
          "Pós-graduação",
          "Ensino fundamental",
          "Ensino médio",
          "Ensino médio",
          "Pós-graduação",
          "Ensino superior",
          "Pós-graduação",
          "Ensino médio",
          "Ensino fundamental",
          "Ensino superior",
          "Ensino superior",
          "Pós-graduação",
          "Ensino superior",
          "Ensino médio",
          "Ensino fundamental",
          "Pós-graduação",
          "Ensino médio",
          "Nenhuma escolaridade",
          "Ensino fundamental",
          "Ensino médio",
          "Ensino médio",
          "Ensino superior",
          "Ensino superior",
          "Ensino médio",
          "Ensino superior",
          "Ensino fundamental",
          "Ensino superior",
          "Ensino médio",
          "Pós-graduação",
          "Ensino superior",
          "Ensino médio",
          "Ensino médio",
          "Ensino médio",
          "Ensino médio",
          "Ensino superior",
          "Ensino médio",
          "Ensino fundamental",
          "Ensino médio",
          "Ensino médio",
          "Ensino superior",
          "Ensino superior",
          "Ensino médio",
          "Ensino médio",
          "Ensino fundamental",
          "Ensino superior",
          "Ensino médio",
          "Ensino médio",
          "Ensino fundamental",
          "Ensino superior",
          "Ensino superior",
          "Ensino médio",
          "Ensino médio",
          "Ensino médio",
          "Ensino médio",
          "Pós-graduação",
          "Ensino superior",
          "Nenhuma escolaridade",
          "Pós-graduação",
          "Ensino fundamental",
          "Ensino médio",
          "Ensino fundamental",
          "Ensino superior",
          "Ensino superior",
          "Ensino médio",
          "Ensino fundamental",
          "Ensino superior",
          "Ensino superior",
          "Ensino médio",
          "Pós-graduação",
          "Pós-graduação",
          "Ensino médio",
          "Ensino médio",
          "Ensino superior",
          "Ensino médio",
          "Ensino médio",
          "Ensino fundamental",
          "Pós-graduação",
          "Ensino superior",
          "Ensino superior",
          "Ensino superior",
          "Ensino médio",
          "Ensino superior",
          "Ensino médio",
          "Ensino fundamental",
          "Ensino médio",
          "Ensino superior",
          "Ensino superior",
          "Ensino médio",
          "Pós-graduação",
          "Ensino superior",
          "Pós-graduação",
          "Ensino médio",
          "Ensino médio",
          "Ensino fundamental",
          "Ensino fundamental",
          "Ensino superior",
          "Ensino médio",
          "Ensino superior",
          "Ensino fundamental",
          "Pós-graduação",
          "Ensino fundamental",
          "Ensino fundamental",
          "Ensino superior",
          "Ensino fundamental",
          "Ensino superior",
          "Pós-graduação",
          "Ensino superior",
          "Ensino fundamental",
          "Ensino médio",
          "Ensino superior",
          "Ensino médio",
          "Ensino fundamental",
          "Ensino médio",
          "Ensino médio",
          "Ensino médio",
          "Ensino fundamental",
          "Ensino fundamental",
          "Ensino fundamental",
          "Ensino médio",
          "Ensino médio",
          "Pós-graduação",
          "Ensino médio",
          "Ensino médio",
          "Ensino fundamental",
          "Ensino médio",
          "Ensino médio",
          "Pós-graduação",
          "Pós-graduação",
          "Pós-graduação",
          "Ensino fundamental",
          "Ensino médio",
          "Ensino fundamental",
          "Ensino médio",
          "Ensino fundamental",
          "Ensino médio",
          "Ensino fundamental",
          "Ensino fundamental",
          "Nenhuma escolaridade",
          "Ensino médio",
          "Ensino médio",
          "Pós-graduação",
          "Ensino superior",
          "Ensino fundamental",
          "Ensino fundamental",
          "Ensino fundamental",
          "Ensino médio",
          "Ensino superior",
          "Ensino superior",
          "Ensino superior",
          "Ensino médio",
          "Ensino superior",
          "Ensino fundamental",
          "Ensino médio",
          "Ensino superior",
          "Ensino superior",
          "Ensino médio",
          "Ensino superior",
          "Ensino superior",
          "Ensino médio",
          "Ensino médio",
          "Ensino médio",
          "Pós-graduação",
          "Pós-graduação",
          "Ensino médio",
          "Ensino superior",
          "Ensino médio",
          "Ensino superior",
          "Ensino médio",
          "Ensino fundamental",
          "Ensino médio",
          "Ensino médio",
          "Ensino médio",
          "Pós-graduação",
          "Pós-graduação",
          "Ensino superior",
          "Ensino superior",
          "Ensino superior",
          "Ensino médio",
          "Ensino superior",
          "Ensino médio",
          "Ensino médio",
          "Pós-graduação",
          "Ensino superior",
          "Ensino médio",
          "Ensino médio",
          "Pós-graduação",
          "Ensino superior",
          "Ensino superior",
          "Ensino fundamental",
          "Ensino médio",
          "Ensino superior",
          "Pós-graduação",
          "Pós-graduação",
          "Pós-graduação",
          "Ensino fundamental",
          "Ensino superior",
          "Pós-graduação",
          "Ensino médio",
          "Pós-graduação",
          "Ensino fundamental",
          "Pós-graduação",
          "Ensino superior",
          "Pós-graduação",
          "Ensino superior",
          "Ensino fundamental",
          "Ensino médio",
          "Ensino superior",
          "Ensino médio",
          "Ensino médio",
          "Ensino fundamental",
          "Pós-graduação",
          "Ensino médio",
          "Pós-graduação",
          "Ensino fundamental",
          "Ensino médio",
          "Ensino médio",
          "Pós-graduação",
          "Ensino fundamental",
          "Ensino fundamental",
          "Ensino fundamental",
          "Ensino médio",
          "Ensino médio",
          "Pós-graduação",
          "Ensino fundamental",
          "Ensino superior",
          "Ensino fundamental",
          "Ensino médio",
          "Ensino fundamental",
          "Ensino médio",
          "Ensino médio",
          "Ensino médio",
          "Ensino fundamental",
          "Ensino médio",
          "Ensino médio",
          "Ensino médio",
          "Ensino fundamental",
          "Ensino médio",
          "Ensino médio",
          "Ensino médio",
          "Ensino médio",
          "Ensino fundamental",
          "Ensino médio",
          "Pós-graduação",
          "Ensino médio",
          "Ensino fundamental",
          "Ensino fundamental",
          "Ensino fundamental",
          "Ensino fundamental",
          "Ensino médio",
          "Pós-graduação",
          "Ensino médio",
          "Ensino fundamental",
          "Ensino fundamental",
          "Ensino fundamental",
          "Ensino médio",
          "Ensino fundamental",
          "Ensino fundamental",
          "Ensino fundamental",
          "Nenhuma escolaridade",
          "Ensino fundamental",
          "Ensino fundamental",
          "Ensino fundamental",
          "Nenhuma escolaridade",
          "Ensino médio",
          "Ensino fundamental",
          "Ensino médio",
          "Ensino médio",
          "Ensino fundamental",
          "Ensino médio",
          "Ensino médio",
          "Ensino médio",
          "Ensino médio",
          "Ensino médio",
          "Ensino fundamental",
          "Ensino fundamental",
          "Ensino médio",
          "Ensino fundamental",
          "Ensino superior",
          "Ensino médio",
          "Ensino médio",
          "Ensino médio",
          "Ensino fundamental",
          "Ensino médio",
          "Ensino fundamental",
          "Ensino fundamental",
          "Pós-graduação",
          "Ensino médio",
          "Ensino médio",
          "Nenhuma escolaridade",
          "Ensino médio",
          "Ensino médio",
          "Ensino fundamental",
          "Ensino médio",
          "Ensino médio",
          "Ensino fundamental",
          "Ensino fundamental",
          "Ensino superior",
          "Ensino médio",
          "Ensino superior",
          "Ensino fundamental",
          "Ensino médio",
          "Ensino fundamental",
          "Ensino fundamental",
          "Ensino médio",
          "Ensino superior",
          "Ensino fundamental",
          "Ensino médio",
          "Ensino fundamental",
          "Ensino fundamental",
          "Ensino médio",
          "Pós-graduação",
          "Pós-graduação",
          "Ensino fundamental",
          "Ensino fundamental",
          "Ensino médio",
          "Ensino médio",
          "Pós-graduação",
          "Pós-graduação",
          "Ensino médio",
          "Nenhuma escolaridade",
          "Pós-graduação",
          "Ensino superior",
          "Ensino superior",
          "Pós-graduação",
          "Ensino médio",
          "Ensino médio",
          "Ensino médio",
          "Ensino fundamental",
          "Ensino superior",
          "Ensino médio",
          "Ensino fundamental",
          "Ensino médio",
          "Pós-graduação",
          "Ensino médio",
          "Ensino superior",
          "Ensino fundamental",
          "Pós-graduação",
          "Ensino superior",
          "Ensino médio",
          "Ensino fundamental",
          "Ensino médio",
          "Ensino fundamental",
          "Ensino fundamental",
          "Pós-graduação",
          "Ensino superior",
          "Ensino médio",
          "Ensino fundamental",
          "Ensino médio",
          "Ensino médio",
          "Ensino médio",
          "Ensino superior",
          "Ensino fundamental",
          "Ensino fundamental",
          "Ensino fundamental",
          "Nenhuma escolaridade",
          "Ensino médio",
          "Ensino médio",
          "Ensino médio",
          "Ensino médio",
          "Ensino médio",
          "Ensino médio",
          "Ensino médio",
          "Ensino médio",
          "Pós-graduação",
          "Ensino superior",
          "Ensino superior",
          "Ensino médio",
          "Ensino médio",
          "Pós-graduação",
          "Pós-graduação",
          "Ensino médio",
          "Ensino superior",
          "Ensino fundamental",
          "Pós-graduação",
          "Ensino médio",
          "Ensino médio",
          "Pós-graduação",
          "Ensino superior",
          "Ensino médio",
          "Ensino médio",
          "Pós-graduação",
          "Ensino fundamental",
          "Pós-graduação",
          "Ensino fundamental",
          "Ensino fundamental",
          "Pós-graduação",
          "Ensino médio",
          "Ensino superior",
          "Ensino fundamental",
          "Ensino superior",
          "Pós-graduação",
          "Ensino médio",
          "Ensino médio",
          "Pós-graduação",
          "Ensino médio",
          "Ensino superior",
          "Ensino fundamental",
          "Ensino superior",
          "Ensino médio",
          "Ensino médio",
          "Ensino médio",
          "Pós-graduação",
          "Ensino fundamental",
          "Ensino fundamental",
          "Pós-graduação",
          "Ensino médio",
          "Ensino médio",
          "Ensino médio",
          "Ensino fundamental",
          "Ensino médio",
          "Ensino médio",
          "Ensino superior",
          "Ensino médio",
          "Ensino fundamental",
          "Ensino médio",
          "Ensino fundamental",
          "Ensino médio",
          "Ensino médio",
          "Ensino superior",
          "Ensino médio",
          "Ensino superior",
          "Ensino médio",
          "Ensino superior",
          "Ensino superior",
          "Ensino fundamental",
          "Pós-graduação",
          "Ensino fundamental",
          "Ensino superior",
          "Ensino fundamental",
          "Ensino fundamental",
          "Ensino superior",
          "Ensino fundamental",
          "Pós-graduação",
          "Ensino médio",
          "Ensino médio",
          "Ensino médio",
          "Ensino médio",
          "Pós-graduação",
          "Ensino médio",
          "Pós-graduação",
          "Ensino médio",
          "Pós-graduação",
          "Pós-graduação",
          "Ensino médio",
          "Ensino superior",
          "Ensino superior",
          "Ensino médio",
          "Pós-graduação",
          "Pós-graduação",
          "Ensino fundamental",
          "Ensino fundamental",
          "Ensino médio",
          "Ensino fundamental",
          "Ensino fundamental",
          "Ensino fundamental",
          "Ensino superior",
          "Ensino fundamental",
          "Ensino superior",
          "Ensino superior",
          "Ensino superior",
          "Pós-graduação",
          "Ensino médio",
          "Ensino superior",
          "Ensino médio",
          "Ensino médio",
          "Ensino médio",
          "Ensino fundamental",
          "Ensino superior",
          "Ensino médio",
          "Ensino fundamental",
          "Ensino médio",
          "Ensino fundamental",
          "Pós-graduação"
         ],
         "x0": " ",
         "xaxis": "x",
         "y": [
          "58,7",
          "49,8",
          "40,1",
          "53,2",
          "52,4",
          "22,4",
          "53,3",
          "44,4",
          "66",
          "36,5",
          "32,1",
          "23",
          "55,8",
          "35,5",
          "39,5",
          "68,3",
          "46,5",
          "39,1",
          "25,4",
          "36",
          "54,9",
          "61,9",
          "43,3",
          "62,8",
          "42,7",
          "79,9",
          "73,9",
          "51,8",
          "66,9",
          "74,6",
          "60,3",
          "52,1",
          "17,8",
          "56,4",
          "39,7",
          "48,6",
          "65,8",
          "54,8",
          "58,6",
          "60,6",
          "56,1",
          "56,7",
          "55,4",
          "69,7",
          "59,3",
          "48,6",
          "55,3",
          "33,8",
          "66,3",
          "37,8",
          "50",
          "59,8",
          "56,4",
          "51,7",
          "38,8",
          "52,9",
          "34,8",
          "50,8",
          "56,3",
          "54,3",
          "56,1",
          "40,4",
          "54,6",
          "40,9",
          "49,2",
          "54,7",
          "66,4",
          "13,2",
          "38,6",
          "43,9",
          "42,3",
          "57",
          "49,4",
          "60,9",
          "33,3",
          "20,9",
          "40,2",
          "25,1",
          "2,7",
          "39,9",
          "46,6",
          "55,7",
          "22,7",
          "47,8",
          "43,2",
          "52,7",
          "59,2",
          "47,8",
          "48,6",
          "16,3",
          "43,1",
          "44,4",
          "50,5",
          "51,9",
          "63,2",
          "36,9",
          "47",
          "41,1",
          "33,7",
          "47,6",
          "33,1",
          "47,7",
          "40,8",
          "36,7",
          "68,5",
          "46,9",
          "56,2",
          "51,1",
          "37,1",
          "54,4",
          "46",
          "45,2",
          "42",
          "43,7",
          "33,8",
          "32,4",
          "32,3",
          "44,7",
          "48,4",
          "49",
          "57,6",
          "58,3",
          "56,9",
          "28,8",
          "46,2",
          "60,8",
          "50,3",
          "38,1",
          "45",
          "62,7",
          "47,9",
          "38,3",
          "45,8",
          "34,8",
          "40,5",
          "43,7",
          "46,9",
          "51,2",
          "56,5",
          "39,1",
          "58,5",
          "33,5",
          "54,3",
          "48,1",
          "48,9",
          "34,2",
          "45,6",
          "44,9",
          "41,7",
          "65,5",
          "45,9",
          "38,5",
          "38,9",
          "42,1",
          "48,7",
          "61,6",
          "37,3",
          "52,4",
          "28,7",
          "68,7",
          "38",
          "38",
          "40,7",
          "46,7",
          "70,2",
          "48,4",
          "34,6",
          "61,7",
          "55,8",
          "71,8",
          "43,8",
          "48,4",
          "66,2",
          "26,2",
          "46,7",
          "48,3",
          "37,7",
          "61,1",
          "54,2",
          "42,3",
          "50,2",
          "21,6",
          "51,5",
          "49,7",
          "60,5",
          "52,5",
          "57,2",
          "52,8",
          "40,1",
          "62,4",
          "59,4",
          "50,8",
          "62,1",
          "62,1",
          "40,8",
          "73,5",
          "46,2",
          "70,2",
          "48,1",
          "53,1",
          "40,6",
          "47,9",
          "62,8",
          "53,5",
          "61",
          "69,9",
          "52,7",
          "57,1",
          "61,7",
          "45,3",
          "35,6",
          "45,9",
          "47,2",
          "56,6",
          "69,1",
          "41,1",
          "39,7",
          "33,1",
          "66,4",
          "54",
          "54,3",
          "50,7",
          "46,7",
          "60,3",
          "35,5",
          "32,1",
          "53,5",
          "39",
          "50,2",
          "31,5",
          "22,4",
          "53,8",
          "18,2",
          "34,6",
          "30,7",
          "36,6",
          "34,1",
          "33,2",
          "31,6",
          "59,4",
          "41,6",
          "42,9",
          "0",
          "24",
          "60,5",
          "41,9",
          "16,5",
          "46,5",
          "20,5",
          "30,6",
          "7,2",
          "43,5",
          "41,5",
          "39",
          "40,6",
          "44,4",
          "54,6",
          "22,5",
          "45,5",
          "29,2",
          "33,6",
          "36,3",
          "19,7",
          "54,5",
          "36",
          "40,2",
          "26,3",
          "34,3",
          "45",
          "25,8",
          "30,8",
          "27,4",
          "47,1",
          "48,1",
          "39,3",
          "28,4",
          "32",
          "30,9",
          "42,8",
          "46,4",
          "51,7",
          "68,2",
          "51,6",
          "65,1",
          "66,2",
          "48",
          "62,4",
          "53,3",
          "59,8",
          "57,7",
          "57,8",
          "47,3",
          "52,5",
          "39,6",
          "70,1",
          "61,4",
          "52,2",
          "47,2",
          "47,6",
          "61,1",
          "16,6",
          "47,1",
          "19,6",
          "22,6",
          "23,8",
          "26,1",
          "29,6",
          "33,3",
          "41,8",
          "65,9",
          "25,4",
          "39,4",
          "39,5",
          "40,5",
          "45,3",
          "44,8",
          "33,5",
          "34,1",
          "34,7",
          "33,8",
          "47,9",
          "43,4",
          "43,3",
          "57,4",
          "34",
          "35,6",
          "44,9",
          "51,1",
          "28,7",
          "34,7",
          "41,2",
          "48,9",
          "54,2",
          "53,7",
          "53,9",
          "52,7",
          "53,3",
          "30,1",
          "45",
          "46,6",
          "45,4",
          "51,3",
          "30,3",
          "34,3",
          "46,9",
          "46,9",
          "29,7",
          "35,2",
          "26,1",
          "30,6",
          "37,2",
          "53",
          "29,1",
          "64,9",
          "40,8",
          "41,5",
          "33,1",
          "20,6",
          "33,1",
          "39,6",
          "17,7",
          "41",
          "37,4",
          "30,1",
          "38,9",
          "38,4",
          "46,6",
          "41,6",
          "29,7",
          "34,8",
          "48,2",
          "15,4",
          "20,2",
          "31,5",
          "46,5",
          "30,3",
          "19,7",
          "7,2",
          "21",
          "41,1",
          "37,5",
          "23,6",
          "18,2",
          "27,8",
          "42,7",
          "32,3",
          "30",
          "30,8",
          "38,6",
          "20,6",
          "12,9",
          "31",
          "26,7",
          "13,8",
          "21,8",
          "21,7",
          "19,6",
          "35,6",
          "21,6",
          "24,4",
          "28,7",
          "25,2",
          "26,2",
          "40,9",
          "31,8",
          "35,8",
          "16,3",
          "30,4",
          "36,5",
          "26,1",
          "34,2",
          "28,6",
          "28,2",
          "60,8",
          "52,5",
          "34,4",
          "28,9",
          "46,2",
          "40,5",
          "34,3",
          "23,5",
          "36,3",
          "15,5",
          "18,1",
          "23,8",
          "16,3",
          "16,1",
          "36,5",
          "24,9",
          "28,2",
          "39,2",
          "56,1",
          "39,7",
          "51,4",
          "29,2",
          "29,2",
          "23,9",
          "45",
          "35,6",
          "37,9",
          "30,8",
          "36,9",
          "23,1",
          "28,9",
          "32,5",
          "46,1",
          "47,1",
          "25,4",
          "37,7",
          "41,7",
          "41",
          "26,5",
          "43,3",
          "34,5",
          "17,9",
          "40,9",
          "27,6",
          "16,7",
          "18,6",
          "21",
          "30,6",
          "27,8",
          "30,6",
          "29,5",
          "26,8",
          "50,4",
          "43,5",
          "39,6",
          "24,3",
          "40,3",
          "21",
          "36,7",
          "30,6",
          "26,6",
          "37,2",
          "22,8",
          "28",
          "22,7",
          "37",
          "31,7",
          "11,5",
          "18,9",
          "26,9",
          "37,6",
          "33,1",
          "35,7",
          "32,6",
          "34,8",
          "35,5",
          "33,6",
          "17,3",
          "20,5",
          "48,1",
          "44,9",
          "27",
          "35,1",
          "38",
          "35",
          "21,6",
          "52,2",
          "29,2",
          "55,6",
          "33,6",
          "45,3",
          "67,2",
          "37,9",
          "24,4",
          "54,2",
          "45,1",
          "51,9",
          "57,7",
          "49",
          "48",
          "26,9",
          "25,6",
          "26,9",
          "37,3",
          "25,7",
          "36,2",
          "37,2",
          "26,1",
          "25,8",
          "29,6",
          "11,7",
          "26,8",
          "21,6",
          "8,9",
          "50,8",
          "45",
          "47,3",
          "53,4",
          "35",
          "51,1",
          "44,6",
          "44,9",
          "36,6",
          "36,3",
          "46,6",
          "41,5",
          "35,7",
          "63,7",
          "43,3",
          "53,9",
          "47,6",
          "57,5",
          "26,9",
          "28,4",
          "57,3",
          "45,7",
          "37,6",
          "40,8",
          "38,2",
          "24,2",
          "54,6",
          "26,5",
          "52",
          "47",
          "50,5",
          "46,8",
          "60,2",
          "13",
          "47,6",
          "42,3",
          "37",
          "51,6",
          "34,2",
          "19,3",
          "46",
          "9,8",
          "37,9",
          "19",
          "50,6",
          "48,6",
          "52,3",
          "49,7",
          "58,4",
          "39,9",
          "41,8",
          "52,8",
          "32,1",
          "43,8",
          "41,8",
          "38,7",
          "64,1",
          "60,4",
          "30,6",
          "17,4",
          "30,5",
          "39,8",
          "45,8",
          "28,6",
          "42,7",
          "43,9",
          "34",
          "37,7",
          "35,9",
          "35,5",
          "35,6",
          "55,1",
          "36,4",
          "35,5",
          "45,1",
          "44,3",
          "79,2",
          "46,2",
          "47,5",
          "49,6"
         ],
         "y0": " ",
         "yaxis": "y"
        }
       ],
       "layout": {
        "boxmode": "group",
        "legend": {
         "tracegroupgap": 0
        },
        "margin": {
         "t": 60
        },
        "template": {
         "data": {
          "bar": [
           {
            "error_x": {
             "color": "#2a3f5f"
            },
            "error_y": {
             "color": "#2a3f5f"
            },
            "marker": {
             "line": {
              "color": "#E5ECF6",
              "width": 0.5
             },
             "pattern": {
              "fillmode": "overlay",
              "size": 10,
              "solidity": 0.2
             }
            },
            "type": "bar"
           }
          ],
          "barpolar": [
           {
            "marker": {
             "line": {
              "color": "#E5ECF6",
              "width": 0.5
             },
             "pattern": {
              "fillmode": "overlay",
              "size": 10,
              "solidity": 0.2
             }
            },
            "type": "barpolar"
           }
          ],
          "carpet": [
           {
            "aaxis": {
             "endlinecolor": "#2a3f5f",
             "gridcolor": "white",
             "linecolor": "white",
             "minorgridcolor": "white",
             "startlinecolor": "#2a3f5f"
            },
            "baxis": {
             "endlinecolor": "#2a3f5f",
             "gridcolor": "white",
             "linecolor": "white",
             "minorgridcolor": "white",
             "startlinecolor": "#2a3f5f"
            },
            "type": "carpet"
           }
          ],
          "choropleth": [
           {
            "colorbar": {
             "outlinewidth": 0,
             "ticks": ""
            },
            "type": "choropleth"
           }
          ],
          "contour": [
           {
            "colorbar": {
             "outlinewidth": 0,
             "ticks": ""
            },
            "colorscale": [
             [
              0,
              "#0d0887"
             ],
             [
              0.1111111111111111,
              "#46039f"
             ],
             [
              0.2222222222222222,
              "#7201a8"
             ],
             [
              0.3333333333333333,
              "#9c179e"
             ],
             [
              0.4444444444444444,
              "#bd3786"
             ],
             [
              0.5555555555555556,
              "#d8576b"
             ],
             [
              0.6666666666666666,
              "#ed7953"
             ],
             [
              0.7777777777777778,
              "#fb9f3a"
             ],
             [
              0.8888888888888888,
              "#fdca26"
             ],
             [
              1,
              "#f0f921"
             ]
            ],
            "type": "contour"
           }
          ],
          "contourcarpet": [
           {
            "colorbar": {
             "outlinewidth": 0,
             "ticks": ""
            },
            "type": "contourcarpet"
           }
          ],
          "heatmap": [
           {
            "colorbar": {
             "outlinewidth": 0,
             "ticks": ""
            },
            "colorscale": [
             [
              0,
              "#0d0887"
             ],
             [
              0.1111111111111111,
              "#46039f"
             ],
             [
              0.2222222222222222,
              "#7201a8"
             ],
             [
              0.3333333333333333,
              "#9c179e"
             ],
             [
              0.4444444444444444,
              "#bd3786"
             ],
             [
              0.5555555555555556,
              "#d8576b"
             ],
             [
              0.6666666666666666,
              "#ed7953"
             ],
             [
              0.7777777777777778,
              "#fb9f3a"
             ],
             [
              0.8888888888888888,
              "#fdca26"
             ],
             [
              1,
              "#f0f921"
             ]
            ],
            "type": "heatmap"
           }
          ],
          "heatmapgl": [
           {
            "colorbar": {
             "outlinewidth": 0,
             "ticks": ""
            },
            "colorscale": [
             [
              0,
              "#0d0887"
             ],
             [
              0.1111111111111111,
              "#46039f"
             ],
             [
              0.2222222222222222,
              "#7201a8"
             ],
             [
              0.3333333333333333,
              "#9c179e"
             ],
             [
              0.4444444444444444,
              "#bd3786"
             ],
             [
              0.5555555555555556,
              "#d8576b"
             ],
             [
              0.6666666666666666,
              "#ed7953"
             ],
             [
              0.7777777777777778,
              "#fb9f3a"
             ],
             [
              0.8888888888888888,
              "#fdca26"
             ],
             [
              1,
              "#f0f921"
             ]
            ],
            "type": "heatmapgl"
           }
          ],
          "histogram": [
           {
            "marker": {
             "pattern": {
              "fillmode": "overlay",
              "size": 10,
              "solidity": 0.2
             }
            },
            "type": "histogram"
           }
          ],
          "histogram2d": [
           {
            "colorbar": {
             "outlinewidth": 0,
             "ticks": ""
            },
            "colorscale": [
             [
              0,
              "#0d0887"
             ],
             [
              0.1111111111111111,
              "#46039f"
             ],
             [
              0.2222222222222222,
              "#7201a8"
             ],
             [
              0.3333333333333333,
              "#9c179e"
             ],
             [
              0.4444444444444444,
              "#bd3786"
             ],
             [
              0.5555555555555556,
              "#d8576b"
             ],
             [
              0.6666666666666666,
              "#ed7953"
             ],
             [
              0.7777777777777778,
              "#fb9f3a"
             ],
             [
              0.8888888888888888,
              "#fdca26"
             ],
             [
              1,
              "#f0f921"
             ]
            ],
            "type": "histogram2d"
           }
          ],
          "histogram2dcontour": [
           {
            "colorbar": {
             "outlinewidth": 0,
             "ticks": ""
            },
            "colorscale": [
             [
              0,
              "#0d0887"
             ],
             [
              0.1111111111111111,
              "#46039f"
             ],
             [
              0.2222222222222222,
              "#7201a8"
             ],
             [
              0.3333333333333333,
              "#9c179e"
             ],
             [
              0.4444444444444444,
              "#bd3786"
             ],
             [
              0.5555555555555556,
              "#d8576b"
             ],
             [
              0.6666666666666666,
              "#ed7953"
             ],
             [
              0.7777777777777778,
              "#fb9f3a"
             ],
             [
              0.8888888888888888,
              "#fdca26"
             ],
             [
              1,
              "#f0f921"
             ]
            ],
            "type": "histogram2dcontour"
           }
          ],
          "mesh3d": [
           {
            "colorbar": {
             "outlinewidth": 0,
             "ticks": ""
            },
            "type": "mesh3d"
           }
          ],
          "parcoords": [
           {
            "line": {
             "colorbar": {
              "outlinewidth": 0,
              "ticks": ""
             }
            },
            "type": "parcoords"
           }
          ],
          "pie": [
           {
            "automargin": true,
            "type": "pie"
           }
          ],
          "scatter": [
           {
            "fillpattern": {
             "fillmode": "overlay",
             "size": 10,
             "solidity": 0.2
            },
            "type": "scatter"
           }
          ],
          "scatter3d": [
           {
            "line": {
             "colorbar": {
              "outlinewidth": 0,
              "ticks": ""
             }
            },
            "marker": {
             "colorbar": {
              "outlinewidth": 0,
              "ticks": ""
             }
            },
            "type": "scatter3d"
           }
          ],
          "scattercarpet": [
           {
            "marker": {
             "colorbar": {
              "outlinewidth": 0,
              "ticks": ""
             }
            },
            "type": "scattercarpet"
           }
          ],
          "scattergeo": [
           {
            "marker": {
             "colorbar": {
              "outlinewidth": 0,
              "ticks": ""
             }
            },
            "type": "scattergeo"
           }
          ],
          "scattergl": [
           {
            "marker": {
             "colorbar": {
              "outlinewidth": 0,
              "ticks": ""
             }
            },
            "type": "scattergl"
           }
          ],
          "scattermapbox": [
           {
            "marker": {
             "colorbar": {
              "outlinewidth": 0,
              "ticks": ""
             }
            },
            "type": "scattermapbox"
           }
          ],
          "scatterpolar": [
           {
            "marker": {
             "colorbar": {
              "outlinewidth": 0,
              "ticks": ""
             }
            },
            "type": "scatterpolar"
           }
          ],
          "scatterpolargl": [
           {
            "marker": {
             "colorbar": {
              "outlinewidth": 0,
              "ticks": ""
             }
            },
            "type": "scatterpolargl"
           }
          ],
          "scatterternary": [
           {
            "marker": {
             "colorbar": {
              "outlinewidth": 0,
              "ticks": ""
             }
            },
            "type": "scatterternary"
           }
          ],
          "surface": [
           {
            "colorbar": {
             "outlinewidth": 0,
             "ticks": ""
            },
            "colorscale": [
             [
              0,
              "#0d0887"
             ],
             [
              0.1111111111111111,
              "#46039f"
             ],
             [
              0.2222222222222222,
              "#7201a8"
             ],
             [
              0.3333333333333333,
              "#9c179e"
             ],
             [
              0.4444444444444444,
              "#bd3786"
             ],
             [
              0.5555555555555556,
              "#d8576b"
             ],
             [
              0.6666666666666666,
              "#ed7953"
             ],
             [
              0.7777777777777778,
              "#fb9f3a"
             ],
             [
              0.8888888888888888,
              "#fdca26"
             ],
             [
              1,
              "#f0f921"
             ]
            ],
            "type": "surface"
           }
          ],
          "table": [
           {
            "cells": {
             "fill": {
              "color": "#EBF0F8"
             },
             "line": {
              "color": "white"
             }
            },
            "header": {
             "fill": {
              "color": "#C8D4E3"
             },
             "line": {
              "color": "white"
             }
            },
            "type": "table"
           }
          ]
         },
         "layout": {
          "annotationdefaults": {
           "arrowcolor": "#2a3f5f",
           "arrowhead": 0,
           "arrowwidth": 1
          },
          "autotypenumbers": "strict",
          "coloraxis": {
           "colorbar": {
            "outlinewidth": 0,
            "ticks": ""
           }
          },
          "colorscale": {
           "diverging": [
            [
             0,
             "#8e0152"
            ],
            [
             0.1,
             "#c51b7d"
            ],
            [
             0.2,
             "#de77ae"
            ],
            [
             0.3,
             "#f1b6da"
            ],
            [
             0.4,
             "#fde0ef"
            ],
            [
             0.5,
             "#f7f7f7"
            ],
            [
             0.6,
             "#e6f5d0"
            ],
            [
             0.7,
             "#b8e186"
            ],
            [
             0.8,
             "#7fbc41"
            ],
            [
             0.9,
             "#4d9221"
            ],
            [
             1,
             "#276419"
            ]
           ],
           "sequential": [
            [
             0,
             "#0d0887"
            ],
            [
             0.1111111111111111,
             "#46039f"
            ],
            [
             0.2222222222222222,
             "#7201a8"
            ],
            [
             0.3333333333333333,
             "#9c179e"
            ],
            [
             0.4444444444444444,
             "#bd3786"
            ],
            [
             0.5555555555555556,
             "#d8576b"
            ],
            [
             0.6666666666666666,
             "#ed7953"
            ],
            [
             0.7777777777777778,
             "#fb9f3a"
            ],
            [
             0.8888888888888888,
             "#fdca26"
            ],
            [
             1,
             "#f0f921"
            ]
           ],
           "sequentialminus": [
            [
             0,
             "#0d0887"
            ],
            [
             0.1111111111111111,
             "#46039f"
            ],
            [
             0.2222222222222222,
             "#7201a8"
            ],
            [
             0.3333333333333333,
             "#9c179e"
            ],
            [
             0.4444444444444444,
             "#bd3786"
            ],
            [
             0.5555555555555556,
             "#d8576b"
            ],
            [
             0.6666666666666666,
             "#ed7953"
            ],
            [
             0.7777777777777778,
             "#fb9f3a"
            ],
            [
             0.8888888888888888,
             "#fdca26"
            ],
            [
             1,
             "#f0f921"
            ]
           ]
          },
          "colorway": [
           "#636efa",
           "#EF553B",
           "#00cc96",
           "#ab63fa",
           "#FFA15A",
           "#19d3f3",
           "#FF6692",
           "#B6E880",
           "#FF97FF",
           "#FECB52"
          ],
          "font": {
           "color": "#2a3f5f"
          },
          "geo": {
           "bgcolor": "white",
           "lakecolor": "white",
           "landcolor": "#E5ECF6",
           "showlakes": true,
           "showland": true,
           "subunitcolor": "white"
          },
          "hoverlabel": {
           "align": "left"
          },
          "hovermode": "closest",
          "mapbox": {
           "style": "light"
          },
          "paper_bgcolor": "white",
          "plot_bgcolor": "#E5ECF6",
          "polar": {
           "angularaxis": {
            "gridcolor": "white",
            "linecolor": "white",
            "ticks": ""
           },
           "bgcolor": "#E5ECF6",
           "radialaxis": {
            "gridcolor": "white",
            "linecolor": "white",
            "ticks": ""
           }
          },
          "scene": {
           "xaxis": {
            "backgroundcolor": "#E5ECF6",
            "gridcolor": "white",
            "gridwidth": 2,
            "linecolor": "white",
            "showbackground": true,
            "ticks": "",
            "zerolinecolor": "white"
           },
           "yaxis": {
            "backgroundcolor": "#E5ECF6",
            "gridcolor": "white",
            "gridwidth": 2,
            "linecolor": "white",
            "showbackground": true,
            "ticks": "",
            "zerolinecolor": "white"
           },
           "zaxis": {
            "backgroundcolor": "#E5ECF6",
            "gridcolor": "white",
            "gridwidth": 2,
            "linecolor": "white",
            "showbackground": true,
            "ticks": "",
            "zerolinecolor": "white"
           }
          },
          "shapedefaults": {
           "line": {
            "color": "#2a3f5f"
           }
          },
          "ternary": {
           "aaxis": {
            "gridcolor": "white",
            "linecolor": "white",
            "ticks": ""
           },
           "baxis": {
            "gridcolor": "white",
            "linecolor": "white",
            "ticks": ""
           },
           "bgcolor": "#E5ECF6",
           "caxis": {
            "gridcolor": "white",
            "linecolor": "white",
            "ticks": ""
           }
          },
          "title": {
           "x": 0.05
          },
          "xaxis": {
           "automargin": true,
           "gridcolor": "white",
           "linecolor": "white",
           "ticks": "",
           "title": {
            "standoff": 15
           },
           "zerolinecolor": "white",
           "zerolinewidth": 2
          },
          "yaxis": {
           "automargin": true,
           "gridcolor": "white",
           "linecolor": "white",
           "ticks": "",
           "title": {
            "standoff": 15
           },
           "zerolinecolor": "white",
           "zerolinewidth": 2
          }
         }
        },
        "title": {
         "text": "Boxplot de Escolaridade da Mãe em relação à Nota Geral",
         "x": 0.5,
         "y": 0.95
        },
        "xaxis": {
         "anchor": "y",
         "domain": [
          0,
          1
         ],
         "title": {
          "text": "Escolaridade da Mãe"
         }
        },
        "yaxis": {
         "anchor": "x",
         "domain": [
          0,
          1
         ],
         "title": {
          "text": "Nota Geral"
         }
        }
       }
      }
     },
     "metadata": {},
     "output_type": "display_data"
    }
   ],
   "source": [
    "categorias = {\n",
    "    'A': 'Nenhuma escolaridade',\n",
    "    'B': 'Ensino fundamental',\n",
    "    'C': 'Ensino fundamental',\n",
    "    'D': 'Ensino médio',\n",
    "    'E': 'Ensino superior',\n",
    "    'F': 'Pós-graduação'\n",
    "}\n",
    "\n",
    "dados_explorados.loc[:, 'Categoria'] = dados_explorados['Escolaridade_mae'].map(categorias)\n",
    "\n",
    "fig = px.box(dados_explorados, x='Categoria', y='Nota_geral', \n",
    "             labels={'Categoria': 'Escolaridade da Mãe', 'Nota_geral': 'Nota Geral'})\n",
    "\n",
    "fig.update_layout(title='Boxplot de Escolaridade da Mãe em relação à Nota Geral', title_x=0.5, title_y=0.95)\n",
    "fig.show()"
   ]
  },
  {
   "cell_type": "code",
   "execution_count": 9,
   "metadata": {},
   "outputs": [
    {
     "data": {
      "application/vnd.plotly.v1+json": {
       "config": {
        "plotlyServerURL": "https://plot.ly"
       },
       "data": [
        {
         "alignmentgroup": "True",
         "hovertemplate": "Escolaridade do Pai=%{x}<br>Nota Geral=%{y}<extra></extra>",
         "legendgroup": "",
         "marker": {
          "color": "#636efa"
         },
         "name": "",
         "notched": false,
         "offsetgroup": "",
         "orientation": "v",
         "showlegend": false,
         "type": "box",
         "x": [
          "Ensino médio",
          "Ensino médio",
          "Ensino médio",
          "Ensino fundamental",
          "Ensino superior",
          "Ensino superior",
          "Ensino superior",
          "Ensino fundamental",
          "Ensino médio",
          "Ensino médio",
          "Ensino superior",
          "Pós-graduação",
          "Ensino superior",
          "Ensino fundamental",
          "Ensino médio",
          "Ensino médio",
          "Ensino médio",
          "Ensino superior",
          "Ensino fundamental",
          "Ensino médio",
          "Ensino fundamental",
          "Ensino fundamental",
          "Ensino médio",
          "Pós-graduação",
          "Pós-graduação",
          "Pós-graduação",
          "Pós-graduação",
          "Ensino médio",
          "Ensino superior",
          "Pós-graduação",
          "Ensino superior",
          "Pós-graduação",
          "Ensino médio",
          "Pós-graduação",
          "Pós-graduação",
          "Pós-graduação",
          "Ensino superior",
          "Ensino superior",
          "Ensino superior",
          "Pós-graduação",
          "Pós-graduação",
          "Ensino superior",
          "Ensino médio",
          "Ensino médio",
          "Pós-graduação",
          "Pós-graduação",
          "Ensino médio",
          "Ensino médio",
          "Ensino médio",
          "Nenhuma escolaridade",
          "Ensino médio",
          "Ensino superior",
          "Ensino superior",
          "Pós-graduação",
          "Ensino superior",
          "Ensino superior",
          "Ensino médio",
          "Ensino fundamental",
          "Ensino superior",
          "Ensino superior",
          "Ensino superior",
          "Ensino superior",
          "Ensino superior",
          "Nenhuma escolaridade",
          "Ensino superior",
          "Ensino médio",
          "Nenhuma escolaridade",
          "Ensino médio",
          "Pós-graduação",
          "Ensino superior",
          "Ensino superior",
          "Ensino superior",
          "Ensino médio",
          "Ensino médio",
          "Ensino superior",
          "Ensino superior",
          "Ensino médio",
          "Ensino superior",
          "Pós-graduação",
          "Pós-graduação",
          "Ensino fundamental",
          "Pós-graduação",
          "Ensino superior",
          "Nenhuma escolaridade",
          "Ensino superior",
          "Pós-graduação",
          "Nenhuma escolaridade",
          "Ensino médio",
          "Pós-graduação",
          "Ensino fundamental",
          "Ensino médio",
          "Ensino superior",
          "Ensino médio",
          "Ensino superior",
          "Pós-graduação",
          "Ensino médio",
          "Ensino superior",
          "Ensino médio",
          "Ensino médio",
          "Ensino médio",
          "Nenhuma escolaridade",
          "Ensino superior",
          "Ensino fundamental",
          "Ensino médio",
          "Ensino superior",
          "Ensino fundamental",
          "Ensino fundamental",
          "Ensino superior",
          "Ensino médio",
          "Ensino médio",
          "Ensino médio",
          "Pós-graduação",
          "Ensino médio",
          "Ensino superior",
          "Pós-graduação",
          "Ensino médio",
          "Ensino superior",
          "Ensino fundamental",
          "Ensino fundamental",
          "Ensino superior",
          "Nenhuma escolaridade",
          "Ensino fundamental",
          "Ensino fundamental",
          "Ensino superior",
          "Ensino médio",
          "Ensino médio",
          "Ensino fundamental",
          "Ensino médio",
          "Ensino médio",
          "Ensino fundamental",
          "Ensino médio",
          "Ensino fundamental",
          "Ensino médio",
          "Ensino fundamental",
          "Ensino superior",
          "Ensino médio",
          "Ensino médio",
          "Ensino médio",
          "Ensino fundamental",
          "Ensino médio",
          "Ensino superior",
          "Ensino fundamental",
          "Ensino médio",
          "Pós-graduação",
          "Ensino médio",
          "Ensino médio",
          "Ensino médio",
          "Ensino superior",
          "Ensino médio",
          "Ensino médio",
          "Ensino superior",
          "Nenhuma escolaridade",
          "Ensino fundamental",
          "Ensino fundamental",
          "Ensino médio",
          "Ensino superior",
          "Ensino médio",
          "Ensino fundamental",
          "Ensino médio",
          "Ensino fundamental",
          "Ensino superior",
          "Ensino médio",
          "Ensino fundamental",
          "Pós-graduação",
          "Ensino médio",
          "Ensino superior",
          "Ensino fundamental",
          "Pós-graduação",
          "Ensino superior",
          "Ensino médio",
          "Ensino médio",
          "Pós-graduação",
          "Ensino médio",
          "Ensino superior",
          "Ensino fundamental",
          "Nenhuma escolaridade",
          "Ensino médio",
          "Ensino fundamental",
          "Ensino médio",
          "Ensino superior",
          "Ensino superior",
          "Ensino fundamental",
          "Ensino médio",
          "Pós-graduação",
          "Ensino superior",
          "Ensino médio",
          "Nenhuma escolaridade",
          "Ensino médio",
          "Ensino médio",
          "Ensino superior",
          "Ensino médio",
          "Ensino médio",
          "Ensino fundamental",
          "Ensino médio",
          "Ensino médio",
          "Ensino superior",
          "Ensino médio",
          "Ensino fundamental",
          "Ensino médio",
          "Ensino médio",
          "Ensino superior",
          "Ensino médio",
          "Ensino superior",
          "Ensino superior",
          "Ensino superior",
          "Ensino médio",
          "Ensino médio",
          "Ensino médio",
          "Ensino médio",
          "Ensino médio",
          "Ensino fundamental",
          "Ensino médio",
          "Ensino superior",
          "Ensino médio",
          "Ensino médio",
          "Ensino superior",
          "Ensino médio",
          "Ensino médio",
          "Ensino médio",
          "Ensino médio",
          "Ensino médio",
          "Ensino superior",
          "Ensino médio",
          "Ensino superior",
          "Pós-graduação",
          "Pós-graduação",
          "Ensino superior",
          "Ensino médio",
          "Ensino médio",
          "Ensino médio",
          "Ensino médio",
          "Ensino médio",
          "Nenhuma escolaridade",
          "Ensino médio",
          "Ensino fundamental",
          "Ensino fundamental",
          "Ensino superior",
          "Ensino médio",
          "Ensino superior",
          "Ensino médio",
          "Ensino médio",
          "Ensino médio",
          "Ensino superior",
          "Ensino médio",
          "Ensino superior",
          "Ensino fundamental",
          "Ensino médio",
          "Ensino médio",
          "Ensino fundamental",
          "Ensino médio",
          "Ensino fundamental",
          "Ensino fundamental",
          "Ensino médio",
          "Ensino médio",
          "Ensino fundamental",
          "Nenhuma escolaridade",
          "Ensino médio",
          "Ensino fundamental",
          "Ensino fundamental",
          "Ensino fundamental",
          "Pós-graduação",
          "Ensino fundamental",
          "Ensino médio",
          "Ensino fundamental",
          "Ensino médio",
          "Ensino médio",
          "Ensino médio",
          "Ensino fundamental",
          "Ensino médio",
          "Ensino fundamental",
          "Ensino fundamental",
          "Nenhuma escolaridade",
          "Ensino superior",
          "Ensino fundamental",
          "Pós-graduação",
          "Ensino superior",
          "Ensino fundamental",
          "Ensino médio",
          "Ensino fundamental",
          "Ensino médio",
          "Ensino médio",
          "Ensino superior",
          "Ensino superior",
          "Ensino médio",
          "Ensino médio",
          "Ensino fundamental",
          "Ensino médio",
          "Ensino superior",
          "Pós-graduação",
          "Ensino médio",
          "Pós-graduação",
          "Ensino médio",
          "Ensino fundamental",
          "Ensino médio",
          "Ensino médio",
          "Pós-graduação",
          "Ensino fundamental",
          "Ensino médio",
          "Ensino médio",
          "Ensino fundamental",
          "Ensino médio",
          "Ensino fundamental",
          "Ensino fundamental",
          "Ensino médio",
          "Nenhuma escolaridade",
          "Ensino superior",
          "Ensino médio",
          "Pós-graduação",
          "Ensino médio",
          "Ensino médio",
          "Ensino superior",
          "Pós-graduação",
          "Ensino superior",
          "Pós-graduação",
          "Ensino superior",
          "Pós-graduação",
          "Ensino médio",
          "Ensino médio",
          "Pós-graduação",
          "Ensino médio",
          "Ensino superior",
          "Ensino médio",
          "Ensino fundamental",
          "Ensino superior",
          "Ensino superior",
          "Pós-graduação",
          "Ensino fundamental",
          "Ensino médio",
          "Ensino médio",
          "Pós-graduação",
          "Pós-graduação",
          "Ensino fundamental",
          "Ensino médio",
          "Ensino fundamental",
          "Pós-graduação",
          "Ensino médio",
          "Pós-graduação",
          "Ensino médio",
          "Ensino fundamental",
          "Pós-graduação",
          "Ensino médio",
          "Pós-graduação",
          "Pós-graduação",
          "Ensino fundamental",
          "Ensino superior",
          "Ensino superior",
          "Ensino médio",
          "Ensino médio",
          "Ensino fundamental",
          "Ensino médio",
          "Ensino médio",
          "Ensino fundamental",
          "Ensino fundamental",
          "Ensino fundamental",
          "Nenhuma escolaridade",
          "Ensino fundamental",
          "Ensino médio",
          "Ensino médio",
          "Pós-graduação",
          "Ensino fundamental",
          "Ensino médio",
          "Ensino fundamental",
          "Nenhuma escolaridade",
          "Ensino fundamental",
          "Ensino fundamental",
          "Ensino fundamental",
          "Ensino médio",
          "Pós-graduação",
          "Ensino médio",
          "Ensino fundamental",
          "Ensino fundamental",
          "Ensino médio",
          "Ensino médio",
          "Ensino fundamental",
          "Ensino médio",
          "Ensino médio",
          "Ensino médio",
          "Ensino superior",
          "Ensino fundamental",
          "Ensino fundamental",
          "Ensino médio",
          "Ensino médio",
          "Ensino fundamental",
          "Ensino superior",
          "Ensino médio",
          "Ensino fundamental",
          "Ensino fundamental",
          "Ensino fundamental",
          "Ensino médio",
          "Ensino médio",
          "Ensino fundamental",
          "Ensino superior",
          "Ensino fundamental",
          "Nenhuma escolaridade",
          "Ensino fundamental",
          "Ensino fundamental",
          "Ensino médio",
          "Ensino superior",
          "Ensino médio",
          "Ensino médio",
          "Ensino médio",
          "Nenhuma escolaridade",
          "Ensino fundamental",
          "Ensino médio",
          "Ensino médio",
          "Ensino fundamental",
          "Ensino médio",
          "Ensino fundamental",
          "Ensino médio",
          "Ensino fundamental",
          "Ensino fundamental",
          "Ensino superior",
          "Ensino fundamental",
          "Ensino superior",
          "Ensino fundamental",
          "Ensino fundamental",
          "Ensino fundamental",
          "Ensino superior",
          "Ensino fundamental",
          "Ensino médio",
          "Ensino médio",
          "Ensino médio",
          "Nenhuma escolaridade",
          "Ensino médio",
          "Ensino superior",
          "Ensino fundamental",
          "Nenhuma escolaridade",
          "Ensino médio",
          "Ensino fundamental",
          "Ensino fundamental",
          "Ensino médio",
          "Ensino médio",
          "Ensino médio",
          "Nenhuma escolaridade",
          "Ensino médio",
          "Ensino médio",
          "Ensino médio",
          "Ensino médio",
          "Ensino médio",
          "Ensino fundamental",
          "Ensino médio",
          "Ensino fundamental",
          "Ensino fundamental",
          "Ensino médio",
          "Ensino fundamental",
          "Ensino médio",
          "Ensino fundamental",
          "Ensino fundamental",
          "Ensino fundamental",
          "Ensino fundamental",
          "Pós-graduação",
          "Ensino fundamental",
          "Ensino fundamental",
          "Nenhuma escolaridade",
          "Ensino superior",
          "Ensino médio",
          "Ensino superior",
          "Nenhuma escolaridade",
          "Pós-graduação",
          "Ensino superior",
          "Ensino médio",
          "Ensino fundamental",
          "Ensino fundamental",
          "Ensino superior",
          "Ensino médio",
          "Ensino fundamental",
          "Ensino médio",
          "Pós-graduação",
          "Ensino superior",
          "Ensino superior",
          "Ensino superior",
          "Ensino médio",
          "Ensino fundamental",
          "Ensino fundamental",
          "Ensino médio",
          "Ensino fundamental",
          "Ensino fundamental",
          "Ensino fundamental",
          "Ensino médio",
          "Ensino médio",
          "Ensino fundamental",
          "Ensino médio",
          "Ensino médio",
          "Ensino fundamental",
          "Ensino médio",
          "Ensino médio",
          "Ensino fundamental",
          "Ensino fundamental",
          "Nenhuma escolaridade",
          "Ensino fundamental",
          "Ensino fundamental",
          "Ensino médio",
          "Ensino superior",
          "Nenhuma escolaridade",
          "Pós-graduação",
          "Ensino médio",
          "Ensino médio",
          "Ensino médio",
          "Ensino superior",
          "Ensino médio",
          "Pós-graduação",
          "Ensino médio",
          "Ensino superior",
          "Ensino superior",
          "Ensino médio",
          "Ensino médio",
          "Ensino fundamental",
          "Pós-graduação",
          "Ensino médio",
          "Ensino médio",
          "Ensino médio",
          "Ensino médio",
          "Ensino médio",
          "Ensino fundamental",
          "Ensino médio",
          "Ensino médio",
          "Ensino superior",
          "Ensino médio",
          "Ensino fundamental",
          "Ensino superior",
          "Ensino superior",
          "Pós-graduação",
          "Ensino médio",
          "Ensino fundamental",
          "Ensino superior",
          "Ensino médio",
          "Ensino médio",
          "Ensino médio",
          "Ensino médio",
          "Ensino superior",
          "Ensino médio",
          "Ensino médio",
          "Ensino superior",
          "Ensino médio",
          "Ensino médio",
          "Pós-graduação",
          "Ensino médio",
          "Ensino médio",
          "Ensino fundamental",
          "Ensino fundamental",
          "Ensino médio",
          "Ensino médio",
          "Ensino fundamental",
          "Ensino médio",
          "Ensino médio",
          "Ensino médio",
          "Ensino superior",
          "Ensino médio",
          "Ensino fundamental",
          "Ensino médio",
          "Ensino médio",
          "Nenhuma escolaridade",
          "Ensino fundamental",
          "Ensino médio",
          "Ensino superior",
          "Ensino superior",
          "Ensino fundamental",
          "Ensino superior",
          "Ensino fundamental",
          "Ensino fundamental",
          "Ensino médio",
          "Ensino superior",
          "Ensino fundamental",
          "Ensino fundamental",
          "Ensino superior",
          "Ensino fundamental",
          "Ensino médio",
          "Ensino superior",
          "Ensino médio",
          "Ensino superior",
          "Ensino fundamental",
          "Ensino superior",
          "Ensino médio",
          "Ensino médio",
          "Ensino superior",
          "Ensino médio",
          "Ensino superior",
          "Pós-graduação",
          "Pós-graduação",
          "Ensino superior",
          "Ensino médio",
          "Pós-graduação",
          "Ensino médio",
          "Ensino médio",
          "Ensino médio",
          "Ensino médio",
          "Ensino médio",
          "Ensino superior",
          "Ensino médio",
          "Ensino fundamental",
          "Ensino médio",
          "Ensino superior",
          "Ensino superior",
          "Ensino fundamental",
          "Ensino superior",
          "Ensino médio",
          "Ensino fundamental",
          "Ensino superior",
          "Ensino fundamental",
          "Ensino médio",
          "Ensino médio",
          "Ensino médio",
          "Ensino fundamental",
          "Ensino fundamental",
          "Ensino médio",
          "Ensino médio",
          "Ensino médio"
         ],
         "x0": " ",
         "xaxis": "x",
         "y": [
          "58,7",
          "49,8",
          "40,1",
          "53,2",
          "52,4",
          "22,4",
          "53,3",
          "44,4",
          "66",
          "36,5",
          "32,1",
          "23",
          "55,8",
          "35,5",
          "39,5",
          "68,3",
          "46,5",
          "39,1",
          "25,4",
          "36",
          "54,9",
          "61,9",
          "43,3",
          "62,8",
          "42,7",
          "79,9",
          "73,9",
          "51,8",
          "66,9",
          "74,6",
          "60,3",
          "52,1",
          "17,8",
          "56,4",
          "39,7",
          "48,6",
          "65,8",
          "54,8",
          "58,6",
          "60,6",
          "56,1",
          "56,7",
          "55,4",
          "69,7",
          "59,3",
          "48,6",
          "55,3",
          "33,8",
          "66,3",
          "37,8",
          "50",
          "59,8",
          "56,4",
          "51,7",
          "38,8",
          "52,9",
          "34,8",
          "50,8",
          "56,3",
          "54,3",
          "56,1",
          "40,4",
          "54,6",
          "40,9",
          "49,2",
          "54,7",
          "66,4",
          "13,2",
          "38,6",
          "43,9",
          "42,3",
          "57",
          "49,4",
          "60,9",
          "33,3",
          "20,9",
          "40,2",
          "25,1",
          "2,7",
          "39,9",
          "46,6",
          "55,7",
          "22,7",
          "47,8",
          "43,2",
          "52,7",
          "59,2",
          "47,8",
          "48,6",
          "16,3",
          "43,1",
          "44,4",
          "50,5",
          "51,9",
          "63,2",
          "36,9",
          "47",
          "41,1",
          "33,7",
          "47,6",
          "33,1",
          "47,7",
          "40,8",
          "36,7",
          "68,5",
          "46,9",
          "56,2",
          "51,1",
          "37,1",
          "54,4",
          "46",
          "45,2",
          "42",
          "43,7",
          "33,8",
          "32,4",
          "32,3",
          "44,7",
          "48,4",
          "49",
          "57,6",
          "58,3",
          "56,9",
          "28,8",
          "46,2",
          "60,8",
          "50,3",
          "38,1",
          "45",
          "62,7",
          "47,9",
          "38,3",
          "45,8",
          "34,8",
          "40,5",
          "43,7",
          "46,9",
          "51,2",
          "56,5",
          "39,1",
          "58,5",
          "33,5",
          "54,3",
          "48,1",
          "48,9",
          "34,2",
          "45,6",
          "44,9",
          "41,7",
          "65,5",
          "45,9",
          "38,5",
          "38,9",
          "42,1",
          "48,7",
          "61,6",
          "37,3",
          "52,4",
          "28,7",
          "68,7",
          "38",
          "38",
          "40,7",
          "46,7",
          "70,2",
          "48,4",
          "34,6",
          "61,7",
          "55,8",
          "71,8",
          "43,8",
          "48,4",
          "66,2",
          "26,2",
          "46,7",
          "48,3",
          "37,7",
          "61,1",
          "54,2",
          "42,3",
          "50,2",
          "21,6",
          "51,5",
          "49,7",
          "60,5",
          "52,5",
          "57,2",
          "52,8",
          "40,1",
          "62,4",
          "59,4",
          "50,8",
          "62,1",
          "62,1",
          "40,8",
          "73,5",
          "46,2",
          "70,2",
          "48,1",
          "53,1",
          "40,6",
          "47,9",
          "62,8",
          "53,5",
          "61",
          "69,9",
          "52,7",
          "57,1",
          "61,7",
          "45,3",
          "35,6",
          "45,9",
          "47,2",
          "56,6",
          "69,1",
          "41,1",
          "39,7",
          "33,1",
          "66,4",
          "54",
          "54,3",
          "50,7",
          "46,7",
          "60,3",
          "35,5",
          "32,1",
          "53,5",
          "39",
          "50,2",
          "31,5",
          "22,4",
          "53,8",
          "18,2",
          "34,6",
          "30,7",
          "36,6",
          "34,1",
          "33,2",
          "31,6",
          "59,4",
          "41,6",
          "42,9",
          "0",
          "24",
          "60,5",
          "41,9",
          "16,5",
          "46,5",
          "20,5",
          "30,6",
          "7,2",
          "43,5",
          "41,5",
          "39",
          "40,6",
          "44,4",
          "54,6",
          "22,5",
          "45,5",
          "29,2",
          "33,6",
          "36,3",
          "19,7",
          "54,5",
          "36",
          "40,2",
          "26,3",
          "34,3",
          "45",
          "25,8",
          "30,8",
          "27,4",
          "47,1",
          "48,1",
          "39,3",
          "28,4",
          "32",
          "30,9",
          "42,8",
          "46,4",
          "51,7",
          "68,2",
          "51,6",
          "65,1",
          "66,2",
          "48",
          "62,4",
          "53,3",
          "59,8",
          "57,7",
          "57,8",
          "47,3",
          "52,5",
          "39,6",
          "70,1",
          "61,4",
          "52,2",
          "47,2",
          "47,6",
          "61,1",
          "16,6",
          "47,1",
          "19,6",
          "22,6",
          "23,8",
          "26,1",
          "29,6",
          "33,3",
          "41,8",
          "65,9",
          "25,4",
          "39,4",
          "39,5",
          "40,5",
          "45,3",
          "44,8",
          "33,5",
          "34,1",
          "34,7",
          "33,8",
          "47,9",
          "43,4",
          "43,3",
          "57,4",
          "34",
          "35,6",
          "44,9",
          "51,1",
          "28,7",
          "34,7",
          "41,2",
          "48,9",
          "54,2",
          "53,7",
          "53,9",
          "52,7",
          "53,3",
          "30,1",
          "45",
          "46,6",
          "45,4",
          "51,3",
          "30,3",
          "34,3",
          "46,9",
          "46,9",
          "29,7",
          "35,2",
          "26,1",
          "30,6",
          "37,2",
          "53",
          "29,1",
          "64,9",
          "40,8",
          "41,5",
          "33,1",
          "20,6",
          "33,1",
          "39,6",
          "17,7",
          "41",
          "37,4",
          "30,1",
          "38,9",
          "38,4",
          "46,6",
          "41,6",
          "29,7",
          "34,8",
          "48,2",
          "15,4",
          "20,2",
          "31,5",
          "46,5",
          "30,3",
          "19,7",
          "7,2",
          "21",
          "41,1",
          "37,5",
          "23,6",
          "18,2",
          "27,8",
          "42,7",
          "32,3",
          "30",
          "30,8",
          "38,6",
          "20,6",
          "12,9",
          "31",
          "26,7",
          "13,8",
          "21,8",
          "21,7",
          "19,6",
          "35,6",
          "21,6",
          "24,4",
          "28,7",
          "25,2",
          "26,2",
          "40,9",
          "31,8",
          "35,8",
          "16,3",
          "30,4",
          "36,5",
          "26,1",
          "34,2",
          "28,6",
          "28,2",
          "60,8",
          "52,5",
          "34,4",
          "28,9",
          "46,2",
          "40,5",
          "34,3",
          "23,5",
          "36,3",
          "15,5",
          "18,1",
          "23,8",
          "16,3",
          "16,1",
          "36,5",
          "24,9",
          "28,2",
          "39,2",
          "56,1",
          "39,7",
          "51,4",
          "29,2",
          "29,2",
          "23,9",
          "45",
          "35,6",
          "37,9",
          "30,8",
          "36,9",
          "23,1",
          "28,9",
          "32,5",
          "46,1",
          "47,1",
          "25,4",
          "37,7",
          "41,7",
          "41",
          "26,5",
          "43,3",
          "34,5",
          "17,9",
          "40,9",
          "27,6",
          "16,7",
          "18,6",
          "21",
          "30,6",
          "27,8",
          "30,6",
          "29,5",
          "26,8",
          "50,4",
          "43,5",
          "39,6",
          "24,3",
          "40,3",
          "21",
          "36,7",
          "30,6",
          "26,6",
          "37,2",
          "22,8",
          "28",
          "22,7",
          "37",
          "31,7",
          "11,5",
          "18,9",
          "26,9",
          "37,6",
          "33,1",
          "35,7",
          "32,6",
          "34,8",
          "35,5",
          "33,6",
          "17,3",
          "20,5",
          "48,1",
          "44,9",
          "27",
          "35,1",
          "38",
          "35",
          "21,6",
          "52,2",
          "29,2",
          "55,6",
          "33,6",
          "45,3",
          "67,2",
          "37,9",
          "24,4",
          "54,2",
          "45,1",
          "51,9",
          "57,7",
          "49",
          "48",
          "26,9",
          "25,6",
          "26,9",
          "37,3",
          "25,7",
          "36,2",
          "37,2",
          "26,1",
          "25,8",
          "29,6",
          "11,7",
          "26,8",
          "21,6",
          "8,9",
          "50,8",
          "45",
          "47,3",
          "53,4",
          "35",
          "51,1",
          "44,6",
          "44,9",
          "36,6",
          "36,3",
          "46,6",
          "41,5",
          "35,7",
          "63,7",
          "43,3",
          "53,9",
          "47,6",
          "57,5",
          "26,9",
          "28,4",
          "57,3",
          "45,7",
          "37,6",
          "40,8",
          "38,2",
          "24,2",
          "54,6",
          "26,5",
          "52",
          "47",
          "50,5",
          "46,8",
          "60,2",
          "13",
          "47,6",
          "42,3",
          "37",
          "51,6",
          "34,2",
          "19,3",
          "46",
          "9,8",
          "37,9",
          "19",
          "50,6",
          "48,6",
          "52,3",
          "49,7",
          "58,4",
          "39,9",
          "41,8",
          "52,8",
          "32,1",
          "43,8",
          "41,8",
          "38,7",
          "64,1",
          "60,4",
          "30,6",
          "17,4",
          "30,5",
          "39,8",
          "45,8",
          "28,6",
          "42,7",
          "43,9",
          "34",
          "37,7",
          "35,9",
          "35,5",
          "35,6",
          "55,1",
          "36,4",
          "35,5",
          "45,1",
          "44,3",
          "79,2",
          "46,2",
          "47,5",
          "49,6"
         ],
         "y0": " ",
         "yaxis": "y"
        }
       ],
       "layout": {
        "boxmode": "group",
        "legend": {
         "tracegroupgap": 0
        },
        "margin": {
         "t": 60
        },
        "template": {
         "data": {
          "bar": [
           {
            "error_x": {
             "color": "#2a3f5f"
            },
            "error_y": {
             "color": "#2a3f5f"
            },
            "marker": {
             "line": {
              "color": "#E5ECF6",
              "width": 0.5
             },
             "pattern": {
              "fillmode": "overlay",
              "size": 10,
              "solidity": 0.2
             }
            },
            "type": "bar"
           }
          ],
          "barpolar": [
           {
            "marker": {
             "line": {
              "color": "#E5ECF6",
              "width": 0.5
             },
             "pattern": {
              "fillmode": "overlay",
              "size": 10,
              "solidity": 0.2
             }
            },
            "type": "barpolar"
           }
          ],
          "carpet": [
           {
            "aaxis": {
             "endlinecolor": "#2a3f5f",
             "gridcolor": "white",
             "linecolor": "white",
             "minorgridcolor": "white",
             "startlinecolor": "#2a3f5f"
            },
            "baxis": {
             "endlinecolor": "#2a3f5f",
             "gridcolor": "white",
             "linecolor": "white",
             "minorgridcolor": "white",
             "startlinecolor": "#2a3f5f"
            },
            "type": "carpet"
           }
          ],
          "choropleth": [
           {
            "colorbar": {
             "outlinewidth": 0,
             "ticks": ""
            },
            "type": "choropleth"
           }
          ],
          "contour": [
           {
            "colorbar": {
             "outlinewidth": 0,
             "ticks": ""
            },
            "colorscale": [
             [
              0,
              "#0d0887"
             ],
             [
              0.1111111111111111,
              "#46039f"
             ],
             [
              0.2222222222222222,
              "#7201a8"
             ],
             [
              0.3333333333333333,
              "#9c179e"
             ],
             [
              0.4444444444444444,
              "#bd3786"
             ],
             [
              0.5555555555555556,
              "#d8576b"
             ],
             [
              0.6666666666666666,
              "#ed7953"
             ],
             [
              0.7777777777777778,
              "#fb9f3a"
             ],
             [
              0.8888888888888888,
              "#fdca26"
             ],
             [
              1,
              "#f0f921"
             ]
            ],
            "type": "contour"
           }
          ],
          "contourcarpet": [
           {
            "colorbar": {
             "outlinewidth": 0,
             "ticks": ""
            },
            "type": "contourcarpet"
           }
          ],
          "heatmap": [
           {
            "colorbar": {
             "outlinewidth": 0,
             "ticks": ""
            },
            "colorscale": [
             [
              0,
              "#0d0887"
             ],
             [
              0.1111111111111111,
              "#46039f"
             ],
             [
              0.2222222222222222,
              "#7201a8"
             ],
             [
              0.3333333333333333,
              "#9c179e"
             ],
             [
              0.4444444444444444,
              "#bd3786"
             ],
             [
              0.5555555555555556,
              "#d8576b"
             ],
             [
              0.6666666666666666,
              "#ed7953"
             ],
             [
              0.7777777777777778,
              "#fb9f3a"
             ],
             [
              0.8888888888888888,
              "#fdca26"
             ],
             [
              1,
              "#f0f921"
             ]
            ],
            "type": "heatmap"
           }
          ],
          "heatmapgl": [
           {
            "colorbar": {
             "outlinewidth": 0,
             "ticks": ""
            },
            "colorscale": [
             [
              0,
              "#0d0887"
             ],
             [
              0.1111111111111111,
              "#46039f"
             ],
             [
              0.2222222222222222,
              "#7201a8"
             ],
             [
              0.3333333333333333,
              "#9c179e"
             ],
             [
              0.4444444444444444,
              "#bd3786"
             ],
             [
              0.5555555555555556,
              "#d8576b"
             ],
             [
              0.6666666666666666,
              "#ed7953"
             ],
             [
              0.7777777777777778,
              "#fb9f3a"
             ],
             [
              0.8888888888888888,
              "#fdca26"
             ],
             [
              1,
              "#f0f921"
             ]
            ],
            "type": "heatmapgl"
           }
          ],
          "histogram": [
           {
            "marker": {
             "pattern": {
              "fillmode": "overlay",
              "size": 10,
              "solidity": 0.2
             }
            },
            "type": "histogram"
           }
          ],
          "histogram2d": [
           {
            "colorbar": {
             "outlinewidth": 0,
             "ticks": ""
            },
            "colorscale": [
             [
              0,
              "#0d0887"
             ],
             [
              0.1111111111111111,
              "#46039f"
             ],
             [
              0.2222222222222222,
              "#7201a8"
             ],
             [
              0.3333333333333333,
              "#9c179e"
             ],
             [
              0.4444444444444444,
              "#bd3786"
             ],
             [
              0.5555555555555556,
              "#d8576b"
             ],
             [
              0.6666666666666666,
              "#ed7953"
             ],
             [
              0.7777777777777778,
              "#fb9f3a"
             ],
             [
              0.8888888888888888,
              "#fdca26"
             ],
             [
              1,
              "#f0f921"
             ]
            ],
            "type": "histogram2d"
           }
          ],
          "histogram2dcontour": [
           {
            "colorbar": {
             "outlinewidth": 0,
             "ticks": ""
            },
            "colorscale": [
             [
              0,
              "#0d0887"
             ],
             [
              0.1111111111111111,
              "#46039f"
             ],
             [
              0.2222222222222222,
              "#7201a8"
             ],
             [
              0.3333333333333333,
              "#9c179e"
             ],
             [
              0.4444444444444444,
              "#bd3786"
             ],
             [
              0.5555555555555556,
              "#d8576b"
             ],
             [
              0.6666666666666666,
              "#ed7953"
             ],
             [
              0.7777777777777778,
              "#fb9f3a"
             ],
             [
              0.8888888888888888,
              "#fdca26"
             ],
             [
              1,
              "#f0f921"
             ]
            ],
            "type": "histogram2dcontour"
           }
          ],
          "mesh3d": [
           {
            "colorbar": {
             "outlinewidth": 0,
             "ticks": ""
            },
            "type": "mesh3d"
           }
          ],
          "parcoords": [
           {
            "line": {
             "colorbar": {
              "outlinewidth": 0,
              "ticks": ""
             }
            },
            "type": "parcoords"
           }
          ],
          "pie": [
           {
            "automargin": true,
            "type": "pie"
           }
          ],
          "scatter": [
           {
            "fillpattern": {
             "fillmode": "overlay",
             "size": 10,
             "solidity": 0.2
            },
            "type": "scatter"
           }
          ],
          "scatter3d": [
           {
            "line": {
             "colorbar": {
              "outlinewidth": 0,
              "ticks": ""
             }
            },
            "marker": {
             "colorbar": {
              "outlinewidth": 0,
              "ticks": ""
             }
            },
            "type": "scatter3d"
           }
          ],
          "scattercarpet": [
           {
            "marker": {
             "colorbar": {
              "outlinewidth": 0,
              "ticks": ""
             }
            },
            "type": "scattercarpet"
           }
          ],
          "scattergeo": [
           {
            "marker": {
             "colorbar": {
              "outlinewidth": 0,
              "ticks": ""
             }
            },
            "type": "scattergeo"
           }
          ],
          "scattergl": [
           {
            "marker": {
             "colorbar": {
              "outlinewidth": 0,
              "ticks": ""
             }
            },
            "type": "scattergl"
           }
          ],
          "scattermapbox": [
           {
            "marker": {
             "colorbar": {
              "outlinewidth": 0,
              "ticks": ""
             }
            },
            "type": "scattermapbox"
           }
          ],
          "scatterpolar": [
           {
            "marker": {
             "colorbar": {
              "outlinewidth": 0,
              "ticks": ""
             }
            },
            "type": "scatterpolar"
           }
          ],
          "scatterpolargl": [
           {
            "marker": {
             "colorbar": {
              "outlinewidth": 0,
              "ticks": ""
             }
            },
            "type": "scatterpolargl"
           }
          ],
          "scatterternary": [
           {
            "marker": {
             "colorbar": {
              "outlinewidth": 0,
              "ticks": ""
             }
            },
            "type": "scatterternary"
           }
          ],
          "surface": [
           {
            "colorbar": {
             "outlinewidth": 0,
             "ticks": ""
            },
            "colorscale": [
             [
              0,
              "#0d0887"
             ],
             [
              0.1111111111111111,
              "#46039f"
             ],
             [
              0.2222222222222222,
              "#7201a8"
             ],
             [
              0.3333333333333333,
              "#9c179e"
             ],
             [
              0.4444444444444444,
              "#bd3786"
             ],
             [
              0.5555555555555556,
              "#d8576b"
             ],
             [
              0.6666666666666666,
              "#ed7953"
             ],
             [
              0.7777777777777778,
              "#fb9f3a"
             ],
             [
              0.8888888888888888,
              "#fdca26"
             ],
             [
              1,
              "#f0f921"
             ]
            ],
            "type": "surface"
           }
          ],
          "table": [
           {
            "cells": {
             "fill": {
              "color": "#EBF0F8"
             },
             "line": {
              "color": "white"
             }
            },
            "header": {
             "fill": {
              "color": "#C8D4E3"
             },
             "line": {
              "color": "white"
             }
            },
            "type": "table"
           }
          ]
         },
         "layout": {
          "annotationdefaults": {
           "arrowcolor": "#2a3f5f",
           "arrowhead": 0,
           "arrowwidth": 1
          },
          "autotypenumbers": "strict",
          "coloraxis": {
           "colorbar": {
            "outlinewidth": 0,
            "ticks": ""
           }
          },
          "colorscale": {
           "diverging": [
            [
             0,
             "#8e0152"
            ],
            [
             0.1,
             "#c51b7d"
            ],
            [
             0.2,
             "#de77ae"
            ],
            [
             0.3,
             "#f1b6da"
            ],
            [
             0.4,
             "#fde0ef"
            ],
            [
             0.5,
             "#f7f7f7"
            ],
            [
             0.6,
             "#e6f5d0"
            ],
            [
             0.7,
             "#b8e186"
            ],
            [
             0.8,
             "#7fbc41"
            ],
            [
             0.9,
             "#4d9221"
            ],
            [
             1,
             "#276419"
            ]
           ],
           "sequential": [
            [
             0,
             "#0d0887"
            ],
            [
             0.1111111111111111,
             "#46039f"
            ],
            [
             0.2222222222222222,
             "#7201a8"
            ],
            [
             0.3333333333333333,
             "#9c179e"
            ],
            [
             0.4444444444444444,
             "#bd3786"
            ],
            [
             0.5555555555555556,
             "#d8576b"
            ],
            [
             0.6666666666666666,
             "#ed7953"
            ],
            [
             0.7777777777777778,
             "#fb9f3a"
            ],
            [
             0.8888888888888888,
             "#fdca26"
            ],
            [
             1,
             "#f0f921"
            ]
           ],
           "sequentialminus": [
            [
             0,
             "#0d0887"
            ],
            [
             0.1111111111111111,
             "#46039f"
            ],
            [
             0.2222222222222222,
             "#7201a8"
            ],
            [
             0.3333333333333333,
             "#9c179e"
            ],
            [
             0.4444444444444444,
             "#bd3786"
            ],
            [
             0.5555555555555556,
             "#d8576b"
            ],
            [
             0.6666666666666666,
             "#ed7953"
            ],
            [
             0.7777777777777778,
             "#fb9f3a"
            ],
            [
             0.8888888888888888,
             "#fdca26"
            ],
            [
             1,
             "#f0f921"
            ]
           ]
          },
          "colorway": [
           "#636efa",
           "#EF553B",
           "#00cc96",
           "#ab63fa",
           "#FFA15A",
           "#19d3f3",
           "#FF6692",
           "#B6E880",
           "#FF97FF",
           "#FECB52"
          ],
          "font": {
           "color": "#2a3f5f"
          },
          "geo": {
           "bgcolor": "white",
           "lakecolor": "white",
           "landcolor": "#E5ECF6",
           "showlakes": true,
           "showland": true,
           "subunitcolor": "white"
          },
          "hoverlabel": {
           "align": "left"
          },
          "hovermode": "closest",
          "mapbox": {
           "style": "light"
          },
          "paper_bgcolor": "white",
          "plot_bgcolor": "#E5ECF6",
          "polar": {
           "angularaxis": {
            "gridcolor": "white",
            "linecolor": "white",
            "ticks": ""
           },
           "bgcolor": "#E5ECF6",
           "radialaxis": {
            "gridcolor": "white",
            "linecolor": "white",
            "ticks": ""
           }
          },
          "scene": {
           "xaxis": {
            "backgroundcolor": "#E5ECF6",
            "gridcolor": "white",
            "gridwidth": 2,
            "linecolor": "white",
            "showbackground": true,
            "ticks": "",
            "zerolinecolor": "white"
           },
           "yaxis": {
            "backgroundcolor": "#E5ECF6",
            "gridcolor": "white",
            "gridwidth": 2,
            "linecolor": "white",
            "showbackground": true,
            "ticks": "",
            "zerolinecolor": "white"
           },
           "zaxis": {
            "backgroundcolor": "#E5ECF6",
            "gridcolor": "white",
            "gridwidth": 2,
            "linecolor": "white",
            "showbackground": true,
            "ticks": "",
            "zerolinecolor": "white"
           }
          },
          "shapedefaults": {
           "line": {
            "color": "#2a3f5f"
           }
          },
          "ternary": {
           "aaxis": {
            "gridcolor": "white",
            "linecolor": "white",
            "ticks": ""
           },
           "baxis": {
            "gridcolor": "white",
            "linecolor": "white",
            "ticks": ""
           },
           "bgcolor": "#E5ECF6",
           "caxis": {
            "gridcolor": "white",
            "linecolor": "white",
            "ticks": ""
           }
          },
          "title": {
           "x": 0.05
          },
          "xaxis": {
           "automargin": true,
           "gridcolor": "white",
           "linecolor": "white",
           "ticks": "",
           "title": {
            "standoff": 15
           },
           "zerolinecolor": "white",
           "zerolinewidth": 2
          },
          "yaxis": {
           "automargin": true,
           "gridcolor": "white",
           "linecolor": "white",
           "ticks": "",
           "title": {
            "standoff": 15
           },
           "zerolinecolor": "white",
           "zerolinewidth": 2
          }
         }
        },
        "title": {
         "text": "Boxplot de Escolaridade do Pai em relação à Nota Geral",
         "x": 0.5,
         "y": 0.95
        },
        "xaxis": {
         "anchor": "y",
         "domain": [
          0,
          1
         ],
         "title": {
          "text": "Escolaridade do Pai"
         }
        },
        "yaxis": {
         "anchor": "x",
         "domain": [
          0,
          1
         ],
         "title": {
          "text": "Nota Geral"
         }
        }
       }
      }
     },
     "metadata": {},
     "output_type": "display_data"
    }
   ],
   "source": [
    "categorias = {\n",
    "    'A': 'Nenhuma escolaridade',\n",
    "    'B': 'Ensino fundamental',\n",
    "    'C': 'Ensino fundamental',\n",
    "    'D': 'Ensino médio',\n",
    "    'E': 'Ensino superior',\n",
    "    'F': 'Pós-graduação'\n",
    "}\n",
    "\n",
    "dados_explorados.loc[:, 'Categoria'] = dados_explorados['Escolaridade_pai'].map(categorias)\n",
    "\n",
    "fig = px.box(dados_explorados, x='Categoria', y='Nota_geral', \n",
    "             labels={'Categoria': 'Escolaridade do Pai', 'Nota_geral': 'Nota Geral'})\n",
    "\n",
    "fig.update_layout(title='Boxplot de Escolaridade do Pai em relação à Nota Geral', title_x=0.5, title_y=0.95)\n",
    "fig.show()"
   ]
  }
 ],
 "metadata": {
  "kernelspec": {
   "display_name": "Python 3",
   "language": "python",
   "name": "python3"
  },
  "language_info": {
   "codemirror_mode": {
    "name": "ipython",
    "version": 3
   },
   "file_extension": ".py",
   "mimetype": "text/x-python",
   "name": "python",
   "nbconvert_exporter": "python",
   "pygments_lexer": "ipython3",
   "version": "3.12.0"
  }
 },
 "nbformat": 4,
 "nbformat_minor": 2
}
