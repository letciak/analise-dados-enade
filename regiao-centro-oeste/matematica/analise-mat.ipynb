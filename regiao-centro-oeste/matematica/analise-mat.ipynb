{
 "cells": [
  {
   "cell_type": "code",
   "execution_count": null,
   "metadata": {},
   "outputs": [],
   "source": [
    "import pandas as pd\n",
    "import numpy as np\n",
    "import matplotlib as plt"
   ]
  },
  {
   "cell_type": "code",
   "execution_count": null,
   "metadata": {},
   "outputs": [],
   "source": [
    "regiao_centro_oeste_mat = pd.read_csv('regiao-centro-oeste-mat.csv', sep=',')\n",
    "\n",
    "print(regiao_centro_oeste_mat)"
   ]
  },
  {
   "cell_type": "code",
   "execution_count": null,
   "metadata": {},
   "outputs": [],
   "source": [
    "valores_nulos = regiao_centro_oeste_mat.isnull()\n",
    "contagem = valores_nulos.sum()\n",
    "\n",
    "print(contagem)"
   ]
  },
  {
   "cell_type": "code",
   "execution_count": null,
   "metadata": {},
   "outputs": [],
   "source": [
    "valores_nulos = regiao_centro_oeste_mat.isnull()\n",
    "contagem = valores_nulos.sum()\n",
    "\n",
    "print(contagem)"
   ]
  },
  {
   "cell_type": "code",
   "execution_count": null,
   "metadata": {},
   "outputs": [],
   "source": [
    "regiao_centro_oeste_mat.dropna(inplace=True)"
   ]
  },
  {
   "cell_type": "code",
   "execution_count": null,
   "metadata": {},
   "outputs": [],
   "source": [
    "regiao_centro_oeste_mat['Nota_geral'] = pd.to_numeric(regiao_centro_oeste_mat['Nota_geral'], errors='coerce')\n",
    "\n",
    "def calcular_media_nota_geral_por_resposta(dataframe):\n",
    "    media_por_resposta = dataframe.groupby('Escolaridade_pai')['Nota_geral'].mean()\n",
    "    \n",
    "    return media_por_resposta\n",
    "\n",
    "media_nota_geral_por_resposta = calcular_media_nota_geral_por_resposta(regiao_centro_oeste_mat)\n",
    "print(media_nota_geral_por_resposta)"
   ]
  },
  {
   "cell_type": "code",
   "execution_count": null,
   "metadata": {},
   "outputs": [],
   "source": [
    "def calcular_media_nota_geral_por_resposta(dataframe):\n",
    "    media_por_resposta = dataframe.groupby('Escolaridade_mae')['Nota_geral'].mean()\n",
    "    \n",
    "    return media_por_resposta\n",
    "\n",
    "media_nota_geral_por_resposta = calcular_media_nota_geral_por_resposta(regiao_centro_oeste_mat)\n",
    "print(media_nota_geral_por_resposta)"
   ]
  },
  {
   "cell_type": "code",
   "execution_count": null,
   "metadata": {},
   "outputs": [],
   "source": [
    "def calcular_media_nota_geral_por_resposta(dataframe):\n",
    "    media_por_resposta = dataframe.groupby('Renda')['Nota_geral'].mean()\n",
    "    \n",
    "    return media_por_resposta\n",
    "\n",
    "media_nota_geral_por_resposta = calcular_media_nota_geral_por_resposta(regiao_centro_oeste_mat)\n",
    "print(media_nota_geral_por_resposta)"
   ]
  },
  {
   "cell_type": "code",
   "execution_count": null,
   "metadata": {},
   "outputs": [],
   "source": [
    "def calcular_media_nota_geral_por_resposta(dataframe):\n",
    "    media_por_resposta = dataframe.groupby('Tipo_escola')['Nota_geral'].mean()\n",
    "    \n",
    "    return media_por_resposta\n",
    "\n",
    "media_nota_geral_por_resposta = calcular_media_nota_geral_por_resposta(regiao_centro_oeste_mat)\n",
    "print(media_nota_geral_por_resposta)"
   ]
  },
  {
   "cell_type": "code",
   "execution_count": null,
   "metadata": {},
   "outputs": [],
   "source": [
    "def calcular_media_nota_geral_por_resposta(dataframe):\n",
    "    media_por_resposta = dataframe.groupby('Horas_estudos')['Nota_geral'].mean()\n",
    "    \n",
    "    return media_por_resposta\n",
    "\n",
    "media_nota_geral_por_resposta = calcular_media_nota_geral_por_resposta(regiao_centro_oeste_mat)\n",
    "print(media_nota_geral_por_resposta)"
   ]
  }
 ],
 "metadata": {
  "kernelspec": {
   "display_name": "Python 3",
   "language": "python",
   "name": "python3"
  },
  "language_info": {
   "codemirror_mode": {
    "name": "ipython",
    "version": 3
   },
   "file_extension": ".py",
   "mimetype": "text/x-python",
   "name": "python",
   "nbconvert_exporter": "python",
   "pygments_lexer": "ipython3",
   "version": "3.12.0"
  }
 },
 "nbformat": 4,
 "nbformat_minor": 2
}
