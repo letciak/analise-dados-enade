{
 "cells": [
  {
   "cell_type": "code",
   "execution_count": 2,
   "metadata": {},
   "outputs": [],
   "source": [
    "import pandas as pd\n",
    "import numpy as np\n",
    "import matplotlib as plt"
   ]
  },
  {
   "cell_type": "code",
   "execution_count": 3,
   "metadata": {},
   "outputs": [
    {
     "name": "stdout",
     "output_type": "stream",
     "text": [
      "     Cod_curso  Cod_grupo_curso  Cod_regiao_curso Nota_geral Escolaridade_pai  \\\n",
      "0           26              702                 5       18,9                D   \n",
      "1           26              702                 5       31,6                E   \n",
      "2           26              702                 5       35,3                D   \n",
      "3           26              702                 5       32,9                E   \n",
      "4           26              702                 5       27,8                A   \n",
      "..         ...              ...               ...        ...              ...   \n",
      "959    1404185              702                 5       20,3                A   \n",
      "960    1404185              702                 5       42,2                B   \n",
      "961    1404185              702                 5       24,7                C   \n",
      "962    1404185              702                 5        NaN              NaN   \n",
      "963      82245              702                 5        NaN              NaN   \n",
      "\n",
      "    Escolaridade_mae Renda Tipo_escola Horas_estudos  \n",
      "0                  D     C           A             B  \n",
      "1                  E     E           A             B  \n",
      "2                  E     B           A             D  \n",
      "3                  D     E           B             B  \n",
      "4                  D     B           B             B  \n",
      "..               ...   ...         ...           ...  \n",
      "959                A     D           A             B  \n",
      "960                B     B           A             C  \n",
      "961                C     C           A             B  \n",
      "962              NaN   NaN         NaN           NaN  \n",
      "963              NaN   NaN         NaN           NaN  \n",
      "\n",
      "[964 rows x 9 columns]\n"
     ]
    }
   ],
   "source": [
    "regiao_centro_oeste_mat = pd.read_csv('regiao-centro-oeste-mat.csv', sep=',')\n",
    "\n",
    "print(regiao_centro_oeste_mat)"
   ]
  },
  {
   "cell_type": "code",
   "execution_count": 4,
   "metadata": {},
   "outputs": [
    {
     "name": "stdout",
     "output_type": "stream",
     "text": [
      "Cod_curso             0\n",
      "Cod_grupo_curso       0\n",
      "Cod_regiao_curso      0\n",
      "Nota_geral          116\n",
      "Escolaridade_pai     83\n",
      "Escolaridade_mae     83\n",
      "Renda                83\n",
      "Tipo_escola          83\n",
      "Horas_estudos        83\n",
      "dtype: int64\n"
     ]
    }
   ],
   "source": [
    "valores_nulos = regiao_centro_oeste_mat.isnull()\n",
    "contagem = valores_nulos.sum()\n",
    "\n",
    "print(contagem)"
   ]
  },
  {
   "cell_type": "code",
   "execution_count": 5,
   "metadata": {},
   "outputs": [
    {
     "name": "stdout",
     "output_type": "stream",
     "text": [
      "Cod_curso             0\n",
      "Cod_grupo_curso       0\n",
      "Cod_regiao_curso      0\n",
      "Nota_geral          116\n",
      "Escolaridade_pai     83\n",
      "Escolaridade_mae     83\n",
      "Renda                83\n",
      "Tipo_escola          83\n",
      "Horas_estudos        83\n",
      "dtype: int64\n"
     ]
    }
   ],
   "source": [
    "valores_nulos = regiao_centro_oeste_mat.isnull()\n",
    "contagem = valores_nulos.sum()\n",
    "\n",
    "print(contagem)"
   ]
  },
  {
   "cell_type": "code",
   "execution_count": 6,
   "metadata": {},
   "outputs": [],
   "source": [
    "regiao_centro_oeste_mat.dropna(inplace=True)"
   ]
  },
  {
   "cell_type": "code",
   "execution_count": 7,
   "metadata": {},
   "outputs": [
    {
     "name": "stdout",
     "output_type": "stream",
     "text": [
      "Escolaridade_pai\n",
      "A    33.777778\n",
      "B    33.250000\n",
      "C    42.625000\n",
      "D    39.650000\n",
      "E    45.000000\n",
      "F          NaN\n",
      "Name: Nota_geral, dtype: float64\n"
     ]
    }
   ],
   "source": [
    "regiao_centro_oeste_mat['Nota_geral'] = pd.to_numeric(regiao_centro_oeste_mat['Nota_geral'], errors='coerce')\n",
    "\n",
    "def calcular_media_nota_geral_por_resposta(dataframe):\n",
    "    media_por_resposta = dataframe.groupby('Escolaridade_pai')['Nota_geral'].mean()\n",
    "    \n",
    "    return media_por_resposta\n",
    "\n",
    "media_nota_geral_por_resposta = calcular_media_nota_geral_por_resposta(regiao_centro_oeste_mat)\n",
    "print(media_nota_geral_por_resposta)"
   ]
  },
  {
   "cell_type": "code",
   "execution_count": 8,
   "metadata": {},
   "outputs": [
    {
     "name": "stdout",
     "output_type": "stream",
     "text": [
      "Escolaridade_pai  Media_Nota_Geral  Desvio_Padrao_Nota_Geral  Coeficiente_Variacao_Nota_Geral\n",
      "               A         33.777778                 10.974718                         0.324909\n",
      "               B         33.250000                 12.248324                         0.368371\n",
      "               C         42.625000                 11.701140                         0.274514\n",
      "               D         39.650000                  8.934116                         0.225324\n",
      "               E         45.000000                 14.802402                         0.328942\n",
      "               F               NaN                       NaN                              NaN\n"
     ]
    }
   ],
   "source": [
    "grupo_escolaridade = regiao_centro_oeste_mat.groupby('Escolaridade_pai')\n",
    "\n",
    "estatisticas_por_escolaridade = grupo_escolaridade['Nota_geral'].agg(['mean', 'std', 'var'])\n",
    "\n",
    "estatisticas_por_escolaridade['Coeficiente_Variacao_Nota_Geral'] = (estatisticas_por_escolaridade['std'] / estatisticas_por_escolaridade['mean']) \n",
    "\n",
    "estatisticas_por_escolaridade.columns = ['Media_Nota_Geral', 'Desvio_Padrao_Nota_Geral', 'Variancia_Nota_Geral', 'Coeficiente_Variacao_Nota_Geral']\n",
    "\n",
    "estatisticas_por_escolaridade['Escolaridade_pai'] = estatisticas_por_escolaridade.index\n",
    "resultado_final = estatisticas_por_escolaridade[['Escolaridade_pai', 'Media_Nota_Geral', 'Desvio_Padrao_Nota_Geral', 'Coeficiente_Variacao_Nota_Geral']]\n",
    "\n",
    "\n",
    "print(resultado_final.to_string(index=False))"
   ]
  },
  {
   "cell_type": "code",
   "execution_count": 9,
   "metadata": {},
   "outputs": [
    {
     "name": "stdout",
     "output_type": "stream",
     "text": [
      "Escolaridade_mae\n",
      "A    32.250000\n",
      "B    34.541667\n",
      "C    41.222222\n",
      "D    37.354839\n",
      "E    42.666667\n",
      "F    36.800000\n",
      "Name: Nota_geral, dtype: float64\n"
     ]
    }
   ],
   "source": [
    "def calcular_media_nota_geral_por_resposta(dataframe):\n",
    "    media_por_resposta = dataframe.groupby('Escolaridade_mae')['Nota_geral'].mean()\n",
    "    \n",
    "    return media_por_resposta\n",
    "\n",
    "media_nota_geral_por_resposta = calcular_media_nota_geral_por_resposta(regiao_centro_oeste_mat)\n",
    "print(media_nota_geral_por_resposta)"
   ]
  },
  {
   "cell_type": "code",
   "execution_count": 10,
   "metadata": {},
   "outputs": [
    {
     "name": "stdout",
     "output_type": "stream",
     "text": [
      "Escolaridade_mae  Media_Nota_Geral  Desvio_Padrao_Nota_Geral  Coeficiente_Variacao_Nota_Geral\n",
      "               A         32.250000                  8.616844                         0.267189\n",
      "               B         34.541667                  9.486738                         0.274646\n",
      "               C         41.222222                 12.753572                         0.309386\n",
      "               D         37.354839                 11.010747                         0.294761\n",
      "               E         42.666667                 19.448650                         0.455828\n",
      "               F         36.800000                 16.376813                         0.445022\n"
     ]
    }
   ],
   "source": [
    "grupo_escolaridade = regiao_centro_oeste_mat.groupby('Escolaridade_mae')\n",
    "\n",
    "estatisticas_por_escolaridade = grupo_escolaridade['Nota_geral'].agg(['mean', 'std', 'var'])\n",
    "\n",
    "estatisticas_por_escolaridade['Coeficiente_Variacao_Nota_Geral'] = (estatisticas_por_escolaridade['std'] / estatisticas_por_escolaridade['mean']) \n",
    "\n",
    "estatisticas_por_escolaridade.columns = ['Media_Nota_Geral', 'Desvio_Padrao_Nota_Geral', 'Variancia_Nota_Geral', 'Coeficiente_Variacao_Nota_Geral']\n",
    "\n",
    "estatisticas_por_escolaridade['Escolaridade_mae'] = estatisticas_por_escolaridade.index\n",
    "resultado_final = estatisticas_por_escolaridade[['Escolaridade_mae', 'Media_Nota_Geral', 'Desvio_Padrao_Nota_Geral', 'Coeficiente_Variacao_Nota_Geral']]\n",
    "\n",
    "\n",
    "print(resultado_final.to_string(index=False))"
   ]
  },
  {
   "cell_type": "code",
   "execution_count": 11,
   "metadata": {},
   "outputs": [
    {
     "name": "stdout",
     "output_type": "stream",
     "text": [
      "Renda\n",
      "A    36.000000\n",
      "B    35.628571\n",
      "C    40.368421\n",
      "D    42.857143\n",
      "E    34.500000\n",
      "F    43.600000\n",
      "G          NaN\n",
      "Name: Nota_geral, dtype: float64\n"
     ]
    }
   ],
   "source": [
    "def calcular_media_nota_geral_por_resposta(dataframe):\n",
    "    media_por_resposta = dataframe.groupby('Renda')['Nota_geral'].mean()\n",
    "    \n",
    "    return media_por_resposta\n",
    "\n",
    "media_nota_geral_por_resposta = calcular_media_nota_geral_por_resposta(regiao_centro_oeste_mat)\n",
    "print(media_nota_geral_por_resposta)"
   ]
  },
  {
   "cell_type": "code",
   "execution_count": 12,
   "metadata": {},
   "outputs": [
    {
     "name": "stdout",
     "output_type": "stream",
     "text": [
      "Renda  Media_Nota_Geral  Desvio_Padrao_Nota_Geral  Coeficiente_Variacao_Nota_Geral\n",
      "    A         36.000000                 11.090537                         0.308070\n",
      "    B         35.628571                 12.245253                         0.343692\n",
      "    C         40.368421                 12.280113                         0.304201\n",
      "    D         42.857143                 13.196320                         0.307914\n",
      "    E         34.500000                  4.434712                         0.128542\n",
      "    F         43.600000                 19.243181                         0.441357\n",
      "    G               NaN                       NaN                              NaN\n"
     ]
    }
   ],
   "source": [
    "grupo_escolaridade = regiao_centro_oeste_mat.groupby('Renda')\n",
    "\n",
    "estatisticas_por_escolaridade = grupo_escolaridade['Nota_geral'].agg(['mean', 'std', 'var'])\n",
    "\n",
    "estatisticas_por_escolaridade['Coeficiente_Variacao_Nota_Geral'] = (estatisticas_por_escolaridade['std'] / estatisticas_por_escolaridade['mean']) \n",
    "\n",
    "estatisticas_por_escolaridade.columns = ['Media_Nota_Geral', 'Desvio_Padrao_Nota_Geral', 'Variancia_Nota_Geral', 'Coeficiente_Variacao_Nota_Geral']\n",
    "\n",
    "estatisticas_por_escolaridade['Renda'] = estatisticas_por_escolaridade.index\n",
    "resultado_final = estatisticas_por_escolaridade[['Renda', 'Media_Nota_Geral', 'Desvio_Padrao_Nota_Geral', 'Coeficiente_Variacao_Nota_Geral']]\n",
    "\n",
    "\n",
    "print(resultado_final.to_string(index=False))"
   ]
  },
  {
   "cell_type": "code",
   "execution_count": 13,
   "metadata": {},
   "outputs": [
    {
     "name": "stdout",
     "output_type": "stream",
     "text": [
      "Tipo_escola\n",
      "A    36.837500\n",
      "B    45.571429\n",
      "C          NaN\n",
      "D    36.000000\n",
      "E    44.000000\n",
      "Name: Nota_geral, dtype: float64\n"
     ]
    }
   ],
   "source": [
    "def calcular_media_nota_geral_por_resposta(dataframe):\n",
    "    media_por_resposta = dataframe.groupby('Tipo_escola')['Nota_geral'].mean()\n",
    "    \n",
    "    return media_por_resposta\n",
    "\n",
    "media_nota_geral_por_resposta = calcular_media_nota_geral_por_resposta(regiao_centro_oeste_mat)\n",
    "print(media_nota_geral_por_resposta)"
   ]
  },
  {
   "cell_type": "code",
   "execution_count": 14,
   "metadata": {},
   "outputs": [
    {
     "name": "stdout",
     "output_type": "stream",
     "text": [
      "Tipo_escola  Media_Nota_Geral  Desvio_Padrao_Nota_Geral  Coeficiente_Variacao_Nota_Geral\n",
      "          A         36.837500                 12.129516                         0.329271\n",
      "          B         45.571429                 14.649882                         0.321471\n",
      "          C               NaN                       NaN                              NaN\n",
      "          D         36.000000                  4.242641                         0.117851\n",
      "          E         44.000000                  9.899495                         0.224989\n"
     ]
    }
   ],
   "source": [
    "grupo_escolaridade = regiao_centro_oeste_mat.groupby('Tipo_escola')\n",
    "\n",
    "estatisticas_por_escolaridade = grupo_escolaridade['Nota_geral'].agg(['mean', 'std', 'var'])\n",
    "\n",
    "estatisticas_por_escolaridade['Coeficiente_Variacao_Nota_Geral'] = (estatisticas_por_escolaridade['std'] / estatisticas_por_escolaridade['mean']) \n",
    "\n",
    "estatisticas_por_escolaridade.columns = ['Media_Nota_Geral', 'Desvio_Padrao_Nota_Geral', 'Variancia_Nota_Geral', 'Coeficiente_Variacao_Nota_Geral']\n",
    "\n",
    "estatisticas_por_escolaridade['Tipo_escola'] = estatisticas_por_escolaridade.index\n",
    "resultado_final = estatisticas_por_escolaridade[['Tipo_escola', 'Media_Nota_Geral', 'Desvio_Padrao_Nota_Geral', 'Coeficiente_Variacao_Nota_Geral']]\n",
    "\n",
    "\n",
    "print(resultado_final.to_string(index=False))"
   ]
  },
  {
   "cell_type": "code",
   "execution_count": 15,
   "metadata": {},
   "outputs": [
    {
     "name": "stdout",
     "output_type": "stream",
     "text": [
      "Horas_estudos\n",
      "A          NaN\n",
      "B    34.902439\n",
      "C    40.071429\n",
      "D    37.214286\n",
      "E    44.000000\n",
      "Name: Nota_geral, dtype: float64\n"
     ]
    }
   ],
   "source": [
    "def calcular_media_nota_geral_por_resposta(dataframe):\n",
    "    media_por_resposta = dataframe.groupby('Horas_estudos')['Nota_geral'].mean()\n",
    "    \n",
    "    return media_por_resposta\n",
    "\n",
    "media_nota_geral_por_resposta = calcular_media_nota_geral_por_resposta(regiao_centro_oeste_mat)\n",
    "print(media_nota_geral_por_resposta)"
   ]
  },
  {
   "cell_type": "code",
   "execution_count": 16,
   "metadata": {},
   "outputs": [
    {
     "name": "stdout",
     "output_type": "stream",
     "text": [
      "Horas_estudos  Media_Nota_Geral  Desvio_Padrao_Nota_Geral  Coeficiente_Variacao_Nota_Geral\n",
      "            A               NaN                       NaN                              NaN\n",
      "            B         34.902439                 11.894967                         0.340806\n",
      "            C         40.071429                 13.594467                         0.339256\n",
      "            D         37.214286                 11.157464                         0.299817\n",
      "            E         44.000000                  8.766821                         0.199246\n"
     ]
    }
   ],
   "source": [
    "grupo_escolaridade = regiao_centro_oeste_mat.groupby('Horas_estudos')\n",
    "\n",
    "estatisticas_por_escolaridade = grupo_escolaridade['Nota_geral'].agg(['mean', 'std', 'var'])\n",
    "\n",
    "estatisticas_por_escolaridade['Coeficiente_Variacao_Nota_Geral'] = (estatisticas_por_escolaridade['std'] / estatisticas_por_escolaridade['mean']) \n",
    "\n",
    "estatisticas_por_escolaridade.columns = ['Media_Nota_Geral', 'Desvio_Padrao_Nota_Geral', 'Variancia_Nota_Geral', 'Coeficiente_Variacao_Nota_Geral']\n",
    "\n",
    "estatisticas_por_escolaridade['Horas_estudos'] = estatisticas_por_escolaridade.index\n",
    "resultado_final = estatisticas_por_escolaridade[['Horas_estudos', 'Media_Nota_Geral', 'Desvio_Padrao_Nota_Geral', 'Coeficiente_Variacao_Nota_Geral']]\n",
    "\n",
    "\n",
    "print(resultado_final.to_string(index=False))"
   ]
  }
 ],
 "metadata": {
  "kernelspec": {
   "display_name": "Python 3",
   "language": "python",
   "name": "python3"
  },
  "language_info": {
   "codemirror_mode": {
    "name": "ipython",
    "version": 3
   },
   "file_extension": ".py",
   "mimetype": "text/x-python",
   "name": "python",
   "nbconvert_exporter": "python",
   "pygments_lexer": "ipython3",
   "version": "3.12.0"
  }
 },
 "nbformat": 4,
 "nbformat_minor": 2
}
