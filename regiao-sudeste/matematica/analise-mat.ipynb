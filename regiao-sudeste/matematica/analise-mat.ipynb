{
 "cells": [
  {
   "cell_type": "code",
   "execution_count": 2,
   "metadata": {},
   "outputs": [],
   "source": [
    "import pandas as pd\n",
    "import numpy as np\n",
    "import matplotlib as plt"
   ]
  },
  {
   "cell_type": "code",
   "execution_count": 3,
   "metadata": {},
   "outputs": [
    {
     "name": "stdout",
     "output_type": "stream",
     "text": [
      "      Cod_curso  Cod_grupo_curso  Cod_regiao_curso Nota_geral  \\\n",
      "0           624              702                 3        NaN   \n",
      "1           624              702                 3       23,6   \n",
      "2           624              702                 3         51   \n",
      "3           624              702                 3       60,3   \n",
      "4           624              702                 3       51,6   \n",
      "...         ...              ...               ...        ...   \n",
      "4633      89886              702                 3        NaN   \n",
      "4634      89886              702                 3        NaN   \n",
      "4635     105058              702                 3        NaN   \n",
      "4636    1166014              702                 3        NaN   \n",
      "4637    1166014              702                 3        NaN   \n",
      "\n",
      "     Escolaridade_pai Escolaridade_mae Renda Tipo_escola Horas_estudos  \n",
      "0                   E                E     E           A             B  \n",
      "1                   D                D     A           A             C  \n",
      "2                   D                D     B           B             D  \n",
      "3                   D                B     C           A             D  \n",
      "4                   C                D     B           B             B  \n",
      "...               ...              ...   ...         ...           ...  \n",
      "4633              NaN              NaN   NaN         NaN           NaN  \n",
      "4634              NaN              NaN   NaN         NaN           NaN  \n",
      "4635              NaN              NaN   NaN         NaN           NaN  \n",
      "4636              NaN              NaN   NaN         NaN           NaN  \n",
      "4637              NaN              NaN   NaN         NaN           NaN  \n",
      "\n",
      "[4638 rows x 9 columns]\n"
     ]
    }
   ],
   "source": [
    "regiao_sudeste_mat = pd.read_csv('regiao-sudeste-mat.csv', sep=',')\n",
    "\n",
    "print(regiao_sudeste_mat)"
   ]
  },
  {
   "cell_type": "code",
   "execution_count": 4,
   "metadata": {},
   "outputs": [
    {
     "name": "stdout",
     "output_type": "stream",
     "text": [
      "Cod_curso              0\n",
      "Cod_grupo_curso        0\n",
      "Cod_regiao_curso       0\n",
      "Nota_geral          1028\n",
      "Escolaridade_pai     746\n",
      "Escolaridade_mae     746\n",
      "Renda                746\n",
      "Tipo_escola          746\n",
      "Horas_estudos        746\n",
      "dtype: int64\n"
     ]
    }
   ],
   "source": [
    "valores_nulos = regiao_sudeste_mat.isnull()\n",
    "contagem = valores_nulos.sum()\n",
    "\n",
    "print(contagem)"
   ]
  },
  {
   "cell_type": "code",
   "execution_count": 5,
   "metadata": {},
   "outputs": [],
   "source": [
    "regiao_sudeste_mat.dropna(inplace=True)"
   ]
  },
  {
   "cell_type": "code",
   "execution_count": 6,
   "metadata": {},
   "outputs": [
    {
     "name": "stdout",
     "output_type": "stream",
     "text": [
      "Escolaridade_pai\n",
      "A    37.483871\n",
      "B    37.524590\n",
      "C    45.626866\n",
      "D    44.285714\n",
      "E    44.046512\n",
      "F    48.142857\n",
      "Name: Nota_geral, dtype: float64\n"
     ]
    }
   ],
   "source": [
    "regiao_sudeste_mat['Nota_geral'] = pd.to_numeric(regiao_sudeste_mat['Nota_geral'], errors='coerce')\n",
    "\n",
    "def calcular_media_nota_geral_por_resposta(dataframe):\n",
    "    media_por_resposta = dataframe.groupby('Escolaridade_pai')['Nota_geral'].mean()\n",
    "    \n",
    "    return media_por_resposta\n",
    "\n",
    "media_nota_geral_por_resposta = calcular_media_nota_geral_por_resposta(regiao_sudeste_mat)\n",
    "print(media_nota_geral_por_resposta)"
   ]
  },
  {
   "cell_type": "code",
   "execution_count": 7,
   "metadata": {},
   "outputs": [
    {
     "name": "stdout",
     "output_type": "stream",
     "text": [
      "Escolaridade_pai  Media_Nota_Geral  Desvio_Padrao_Nota_Geral  Coeficiente_Variacao_Nota_Geral\n",
      "               A         37.483871                 12.632949                         0.337024\n",
      "               B         37.524590                 14.644669                         0.390269\n",
      "               C         45.626866                 14.516277                         0.318152\n",
      "               D         44.285714                 15.837046                         0.357611\n",
      "               E         44.046512                 17.812453                         0.404401\n",
      "               F         48.142857                 15.698394                         0.326079\n"
     ]
    }
   ],
   "source": [
    "grupo_escolaridade = regiao_sudeste_mat.groupby('Escolaridade_pai')\n",
    "\n",
    "estatisticas_por_escolaridade = grupo_escolaridade['Nota_geral'].agg(['mean', 'std', 'var'])\n",
    "\n",
    "estatisticas_por_escolaridade['Coeficiente_Variacao_Nota_Geral'] = (estatisticas_por_escolaridade['std'] / estatisticas_por_escolaridade['mean']) \n",
    "\n",
    "estatisticas_por_escolaridade.columns = ['Media_Nota_Geral', 'Desvio_Padrao_Nota_Geral', 'Variancia_Nota_Geral', 'Coeficiente_Variacao_Nota_Geral']\n",
    "\n",
    "estatisticas_por_escolaridade['Escolaridade_pai'] = estatisticas_por_escolaridade.index\n",
    "resultado_final = estatisticas_por_escolaridade[['Escolaridade_pai', 'Media_Nota_Geral', 'Desvio_Padrao_Nota_Geral', 'Coeficiente_Variacao_Nota_Geral']]\n",
    "\n",
    "\n",
    "print(resultado_final.to_string(index=False))"
   ]
  },
  {
   "cell_type": "code",
   "execution_count": 8,
   "metadata": {},
   "outputs": [
    {
     "name": "stdout",
     "output_type": "stream",
     "text": [
      "Escolaridade_mae\n",
      "A    36.384615\n",
      "B    38.192661\n",
      "C    40.657534\n",
      "D    45.966292\n",
      "E    43.368421\n",
      "F    50.473684\n",
      "Name: Nota_geral, dtype: float64\n"
     ]
    }
   ],
   "source": [
    "def calcular_media_nota_geral_por_resposta(dataframe):\n",
    "    media_por_resposta = dataframe.groupby('Escolaridade_mae')['Nota_geral'].mean()\n",
    "    \n",
    "    return media_por_resposta\n",
    "\n",
    "media_nota_geral_por_resposta = calcular_media_nota_geral_por_resposta(regiao_sudeste_mat)\n",
    "print(media_nota_geral_por_resposta)"
   ]
  },
  {
   "cell_type": "code",
   "execution_count": 9,
   "metadata": {},
   "outputs": [
    {
     "name": "stdout",
     "output_type": "stream",
     "text": [
      "Escolaridade_mae  Media_Nota_Geral  Desvio_Padrao_Nota_Geral  Coeficiente_Variacao_Nota_Geral\n",
      "               A         36.384615                 10.560594                         0.290249\n",
      "               B         38.192661                 14.690938                         0.384653\n",
      "               C         40.657534                 13.577165                         0.333940\n",
      "               D         45.966292                 15.704262                         0.341647\n",
      "               E         43.368421                 19.308899                         0.445229\n",
      "               F         50.473684                 16.784147                         0.332533\n"
     ]
    }
   ],
   "source": [
    "grupo_escolaridade = regiao_sudeste_mat.groupby('Escolaridade_mae')\n",
    "\n",
    "estatisticas_por_escolaridade = grupo_escolaridade['Nota_geral'].agg(['mean', 'std', 'var'])\n",
    "\n",
    "estatisticas_por_escolaridade['Coeficiente_Variacao_Nota_Geral'] = (estatisticas_por_escolaridade['std'] / estatisticas_por_escolaridade['mean']) \n",
    "\n",
    "estatisticas_por_escolaridade.columns = ['Media_Nota_Geral', 'Desvio_Padrao_Nota_Geral', 'Variancia_Nota_Geral', 'Coeficiente_Variacao_Nota_Geral']\n",
    "\n",
    "estatisticas_por_escolaridade['Escolaridade_mae'] = estatisticas_por_escolaridade.index\n",
    "resultado_final = estatisticas_por_escolaridade[['Escolaridade_mae', 'Media_Nota_Geral', 'Desvio_Padrao_Nota_Geral', 'Coeficiente_Variacao_Nota_Geral']]\n",
    "\n",
    "\n",
    "print(resultado_final.to_string(index=False))"
   ]
  },
  {
   "cell_type": "code",
   "execution_count": 10,
   "metadata": {},
   "outputs": [
    {
     "name": "stdout",
     "output_type": "stream",
     "text": [
      "Renda\n",
      "A    38.611111\n",
      "B    39.691057\n",
      "C    42.552941\n",
      "D    42.875000\n",
      "E    48.393939\n",
      "F    46.611111\n",
      "G    40.000000\n",
      "Name: Nota_geral, dtype: float64\n"
     ]
    }
   ],
   "source": [
    "def calcular_media_nota_geral_por_resposta(dataframe):\n",
    "    media_por_resposta = dataframe.groupby('Renda')['Nota_geral'].mean()\n",
    "    \n",
    "    return media_por_resposta\n",
    "\n",
    "media_nota_geral_por_resposta = calcular_media_nota_geral_por_resposta(regiao_sudeste_mat)\n",
    "print(media_nota_geral_por_resposta)"
   ]
  },
  {
   "cell_type": "code",
   "execution_count": 11,
   "metadata": {},
   "outputs": [
    {
     "name": "stdout",
     "output_type": "stream",
     "text": [
      "Renda  Media_Nota_Geral  Desvio_Padrao_Nota_Geral  Coeficiente_Variacao_Nota_Geral\n",
      "    A         38.611111                 15.030054                         0.389268\n",
      "    B         39.691057                 14.607504                         0.368030\n",
      "    C         42.552941                 14.090275                         0.331123\n",
      "    D         42.875000                 17.736226                         0.413673\n",
      "    E         48.393939                 14.562236                         0.300910\n",
      "    F         46.611111                 22.361045                         0.479736\n",
      "    G         40.000000                       NaN                              NaN\n"
     ]
    }
   ],
   "source": [
    "grupo_escolaridade = regiao_sudeste_mat.groupby('Renda')\n",
    "\n",
    "estatisticas_por_escolaridade = grupo_escolaridade['Nota_geral'].agg(['mean', 'std', 'var'])\n",
    "\n",
    "estatisticas_por_escolaridade['Coeficiente_Variacao_Nota_Geral'] = (estatisticas_por_escolaridade['std'] / estatisticas_por_escolaridade['mean']) \n",
    "\n",
    "estatisticas_por_escolaridade.columns = ['Media_Nota_Geral', 'Desvio_Padrao_Nota_Geral', 'Variancia_Nota_Geral', 'Coeficiente_Variacao_Nota_Geral']\n",
    "\n",
    "estatisticas_por_escolaridade['Renda'] = estatisticas_por_escolaridade.index\n",
    "resultado_final = estatisticas_por_escolaridade[['Renda', 'Media_Nota_Geral', 'Desvio_Padrao_Nota_Geral', 'Coeficiente_Variacao_Nota_Geral']]\n",
    "\n",
    "\n",
    "print(resultado_final.to_string(index=False))"
   ]
  },
  {
   "cell_type": "code",
   "execution_count": 12,
   "metadata": {},
   "outputs": [
    {
     "name": "stdout",
     "output_type": "stream",
     "text": [
      "Tipo_escola\n",
      "A    40.770677\n",
      "B    48.092308\n",
      "C          NaN\n",
      "D    34.214286\n",
      "E    36.111111\n",
      "F          NaN\n",
      "Name: Nota_geral, dtype: float64\n"
     ]
    }
   ],
   "source": [
    "def calcular_media_nota_geral_por_resposta(dataframe):\n",
    "    media_por_resposta = dataframe.groupby('Tipo_escola')['Nota_geral'].mean()\n",
    "    \n",
    "    return media_por_resposta\n",
    "\n",
    "media_nota_geral_por_resposta = calcular_media_nota_geral_por_resposta(regiao_sudeste_mat)\n",
    "print(media_nota_geral_por_resposta)"
   ]
  },
  {
   "cell_type": "code",
   "execution_count": 13,
   "metadata": {},
   "outputs": [
    {
     "name": "stdout",
     "output_type": "stream",
     "text": [
      "Tipo_escola  Media_Nota_Geral  Desvio_Padrao_Nota_Geral  Coeficiente_Variacao_Nota_Geral\n",
      "          A         40.770677                 14.563201                         0.357198\n",
      "          B         48.092308                 17.295884                         0.359639\n",
      "          C               NaN                       NaN                              NaN\n",
      "          D         34.214286                 16.015274                         0.468087\n",
      "          E         36.111111                 18.189588                         0.503712\n",
      "          F               NaN                       NaN                              NaN\n"
     ]
    }
   ],
   "source": [
    "grupo_escolaridade = regiao_sudeste_mat.groupby('Tipo_escola')\n",
    "\n",
    "estatisticas_por_escolaridade = grupo_escolaridade['Nota_geral'].agg(['mean', 'std', 'var'])\n",
    "\n",
    "estatisticas_por_escolaridade['Coeficiente_Variacao_Nota_Geral'] = (estatisticas_por_escolaridade['std'] / estatisticas_por_escolaridade['mean']) \n",
    "\n",
    "estatisticas_por_escolaridade.columns = ['Media_Nota_Geral', 'Desvio_Padrao_Nota_Geral', 'Variancia_Nota_Geral', 'Coeficiente_Variacao_Nota_Geral']\n",
    "\n",
    "estatisticas_por_escolaridade['Tipo_escola'] = estatisticas_por_escolaridade.index\n",
    "resultado_final = estatisticas_por_escolaridade[['Tipo_escola', 'Media_Nota_Geral', 'Desvio_Padrao_Nota_Geral', 'Coeficiente_Variacao_Nota_Geral']]\n",
    "\n",
    "\n",
    "print(resultado_final.to_string(index=False))"
   ]
  },
  {
   "cell_type": "code",
   "execution_count": 14,
   "metadata": {},
   "outputs": [
    {
     "name": "stdout",
     "output_type": "stream",
     "text": [
      "Horas_estudos\n",
      "A    38.000000\n",
      "B    38.045045\n",
      "C    41.114035\n",
      "D    43.769231\n",
      "E    48.045455\n",
      "Name: Nota_geral, dtype: float64\n"
     ]
    }
   ],
   "source": [
    "def calcular_media_nota_geral_por_resposta(dataframe):\n",
    "    media_por_resposta = dataframe.groupby('Horas_estudos')['Nota_geral'].mean()\n",
    "    \n",
    "    return media_por_resposta\n",
    "\n",
    "media_nota_geral_por_resposta = calcular_media_nota_geral_por_resposta(regiao_sudeste_mat)\n",
    "print(media_nota_geral_por_resposta)"
   ]
  },
  {
   "cell_type": "code",
   "execution_count": 15,
   "metadata": {},
   "outputs": [
    {
     "name": "stdout",
     "output_type": "stream",
     "text": [
      "Horas_estudos  Media_Nota_Geral  Desvio_Padrao_Nota_Geral  Coeficiente_Variacao_Nota_Geral\n",
      "            A         38.000000                 16.321765                         0.429520\n",
      "            B         38.045045                 13.679705                         0.359566\n",
      "            C         41.114035                 16.686998                         0.405871\n",
      "            D         43.769231                 13.763571                         0.314458\n",
      "            E         48.045455                 15.861353                         0.330132\n"
     ]
    }
   ],
   "source": [
    "grupo_escolaridade = regiao_sudeste_mat.groupby('Horas_estudos')\n",
    "\n",
    "estatisticas_por_escolaridade = grupo_escolaridade['Nota_geral'].agg(['mean', 'std', 'var'])\n",
    "\n",
    "estatisticas_por_escolaridade['Coeficiente_Variacao_Nota_Geral'] = (estatisticas_por_escolaridade['std'] / estatisticas_por_escolaridade['mean']) \n",
    "\n",
    "estatisticas_por_escolaridade.columns = ['Media_Nota_Geral', 'Desvio_Padrao_Nota_Geral', 'Variancia_Nota_Geral', 'Coeficiente_Variacao_Nota_Geral']\n",
    "\n",
    "estatisticas_por_escolaridade['Horas_estudos'] = estatisticas_por_escolaridade.index\n",
    "resultado_final = estatisticas_por_escolaridade[['Horas_estudos', 'Media_Nota_Geral', 'Desvio_Padrao_Nota_Geral', 'Coeficiente_Variacao_Nota_Geral']]\n",
    "\n",
    "\n",
    "print(resultado_final.to_string(index=False))"
   ]
  }
 ],
 "metadata": {
  "kernelspec": {
   "display_name": "Python 3",
   "language": "python",
   "name": "python3"
  },
  "language_info": {
   "codemirror_mode": {
    "name": "ipython",
    "version": 3
   },
   "file_extension": ".py",
   "mimetype": "text/x-python",
   "name": "python",
   "nbconvert_exporter": "python",
   "pygments_lexer": "ipython3",
   "version": "3.12.0"
  }
 },
 "nbformat": 4,
 "nbformat_minor": 2
}
