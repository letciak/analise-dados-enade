{
 "cells": [
  {
   "cell_type": "code",
   "execution_count": 1,
   "metadata": {},
   "outputs": [],
   "source": [
    "import pandas as pd\n",
    "import plotly.express as px"
   ]
  },
  {
   "cell_type": "code",
   "execution_count": 2,
   "metadata": {},
   "outputs": [
    {
     "name": "stdout",
     "output_type": "stream",
     "text": [
      "      Cod_curso  Cod_grupo_curso  Cod_regiao_curso Nota_geral  \\\n",
      "0           624              702                 3        NaN   \n",
      "1           624              702                 3       23,6   \n",
      "2           624              702                 3         51   \n",
      "3           624              702                 3       60,3   \n",
      "4           624              702                 3       51,6   \n",
      "...         ...              ...               ...        ...   \n",
      "4633      89886              702                 3        NaN   \n",
      "4634      89886              702                 3        NaN   \n",
      "4635     105058              702                 3        NaN   \n",
      "4636    1166014              702                 3        NaN   \n",
      "4637    1166014              702                 3        NaN   \n",
      "\n",
      "     Escolaridade_pai Escolaridade_mae Renda Tipo_escola Horas_estudos  \n",
      "0                   E                E     E           A             B  \n",
      "1                   D                D     A           A             C  \n",
      "2                   D                D     B           B             D  \n",
      "3                   D                B     C           A             D  \n",
      "4                   C                D     B           B             B  \n",
      "...               ...              ...   ...         ...           ...  \n",
      "4633              NaN              NaN   NaN         NaN           NaN  \n",
      "4634              NaN              NaN   NaN         NaN           NaN  \n",
      "4635              NaN              NaN   NaN         NaN           NaN  \n",
      "4636              NaN              NaN   NaN         NaN           NaN  \n",
      "4637              NaN              NaN   NaN         NaN           NaN  \n",
      "\n",
      "[4638 rows x 9 columns]\n"
     ]
    }
   ],
   "source": [
    "regiao_sudeste_mat = pd.read_csv('regiao-sudeste-mat.csv', sep=',')\n",
    "\n",
    "print(regiao_sudeste_mat)"
   ]
  },
  {
   "cell_type": "code",
   "execution_count": 3,
   "metadata": {},
   "outputs": [
    {
     "name": "stdout",
     "output_type": "stream",
     "text": [
      "Cod_curso              0\n",
      "Cod_grupo_curso        0\n",
      "Cod_regiao_curso       0\n",
      "Nota_geral          1028\n",
      "Escolaridade_pai     746\n",
      "Escolaridade_mae     746\n",
      "Renda                746\n",
      "Tipo_escola          746\n",
      "Horas_estudos        746\n",
      "dtype: int64\n"
     ]
    }
   ],
   "source": [
    "valores_nulos = regiao_sudeste_mat.isnull()\n",
    "contagem = valores_nulos.sum()\n",
    "\n",
    "print(contagem)"
   ]
  },
  {
   "cell_type": "code",
   "execution_count": 4,
   "metadata": {},
   "outputs": [],
   "source": [
    "regiao_sudeste_mat.dropna(inplace=True)"
   ]
  },
  {
   "cell_type": "code",
   "execution_count": 5,
   "metadata": {},
   "outputs": [
    {
     "name": "stdout",
     "output_type": "stream",
     "text": [
      "     Nota_geral Renda Escolaridade_mae Escolaridade_pai\n",
      "1          23,6     A                D                D\n",
      "2            51     B                D                D\n",
      "3          60,3     C                B                D\n",
      "4          51,6     B                D                C\n",
      "5          66,8     C                D                D\n",
      "...         ...   ...              ...              ...\n",
      "4579       21,9     B                D                E\n",
      "4581       28,2     C                B                B\n",
      "4582       44,3     B                B                C\n",
      "4583         29     B                C                C\n",
      "4585         14     A                B                A\n",
      "\n",
      "[3555 rows x 4 columns]\n"
     ]
    }
   ],
   "source": [
    "filtro = ['Nota_geral', 'Renda', 'Escolaridade_mae', 'Escolaridade_pai']\n",
    "dados_explorados = regiao_sudeste_mat[filtro]\n",
    "\n",
    "print(dados_explorados)"
   ]
  },
  {
   "cell_type": "code",
   "execution_count": 9,
   "metadata": {},
   "outputs": [
    {
     "data": {
      "application/vnd.plotly.v1+json": {
       "config": {
        "plotlyServerURL": "https://plot.ly"
       },
       "data": [
        {
         "alignmentgroup": "True",
         "hovertemplate": "Renda=%{x}<br>Nota Geral=%{y}<extra></extra>",
         "legendgroup": "",
         "marker": {
          "color": "#636efa"
         },
         "name": "",
         "notched": false,
         "offsetgroup": "",
         "orientation": "v",
         "showlegend": false,
         "type": "box",
         "x": [
          "Média baixa",
          "Média alta",
          "Renda alta",
          "Média alta",
          "Renda baixa",
          "Média baixa",
          "Renda alta",
          "Média alta",
          "Média baixa",
          "Média alta",
          "Média alta",
          "Média alta",
          "Média baixa",
          "Média alta",
          "Média baixa",
          "Renda alta",
          "Média alta",
          "Média alta",
          "Média alta",
          "Média alta",
          "Média baixa",
          "Média baixa",
          "Renda alta",
          "Renda alta",
          "Renda baixa",
          "Média baixa",
          "Renda baixa",
          "Média alta",
          "Renda alta",
          "Média baixa",
          "Média alta",
          "Média alta",
          "Renda alta",
          "Média alta",
          "Média alta",
          "Média baixa",
          "Renda alta",
          "Renda alta",
          "Renda alta",
          "Média alta",
          "Renda alta",
          "Renda alta",
          "Média alta",
          "Renda baixa",
          "Média alta",
          "Renda alta",
          "Média baixa",
          "Média baixa",
          "Renda alta",
          "Média alta",
          "Renda alta",
          "Média alta",
          "Média alta",
          "Renda alta",
          "Renda alta",
          "Renda baixa",
          "Média baixa",
          "Renda alta",
          "Renda alta",
          "Média alta",
          "Renda alta",
          "Média baixa",
          "Média alta",
          "Média baixa",
          "Média baixa",
          "Média baixa",
          "Renda baixa",
          "Média alta",
          "Renda baixa",
          "Média baixa",
          "Média alta",
          "Média baixa",
          "Média alta",
          "Média alta",
          "Média alta",
          "Média baixa",
          "Média baixa",
          "Média baixa",
          "Média alta",
          "Renda baixa",
          "Renda baixa",
          "Renda baixa",
          "Renda baixa",
          "Média alta",
          "Média baixa",
          "Média alta",
          "Média baixa",
          "Média baixa",
          "Média baixa",
          "Média baixa",
          "Média alta",
          "Média alta",
          "Média alta",
          "Renda alta",
          "Média alta",
          "Renda alta",
          "Renda alta",
          "Média alta",
          "Média baixa",
          "Média baixa",
          "Média baixa",
          "Média baixa",
          "Renda baixa",
          "Renda baixa",
          "Média baixa",
          "Média baixa",
          "Média baixa",
          "Média baixa",
          "Média alta",
          "Renda alta",
          "Renda alta",
          "Média alta",
          "Média baixa",
          "Média alta",
          "Renda alta",
          "Média baixa",
          "Renda alta",
          "Média baixa",
          "Média baixa",
          "Média baixa",
          "Renda baixa",
          "Média baixa",
          "Média alta",
          "Renda baixa",
          "Média baixa",
          "Renda baixa",
          "Média alta",
          "Média alta",
          "Média baixa",
          "Média baixa",
          "Média alta",
          "Média baixa",
          "Renda baixa",
          "Média alta",
          "Renda baixa",
          "Renda baixa",
          "Média baixa",
          "Média baixa",
          "Média baixa",
          "Média alta",
          "Renda baixa",
          "Média alta",
          "Renda baixa",
          "Média baixa",
          "Média alta",
          "Renda baixa",
          "Renda baixa",
          "Renda alta",
          "Média baixa",
          "Média alta",
          "Média alta",
          "Média baixa",
          "Renda baixa",
          "Renda baixa",
          "Média baixa",
          "Renda baixa",
          "Média baixa",
          "Média baixa",
          "Média alta",
          "Renda baixa",
          "Média baixa",
          "Média baixa",
          "Média baixa",
          "Média baixa",
          "Média alta",
          "Média alta",
          "Média baixa",
          "Média baixa",
          "Média alta",
          "Média baixa",
          "Média baixa",
          "Renda baixa",
          "Renda baixa",
          "Renda alta",
          "Média alta",
          "Renda baixa",
          "Média alta",
          "Média baixa",
          "Média alta",
          "Média baixa",
          "Média baixa",
          "Média baixa",
          "Média baixa",
          "Renda alta",
          "Renda baixa",
          "Renda baixa",
          "Média baixa",
          "Média alta",
          "Média alta",
          "Média baixa",
          "Média alta",
          "Média baixa",
          "Média alta",
          "Média baixa",
          "Média baixa",
          "Média baixa",
          "Média alta",
          "Média baixa",
          "Média alta",
          "Média baixa",
          "Média baixa",
          "Média alta",
          "Média alta",
          "Média baixa",
          "Renda alta",
          "Renda alta",
          "Renda baixa",
          "Média alta",
          "Média alta",
          "Média baixa",
          "Média baixa",
          "Média baixa",
          "Média baixa",
          "Renda alta",
          "Média baixa",
          "Renda alta",
          "Média baixa",
          "Renda alta",
          "Renda alta",
          "Média alta",
          "Renda baixa",
          "Média baixa",
          "Renda baixa",
          "Média baixa",
          "Média alta",
          "Média baixa",
          "Média baixa",
          "Média alta",
          "Renda baixa",
          "Média alta",
          "Média alta",
          "Média alta",
          "Renda baixa",
          "Média baixa",
          "Média alta",
          "Média baixa",
          "Média alta",
          "Média alta",
          "Média alta",
          "Renda baixa",
          "Renda baixa",
          "Média baixa",
          "Média alta",
          "Média alta",
          "Média alta",
          "Média alta",
          "Média alta",
          "Renda baixa",
          "Renda alta",
          "Média alta",
          "Média baixa",
          "Renda baixa",
          "Renda baixa",
          "Média alta",
          "Média alta",
          "Média baixa",
          "Média alta",
          "Renda alta",
          "Renda alta",
          "Média baixa",
          "Média baixa",
          "Média alta",
          "Renda alta",
          "Média baixa",
          "Média baixa",
          "Média baixa",
          "Média baixa",
          "Média alta",
          "Média baixa",
          "Renda baixa",
          "Média baixa",
          "Média alta",
          "Média baixa",
          "Média baixa",
          "Renda baixa",
          "Média baixa",
          "Média alta",
          "Média alta",
          "Média alta",
          "Média alta",
          "Média alta",
          "Média alta",
          "Média alta",
          "Média alta",
          "Média alta",
          "Média alta",
          "Média alta",
          "Renda alta",
          "Renda alta",
          "Média alta",
          "Média alta",
          "Média alta",
          "Média alta",
          "Média alta",
          "Média baixa",
          "Renda alta",
          "Média baixa",
          "Média baixa",
          "Média alta",
          "Renda baixa",
          "Média baixa",
          "Média baixa",
          "Média baixa",
          "Renda baixa",
          "Média baixa",
          "Média alta",
          "Renda baixa",
          "Média baixa",
          "Média alta",
          "Média alta",
          "Média alta",
          "Média alta",
          "Renda alta",
          "Média baixa",
          "Renda alta",
          "Média alta",
          "Média alta",
          "Média baixa",
          "Média alta",
          "Média baixa",
          "Renda alta",
          "Renda baixa",
          "Renda alta",
          "Média alta",
          "Renda alta",
          "Renda baixa",
          "Média alta",
          "Renda baixa",
          "Média alta",
          "Média baixa",
          "Média baixa",
          "Média baixa",
          "Média baixa",
          "Renda baixa",
          "Média alta",
          "Média alta",
          "Média alta",
          "Média alta",
          "Renda alta",
          "Renda alta",
          "Média alta",
          "Renda alta",
          "Média baixa",
          "Renda baixa",
          "Média alta",
          "Média baixa",
          "Média baixa",
          "Média alta",
          "Média alta",
          "Renda baixa",
          "Renda alta",
          "Média baixa",
          "Média baixa",
          "Renda baixa"
         ],
         "x0": " ",
         "xaxis": "x",
         "y": [
          51,
          45,
          53,
          61,
          54,
          49,
          51,
          24,
          39,
          79,
          93,
          58,
          62,
          29,
          67,
          45,
          48,
          60,
          43,
          0,
          53,
          37,
          41,
          75,
          47,
          45,
          29,
          72,
          28,
          29,
          39,
          68,
          51,
          43,
          51,
          37,
          23,
          81,
          75,
          56,
          47,
          63,
          45,
          54,
          30,
          34,
          52,
          62,
          53,
          61,
          79,
          26,
          51,
          45,
          51,
          50,
          59,
          63,
          43,
          23,
          17,
          17,
          31,
          24,
          33,
          33,
          52,
          29,
          44,
          68,
          43,
          46,
          38,
          44,
          52,
          43,
          32,
          59,
          27,
          35,
          30,
          76,
          48,
          49,
          35,
          49,
          42,
          27,
          56,
          48,
          24,
          30,
          40,
          40,
          59,
          72,
          63,
          67,
          40,
          29,
          21,
          13,
          38,
          45,
          50,
          29,
          52,
          39,
          40,
          40,
          61,
          57,
          22,
          47,
          79,
          62,
          60,
          46,
          36,
          54,
          74,
          47,
          51,
          63,
          53,
          41,
          47,
          39,
          30,
          34,
          37,
          25,
          43,
          42,
          44,
          24,
          47,
          29,
          52,
          38,
          22,
          42,
          43,
          28,
          42,
          17,
          27,
          32,
          37,
          61,
          54,
          37,
          25,
          35,
          34,
          14,
          34,
          25,
          36,
          30,
          56,
          41,
          25,
          26,
          61,
          40,
          32,
          25,
          63,
          47,
          54,
          34,
          30,
          47,
          39,
          31,
          46,
          40,
          47,
          43,
          31,
          35,
          22,
          26,
          35,
          8,
          35,
          37,
          73,
          53,
          46,
          41,
          38,
          21,
          27,
          47,
          37,
          26,
          59,
          42,
          51,
          28,
          34,
          25,
          35,
          31,
          40,
          19,
          47,
          42,
          29,
          0,
          30,
          45,
          57,
          71,
          51,
          35,
          26,
          20,
          23,
          41,
          50,
          20,
          37,
          24,
          48,
          32,
          17,
          33,
          54,
          39,
          38,
          22,
          26,
          30,
          13,
          31,
          37,
          30,
          62,
          67,
          59,
          38,
          18,
          40,
          42,
          41,
          47,
          56,
          14,
          38,
          14,
          25,
          56,
          33,
          64,
          0,
          25,
          61,
          45,
          40,
          68,
          40,
          53,
          57,
          44,
          68,
          28,
          29,
          40,
          70,
          37,
          66,
          58,
          71,
          39,
          68,
          50,
          39,
          32,
          54,
          49,
          55,
          36,
          19,
          47,
          45,
          52,
          40,
          14,
          53,
          51,
          67,
          75,
          49,
          42,
          27,
          52,
          54,
          41,
          26,
          13,
          64,
          74,
          26,
          39,
          28,
          51,
          13,
          45,
          37,
          54,
          43,
          39,
          47,
          31,
          43,
          27,
          29,
          62,
          48,
          28,
          31,
          63,
          34,
          41,
          37,
          45,
          41,
          0,
          64,
          34,
          39,
          32,
          23,
          51,
          31,
          34,
          46,
          27,
          40,
          44,
          26,
          33,
          41,
          39,
          18,
          26,
          48,
          43,
          44,
          29,
          14
         ],
         "y0": " ",
         "yaxis": "y"
        }
       ],
       "layout": {
        "boxmode": "group",
        "legend": {
         "tracegroupgap": 0
        },
        "margin": {
         "t": 60
        },
        "template": {
         "data": {
          "bar": [
           {
            "error_x": {
             "color": "#2a3f5f"
            },
            "error_y": {
             "color": "#2a3f5f"
            },
            "marker": {
             "line": {
              "color": "#E5ECF6",
              "width": 0.5
             },
             "pattern": {
              "fillmode": "overlay",
              "size": 10,
              "solidity": 0.2
             }
            },
            "type": "bar"
           }
          ],
          "barpolar": [
           {
            "marker": {
             "line": {
              "color": "#E5ECF6",
              "width": 0.5
             },
             "pattern": {
              "fillmode": "overlay",
              "size": 10,
              "solidity": 0.2
             }
            },
            "type": "barpolar"
           }
          ],
          "carpet": [
           {
            "aaxis": {
             "endlinecolor": "#2a3f5f",
             "gridcolor": "white",
             "linecolor": "white",
             "minorgridcolor": "white",
             "startlinecolor": "#2a3f5f"
            },
            "baxis": {
             "endlinecolor": "#2a3f5f",
             "gridcolor": "white",
             "linecolor": "white",
             "minorgridcolor": "white",
             "startlinecolor": "#2a3f5f"
            },
            "type": "carpet"
           }
          ],
          "choropleth": [
           {
            "colorbar": {
             "outlinewidth": 0,
             "ticks": ""
            },
            "type": "choropleth"
           }
          ],
          "contour": [
           {
            "colorbar": {
             "outlinewidth": 0,
             "ticks": ""
            },
            "colorscale": [
             [
              0,
              "#0d0887"
             ],
             [
              0.1111111111111111,
              "#46039f"
             ],
             [
              0.2222222222222222,
              "#7201a8"
             ],
             [
              0.3333333333333333,
              "#9c179e"
             ],
             [
              0.4444444444444444,
              "#bd3786"
             ],
             [
              0.5555555555555556,
              "#d8576b"
             ],
             [
              0.6666666666666666,
              "#ed7953"
             ],
             [
              0.7777777777777778,
              "#fb9f3a"
             ],
             [
              0.8888888888888888,
              "#fdca26"
             ],
             [
              1,
              "#f0f921"
             ]
            ],
            "type": "contour"
           }
          ],
          "contourcarpet": [
           {
            "colorbar": {
             "outlinewidth": 0,
             "ticks": ""
            },
            "type": "contourcarpet"
           }
          ],
          "heatmap": [
           {
            "colorbar": {
             "outlinewidth": 0,
             "ticks": ""
            },
            "colorscale": [
             [
              0,
              "#0d0887"
             ],
             [
              0.1111111111111111,
              "#46039f"
             ],
             [
              0.2222222222222222,
              "#7201a8"
             ],
             [
              0.3333333333333333,
              "#9c179e"
             ],
             [
              0.4444444444444444,
              "#bd3786"
             ],
             [
              0.5555555555555556,
              "#d8576b"
             ],
             [
              0.6666666666666666,
              "#ed7953"
             ],
             [
              0.7777777777777778,
              "#fb9f3a"
             ],
             [
              0.8888888888888888,
              "#fdca26"
             ],
             [
              1,
              "#f0f921"
             ]
            ],
            "type": "heatmap"
           }
          ],
          "heatmapgl": [
           {
            "colorbar": {
             "outlinewidth": 0,
             "ticks": ""
            },
            "colorscale": [
             [
              0,
              "#0d0887"
             ],
             [
              0.1111111111111111,
              "#46039f"
             ],
             [
              0.2222222222222222,
              "#7201a8"
             ],
             [
              0.3333333333333333,
              "#9c179e"
             ],
             [
              0.4444444444444444,
              "#bd3786"
             ],
             [
              0.5555555555555556,
              "#d8576b"
             ],
             [
              0.6666666666666666,
              "#ed7953"
             ],
             [
              0.7777777777777778,
              "#fb9f3a"
             ],
             [
              0.8888888888888888,
              "#fdca26"
             ],
             [
              1,
              "#f0f921"
             ]
            ],
            "type": "heatmapgl"
           }
          ],
          "histogram": [
           {
            "marker": {
             "pattern": {
              "fillmode": "overlay",
              "size": 10,
              "solidity": 0.2
             }
            },
            "type": "histogram"
           }
          ],
          "histogram2d": [
           {
            "colorbar": {
             "outlinewidth": 0,
             "ticks": ""
            },
            "colorscale": [
             [
              0,
              "#0d0887"
             ],
             [
              0.1111111111111111,
              "#46039f"
             ],
             [
              0.2222222222222222,
              "#7201a8"
             ],
             [
              0.3333333333333333,
              "#9c179e"
             ],
             [
              0.4444444444444444,
              "#bd3786"
             ],
             [
              0.5555555555555556,
              "#d8576b"
             ],
             [
              0.6666666666666666,
              "#ed7953"
             ],
             [
              0.7777777777777778,
              "#fb9f3a"
             ],
             [
              0.8888888888888888,
              "#fdca26"
             ],
             [
              1,
              "#f0f921"
             ]
            ],
            "type": "histogram2d"
           }
          ],
          "histogram2dcontour": [
           {
            "colorbar": {
             "outlinewidth": 0,
             "ticks": ""
            },
            "colorscale": [
             [
              0,
              "#0d0887"
             ],
             [
              0.1111111111111111,
              "#46039f"
             ],
             [
              0.2222222222222222,
              "#7201a8"
             ],
             [
              0.3333333333333333,
              "#9c179e"
             ],
             [
              0.4444444444444444,
              "#bd3786"
             ],
             [
              0.5555555555555556,
              "#d8576b"
             ],
             [
              0.6666666666666666,
              "#ed7953"
             ],
             [
              0.7777777777777778,
              "#fb9f3a"
             ],
             [
              0.8888888888888888,
              "#fdca26"
             ],
             [
              1,
              "#f0f921"
             ]
            ],
            "type": "histogram2dcontour"
           }
          ],
          "mesh3d": [
           {
            "colorbar": {
             "outlinewidth": 0,
             "ticks": ""
            },
            "type": "mesh3d"
           }
          ],
          "parcoords": [
           {
            "line": {
             "colorbar": {
              "outlinewidth": 0,
              "ticks": ""
             }
            },
            "type": "parcoords"
           }
          ],
          "pie": [
           {
            "automargin": true,
            "type": "pie"
           }
          ],
          "scatter": [
           {
            "fillpattern": {
             "fillmode": "overlay",
             "size": 10,
             "solidity": 0.2
            },
            "type": "scatter"
           }
          ],
          "scatter3d": [
           {
            "line": {
             "colorbar": {
              "outlinewidth": 0,
              "ticks": ""
             }
            },
            "marker": {
             "colorbar": {
              "outlinewidth": 0,
              "ticks": ""
             }
            },
            "type": "scatter3d"
           }
          ],
          "scattercarpet": [
           {
            "marker": {
             "colorbar": {
              "outlinewidth": 0,
              "ticks": ""
             }
            },
            "type": "scattercarpet"
           }
          ],
          "scattergeo": [
           {
            "marker": {
             "colorbar": {
              "outlinewidth": 0,
              "ticks": ""
             }
            },
            "type": "scattergeo"
           }
          ],
          "scattergl": [
           {
            "marker": {
             "colorbar": {
              "outlinewidth": 0,
              "ticks": ""
             }
            },
            "type": "scattergl"
           }
          ],
          "scattermapbox": [
           {
            "marker": {
             "colorbar": {
              "outlinewidth": 0,
              "ticks": ""
             }
            },
            "type": "scattermapbox"
           }
          ],
          "scatterpolar": [
           {
            "marker": {
             "colorbar": {
              "outlinewidth": 0,
              "ticks": ""
             }
            },
            "type": "scatterpolar"
           }
          ],
          "scatterpolargl": [
           {
            "marker": {
             "colorbar": {
              "outlinewidth": 0,
              "ticks": ""
             }
            },
            "type": "scatterpolargl"
           }
          ],
          "scatterternary": [
           {
            "marker": {
             "colorbar": {
              "outlinewidth": 0,
              "ticks": ""
             }
            },
            "type": "scatterternary"
           }
          ],
          "surface": [
           {
            "colorbar": {
             "outlinewidth": 0,
             "ticks": ""
            },
            "colorscale": [
             [
              0,
              "#0d0887"
             ],
             [
              0.1111111111111111,
              "#46039f"
             ],
             [
              0.2222222222222222,
              "#7201a8"
             ],
             [
              0.3333333333333333,
              "#9c179e"
             ],
             [
              0.4444444444444444,
              "#bd3786"
             ],
             [
              0.5555555555555556,
              "#d8576b"
             ],
             [
              0.6666666666666666,
              "#ed7953"
             ],
             [
              0.7777777777777778,
              "#fb9f3a"
             ],
             [
              0.8888888888888888,
              "#fdca26"
             ],
             [
              1,
              "#f0f921"
             ]
            ],
            "type": "surface"
           }
          ],
          "table": [
           {
            "cells": {
             "fill": {
              "color": "#EBF0F8"
             },
             "line": {
              "color": "white"
             }
            },
            "header": {
             "fill": {
              "color": "#C8D4E3"
             },
             "line": {
              "color": "white"
             }
            },
            "type": "table"
           }
          ]
         },
         "layout": {
          "annotationdefaults": {
           "arrowcolor": "#2a3f5f",
           "arrowhead": 0,
           "arrowwidth": 1
          },
          "autotypenumbers": "strict",
          "coloraxis": {
           "colorbar": {
            "outlinewidth": 0,
            "ticks": ""
           }
          },
          "colorscale": {
           "diverging": [
            [
             0,
             "#8e0152"
            ],
            [
             0.1,
             "#c51b7d"
            ],
            [
             0.2,
             "#de77ae"
            ],
            [
             0.3,
             "#f1b6da"
            ],
            [
             0.4,
             "#fde0ef"
            ],
            [
             0.5,
             "#f7f7f7"
            ],
            [
             0.6,
             "#e6f5d0"
            ],
            [
             0.7,
             "#b8e186"
            ],
            [
             0.8,
             "#7fbc41"
            ],
            [
             0.9,
             "#4d9221"
            ],
            [
             1,
             "#276419"
            ]
           ],
           "sequential": [
            [
             0,
             "#0d0887"
            ],
            [
             0.1111111111111111,
             "#46039f"
            ],
            [
             0.2222222222222222,
             "#7201a8"
            ],
            [
             0.3333333333333333,
             "#9c179e"
            ],
            [
             0.4444444444444444,
             "#bd3786"
            ],
            [
             0.5555555555555556,
             "#d8576b"
            ],
            [
             0.6666666666666666,
             "#ed7953"
            ],
            [
             0.7777777777777778,
             "#fb9f3a"
            ],
            [
             0.8888888888888888,
             "#fdca26"
            ],
            [
             1,
             "#f0f921"
            ]
           ],
           "sequentialminus": [
            [
             0,
             "#0d0887"
            ],
            [
             0.1111111111111111,
             "#46039f"
            ],
            [
             0.2222222222222222,
             "#7201a8"
            ],
            [
             0.3333333333333333,
             "#9c179e"
            ],
            [
             0.4444444444444444,
             "#bd3786"
            ],
            [
             0.5555555555555556,
             "#d8576b"
            ],
            [
             0.6666666666666666,
             "#ed7953"
            ],
            [
             0.7777777777777778,
             "#fb9f3a"
            ],
            [
             0.8888888888888888,
             "#fdca26"
            ],
            [
             1,
             "#f0f921"
            ]
           ]
          },
          "colorway": [
           "#636efa",
           "#EF553B",
           "#00cc96",
           "#ab63fa",
           "#FFA15A",
           "#19d3f3",
           "#FF6692",
           "#B6E880",
           "#FF97FF",
           "#FECB52"
          ],
          "font": {
           "color": "#2a3f5f"
          },
          "geo": {
           "bgcolor": "white",
           "lakecolor": "white",
           "landcolor": "#E5ECF6",
           "showlakes": true,
           "showland": true,
           "subunitcolor": "white"
          },
          "hoverlabel": {
           "align": "left"
          },
          "hovermode": "closest",
          "mapbox": {
           "style": "light"
          },
          "paper_bgcolor": "white",
          "plot_bgcolor": "#E5ECF6",
          "polar": {
           "angularaxis": {
            "gridcolor": "white",
            "linecolor": "white",
            "ticks": ""
           },
           "bgcolor": "#E5ECF6",
           "radialaxis": {
            "gridcolor": "white",
            "linecolor": "white",
            "ticks": ""
           }
          },
          "scene": {
           "xaxis": {
            "backgroundcolor": "#E5ECF6",
            "gridcolor": "white",
            "gridwidth": 2,
            "linecolor": "white",
            "showbackground": true,
            "ticks": "",
            "zerolinecolor": "white"
           },
           "yaxis": {
            "backgroundcolor": "#E5ECF6",
            "gridcolor": "white",
            "gridwidth": 2,
            "linecolor": "white",
            "showbackground": true,
            "ticks": "",
            "zerolinecolor": "white"
           },
           "zaxis": {
            "backgroundcolor": "#E5ECF6",
            "gridcolor": "white",
            "gridwidth": 2,
            "linecolor": "white",
            "showbackground": true,
            "ticks": "",
            "zerolinecolor": "white"
           }
          },
          "shapedefaults": {
           "line": {
            "color": "#2a3f5f"
           }
          },
          "ternary": {
           "aaxis": {
            "gridcolor": "white",
            "linecolor": "white",
            "ticks": ""
           },
           "baxis": {
            "gridcolor": "white",
            "linecolor": "white",
            "ticks": ""
           },
           "bgcolor": "#E5ECF6",
           "caxis": {
            "gridcolor": "white",
            "linecolor": "white",
            "ticks": ""
           }
          },
          "title": {
           "x": 0.05
          },
          "xaxis": {
           "automargin": true,
           "gridcolor": "white",
           "linecolor": "white",
           "ticks": "",
           "title": {
            "standoff": 15
           },
           "zerolinecolor": "white",
           "zerolinewidth": 2
          },
          "yaxis": {
           "automargin": true,
           "gridcolor": "white",
           "linecolor": "white",
           "ticks": "",
           "title": {
            "standoff": 15
           },
           "zerolinecolor": "white",
           "zerolinewidth": 2
          }
         }
        },
        "title": {
         "text": "Boxplot de Renda em relação à Nota Geral",
         "x": 0.5,
         "y": 0.95
        },
        "xaxis": {
         "anchor": "y",
         "categoryarray": [
          "Renda baixa",
          "Média baixa",
          "Média alta",
          "Renda alta"
         ],
         "categoryorder": "array",
         "domain": [
          0,
          1
         ],
         "title": {
          "text": "Renda"
         }
        },
        "yaxis": {
         "anchor": "x",
         "domain": [
          0,
          1
         ],
         "title": {
          "text": "Nota Geral"
         }
        }
       }
      }
     },
     "metadata": {},
     "output_type": "display_data"
    }
   ],
   "source": [
    "categorias = {\n",
    "    'A': 'Renda baixa',\n",
    "    'B': 'Média baixa',\n",
    "    'C': 'Média alta',\n",
    "    'D': 'Média alta',\n",
    "    'E': 'Renda alta',\n",
    "    'F': 'Renda alta',\n",
    "    'G': 'Renda alta'\n",
    "}\n",
    "\n",
    "ordem_categorias = {'Renda baixa': 1, 'Média baixa': 2, 'Média alta': 3, 'Renda alta': 4}\n",
    "\n",
    "dados_explorados['Nota_geral'] = pd.to_numeric(dados_explorados['Nota_geral'], errors='coerce')\n",
    "dados_explorados = dados_explorados.dropna(subset=['Nota_geral'])\n",
    "\n",
    "dados_explorados['Categoria'] = dados_explorados['Renda'].map(categorias)\n",
    "\n",
    "#calcular as medianas das notas gerais para cada categoria de renda\n",
    "medianas = dados_explorados.groupby('Categoria')['Nota_geral'].median().reset_index()\n",
    "\n",
    "#ordenar os resultados com base nas medianas\n",
    "medianas['ordem_categoria'] = medianas['Categoria'].map(ordem_categorias)\n",
    "medianas = medianas.sort_values(by='ordem_categoria')\n",
    "\n",
    "\n",
    "fig = px.box(dados_explorados, x='Categoria', y='Nota_geral', \n",
    "             labels={'Categoria': 'Renda', 'Nota_geral': 'Nota Geral'},\n",
    "             category_orders={\"Categoria\": medianas['Categoria']})\n",
    "fig.update_layout(title='Boxplot de Renda em relação à Nota Geral', title_x=0.5, title_y=0.95)\n",
    "fig.show()"
   ]
  },
  {
   "cell_type": "code",
   "execution_count": 7,
   "metadata": {},
   "outputs": [
    {
     "data": {
      "application/vnd.plotly.v1+json": {
       "config": {
        "plotlyServerURL": "https://plot.ly"
       },
       "data": [
        {
         "alignmentgroup": "True",
         "hovertemplate": "Escolaridade da Mãe=%{x}<br>Nota Geral=%{y}<extra></extra>",
         "legendgroup": "",
         "marker": {
          "color": "#636efa"
         },
         "name": "",
         "notched": false,
         "offsetgroup": "",
         "orientation": "v",
         "showlegend": false,
         "type": "box",
         "x": [
          "Ensino médio",
          "Pós-graduação",
          "Ensino fundamental",
          "Ensino superior",
          "Ensino médio",
          "Ensino fundamental",
          "Ensino superior",
          "Ensino fundamental",
          "Ensino fundamental",
          "Ensino médio",
          "Pós-graduação",
          "Ensino superior",
          "Ensino fundamental",
          "Ensino fundamental",
          "Ensino fundamental",
          "Pós-graduação",
          "Ensino fundamental",
          "Ensino superior",
          "Ensino superior",
          "Ensino fundamental",
          "Ensino médio",
          "Ensino médio",
          "Nenhuma escolaridade",
          "Ensino médio",
          "Ensino médio",
          "Ensino médio",
          "Ensino fundamental",
          "Ensino fundamental",
          "Ensino superior",
          "Ensino médio",
          "Ensino médio",
          "Ensino fundamental",
          "Ensino fundamental",
          "Ensino superior",
          "Ensino médio",
          "Ensino médio",
          "Ensino médio",
          "Pós-graduação",
          "Ensino médio",
          "Ensino fundamental",
          "Ensino superior",
          "Ensino superior",
          "Ensino médio",
          "Ensino superior",
          "Ensino médio",
          "Ensino médio",
          "Ensino fundamental",
          "Ensino médio",
          "Ensino médio",
          "Ensino médio",
          "Ensino superior",
          "Ensino fundamental",
          "Ensino médio",
          "Ensino fundamental",
          "Ensino médio",
          "Ensino médio",
          "Ensino médio",
          "Ensino médio",
          "Ensino médio",
          "Ensino fundamental",
          "Ensino superior",
          "Nenhuma escolaridade",
          "Ensino fundamental",
          "Ensino fundamental",
          "Ensino médio",
          "Pós-graduação",
          "Ensino fundamental",
          "Ensino médio",
          "Nenhuma escolaridade",
          "Ensino médio",
          "Pós-graduação",
          "Ensino fundamental",
          "Ensino fundamental",
          "Ensino fundamental",
          "Ensino médio",
          "Ensino médio",
          "Ensino superior",
          "Ensino superior",
          "Ensino fundamental",
          "Ensino fundamental",
          "Ensino fundamental",
          "Ensino fundamental",
          "Ensino fundamental",
          "Ensino médio",
          "Ensino fundamental",
          "Ensino superior",
          "Ensino médio",
          "Ensino fundamental",
          "Ensino médio",
          "Ensino médio",
          "Ensino fundamental",
          "Ensino fundamental",
          "Ensino médio",
          "Ensino superior",
          "Ensino superior",
          "Ensino médio",
          "Ensino médio",
          "Ensino médio",
          "Ensino fundamental",
          "Ensino fundamental",
          "Ensino fundamental",
          "Ensino fundamental",
          "Nenhuma escolaridade",
          "Ensino fundamental",
          "Ensino superior",
          "Ensino fundamental",
          "Ensino fundamental",
          "Ensino fundamental",
          "Ensino fundamental",
          "Ensino fundamental",
          "Ensino fundamental",
          "Ensino superior",
          "Ensino médio",
          "Nenhuma escolaridade",
          "Ensino fundamental",
          "Ensino médio",
          "Ensino médio",
          "Ensino fundamental",
          "Ensino médio",
          "Ensino fundamental",
          "Ensino médio",
          "Ensino superior",
          "Ensino fundamental",
          "Ensino fundamental",
          "Ensino fundamental",
          "Ensino fundamental",
          "Ensino fundamental",
          "Ensino fundamental",
          "Ensino médio",
          "Ensino fundamental",
          "Ensino fundamental",
          "Ensino fundamental",
          "Ensino fundamental",
          "Ensino fundamental",
          "Ensino fundamental",
          "Ensino fundamental",
          "Ensino fundamental",
          "Ensino fundamental",
          "Ensino fundamental",
          "Ensino fundamental",
          "Ensino fundamental",
          "Ensino fundamental",
          "Ensino fundamental",
          "Ensino fundamental",
          "Ensino fundamental",
          "Ensino fundamental",
          "Ensino médio",
          "Ensino médio",
          "Ensino fundamental",
          "Ensino fundamental",
          "Ensino médio",
          "Ensino médio",
          "Ensino médio",
          "Ensino fundamental",
          "Nenhuma escolaridade",
          "Ensino fundamental",
          "Nenhuma escolaridade",
          "Ensino fundamental",
          "Ensino fundamental",
          "Ensino fundamental",
          "Ensino fundamental",
          "Ensino fundamental",
          "Ensino fundamental",
          "Ensino fundamental",
          "Ensino superior",
          "Ensino médio",
          "Ensino médio",
          "Ensino médio",
          "Ensino médio",
          "Nenhuma escolaridade",
          "Ensino fundamental",
          "Ensino fundamental",
          "Nenhuma escolaridade",
          "Ensino fundamental",
          "Ensino fundamental",
          "Ensino médio",
          "Ensino fundamental",
          "Ensino fundamental",
          "Ensino fundamental",
          "Ensino fundamental",
          "Nenhuma escolaridade",
          "Ensino fundamental",
          "Ensino fundamental",
          "Nenhuma escolaridade",
          "Ensino fundamental",
          "Ensino fundamental",
          "Ensino superior",
          "Ensino médio",
          "Ensino fundamental",
          "Ensino fundamental",
          "Ensino superior",
          "Ensino médio",
          "Ensino fundamental",
          "Ensino fundamental",
          "Nenhuma escolaridade",
          "Ensino fundamental",
          "Ensino fundamental",
          "Ensino fundamental",
          "Ensino superior",
          "Ensino médio",
          "Ensino fundamental",
          "Ensino fundamental",
          "Nenhuma escolaridade",
          "Ensino superior",
          "Ensino fundamental",
          "Ensino fundamental",
          "Nenhuma escolaridade",
          "Ensino superior",
          "Nenhuma escolaridade",
          "Ensino fundamental",
          "Ensino fundamental",
          "Ensino fundamental",
          "Ensino médio",
          "Ensino fundamental",
          "Ensino médio",
          "Ensino médio",
          "Ensino fundamental",
          "Pós-graduação",
          "Ensino fundamental",
          "Ensino fundamental",
          "Pós-graduação",
          "Ensino fundamental",
          "Ensino fundamental",
          "Ensino médio",
          "Ensino fundamental",
          "Ensino fundamental",
          "Nenhuma escolaridade",
          "Ensino fundamental",
          "Ensino fundamental",
          "Ensino médio",
          "Pós-graduação",
          "Ensino fundamental",
          "Nenhuma escolaridade",
          "Ensino fundamental",
          "Ensino fundamental",
          "Ensino médio",
          "Ensino fundamental",
          "Ensino fundamental",
          "Ensino fundamental",
          "Ensino fundamental",
          "Ensino fundamental",
          "Ensino médio",
          "Pós-graduação",
          "Pós-graduação",
          "Ensino fundamental",
          "Ensino fundamental",
          "Ensino médio",
          "Pós-graduação",
          "Ensino médio",
          "Ensino fundamental",
          "Ensino superior",
          "Ensino fundamental",
          "Ensino superior",
          "Ensino fundamental",
          "Pós-graduação",
          "Nenhuma escolaridade",
          "Ensino médio",
          "Ensino superior",
          "Ensino médio",
          "Ensino fundamental",
          "Ensino fundamental",
          "Nenhuma escolaridade",
          "Ensino médio",
          "Ensino fundamental",
          "Ensino médio",
          "Ensino fundamental",
          "Ensino fundamental",
          "Ensino fundamental",
          "Ensino fundamental",
          "Ensino fundamental",
          "Ensino fundamental",
          "Ensino superior",
          "Ensino médio",
          "Ensino superior",
          "Ensino médio",
          "Ensino fundamental",
          "Ensino fundamental",
          "Ensino médio",
          "Ensino fundamental",
          "Ensino superior",
          "Ensino superior",
          "Ensino fundamental",
          "Ensino fundamental",
          "Ensino fundamental",
          "Ensino fundamental",
          "Ensino médio",
          "Ensino fundamental",
          "Ensino fundamental",
          "Ensino médio",
          "Pós-graduação",
          "Nenhuma escolaridade",
          "Pós-graduação",
          "Ensino fundamental",
          "Ensino superior",
          "Ensino fundamental",
          "Ensino fundamental",
          "Ensino médio",
          "Ensino fundamental",
          "Ensino superior",
          "Ensino fundamental",
          "Ensino fundamental",
          "Ensino fundamental",
          "Ensino superior",
          "Nenhuma escolaridade",
          "Ensino médio",
          "Ensino fundamental",
          "Ensino médio",
          "Ensino médio",
          "Ensino médio",
          "Ensino superior",
          "Ensino fundamental",
          "Nenhuma escolaridade",
          "Pós-graduação",
          "Ensino médio",
          "Ensino médio",
          "Ensino médio",
          "Ensino fundamental",
          "Ensino fundamental",
          "Ensino fundamental",
          "Ensino fundamental",
          "Pós-graduação",
          "Ensino fundamental",
          "Ensino fundamental",
          "Ensino fundamental",
          "Ensino fundamental",
          "Ensino fundamental",
          "Ensino fundamental",
          "Ensino fundamental",
          "Nenhuma escolaridade",
          "Ensino médio",
          "Ensino médio",
          "Pós-graduação",
          "Nenhuma escolaridade",
          "Ensino fundamental",
          "Ensino fundamental",
          "Nenhuma escolaridade",
          "Ensino fundamental",
          "Ensino fundamental",
          "Ensino fundamental",
          "Ensino médio",
          "Ensino médio",
          "Pós-graduação",
          "Ensino fundamental",
          "Ensino superior",
          "Nenhuma escolaridade",
          "Ensino fundamental",
          "Ensino fundamental",
          "Ensino fundamental",
          "Ensino fundamental",
          "Ensino fundamental",
          "Ensino fundamental",
          "Ensino médio",
          "Ensino fundamental",
          "Ensino fundamental"
         ],
         "x0": " ",
         "xaxis": "x",
         "y": [
          51,
          45,
          53,
          61,
          54,
          49,
          51,
          24,
          39,
          79,
          93,
          58,
          62,
          29,
          67,
          45,
          48,
          60,
          43,
          0,
          53,
          37,
          41,
          75,
          47,
          45,
          29,
          72,
          28,
          29,
          39,
          68,
          51,
          43,
          51,
          37,
          23,
          81,
          75,
          56,
          47,
          63,
          45,
          54,
          30,
          34,
          52,
          62,
          53,
          61,
          79,
          26,
          51,
          45,
          51,
          50,
          59,
          63,
          43,
          23,
          17,
          17,
          31,
          24,
          33,
          33,
          52,
          29,
          44,
          68,
          43,
          46,
          38,
          44,
          52,
          43,
          32,
          59,
          27,
          35,
          30,
          76,
          48,
          49,
          35,
          49,
          42,
          27,
          56,
          48,
          24,
          30,
          40,
          40,
          59,
          72,
          63,
          67,
          40,
          29,
          21,
          13,
          38,
          45,
          50,
          29,
          52,
          39,
          40,
          40,
          61,
          57,
          22,
          47,
          79,
          62,
          60,
          46,
          36,
          54,
          74,
          47,
          51,
          63,
          53,
          41,
          47,
          39,
          30,
          34,
          37,
          25,
          43,
          42,
          44,
          24,
          47,
          29,
          52,
          38,
          22,
          42,
          43,
          28,
          42,
          17,
          27,
          32,
          37,
          61,
          54,
          37,
          25,
          35,
          34,
          14,
          34,
          25,
          36,
          30,
          56,
          41,
          25,
          26,
          61,
          40,
          32,
          25,
          63,
          47,
          54,
          34,
          30,
          47,
          39,
          31,
          46,
          40,
          47,
          43,
          31,
          35,
          22,
          26,
          35,
          8,
          35,
          37,
          73,
          53,
          46,
          41,
          38,
          21,
          27,
          47,
          37,
          26,
          59,
          42,
          51,
          28,
          34,
          25,
          35,
          31,
          40,
          19,
          47,
          42,
          29,
          0,
          30,
          45,
          57,
          71,
          51,
          35,
          26,
          20,
          23,
          41,
          50,
          20,
          37,
          24,
          48,
          32,
          17,
          33,
          54,
          39,
          38,
          22,
          26,
          30,
          13,
          31,
          37,
          30,
          62,
          67,
          59,
          38,
          18,
          40,
          42,
          41,
          47,
          56,
          14,
          38,
          14,
          25,
          56,
          33,
          64,
          0,
          25,
          61,
          45,
          40,
          68,
          40,
          53,
          57,
          44,
          68,
          28,
          29,
          40,
          70,
          37,
          66,
          58,
          71,
          39,
          68,
          50,
          39,
          32,
          54,
          49,
          55,
          36,
          19,
          47,
          45,
          52,
          40,
          14,
          53,
          51,
          67,
          75,
          49,
          42,
          27,
          52,
          54,
          41,
          26,
          13,
          64,
          74,
          26,
          39,
          28,
          51,
          13,
          45,
          37,
          54,
          43,
          39,
          47,
          31,
          43,
          27,
          29,
          62,
          48,
          28,
          31,
          63,
          34,
          41,
          37,
          45,
          41,
          0,
          64,
          34,
          39,
          32,
          23,
          51,
          31,
          34,
          46,
          27,
          40,
          44,
          26,
          33,
          41,
          39,
          18,
          26,
          48,
          43,
          44,
          29,
          14
         ],
         "y0": " ",
         "yaxis": "y"
        }
       ],
       "layout": {
        "boxmode": "group",
        "legend": {
         "tracegroupgap": 0
        },
        "margin": {
         "t": 60
        },
        "template": {
         "data": {
          "bar": [
           {
            "error_x": {
             "color": "#2a3f5f"
            },
            "error_y": {
             "color": "#2a3f5f"
            },
            "marker": {
             "line": {
              "color": "#E5ECF6",
              "width": 0.5
             },
             "pattern": {
              "fillmode": "overlay",
              "size": 10,
              "solidity": 0.2
             }
            },
            "type": "bar"
           }
          ],
          "barpolar": [
           {
            "marker": {
             "line": {
              "color": "#E5ECF6",
              "width": 0.5
             },
             "pattern": {
              "fillmode": "overlay",
              "size": 10,
              "solidity": 0.2
             }
            },
            "type": "barpolar"
           }
          ],
          "carpet": [
           {
            "aaxis": {
             "endlinecolor": "#2a3f5f",
             "gridcolor": "white",
             "linecolor": "white",
             "minorgridcolor": "white",
             "startlinecolor": "#2a3f5f"
            },
            "baxis": {
             "endlinecolor": "#2a3f5f",
             "gridcolor": "white",
             "linecolor": "white",
             "minorgridcolor": "white",
             "startlinecolor": "#2a3f5f"
            },
            "type": "carpet"
           }
          ],
          "choropleth": [
           {
            "colorbar": {
             "outlinewidth": 0,
             "ticks": ""
            },
            "type": "choropleth"
           }
          ],
          "contour": [
           {
            "colorbar": {
             "outlinewidth": 0,
             "ticks": ""
            },
            "colorscale": [
             [
              0,
              "#0d0887"
             ],
             [
              0.1111111111111111,
              "#46039f"
             ],
             [
              0.2222222222222222,
              "#7201a8"
             ],
             [
              0.3333333333333333,
              "#9c179e"
             ],
             [
              0.4444444444444444,
              "#bd3786"
             ],
             [
              0.5555555555555556,
              "#d8576b"
             ],
             [
              0.6666666666666666,
              "#ed7953"
             ],
             [
              0.7777777777777778,
              "#fb9f3a"
             ],
             [
              0.8888888888888888,
              "#fdca26"
             ],
             [
              1,
              "#f0f921"
             ]
            ],
            "type": "contour"
           }
          ],
          "contourcarpet": [
           {
            "colorbar": {
             "outlinewidth": 0,
             "ticks": ""
            },
            "type": "contourcarpet"
           }
          ],
          "heatmap": [
           {
            "colorbar": {
             "outlinewidth": 0,
             "ticks": ""
            },
            "colorscale": [
             [
              0,
              "#0d0887"
             ],
             [
              0.1111111111111111,
              "#46039f"
             ],
             [
              0.2222222222222222,
              "#7201a8"
             ],
             [
              0.3333333333333333,
              "#9c179e"
             ],
             [
              0.4444444444444444,
              "#bd3786"
             ],
             [
              0.5555555555555556,
              "#d8576b"
             ],
             [
              0.6666666666666666,
              "#ed7953"
             ],
             [
              0.7777777777777778,
              "#fb9f3a"
             ],
             [
              0.8888888888888888,
              "#fdca26"
             ],
             [
              1,
              "#f0f921"
             ]
            ],
            "type": "heatmap"
           }
          ],
          "heatmapgl": [
           {
            "colorbar": {
             "outlinewidth": 0,
             "ticks": ""
            },
            "colorscale": [
             [
              0,
              "#0d0887"
             ],
             [
              0.1111111111111111,
              "#46039f"
             ],
             [
              0.2222222222222222,
              "#7201a8"
             ],
             [
              0.3333333333333333,
              "#9c179e"
             ],
             [
              0.4444444444444444,
              "#bd3786"
             ],
             [
              0.5555555555555556,
              "#d8576b"
             ],
             [
              0.6666666666666666,
              "#ed7953"
             ],
             [
              0.7777777777777778,
              "#fb9f3a"
             ],
             [
              0.8888888888888888,
              "#fdca26"
             ],
             [
              1,
              "#f0f921"
             ]
            ],
            "type": "heatmapgl"
           }
          ],
          "histogram": [
           {
            "marker": {
             "pattern": {
              "fillmode": "overlay",
              "size": 10,
              "solidity": 0.2
             }
            },
            "type": "histogram"
           }
          ],
          "histogram2d": [
           {
            "colorbar": {
             "outlinewidth": 0,
             "ticks": ""
            },
            "colorscale": [
             [
              0,
              "#0d0887"
             ],
             [
              0.1111111111111111,
              "#46039f"
             ],
             [
              0.2222222222222222,
              "#7201a8"
             ],
             [
              0.3333333333333333,
              "#9c179e"
             ],
             [
              0.4444444444444444,
              "#bd3786"
             ],
             [
              0.5555555555555556,
              "#d8576b"
             ],
             [
              0.6666666666666666,
              "#ed7953"
             ],
             [
              0.7777777777777778,
              "#fb9f3a"
             ],
             [
              0.8888888888888888,
              "#fdca26"
             ],
             [
              1,
              "#f0f921"
             ]
            ],
            "type": "histogram2d"
           }
          ],
          "histogram2dcontour": [
           {
            "colorbar": {
             "outlinewidth": 0,
             "ticks": ""
            },
            "colorscale": [
             [
              0,
              "#0d0887"
             ],
             [
              0.1111111111111111,
              "#46039f"
             ],
             [
              0.2222222222222222,
              "#7201a8"
             ],
             [
              0.3333333333333333,
              "#9c179e"
             ],
             [
              0.4444444444444444,
              "#bd3786"
             ],
             [
              0.5555555555555556,
              "#d8576b"
             ],
             [
              0.6666666666666666,
              "#ed7953"
             ],
             [
              0.7777777777777778,
              "#fb9f3a"
             ],
             [
              0.8888888888888888,
              "#fdca26"
             ],
             [
              1,
              "#f0f921"
             ]
            ],
            "type": "histogram2dcontour"
           }
          ],
          "mesh3d": [
           {
            "colorbar": {
             "outlinewidth": 0,
             "ticks": ""
            },
            "type": "mesh3d"
           }
          ],
          "parcoords": [
           {
            "line": {
             "colorbar": {
              "outlinewidth": 0,
              "ticks": ""
             }
            },
            "type": "parcoords"
           }
          ],
          "pie": [
           {
            "automargin": true,
            "type": "pie"
           }
          ],
          "scatter": [
           {
            "fillpattern": {
             "fillmode": "overlay",
             "size": 10,
             "solidity": 0.2
            },
            "type": "scatter"
           }
          ],
          "scatter3d": [
           {
            "line": {
             "colorbar": {
              "outlinewidth": 0,
              "ticks": ""
             }
            },
            "marker": {
             "colorbar": {
              "outlinewidth": 0,
              "ticks": ""
             }
            },
            "type": "scatter3d"
           }
          ],
          "scattercarpet": [
           {
            "marker": {
             "colorbar": {
              "outlinewidth": 0,
              "ticks": ""
             }
            },
            "type": "scattercarpet"
           }
          ],
          "scattergeo": [
           {
            "marker": {
             "colorbar": {
              "outlinewidth": 0,
              "ticks": ""
             }
            },
            "type": "scattergeo"
           }
          ],
          "scattergl": [
           {
            "marker": {
             "colorbar": {
              "outlinewidth": 0,
              "ticks": ""
             }
            },
            "type": "scattergl"
           }
          ],
          "scattermapbox": [
           {
            "marker": {
             "colorbar": {
              "outlinewidth": 0,
              "ticks": ""
             }
            },
            "type": "scattermapbox"
           }
          ],
          "scatterpolar": [
           {
            "marker": {
             "colorbar": {
              "outlinewidth": 0,
              "ticks": ""
             }
            },
            "type": "scatterpolar"
           }
          ],
          "scatterpolargl": [
           {
            "marker": {
             "colorbar": {
              "outlinewidth": 0,
              "ticks": ""
             }
            },
            "type": "scatterpolargl"
           }
          ],
          "scatterternary": [
           {
            "marker": {
             "colorbar": {
              "outlinewidth": 0,
              "ticks": ""
             }
            },
            "type": "scatterternary"
           }
          ],
          "surface": [
           {
            "colorbar": {
             "outlinewidth": 0,
             "ticks": ""
            },
            "colorscale": [
             [
              0,
              "#0d0887"
             ],
             [
              0.1111111111111111,
              "#46039f"
             ],
             [
              0.2222222222222222,
              "#7201a8"
             ],
             [
              0.3333333333333333,
              "#9c179e"
             ],
             [
              0.4444444444444444,
              "#bd3786"
             ],
             [
              0.5555555555555556,
              "#d8576b"
             ],
             [
              0.6666666666666666,
              "#ed7953"
             ],
             [
              0.7777777777777778,
              "#fb9f3a"
             ],
             [
              0.8888888888888888,
              "#fdca26"
             ],
             [
              1,
              "#f0f921"
             ]
            ],
            "type": "surface"
           }
          ],
          "table": [
           {
            "cells": {
             "fill": {
              "color": "#EBF0F8"
             },
             "line": {
              "color": "white"
             }
            },
            "header": {
             "fill": {
              "color": "#C8D4E3"
             },
             "line": {
              "color": "white"
             }
            },
            "type": "table"
           }
          ]
         },
         "layout": {
          "annotationdefaults": {
           "arrowcolor": "#2a3f5f",
           "arrowhead": 0,
           "arrowwidth": 1
          },
          "autotypenumbers": "strict",
          "coloraxis": {
           "colorbar": {
            "outlinewidth": 0,
            "ticks": ""
           }
          },
          "colorscale": {
           "diverging": [
            [
             0,
             "#8e0152"
            ],
            [
             0.1,
             "#c51b7d"
            ],
            [
             0.2,
             "#de77ae"
            ],
            [
             0.3,
             "#f1b6da"
            ],
            [
             0.4,
             "#fde0ef"
            ],
            [
             0.5,
             "#f7f7f7"
            ],
            [
             0.6,
             "#e6f5d0"
            ],
            [
             0.7,
             "#b8e186"
            ],
            [
             0.8,
             "#7fbc41"
            ],
            [
             0.9,
             "#4d9221"
            ],
            [
             1,
             "#276419"
            ]
           ],
           "sequential": [
            [
             0,
             "#0d0887"
            ],
            [
             0.1111111111111111,
             "#46039f"
            ],
            [
             0.2222222222222222,
             "#7201a8"
            ],
            [
             0.3333333333333333,
             "#9c179e"
            ],
            [
             0.4444444444444444,
             "#bd3786"
            ],
            [
             0.5555555555555556,
             "#d8576b"
            ],
            [
             0.6666666666666666,
             "#ed7953"
            ],
            [
             0.7777777777777778,
             "#fb9f3a"
            ],
            [
             0.8888888888888888,
             "#fdca26"
            ],
            [
             1,
             "#f0f921"
            ]
           ],
           "sequentialminus": [
            [
             0,
             "#0d0887"
            ],
            [
             0.1111111111111111,
             "#46039f"
            ],
            [
             0.2222222222222222,
             "#7201a8"
            ],
            [
             0.3333333333333333,
             "#9c179e"
            ],
            [
             0.4444444444444444,
             "#bd3786"
            ],
            [
             0.5555555555555556,
             "#d8576b"
            ],
            [
             0.6666666666666666,
             "#ed7953"
            ],
            [
             0.7777777777777778,
             "#fb9f3a"
            ],
            [
             0.8888888888888888,
             "#fdca26"
            ],
            [
             1,
             "#f0f921"
            ]
           ]
          },
          "colorway": [
           "#636efa",
           "#EF553B",
           "#00cc96",
           "#ab63fa",
           "#FFA15A",
           "#19d3f3",
           "#FF6692",
           "#B6E880",
           "#FF97FF",
           "#FECB52"
          ],
          "font": {
           "color": "#2a3f5f"
          },
          "geo": {
           "bgcolor": "white",
           "lakecolor": "white",
           "landcolor": "#E5ECF6",
           "showlakes": true,
           "showland": true,
           "subunitcolor": "white"
          },
          "hoverlabel": {
           "align": "left"
          },
          "hovermode": "closest",
          "mapbox": {
           "style": "light"
          },
          "paper_bgcolor": "white",
          "plot_bgcolor": "#E5ECF6",
          "polar": {
           "angularaxis": {
            "gridcolor": "white",
            "linecolor": "white",
            "ticks": ""
           },
           "bgcolor": "#E5ECF6",
           "radialaxis": {
            "gridcolor": "white",
            "linecolor": "white",
            "ticks": ""
           }
          },
          "scene": {
           "xaxis": {
            "backgroundcolor": "#E5ECF6",
            "gridcolor": "white",
            "gridwidth": 2,
            "linecolor": "white",
            "showbackground": true,
            "ticks": "",
            "zerolinecolor": "white"
           },
           "yaxis": {
            "backgroundcolor": "#E5ECF6",
            "gridcolor": "white",
            "gridwidth": 2,
            "linecolor": "white",
            "showbackground": true,
            "ticks": "",
            "zerolinecolor": "white"
           },
           "zaxis": {
            "backgroundcolor": "#E5ECF6",
            "gridcolor": "white",
            "gridwidth": 2,
            "linecolor": "white",
            "showbackground": true,
            "ticks": "",
            "zerolinecolor": "white"
           }
          },
          "shapedefaults": {
           "line": {
            "color": "#2a3f5f"
           }
          },
          "ternary": {
           "aaxis": {
            "gridcolor": "white",
            "linecolor": "white",
            "ticks": ""
           },
           "baxis": {
            "gridcolor": "white",
            "linecolor": "white",
            "ticks": ""
           },
           "bgcolor": "#E5ECF6",
           "caxis": {
            "gridcolor": "white",
            "linecolor": "white",
            "ticks": ""
           }
          },
          "title": {
           "x": 0.05
          },
          "xaxis": {
           "automargin": true,
           "gridcolor": "white",
           "linecolor": "white",
           "ticks": "",
           "title": {
            "standoff": 15
           },
           "zerolinecolor": "white",
           "zerolinewidth": 2
          },
          "yaxis": {
           "automargin": true,
           "gridcolor": "white",
           "linecolor": "white",
           "ticks": "",
           "title": {
            "standoff": 15
           },
           "zerolinecolor": "white",
           "zerolinewidth": 2
          }
         }
        },
        "title": {
         "text": "Boxplot de Escolaridade da Mãe em relação à Nota Geral",
         "x": 0.5,
         "y": 0.95
        },
        "xaxis": {
         "anchor": "y",
         "categoryarray": [
          "Nenhuma escolaridade",
          "Ensino fundamental",
          "Ensino médio",
          "Ensino superior",
          "Pós-graduação"
         ],
         "categoryorder": "array",
         "domain": [
          0,
          1
         ],
         "title": {
          "text": "Escolaridade da Mãe"
         }
        },
        "yaxis": {
         "anchor": "x",
         "domain": [
          0,
          1
         ],
         "title": {
          "text": "Nota Geral"
         }
        }
       }
      }
     },
     "metadata": {},
     "output_type": "display_data"
    }
   ],
   "source": [
    "categorias = {\n",
    "    'A': 'Nenhuma escolaridade',\n",
    "    'B': 'Ensino fundamental',\n",
    "    'C': 'Ensino fundamental',\n",
    "    'D': 'Ensino médio',\n",
    "    'E': 'Ensino superior',\n",
    "    'F': 'Pós-graduação'\n",
    "}\n",
    "\n",
    "ordem_categorias = {'Nenhuma escolaridade': 1, 'Ensino fundamental': 2, \n",
    "                    'Ensino médio': 3, 'Ensino superior': 4, 'Pós-graduação': 5}\n",
    "\n",
    "dados_explorados['Nota_geral'] = pd.to_numeric(dados_explorados['Nota_geral'], errors='coerce')\n",
    "dados_explorados = dados_explorados.dropna(subset=['Nota_geral'])\n",
    "\n",
    "dados_explorados['Categoria'] = dados_explorados['Escolaridade_mae'].map(categorias)\n",
    "\n",
    "medianas = dados_explorados.groupby('Categoria')['Nota_geral'].median().reset_index()\n",
    "\n",
    "medianas['ordem_categoria'] = medianas['Categoria'].map(ordem_categorias)\n",
    "medianas = medianas.sort_values(by='ordem_categoria')\n",
    "\n",
    "fig = px.box(dados_explorados, x='Categoria', y='Nota_geral', \n",
    "             labels={'Categoria': 'Escolaridade da Mãe', 'Nota_geral': 'Nota Geral'},\n",
    "             category_orders={\"Categoria\": medianas['Categoria']})\n",
    "fig.update_layout(title='Boxplot de Escolaridade da Mãe em relação à Nota Geral', title_x=0.5, title_y=0.95)\n",
    "fig.show()"
   ]
  },
  {
   "cell_type": "code",
   "execution_count": 8,
   "metadata": {},
   "outputs": [
    {
     "data": {
      "application/vnd.plotly.v1+json": {
       "config": {
        "plotlyServerURL": "https://plot.ly"
       },
       "data": [
        {
         "alignmentgroup": "True",
         "hovertemplate": "Escolaridade do Pai=%{x}<br>Nota Geral=%{y}<extra></extra>",
         "legendgroup": "",
         "marker": {
          "color": "#636efa"
         },
         "name": "",
         "notched": false,
         "offsetgroup": "",
         "orientation": "v",
         "showlegend": false,
         "type": "box",
         "x": [
          "Ensino médio",
          "Ensino médio",
          "Ensino superior",
          "Ensino médio",
          "Ensino fundamental",
          "Ensino fundamental",
          "Ensino fundamental",
          "Ensino fundamental",
          "Nenhuma escolaridade",
          "Ensino fundamental",
          "Ensino fundamental",
          "Ensino superior",
          "Ensino fundamental",
          "Ensino fundamental",
          "Ensino fundamental",
          "Pós-graduação",
          "Ensino médio",
          "Ensino médio",
          "Ensino fundamental",
          "Ensino médio",
          "Ensino fundamental",
          "Ensino fundamental",
          "Nenhuma escolaridade",
          "Ensino fundamental",
          "Ensino médio",
          "Ensino médio",
          "Ensino fundamental",
          "Pós-graduação",
          "Pós-graduação",
          "Ensino fundamental",
          "Ensino superior",
          "Ensino médio",
          "Ensino fundamental",
          "Ensino médio",
          "Ensino superior",
          "Ensino superior",
          "Ensino médio",
          "Ensino superior",
          "Ensino fundamental",
          "Ensino médio",
          "Ensino superior",
          "Ensino superior",
          "Ensino fundamental",
          "Ensino superior",
          "Ensino médio",
          "Ensino médio",
          "Ensino fundamental",
          "Ensino médio",
          "Ensino médio",
          "Ensino médio",
          "Ensino médio",
          "Ensino fundamental",
          "Ensino fundamental",
          "Ensino fundamental",
          "Ensino superior",
          "Ensino médio",
          "Ensino fundamental",
          "Ensino médio",
          "Ensino médio",
          "Ensino médio",
          "Ensino superior",
          "Ensino fundamental",
          "Ensino fundamental",
          "Ensino fundamental",
          "Ensino médio",
          "Ensino fundamental",
          "Ensino fundamental",
          "Nenhuma escolaridade",
          "Nenhuma escolaridade",
          "Ensino médio",
          "Ensino superior",
          "Ensino fundamental",
          "Ensino fundamental",
          "Ensino fundamental",
          "Ensino médio",
          "Ensino médio",
          "Ensino superior",
          "Ensino superior",
          "Ensino fundamental",
          "Ensino fundamental",
          "Ensino fundamental",
          "Nenhuma escolaridade",
          "Ensino fundamental",
          "Ensino fundamental",
          "Ensino fundamental",
          "Ensino fundamental",
          "Ensino médio",
          "Ensino fundamental",
          "Ensino fundamental",
          "Ensino médio",
          "Ensino fundamental",
          "Ensino fundamental",
          "Pós-graduação",
          "Pós-graduação",
          "Ensino médio",
          "Pós-graduação",
          "Ensino superior",
          "Ensino fundamental",
          "Ensino fundamental",
          "Ensino fundamental",
          "Ensino fundamental",
          "Ensino fundamental",
          "Ensino superior",
          "Ensino médio",
          "Ensino fundamental",
          "Ensino fundamental",
          "Ensino fundamental",
          "Nenhuma escolaridade",
          "Ensino fundamental",
          "Ensino fundamental",
          "Ensino fundamental",
          "Ensino médio",
          "Ensino fundamental",
          "Ensino fundamental",
          "Ensino médio",
          "Ensino médio",
          "Ensino médio",
          "Ensino fundamental",
          "Ensino fundamental",
          "Ensino médio",
          "Ensino fundamental",
          "Ensino médio",
          "Ensino fundamental",
          "Ensino fundamental",
          "Ensino fundamental",
          "Ensino fundamental",
          "Ensino médio",
          "Ensino fundamental",
          "Ensino superior",
          "Ensino fundamental",
          "Ensino fundamental",
          "Ensino médio",
          "Ensino fundamental",
          "Nenhuma escolaridade",
          "Ensino fundamental",
          "Ensino fundamental",
          "Ensino fundamental",
          "Ensino superior",
          "Ensino fundamental",
          "Ensino fundamental",
          "Ensino fundamental",
          "Ensino superior",
          "Nenhuma escolaridade",
          "Ensino fundamental",
          "Ensino médio",
          "Ensino médio",
          "Ensino médio",
          "Ensino médio",
          "Nenhuma escolaridade",
          "Ensino médio",
          "Ensino fundamental",
          "Ensino fundamental",
          "Ensino médio",
          "Ensino médio",
          "Nenhuma escolaridade",
          "Ensino fundamental",
          "Nenhuma escolaridade",
          "Ensino fundamental",
          "Ensino médio",
          "Nenhuma escolaridade",
          "Ensino fundamental",
          "Ensino fundamental",
          "Ensino fundamental",
          "Nenhuma escolaridade",
          "Ensino superior",
          "Ensino médio",
          "Ensino fundamental",
          "Ensino fundamental",
          "Ensino superior",
          "Ensino fundamental",
          "Nenhuma escolaridade",
          "Ensino fundamental",
          "Ensino fundamental",
          "Ensino fundamental",
          "Nenhuma escolaridade",
          "Ensino fundamental",
          "Nenhuma escolaridade",
          "Ensino fundamental",
          "Ensino fundamental",
          "Ensino fundamental",
          "Ensino médio",
          "Ensino fundamental",
          "Ensino médio",
          "Ensino fundamental",
          "Ensino fundamental",
          "Ensino fundamental",
          "Ensino médio",
          "Ensino médio",
          "Ensino fundamental",
          "Ensino fundamental",
          "Ensino fundamental",
          "Ensino superior",
          "Ensino fundamental",
          "Ensino fundamental",
          "Ensino fundamental",
          "Ensino médio",
          "Ensino fundamental",
          "Nenhuma escolaridade",
          "Ensino fundamental",
          "Ensino fundamental",
          "Ensino fundamental",
          "Ensino fundamental",
          "Nenhuma escolaridade",
          "Ensino fundamental",
          "Ensino fundamental",
          "Ensino fundamental",
          "Nenhuma escolaridade",
          "Ensino superior",
          "Nenhuma escolaridade",
          "Ensino médio",
          "Ensino fundamental",
          "Ensino fundamental",
          "Ensino superior",
          "Ensino fundamental",
          "Ensino superior",
          "Ensino superior",
          "Ensino fundamental",
          "Ensino fundamental",
          "Ensino fundamental",
          "Ensino fundamental",
          "Ensino fundamental",
          "Ensino fundamental",
          "Ensino fundamental",
          "Ensino médio",
          "Ensino fundamental",
          "Nenhuma escolaridade",
          "Ensino fundamental",
          "Ensino fundamental",
          "Ensino superior",
          "Ensino fundamental",
          "Ensino superior",
          "Ensino superior",
          "Ensino fundamental",
          "Ensino fundamental",
          "Ensino fundamental",
          "Ensino médio",
          "Ensino médio",
          "Ensino fundamental",
          "Ensino fundamental",
          "Ensino fundamental",
          "Ensino fundamental",
          "Ensino médio",
          "Ensino médio",
          "Ensino fundamental",
          "Nenhuma escolaridade",
          "Ensino fundamental",
          "Ensino médio",
          "Pós-graduação",
          "Ensino médio",
          "Ensino fundamental",
          "Ensino médio",
          "Ensino fundamental",
          "Ensino fundamental",
          "Pós-graduação",
          "Ensino médio",
          "Nenhuma escolaridade",
          "Ensino superior",
          "Ensino superior",
          "Ensino superior",
          "Ensino fundamental",
          "Ensino médio",
          "Nenhuma escolaridade",
          "Ensino médio",
          "Ensino médio",
          "Ensino fundamental",
          "Ensino fundamental",
          "Ensino fundamental",
          "Ensino fundamental",
          "Ensino fundamental",
          "Ensino fundamental",
          "Ensino fundamental",
          "Pós-graduação",
          "Ensino médio",
          "Ensino fundamental",
          "Nenhuma escolaridade",
          "Ensino fundamental",
          "Ensino fundamental",
          "Ensino fundamental",
          "Ensino fundamental",
          "Ensino médio",
          "Ensino médio",
          "Ensino fundamental",
          "Ensino fundamental",
          "Ensino fundamental",
          "Ensino fundamental",
          "Ensino médio",
          "Ensino fundamental",
          "Ensino superior",
          "Ensino superior",
          "Ensino fundamental",
          "Nenhuma escolaridade",
          "Ensino médio",
          "Ensino médio",
          "Ensino superior",
          "Ensino fundamental",
          "Ensino fundamental",
          "Ensino médio",
          "Ensino fundamental",
          "Ensino fundamental",
          "Ensino fundamental",
          "Ensino fundamental",
          "Ensino fundamental",
          "Ensino superior",
          "Ensino fundamental",
          "Ensino médio",
          "Ensino fundamental",
          "Ensino médio",
          "Ensino fundamental",
          "Ensino superior",
          "Ensino superior",
          "Ensino superior",
          "Nenhuma escolaridade",
          "Pós-graduação",
          "Ensino fundamental",
          "Pós-graduação",
          "Ensino superior",
          "Ensino fundamental",
          "Ensino fundamental",
          "Ensino fundamental",
          "Ensino fundamental",
          "Ensino superior",
          "Ensino fundamental",
          "Ensino fundamental",
          "Ensino fundamental",
          "Ensino fundamental",
          "Ensino fundamental",
          "Ensino fundamental",
          "Ensino fundamental",
          "Nenhuma escolaridade",
          "Ensino médio",
          "Ensino fundamental",
          "Pós-graduação",
          "Ensino fundamental",
          "Ensino fundamental",
          "Ensino fundamental",
          "Ensino fundamental",
          "Ensino fundamental",
          "Nenhuma escolaridade",
          "Ensino fundamental",
          "Ensino médio",
          "Ensino superior",
          "Pós-graduação",
          "Ensino superior",
          "Ensino fundamental",
          "Ensino fundamental",
          "Ensino médio",
          "Ensino fundamental",
          "Ensino fundamental",
          "Ensino fundamental",
          "Nenhuma escolaridade",
          "Ensino fundamental",
          "Pós-graduação",
          "Ensino fundamental",
          "Nenhuma escolaridade"
         ],
         "x0": " ",
         "xaxis": "x",
         "y": [
          51,
          45,
          53,
          61,
          54,
          49,
          51,
          24,
          39,
          79,
          93,
          58,
          62,
          29,
          67,
          45,
          48,
          60,
          43,
          0,
          53,
          37,
          41,
          75,
          47,
          45,
          29,
          72,
          28,
          29,
          39,
          68,
          51,
          43,
          51,
          37,
          23,
          81,
          75,
          56,
          47,
          63,
          45,
          54,
          30,
          34,
          52,
          62,
          53,
          61,
          79,
          26,
          51,
          45,
          51,
          50,
          59,
          63,
          43,
          23,
          17,
          17,
          31,
          24,
          33,
          33,
          52,
          29,
          44,
          68,
          43,
          46,
          38,
          44,
          52,
          43,
          32,
          59,
          27,
          35,
          30,
          76,
          48,
          49,
          35,
          49,
          42,
          27,
          56,
          48,
          24,
          30,
          40,
          40,
          59,
          72,
          63,
          67,
          40,
          29,
          21,
          13,
          38,
          45,
          50,
          29,
          52,
          39,
          40,
          40,
          61,
          57,
          22,
          47,
          79,
          62,
          60,
          46,
          36,
          54,
          74,
          47,
          51,
          63,
          53,
          41,
          47,
          39,
          30,
          34,
          37,
          25,
          43,
          42,
          44,
          24,
          47,
          29,
          52,
          38,
          22,
          42,
          43,
          28,
          42,
          17,
          27,
          32,
          37,
          61,
          54,
          37,
          25,
          35,
          34,
          14,
          34,
          25,
          36,
          30,
          56,
          41,
          25,
          26,
          61,
          40,
          32,
          25,
          63,
          47,
          54,
          34,
          30,
          47,
          39,
          31,
          46,
          40,
          47,
          43,
          31,
          35,
          22,
          26,
          35,
          8,
          35,
          37,
          73,
          53,
          46,
          41,
          38,
          21,
          27,
          47,
          37,
          26,
          59,
          42,
          51,
          28,
          34,
          25,
          35,
          31,
          40,
          19,
          47,
          42,
          29,
          0,
          30,
          45,
          57,
          71,
          51,
          35,
          26,
          20,
          23,
          41,
          50,
          20,
          37,
          24,
          48,
          32,
          17,
          33,
          54,
          39,
          38,
          22,
          26,
          30,
          13,
          31,
          37,
          30,
          62,
          67,
          59,
          38,
          18,
          40,
          42,
          41,
          47,
          56,
          14,
          38,
          14,
          25,
          56,
          33,
          64,
          0,
          25,
          61,
          45,
          40,
          68,
          40,
          53,
          57,
          44,
          68,
          28,
          29,
          40,
          70,
          37,
          66,
          58,
          71,
          39,
          68,
          50,
          39,
          32,
          54,
          49,
          55,
          36,
          19,
          47,
          45,
          52,
          40,
          14,
          53,
          51,
          67,
          75,
          49,
          42,
          27,
          52,
          54,
          41,
          26,
          13,
          64,
          74,
          26,
          39,
          28,
          51,
          13,
          45,
          37,
          54,
          43,
          39,
          47,
          31,
          43,
          27,
          29,
          62,
          48,
          28,
          31,
          63,
          34,
          41,
          37,
          45,
          41,
          0,
          64,
          34,
          39,
          32,
          23,
          51,
          31,
          34,
          46,
          27,
          40,
          44,
          26,
          33,
          41,
          39,
          18,
          26,
          48,
          43,
          44,
          29,
          14
         ],
         "y0": " ",
         "yaxis": "y"
        }
       ],
       "layout": {
        "boxmode": "group",
        "legend": {
         "tracegroupgap": 0
        },
        "margin": {
         "t": 60
        },
        "template": {
         "data": {
          "bar": [
           {
            "error_x": {
             "color": "#2a3f5f"
            },
            "error_y": {
             "color": "#2a3f5f"
            },
            "marker": {
             "line": {
              "color": "#E5ECF6",
              "width": 0.5
             },
             "pattern": {
              "fillmode": "overlay",
              "size": 10,
              "solidity": 0.2
             }
            },
            "type": "bar"
           }
          ],
          "barpolar": [
           {
            "marker": {
             "line": {
              "color": "#E5ECF6",
              "width": 0.5
             },
             "pattern": {
              "fillmode": "overlay",
              "size": 10,
              "solidity": 0.2
             }
            },
            "type": "barpolar"
           }
          ],
          "carpet": [
           {
            "aaxis": {
             "endlinecolor": "#2a3f5f",
             "gridcolor": "white",
             "linecolor": "white",
             "minorgridcolor": "white",
             "startlinecolor": "#2a3f5f"
            },
            "baxis": {
             "endlinecolor": "#2a3f5f",
             "gridcolor": "white",
             "linecolor": "white",
             "minorgridcolor": "white",
             "startlinecolor": "#2a3f5f"
            },
            "type": "carpet"
           }
          ],
          "choropleth": [
           {
            "colorbar": {
             "outlinewidth": 0,
             "ticks": ""
            },
            "type": "choropleth"
           }
          ],
          "contour": [
           {
            "colorbar": {
             "outlinewidth": 0,
             "ticks": ""
            },
            "colorscale": [
             [
              0,
              "#0d0887"
             ],
             [
              0.1111111111111111,
              "#46039f"
             ],
             [
              0.2222222222222222,
              "#7201a8"
             ],
             [
              0.3333333333333333,
              "#9c179e"
             ],
             [
              0.4444444444444444,
              "#bd3786"
             ],
             [
              0.5555555555555556,
              "#d8576b"
             ],
             [
              0.6666666666666666,
              "#ed7953"
             ],
             [
              0.7777777777777778,
              "#fb9f3a"
             ],
             [
              0.8888888888888888,
              "#fdca26"
             ],
             [
              1,
              "#f0f921"
             ]
            ],
            "type": "contour"
           }
          ],
          "contourcarpet": [
           {
            "colorbar": {
             "outlinewidth": 0,
             "ticks": ""
            },
            "type": "contourcarpet"
           }
          ],
          "heatmap": [
           {
            "colorbar": {
             "outlinewidth": 0,
             "ticks": ""
            },
            "colorscale": [
             [
              0,
              "#0d0887"
             ],
             [
              0.1111111111111111,
              "#46039f"
             ],
             [
              0.2222222222222222,
              "#7201a8"
             ],
             [
              0.3333333333333333,
              "#9c179e"
             ],
             [
              0.4444444444444444,
              "#bd3786"
             ],
             [
              0.5555555555555556,
              "#d8576b"
             ],
             [
              0.6666666666666666,
              "#ed7953"
             ],
             [
              0.7777777777777778,
              "#fb9f3a"
             ],
             [
              0.8888888888888888,
              "#fdca26"
             ],
             [
              1,
              "#f0f921"
             ]
            ],
            "type": "heatmap"
           }
          ],
          "heatmapgl": [
           {
            "colorbar": {
             "outlinewidth": 0,
             "ticks": ""
            },
            "colorscale": [
             [
              0,
              "#0d0887"
             ],
             [
              0.1111111111111111,
              "#46039f"
             ],
             [
              0.2222222222222222,
              "#7201a8"
             ],
             [
              0.3333333333333333,
              "#9c179e"
             ],
             [
              0.4444444444444444,
              "#bd3786"
             ],
             [
              0.5555555555555556,
              "#d8576b"
             ],
             [
              0.6666666666666666,
              "#ed7953"
             ],
             [
              0.7777777777777778,
              "#fb9f3a"
             ],
             [
              0.8888888888888888,
              "#fdca26"
             ],
             [
              1,
              "#f0f921"
             ]
            ],
            "type": "heatmapgl"
           }
          ],
          "histogram": [
           {
            "marker": {
             "pattern": {
              "fillmode": "overlay",
              "size": 10,
              "solidity": 0.2
             }
            },
            "type": "histogram"
           }
          ],
          "histogram2d": [
           {
            "colorbar": {
             "outlinewidth": 0,
             "ticks": ""
            },
            "colorscale": [
             [
              0,
              "#0d0887"
             ],
             [
              0.1111111111111111,
              "#46039f"
             ],
             [
              0.2222222222222222,
              "#7201a8"
             ],
             [
              0.3333333333333333,
              "#9c179e"
             ],
             [
              0.4444444444444444,
              "#bd3786"
             ],
             [
              0.5555555555555556,
              "#d8576b"
             ],
             [
              0.6666666666666666,
              "#ed7953"
             ],
             [
              0.7777777777777778,
              "#fb9f3a"
             ],
             [
              0.8888888888888888,
              "#fdca26"
             ],
             [
              1,
              "#f0f921"
             ]
            ],
            "type": "histogram2d"
           }
          ],
          "histogram2dcontour": [
           {
            "colorbar": {
             "outlinewidth": 0,
             "ticks": ""
            },
            "colorscale": [
             [
              0,
              "#0d0887"
             ],
             [
              0.1111111111111111,
              "#46039f"
             ],
             [
              0.2222222222222222,
              "#7201a8"
             ],
             [
              0.3333333333333333,
              "#9c179e"
             ],
             [
              0.4444444444444444,
              "#bd3786"
             ],
             [
              0.5555555555555556,
              "#d8576b"
             ],
             [
              0.6666666666666666,
              "#ed7953"
             ],
             [
              0.7777777777777778,
              "#fb9f3a"
             ],
             [
              0.8888888888888888,
              "#fdca26"
             ],
             [
              1,
              "#f0f921"
             ]
            ],
            "type": "histogram2dcontour"
           }
          ],
          "mesh3d": [
           {
            "colorbar": {
             "outlinewidth": 0,
             "ticks": ""
            },
            "type": "mesh3d"
           }
          ],
          "parcoords": [
           {
            "line": {
             "colorbar": {
              "outlinewidth": 0,
              "ticks": ""
             }
            },
            "type": "parcoords"
           }
          ],
          "pie": [
           {
            "automargin": true,
            "type": "pie"
           }
          ],
          "scatter": [
           {
            "fillpattern": {
             "fillmode": "overlay",
             "size": 10,
             "solidity": 0.2
            },
            "type": "scatter"
           }
          ],
          "scatter3d": [
           {
            "line": {
             "colorbar": {
              "outlinewidth": 0,
              "ticks": ""
             }
            },
            "marker": {
             "colorbar": {
              "outlinewidth": 0,
              "ticks": ""
             }
            },
            "type": "scatter3d"
           }
          ],
          "scattercarpet": [
           {
            "marker": {
             "colorbar": {
              "outlinewidth": 0,
              "ticks": ""
             }
            },
            "type": "scattercarpet"
           }
          ],
          "scattergeo": [
           {
            "marker": {
             "colorbar": {
              "outlinewidth": 0,
              "ticks": ""
             }
            },
            "type": "scattergeo"
           }
          ],
          "scattergl": [
           {
            "marker": {
             "colorbar": {
              "outlinewidth": 0,
              "ticks": ""
             }
            },
            "type": "scattergl"
           }
          ],
          "scattermapbox": [
           {
            "marker": {
             "colorbar": {
              "outlinewidth": 0,
              "ticks": ""
             }
            },
            "type": "scattermapbox"
           }
          ],
          "scatterpolar": [
           {
            "marker": {
             "colorbar": {
              "outlinewidth": 0,
              "ticks": ""
             }
            },
            "type": "scatterpolar"
           }
          ],
          "scatterpolargl": [
           {
            "marker": {
             "colorbar": {
              "outlinewidth": 0,
              "ticks": ""
             }
            },
            "type": "scatterpolargl"
           }
          ],
          "scatterternary": [
           {
            "marker": {
             "colorbar": {
              "outlinewidth": 0,
              "ticks": ""
             }
            },
            "type": "scatterternary"
           }
          ],
          "surface": [
           {
            "colorbar": {
             "outlinewidth": 0,
             "ticks": ""
            },
            "colorscale": [
             [
              0,
              "#0d0887"
             ],
             [
              0.1111111111111111,
              "#46039f"
             ],
             [
              0.2222222222222222,
              "#7201a8"
             ],
             [
              0.3333333333333333,
              "#9c179e"
             ],
             [
              0.4444444444444444,
              "#bd3786"
             ],
             [
              0.5555555555555556,
              "#d8576b"
             ],
             [
              0.6666666666666666,
              "#ed7953"
             ],
             [
              0.7777777777777778,
              "#fb9f3a"
             ],
             [
              0.8888888888888888,
              "#fdca26"
             ],
             [
              1,
              "#f0f921"
             ]
            ],
            "type": "surface"
           }
          ],
          "table": [
           {
            "cells": {
             "fill": {
              "color": "#EBF0F8"
             },
             "line": {
              "color": "white"
             }
            },
            "header": {
             "fill": {
              "color": "#C8D4E3"
             },
             "line": {
              "color": "white"
             }
            },
            "type": "table"
           }
          ]
         },
         "layout": {
          "annotationdefaults": {
           "arrowcolor": "#2a3f5f",
           "arrowhead": 0,
           "arrowwidth": 1
          },
          "autotypenumbers": "strict",
          "coloraxis": {
           "colorbar": {
            "outlinewidth": 0,
            "ticks": ""
           }
          },
          "colorscale": {
           "diverging": [
            [
             0,
             "#8e0152"
            ],
            [
             0.1,
             "#c51b7d"
            ],
            [
             0.2,
             "#de77ae"
            ],
            [
             0.3,
             "#f1b6da"
            ],
            [
             0.4,
             "#fde0ef"
            ],
            [
             0.5,
             "#f7f7f7"
            ],
            [
             0.6,
             "#e6f5d0"
            ],
            [
             0.7,
             "#b8e186"
            ],
            [
             0.8,
             "#7fbc41"
            ],
            [
             0.9,
             "#4d9221"
            ],
            [
             1,
             "#276419"
            ]
           ],
           "sequential": [
            [
             0,
             "#0d0887"
            ],
            [
             0.1111111111111111,
             "#46039f"
            ],
            [
             0.2222222222222222,
             "#7201a8"
            ],
            [
             0.3333333333333333,
             "#9c179e"
            ],
            [
             0.4444444444444444,
             "#bd3786"
            ],
            [
             0.5555555555555556,
             "#d8576b"
            ],
            [
             0.6666666666666666,
             "#ed7953"
            ],
            [
             0.7777777777777778,
             "#fb9f3a"
            ],
            [
             0.8888888888888888,
             "#fdca26"
            ],
            [
             1,
             "#f0f921"
            ]
           ],
           "sequentialminus": [
            [
             0,
             "#0d0887"
            ],
            [
             0.1111111111111111,
             "#46039f"
            ],
            [
             0.2222222222222222,
             "#7201a8"
            ],
            [
             0.3333333333333333,
             "#9c179e"
            ],
            [
             0.4444444444444444,
             "#bd3786"
            ],
            [
             0.5555555555555556,
             "#d8576b"
            ],
            [
             0.6666666666666666,
             "#ed7953"
            ],
            [
             0.7777777777777778,
             "#fb9f3a"
            ],
            [
             0.8888888888888888,
             "#fdca26"
            ],
            [
             1,
             "#f0f921"
            ]
           ]
          },
          "colorway": [
           "#636efa",
           "#EF553B",
           "#00cc96",
           "#ab63fa",
           "#FFA15A",
           "#19d3f3",
           "#FF6692",
           "#B6E880",
           "#FF97FF",
           "#FECB52"
          ],
          "font": {
           "color": "#2a3f5f"
          },
          "geo": {
           "bgcolor": "white",
           "lakecolor": "white",
           "landcolor": "#E5ECF6",
           "showlakes": true,
           "showland": true,
           "subunitcolor": "white"
          },
          "hoverlabel": {
           "align": "left"
          },
          "hovermode": "closest",
          "mapbox": {
           "style": "light"
          },
          "paper_bgcolor": "white",
          "plot_bgcolor": "#E5ECF6",
          "polar": {
           "angularaxis": {
            "gridcolor": "white",
            "linecolor": "white",
            "ticks": ""
           },
           "bgcolor": "#E5ECF6",
           "radialaxis": {
            "gridcolor": "white",
            "linecolor": "white",
            "ticks": ""
           }
          },
          "scene": {
           "xaxis": {
            "backgroundcolor": "#E5ECF6",
            "gridcolor": "white",
            "gridwidth": 2,
            "linecolor": "white",
            "showbackground": true,
            "ticks": "",
            "zerolinecolor": "white"
           },
           "yaxis": {
            "backgroundcolor": "#E5ECF6",
            "gridcolor": "white",
            "gridwidth": 2,
            "linecolor": "white",
            "showbackground": true,
            "ticks": "",
            "zerolinecolor": "white"
           },
           "zaxis": {
            "backgroundcolor": "#E5ECF6",
            "gridcolor": "white",
            "gridwidth": 2,
            "linecolor": "white",
            "showbackground": true,
            "ticks": "",
            "zerolinecolor": "white"
           }
          },
          "shapedefaults": {
           "line": {
            "color": "#2a3f5f"
           }
          },
          "ternary": {
           "aaxis": {
            "gridcolor": "white",
            "linecolor": "white",
            "ticks": ""
           },
           "baxis": {
            "gridcolor": "white",
            "linecolor": "white",
            "ticks": ""
           },
           "bgcolor": "#E5ECF6",
           "caxis": {
            "gridcolor": "white",
            "linecolor": "white",
            "ticks": ""
           }
          },
          "title": {
           "x": 0.05
          },
          "xaxis": {
           "automargin": true,
           "gridcolor": "white",
           "linecolor": "white",
           "ticks": "",
           "title": {
            "standoff": 15
           },
           "zerolinecolor": "white",
           "zerolinewidth": 2
          },
          "yaxis": {
           "automargin": true,
           "gridcolor": "white",
           "linecolor": "white",
           "ticks": "",
           "title": {
            "standoff": 15
           },
           "zerolinecolor": "white",
           "zerolinewidth": 2
          }
         }
        },
        "title": {
         "text": "Boxplot de Escolaridade do Pai em relação à Nota Geral",
         "x": 0.5,
         "y": 0.95
        },
        "xaxis": {
         "anchor": "y",
         "categoryarray": [
          "Nenhuma escolaridade",
          "Ensino fundamental",
          "Ensino médio",
          "Ensino superior",
          "Pós-graduação"
         ],
         "categoryorder": "array",
         "domain": [
          0,
          1
         ],
         "title": {
          "text": "Escolaridade do Pai"
         }
        },
        "yaxis": {
         "anchor": "x",
         "domain": [
          0,
          1
         ],
         "title": {
          "text": "Nota Geral"
         }
        }
       }
      }
     },
     "metadata": {},
     "output_type": "display_data"
    }
   ],
   "source": [
    "categorias = {\n",
    "    'A': 'Nenhuma escolaridade',\n",
    "    'B': 'Ensino fundamental',\n",
    "    'C': 'Ensino fundamental',\n",
    "    'D': 'Ensino médio',\n",
    "    'E': 'Ensino superior',\n",
    "    'F': 'Pós-graduação'\n",
    "}\n",
    "\n",
    "ordem_categorias = {'Nenhuma escolaridade': 1, 'Ensino fundamental': 2, \n",
    "                    'Ensino médio': 3, 'Ensino superior': 4, 'Pós-graduação': 5}\n",
    "\n",
    "dados_explorados['Nota_geral'] = pd.to_numeric(dados_explorados['Nota_geral'], errors='coerce')\n",
    "dados_explorados = dados_explorados.dropna(subset=['Nota_geral'])\n",
    "\n",
    "dados_explorados['Categoria'] = dados_explorados['Escolaridade_pai'].map(categorias)\n",
    "\n",
    "medianas = dados_explorados.groupby('Categoria')['Nota_geral'].median().reset_index()\n",
    "\n",
    "medianas['ordem_categoria'] = medianas['Categoria'].map(ordem_categorias)\n",
    "medianas = medianas.sort_values(by='ordem_categoria')\n",
    "\n",
    "fig = px.box(dados_explorados, x='Categoria', y='Nota_geral', \n",
    "             labels={'Categoria': 'Escolaridade do Pai', 'Nota_geral': 'Nota Geral'},\n",
    "             category_orders={\"Categoria\": medianas['Categoria']})\n",
    "fig.update_layout(title='Boxplot de Escolaridade do Pai em relação à Nota Geral', title_x=0.5, title_y=0.95)\n",
    "fig.show()"
   ]
  }
 ],
 "metadata": {
  "kernelspec": {
   "display_name": "Python 3",
   "language": "python",
   "name": "python3"
  },
  "language_info": {
   "codemirror_mode": {
    "name": "ipython",
    "version": 3
   },
   "file_extension": ".py",
   "mimetype": "text/x-python",
   "name": "python",
   "nbconvert_exporter": "python",
   "pygments_lexer": "ipython3",
   "version": "3.12.0"
  }
 },
 "nbformat": 4,
 "nbformat_minor": 2
}
