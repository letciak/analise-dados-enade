{
 "cells": [
  {
   "cell_type": "code",
   "execution_count": 1,
   "metadata": {},
   "outputs": [],
   "source": [
    "import pandas as pd\n",
    "import plotly.express as px"
   ]
  },
  {
   "cell_type": "code",
   "execution_count": 2,
   "metadata": {},
   "outputs": [
    {
     "name": "stdout",
     "output_type": "stream",
     "text": [
      "      Cod_curso  Cod_grupo_curso  Cod_regiao_curso Nota_geral  \\\n",
      "0           594             4004                 3       42,8   \n",
      "1           594             4004                 3       57,2   \n",
      "2           594             4004                 3       40,3   \n",
      "3           594             4004                 3       62,5   \n",
      "4           594             4004                 3       46,1   \n",
      "...         ...              ...               ...        ...   \n",
      "5026    5000356             4004                 3       52,7   \n",
      "5027    5000356             4004                 3       44,1   \n",
      "5028    5000356             4004                 3       54,8   \n",
      "5029     104836             4004                 3        NaN   \n",
      "5030     104836             4004                 3        NaN   \n",
      "\n",
      "     Escolaridade_pai Escolaridade_mae Renda Tipo_escola Horas_estudos  \n",
      "0                   F                C     B           A             C  \n",
      "1                   F                E     C           B             E  \n",
      "2                   B                B     B           A             E  \n",
      "3                   D                D     B           B             E  \n",
      "4                   E                D     F           B             C  \n",
      "...               ...              ...   ...         ...           ...  \n",
      "5026                C                E     E           B             D  \n",
      "5027                E                D     E           A             B  \n",
      "5028                D                D     C           B             D  \n",
      "5029                C                F     E           B             B  \n",
      "5030              NaN              NaN   NaN         NaN           NaN  \n",
      "\n",
      "[5031 rows x 9 columns]\n"
     ]
    }
   ],
   "source": [
    "regiao_sudeste_cc = pd.read_csv('regiao-sudeste-cc.csv', sep=',')\n",
    "\n",
    "print(regiao_sudeste_cc)"
   ]
  },
  {
   "cell_type": "code",
   "execution_count": 3,
   "metadata": {},
   "outputs": [
    {
     "name": "stdout",
     "output_type": "stream",
     "text": [
      "Cod_curso             0\n",
      "Cod_grupo_curso       0\n",
      "Cod_regiao_curso      0\n",
      "Nota_geral          814\n",
      "Escolaridade_pai    619\n",
      "Escolaridade_mae    619\n",
      "Renda               619\n",
      "Tipo_escola         619\n",
      "Horas_estudos       619\n",
      "dtype: int64\n"
     ]
    }
   ],
   "source": [
    "valores_nulos = regiao_sudeste_cc.isnull()\n",
    "contagem = valores_nulos.sum()\n",
    "\n",
    "print(contagem)"
   ]
  },
  {
   "cell_type": "code",
   "execution_count": 4,
   "metadata": {},
   "outputs": [],
   "source": [
    "regiao_sudeste_cc.dropna(inplace=True)"
   ]
  },
  {
   "cell_type": "code",
   "execution_count": 5,
   "metadata": {},
   "outputs": [
    {
     "name": "stdout",
     "output_type": "stream",
     "text": [
      "     Nota_geral Renda Escolaridade_mae Escolaridade_pai\n",
      "0          42,8     B                C                F\n",
      "1          57,2     C                E                F\n",
      "2          40,3     B                B                B\n",
      "3          62,5     B                D                D\n",
      "4          46,1     F                D                E\n",
      "...         ...   ...              ...              ...\n",
      "5024       52,7     F                E                F\n",
      "5025       55,2     C                D                D\n",
      "5026       52,7     E                E                C\n",
      "5027       44,1     E                D                E\n",
      "5028       54,8     C                D                D\n",
      "\n",
      "[4186 rows x 4 columns]\n"
     ]
    }
   ],
   "source": [
    "filtro = ['Nota_geral', 'Renda', 'Escolaridade_mae', 'Escolaridade_pai']\n",
    "dados_explorados = regiao_sudeste_cc[filtro]\n",
    "\n",
    "print(dados_explorados)"
   ]
  },
  {
   "cell_type": "code",
   "execution_count": 16,
   "metadata": {},
   "outputs": [
    {
     "data": {
      "application/vnd.plotly.v1+json": {
       "config": {
        "plotlyServerURL": "https://plot.ly"
       },
       "data": [
        {
         "alignmentgroup": "True",
         "hovertemplate": "Renda=%{x}<br>Nota Geral=%{y}<extra></extra>",
         "legendgroup": "",
         "marker": {
          "color": "#636efa"
         },
         "name": "",
         "notched": false,
         "offsetgroup": "",
         "orientation": "v",
         "showlegend": false,
         "type": "box",
         "x": [
          "Renda baixa",
          "Média baixa",
          "Média alta",
          "Média alta",
          "Renda alta",
          "Renda baixa",
          "Média baixa",
          "Renda alta",
          "Média baixa",
          "Média alta",
          "Renda alta",
          "Renda baixa",
          "Média baixa",
          "Média alta",
          "Média alta",
          "Média baixa",
          "Renda alta",
          "Renda alta",
          "Média alta",
          "Média alta",
          "Média alta",
          "Renda alta",
          "Média baixa",
          "Renda alta",
          "Média alta",
          "Renda alta",
          "Renda alta",
          "Renda alta",
          "Renda alta",
          "Média baixa",
          "Renda alta",
          "Média baixa",
          "Média alta",
          "Média alta",
          "Renda alta",
          "Renda alta",
          "Renda baixa",
          "Renda alta",
          "Média alta",
          "Média alta",
          "Média baixa",
          "Média baixa",
          "Média alta",
          "Média alta",
          "Média baixa",
          "Renda baixa",
          "Renda alta",
          "Renda alta",
          "Média alta",
          "Renda alta",
          "Média baixa",
          "Média alta",
          "Média alta",
          "Média baixa",
          "Média baixa",
          "Média alta",
          "Média alta",
          "Renda alta",
          "Média alta",
          "Média alta",
          "Média alta",
          "Renda alta",
          "Renda baixa",
          "Média alta",
          "Renda alta",
          "Renda alta",
          "Média baixa",
          "Renda alta",
          "Renda alta",
          "Média alta",
          "Média alta",
          "Renda alta",
          "Média baixa",
          "Média alta",
          "Média alta",
          "Média alta",
          "Renda baixa",
          "Média alta",
          "Renda alta",
          "Renda alta",
          "Média baixa",
          "Média alta",
          "Média alta",
          "Renda alta",
          "Média alta",
          "Média baixa",
          "Média alta",
          "Renda alta",
          "Média alta",
          "Renda alta",
          "Renda alta",
          "Média alta",
          "Média alta",
          "Renda alta",
          "Média baixa",
          "Média alta",
          "Renda alta",
          "Média alta",
          "Média alta",
          "Média baixa",
          "Renda baixa",
          "Renda alta",
          "Renda alta",
          "Média baixa",
          "Renda alta",
          "Média alta",
          "Média baixa",
          "Média alta",
          "Renda alta",
          "Renda alta",
          "Média alta",
          "Média alta",
          "Média alta",
          "Renda baixa",
          "Média baixa",
          "Média baixa",
          "Média alta",
          "Média baixa",
          "Renda alta",
          "Média alta",
          "Média alta",
          "Renda alta",
          "Média alta",
          "Média alta",
          "Média alta",
          "Média alta",
          "Média alta",
          "Renda alta",
          "Média alta",
          "Média alta",
          "Renda alta",
          "Renda alta",
          "Média baixa",
          "Média alta",
          "Média alta",
          "Média alta",
          "Renda baixa",
          "Renda alta",
          "Renda alta",
          "Renda alta",
          "Renda alta",
          "Média baixa",
          "Renda alta",
          "Média alta",
          "Renda alta",
          "Média alta",
          "Renda alta",
          "Renda baixa",
          "Renda alta",
          "Renda alta",
          "Renda alta",
          "Média baixa",
          "Média alta",
          "Média alta",
          "Média alta",
          "Média baixa",
          "Média alta",
          "Renda alta",
          "Média baixa",
          "Renda baixa",
          "Média baixa",
          "Renda alta",
          "Renda alta",
          "Média alta",
          "Renda alta",
          "Média baixa",
          "Renda baixa",
          "Média baixa",
          "Renda baixa",
          "Renda baixa",
          "Renda alta",
          "Renda alta",
          "Média alta",
          "Renda baixa",
          "Renda baixa",
          "Renda baixa",
          "Renda alta",
          "Renda alta",
          "Renda alta",
          "Média alta",
          "Renda alta",
          "Média alta",
          "Média baixa",
          "Renda alta",
          "Média alta",
          "Média alta",
          "Média alta",
          "Média alta",
          "Renda alta",
          "Média alta",
          "Média alta",
          "Renda alta",
          "Média baixa",
          "Renda alta",
          "Média alta",
          "Média baixa",
          "Média alta",
          "Média baixa",
          "Renda alta",
          "Renda alta",
          "Média alta",
          "Média alta",
          "Média alta",
          "Renda alta",
          "Média baixa",
          "Renda baixa",
          "Média alta",
          "Média baixa",
          "Média alta",
          "Média alta",
          "Média baixa",
          "Média baixa",
          "Renda baixa",
          "Renda alta",
          "Renda alta",
          "Média alta",
          "Média baixa",
          "Média alta",
          "Média baixa",
          "Média baixa",
          "Renda alta",
          "Média baixa",
          "Média alta",
          "Renda alta",
          "Média alta",
          "Renda alta",
          "Renda alta",
          "Renda alta",
          "Média baixa",
          "Renda baixa",
          "Renda alta",
          "Média alta",
          "Média alta",
          "Média alta",
          "Média alta",
          "Renda baixa",
          "Média alta",
          "Média alta",
          "Média baixa",
          "Média baixa",
          "Média baixa",
          "Média baixa",
          "Renda baixa",
          "Média baixa",
          "Média alta",
          "Renda baixa",
          "Renda alta",
          "Média alta",
          "Média baixa",
          "Renda baixa",
          "Média alta",
          "Média baixa",
          "Renda baixa",
          "Média baixa",
          "Renda baixa",
          "Média baixa",
          "Média alta",
          "Média baixa",
          "Média baixa",
          "Média alta",
          "Média alta",
          "Renda baixa",
          "Média baixa",
          "Renda alta",
          "Média baixa",
          "Média alta",
          "Média baixa",
          "Média alta",
          "Renda alta",
          "Média alta",
          "Média baixa",
          "Média alta",
          "Média baixa",
          "Média baixa",
          "Média alta",
          "Média baixa",
          "Média alta",
          "Média alta",
          "Média baixa",
          "Média baixa",
          "Renda baixa",
          "Média baixa",
          "Média alta",
          "Média baixa",
          "Média alta",
          "Média alta",
          "Média baixa",
          "Média alta",
          "Média alta",
          "Média alta",
          "Média baixa",
          "Renda baixa",
          "Média alta",
          "Média alta",
          "Média baixa",
          "Média alta",
          "Média alta",
          "Média alta",
          "Renda alta",
          "Renda alta",
          "Renda alta",
          "Média alta",
          "Renda alta",
          "Média alta",
          "Média baixa",
          "Média alta",
          "Média alta",
          "Média alta",
          "Renda baixa",
          "Média alta",
          "Renda alta",
          "Renda alta",
          "Média baixa",
          "Média alta",
          "Média alta",
          "Renda alta",
          "Renda alta",
          "Renda alta",
          "Renda baixa",
          "Média alta",
          "Média baixa",
          "Média baixa",
          "Média baixa",
          "Média alta",
          "Renda baixa",
          "Renda alta",
          "Renda baixa",
          "Média baixa",
          "Média baixa",
          "Renda alta",
          "Média alta",
          "Média alta",
          "Média alta",
          "Média baixa",
          "Média baixa",
          "Média alta",
          "Renda alta",
          "Média baixa",
          "Renda alta",
          "Média alta",
          "Média alta",
          "Renda baixa",
          "Renda baixa",
          "Média baixa",
          "Média baixa",
          "Média baixa",
          "Renda alta",
          "Média alta",
          "Média baixa",
          "Média alta",
          "Média alta",
          "Renda baixa",
          "Renda alta",
          "Média alta",
          "Renda alta",
          "Renda alta",
          "Média alta",
          "Renda baixa",
          "Renda alta",
          "Média alta",
          "Renda baixa",
          "Média baixa",
          "Renda alta",
          "Média alta",
          "Média baixa",
          "Média alta",
          "Média alta",
          "Média alta",
          "Média baixa",
          "Média baixa",
          "Média alta",
          "Média baixa",
          "Renda alta",
          "Média alta",
          "Renda baixa",
          "Renda alta",
          "Média alta",
          "Média baixa",
          "Média alta",
          "Média alta",
          "Média alta",
          "Média alta",
          "Renda alta",
          "Média alta",
          "Média baixa",
          "Renda alta",
          "Média alta",
          "Média alta",
          "Renda alta",
          "Média baixa",
          "Média baixa",
          "Média baixa",
          "Média baixa",
          "Média baixa",
          "Média alta",
          "Média alta",
          "Renda alta",
          "Média baixa",
          "Média baixa",
          "Média baixa",
          "Média baixa",
          "Média baixa",
          "Renda alta",
          "Média alta",
          "Renda baixa",
          "Média alta",
          "Média alta",
          "Renda alta",
          "Renda alta",
          "Renda alta",
          "Média baixa",
          "Renda baixa",
          "Média baixa",
          "Média alta",
          "Média baixa",
          "Média baixa",
          "Média baixa",
          "Média alta",
          "Média alta",
          "Média baixa",
          "Média alta",
          "Renda alta",
          "Renda alta",
          "Média baixa",
          "Média baixa",
          "Renda baixa",
          "Renda alta",
          "Média baixa",
          "Média baixa",
          "Média alta",
          "Renda baixa",
          "Média alta",
          "Renda alta",
          "Renda alta",
          "Média baixa",
          "Renda alta",
          "Renda baixa",
          "Média alta",
          "Média baixa"
         ],
         "x0": " ",
         "xaxis": "x",
         "y": [
          40,
          54,
          35,
          57,
          62,
          42,
          35,
          51,
          28,
          59,
          60,
          63,
          62,
          62,
          53,
          57,
          55,
          44,
          54,
          57,
          44,
          60,
          38,
          30,
          48,
          70,
          63,
          59,
          73,
          72,
          0,
          47,
          49,
          35,
          54,
          46,
          31,
          50,
          69,
          31,
          43,
          31,
          45,
          40,
          45,
          56,
          74,
          28,
          41,
          20,
          33,
          26,
          48,
          39,
          18,
          52,
          40,
          39,
          44,
          19,
          36,
          37,
          30,
          66,
          52,
          54,
          46,
          50,
          50,
          52,
          37,
          66,
          0,
          52,
          83,
          57,
          55,
          57,
          61,
          58,
          37,
          61,
          44,
          66,
          46,
          62,
          57,
          37,
          60,
          71,
          53,
          47,
          25,
          19,
          63,
          47,
          54,
          14,
          48,
          42,
          21,
          44,
          52,
          50,
          57,
          60,
          58,
          40,
          46,
          64,
          64,
          58,
          54,
          41,
          39,
          61,
          43,
          63,
          36,
          34,
          51,
          30,
          48,
          41,
          39,
          27,
          17,
          29,
          25,
          34,
          56,
          54,
          24,
          32,
          52,
          23,
          48,
          46,
          25,
          37,
          66,
          54,
          0,
          39,
          53,
          40,
          49,
          39,
          54,
          60,
          60,
          64,
          49,
          48,
          22,
          28,
          52,
          41,
          11,
          30,
          17,
          37,
          54,
          30,
          34,
          30,
          43,
          45,
          46,
          27,
          35,
          28,
          43,
          43,
          35,
          39,
          31,
          39,
          36,
          40,
          41,
          62,
          26,
          29,
          45,
          38,
          25,
          32,
          17,
          45,
          22,
          31,
          42,
          72,
          28,
          56,
          39,
          34,
          44,
          44,
          40,
          59,
          51,
          49,
          39,
          35,
          53,
          23,
          20,
          49,
          36,
          40,
          32,
          28,
          35,
          50,
          42,
          46,
          24,
          39,
          44,
          37,
          30,
          30,
          27,
          36,
          45,
          36,
          44,
          47,
          43,
          46,
          34,
          35,
          33,
          33,
          39,
          48,
          50,
          39,
          39,
          44,
          31,
          52,
          42,
          62,
          55,
          24,
          44,
          37,
          40,
          38,
          29,
          30,
          31,
          43,
          42,
          25,
          68,
          30,
          36,
          35,
          28,
          40,
          53,
          42,
          35,
          41,
          39,
          53,
          44,
          41,
          19,
          48,
          40,
          60,
          48,
          16,
          34,
          31,
          30,
          31,
          38,
          37,
          33,
          29,
          35,
          52,
          62,
          56,
          38,
          43,
          55,
          46,
          36,
          44,
          29,
          28,
          50,
          54,
          59,
          61,
          51,
          79,
          79,
          72,
          69,
          39,
          50,
          69,
          41,
          48,
          57,
          44,
          47,
          74,
          39,
          34,
          39,
          38,
          29,
          22,
          11,
          51,
          35,
          42,
          39,
          39,
          39,
          33,
          39,
          33,
          52,
          57,
          41,
          36,
          65,
          47,
          62,
          23,
          44,
          49,
          40,
          39,
          35,
          50,
          40,
          40,
          41,
          47,
          29,
          43,
          31,
          49,
          71,
          62,
          38,
          30,
          33,
          34,
          36,
          41,
          48,
          13,
          24,
          52,
          57,
          55,
          66,
          25,
          33,
          40,
          53,
          38,
          0,
          43,
          27,
          46,
          37,
          26,
          47,
          17,
          49,
          40,
          32,
          32,
          31,
          36,
          66,
          41,
          44,
          64,
          36,
          31,
          47,
          40,
          29,
          28,
          37,
          28,
          30,
          47,
          44,
          66,
          59,
          57,
          63,
          62,
          61,
          54,
          64,
          63,
          25,
          49,
          68,
          44,
          37,
          57,
          22,
          37,
          50,
          31,
          57,
          52,
          59,
          43,
          40,
          59,
          50,
          49,
          32,
          43,
          39,
          69,
          19,
          70,
          48,
          78,
          49
         ],
         "y0": " ",
         "yaxis": "y"
        }
       ],
       "layout": {
        "boxmode": "group",
        "legend": {
         "tracegroupgap": 0
        },
        "margin": {
         "t": 60
        },
        "template": {
         "data": {
          "bar": [
           {
            "error_x": {
             "color": "#2a3f5f"
            },
            "error_y": {
             "color": "#2a3f5f"
            },
            "marker": {
             "line": {
              "color": "#E5ECF6",
              "width": 0.5
             },
             "pattern": {
              "fillmode": "overlay",
              "size": 10,
              "solidity": 0.2
             }
            },
            "type": "bar"
           }
          ],
          "barpolar": [
           {
            "marker": {
             "line": {
              "color": "#E5ECF6",
              "width": 0.5
             },
             "pattern": {
              "fillmode": "overlay",
              "size": 10,
              "solidity": 0.2
             }
            },
            "type": "barpolar"
           }
          ],
          "carpet": [
           {
            "aaxis": {
             "endlinecolor": "#2a3f5f",
             "gridcolor": "white",
             "linecolor": "white",
             "minorgridcolor": "white",
             "startlinecolor": "#2a3f5f"
            },
            "baxis": {
             "endlinecolor": "#2a3f5f",
             "gridcolor": "white",
             "linecolor": "white",
             "minorgridcolor": "white",
             "startlinecolor": "#2a3f5f"
            },
            "type": "carpet"
           }
          ],
          "choropleth": [
           {
            "colorbar": {
             "outlinewidth": 0,
             "ticks": ""
            },
            "type": "choropleth"
           }
          ],
          "contour": [
           {
            "colorbar": {
             "outlinewidth": 0,
             "ticks": ""
            },
            "colorscale": [
             [
              0,
              "#0d0887"
             ],
             [
              0.1111111111111111,
              "#46039f"
             ],
             [
              0.2222222222222222,
              "#7201a8"
             ],
             [
              0.3333333333333333,
              "#9c179e"
             ],
             [
              0.4444444444444444,
              "#bd3786"
             ],
             [
              0.5555555555555556,
              "#d8576b"
             ],
             [
              0.6666666666666666,
              "#ed7953"
             ],
             [
              0.7777777777777778,
              "#fb9f3a"
             ],
             [
              0.8888888888888888,
              "#fdca26"
             ],
             [
              1,
              "#f0f921"
             ]
            ],
            "type": "contour"
           }
          ],
          "contourcarpet": [
           {
            "colorbar": {
             "outlinewidth": 0,
             "ticks": ""
            },
            "type": "contourcarpet"
           }
          ],
          "heatmap": [
           {
            "colorbar": {
             "outlinewidth": 0,
             "ticks": ""
            },
            "colorscale": [
             [
              0,
              "#0d0887"
             ],
             [
              0.1111111111111111,
              "#46039f"
             ],
             [
              0.2222222222222222,
              "#7201a8"
             ],
             [
              0.3333333333333333,
              "#9c179e"
             ],
             [
              0.4444444444444444,
              "#bd3786"
             ],
             [
              0.5555555555555556,
              "#d8576b"
             ],
             [
              0.6666666666666666,
              "#ed7953"
             ],
             [
              0.7777777777777778,
              "#fb9f3a"
             ],
             [
              0.8888888888888888,
              "#fdca26"
             ],
             [
              1,
              "#f0f921"
             ]
            ],
            "type": "heatmap"
           }
          ],
          "heatmapgl": [
           {
            "colorbar": {
             "outlinewidth": 0,
             "ticks": ""
            },
            "colorscale": [
             [
              0,
              "#0d0887"
             ],
             [
              0.1111111111111111,
              "#46039f"
             ],
             [
              0.2222222222222222,
              "#7201a8"
             ],
             [
              0.3333333333333333,
              "#9c179e"
             ],
             [
              0.4444444444444444,
              "#bd3786"
             ],
             [
              0.5555555555555556,
              "#d8576b"
             ],
             [
              0.6666666666666666,
              "#ed7953"
             ],
             [
              0.7777777777777778,
              "#fb9f3a"
             ],
             [
              0.8888888888888888,
              "#fdca26"
             ],
             [
              1,
              "#f0f921"
             ]
            ],
            "type": "heatmapgl"
           }
          ],
          "histogram": [
           {
            "marker": {
             "pattern": {
              "fillmode": "overlay",
              "size": 10,
              "solidity": 0.2
             }
            },
            "type": "histogram"
           }
          ],
          "histogram2d": [
           {
            "colorbar": {
             "outlinewidth": 0,
             "ticks": ""
            },
            "colorscale": [
             [
              0,
              "#0d0887"
             ],
             [
              0.1111111111111111,
              "#46039f"
             ],
             [
              0.2222222222222222,
              "#7201a8"
             ],
             [
              0.3333333333333333,
              "#9c179e"
             ],
             [
              0.4444444444444444,
              "#bd3786"
             ],
             [
              0.5555555555555556,
              "#d8576b"
             ],
             [
              0.6666666666666666,
              "#ed7953"
             ],
             [
              0.7777777777777778,
              "#fb9f3a"
             ],
             [
              0.8888888888888888,
              "#fdca26"
             ],
             [
              1,
              "#f0f921"
             ]
            ],
            "type": "histogram2d"
           }
          ],
          "histogram2dcontour": [
           {
            "colorbar": {
             "outlinewidth": 0,
             "ticks": ""
            },
            "colorscale": [
             [
              0,
              "#0d0887"
             ],
             [
              0.1111111111111111,
              "#46039f"
             ],
             [
              0.2222222222222222,
              "#7201a8"
             ],
             [
              0.3333333333333333,
              "#9c179e"
             ],
             [
              0.4444444444444444,
              "#bd3786"
             ],
             [
              0.5555555555555556,
              "#d8576b"
             ],
             [
              0.6666666666666666,
              "#ed7953"
             ],
             [
              0.7777777777777778,
              "#fb9f3a"
             ],
             [
              0.8888888888888888,
              "#fdca26"
             ],
             [
              1,
              "#f0f921"
             ]
            ],
            "type": "histogram2dcontour"
           }
          ],
          "mesh3d": [
           {
            "colorbar": {
             "outlinewidth": 0,
             "ticks": ""
            },
            "type": "mesh3d"
           }
          ],
          "parcoords": [
           {
            "line": {
             "colorbar": {
              "outlinewidth": 0,
              "ticks": ""
             }
            },
            "type": "parcoords"
           }
          ],
          "pie": [
           {
            "automargin": true,
            "type": "pie"
           }
          ],
          "scatter": [
           {
            "fillpattern": {
             "fillmode": "overlay",
             "size": 10,
             "solidity": 0.2
            },
            "type": "scatter"
           }
          ],
          "scatter3d": [
           {
            "line": {
             "colorbar": {
              "outlinewidth": 0,
              "ticks": ""
             }
            },
            "marker": {
             "colorbar": {
              "outlinewidth": 0,
              "ticks": ""
             }
            },
            "type": "scatter3d"
           }
          ],
          "scattercarpet": [
           {
            "marker": {
             "colorbar": {
              "outlinewidth": 0,
              "ticks": ""
             }
            },
            "type": "scattercarpet"
           }
          ],
          "scattergeo": [
           {
            "marker": {
             "colorbar": {
              "outlinewidth": 0,
              "ticks": ""
             }
            },
            "type": "scattergeo"
           }
          ],
          "scattergl": [
           {
            "marker": {
             "colorbar": {
              "outlinewidth": 0,
              "ticks": ""
             }
            },
            "type": "scattergl"
           }
          ],
          "scattermapbox": [
           {
            "marker": {
             "colorbar": {
              "outlinewidth": 0,
              "ticks": ""
             }
            },
            "type": "scattermapbox"
           }
          ],
          "scatterpolar": [
           {
            "marker": {
             "colorbar": {
              "outlinewidth": 0,
              "ticks": ""
             }
            },
            "type": "scatterpolar"
           }
          ],
          "scatterpolargl": [
           {
            "marker": {
             "colorbar": {
              "outlinewidth": 0,
              "ticks": ""
             }
            },
            "type": "scatterpolargl"
           }
          ],
          "scatterternary": [
           {
            "marker": {
             "colorbar": {
              "outlinewidth": 0,
              "ticks": ""
             }
            },
            "type": "scatterternary"
           }
          ],
          "surface": [
           {
            "colorbar": {
             "outlinewidth": 0,
             "ticks": ""
            },
            "colorscale": [
             [
              0,
              "#0d0887"
             ],
             [
              0.1111111111111111,
              "#46039f"
             ],
             [
              0.2222222222222222,
              "#7201a8"
             ],
             [
              0.3333333333333333,
              "#9c179e"
             ],
             [
              0.4444444444444444,
              "#bd3786"
             ],
             [
              0.5555555555555556,
              "#d8576b"
             ],
             [
              0.6666666666666666,
              "#ed7953"
             ],
             [
              0.7777777777777778,
              "#fb9f3a"
             ],
             [
              0.8888888888888888,
              "#fdca26"
             ],
             [
              1,
              "#f0f921"
             ]
            ],
            "type": "surface"
           }
          ],
          "table": [
           {
            "cells": {
             "fill": {
              "color": "#EBF0F8"
             },
             "line": {
              "color": "white"
             }
            },
            "header": {
             "fill": {
              "color": "#C8D4E3"
             },
             "line": {
              "color": "white"
             }
            },
            "type": "table"
           }
          ]
         },
         "layout": {
          "annotationdefaults": {
           "arrowcolor": "#2a3f5f",
           "arrowhead": 0,
           "arrowwidth": 1
          },
          "autotypenumbers": "strict",
          "coloraxis": {
           "colorbar": {
            "outlinewidth": 0,
            "ticks": ""
           }
          },
          "colorscale": {
           "diverging": [
            [
             0,
             "#8e0152"
            ],
            [
             0.1,
             "#c51b7d"
            ],
            [
             0.2,
             "#de77ae"
            ],
            [
             0.3,
             "#f1b6da"
            ],
            [
             0.4,
             "#fde0ef"
            ],
            [
             0.5,
             "#f7f7f7"
            ],
            [
             0.6,
             "#e6f5d0"
            ],
            [
             0.7,
             "#b8e186"
            ],
            [
             0.8,
             "#7fbc41"
            ],
            [
             0.9,
             "#4d9221"
            ],
            [
             1,
             "#276419"
            ]
           ],
           "sequential": [
            [
             0,
             "#0d0887"
            ],
            [
             0.1111111111111111,
             "#46039f"
            ],
            [
             0.2222222222222222,
             "#7201a8"
            ],
            [
             0.3333333333333333,
             "#9c179e"
            ],
            [
             0.4444444444444444,
             "#bd3786"
            ],
            [
             0.5555555555555556,
             "#d8576b"
            ],
            [
             0.6666666666666666,
             "#ed7953"
            ],
            [
             0.7777777777777778,
             "#fb9f3a"
            ],
            [
             0.8888888888888888,
             "#fdca26"
            ],
            [
             1,
             "#f0f921"
            ]
           ],
           "sequentialminus": [
            [
             0,
             "#0d0887"
            ],
            [
             0.1111111111111111,
             "#46039f"
            ],
            [
             0.2222222222222222,
             "#7201a8"
            ],
            [
             0.3333333333333333,
             "#9c179e"
            ],
            [
             0.4444444444444444,
             "#bd3786"
            ],
            [
             0.5555555555555556,
             "#d8576b"
            ],
            [
             0.6666666666666666,
             "#ed7953"
            ],
            [
             0.7777777777777778,
             "#fb9f3a"
            ],
            [
             0.8888888888888888,
             "#fdca26"
            ],
            [
             1,
             "#f0f921"
            ]
           ]
          },
          "colorway": [
           "#636efa",
           "#EF553B",
           "#00cc96",
           "#ab63fa",
           "#FFA15A",
           "#19d3f3",
           "#FF6692",
           "#B6E880",
           "#FF97FF",
           "#FECB52"
          ],
          "font": {
           "color": "#2a3f5f"
          },
          "geo": {
           "bgcolor": "white",
           "lakecolor": "white",
           "landcolor": "#E5ECF6",
           "showlakes": true,
           "showland": true,
           "subunitcolor": "white"
          },
          "hoverlabel": {
           "align": "left"
          },
          "hovermode": "closest",
          "mapbox": {
           "style": "light"
          },
          "paper_bgcolor": "white",
          "plot_bgcolor": "#E5ECF6",
          "polar": {
           "angularaxis": {
            "gridcolor": "white",
            "linecolor": "white",
            "ticks": ""
           },
           "bgcolor": "#E5ECF6",
           "radialaxis": {
            "gridcolor": "white",
            "linecolor": "white",
            "ticks": ""
           }
          },
          "scene": {
           "xaxis": {
            "backgroundcolor": "#E5ECF6",
            "gridcolor": "white",
            "gridwidth": 2,
            "linecolor": "white",
            "showbackground": true,
            "ticks": "",
            "zerolinecolor": "white"
           },
           "yaxis": {
            "backgroundcolor": "#E5ECF6",
            "gridcolor": "white",
            "gridwidth": 2,
            "linecolor": "white",
            "showbackground": true,
            "ticks": "",
            "zerolinecolor": "white"
           },
           "zaxis": {
            "backgroundcolor": "#E5ECF6",
            "gridcolor": "white",
            "gridwidth": 2,
            "linecolor": "white",
            "showbackground": true,
            "ticks": "",
            "zerolinecolor": "white"
           }
          },
          "shapedefaults": {
           "line": {
            "color": "#2a3f5f"
           }
          },
          "ternary": {
           "aaxis": {
            "gridcolor": "white",
            "linecolor": "white",
            "ticks": ""
           },
           "baxis": {
            "gridcolor": "white",
            "linecolor": "white",
            "ticks": ""
           },
           "bgcolor": "#E5ECF6",
           "caxis": {
            "gridcolor": "white",
            "linecolor": "white",
            "ticks": ""
           }
          },
          "title": {
           "x": 0.05
          },
          "xaxis": {
           "automargin": true,
           "gridcolor": "white",
           "linecolor": "white",
           "ticks": "",
           "title": {
            "standoff": 15
           },
           "zerolinecolor": "white",
           "zerolinewidth": 2
          },
          "yaxis": {
           "automargin": true,
           "gridcolor": "white",
           "linecolor": "white",
           "ticks": "",
           "title": {
            "standoff": 15
           },
           "zerolinecolor": "white",
           "zerolinewidth": 2
          }
         }
        },
        "title": {
         "text": "Boxplot de Renda em relação à Nota Geral",
         "x": 0.5,
         "y": 0.95
        },
        "xaxis": {
         "anchor": "y",
         "categoryarray": [
          "Renda baixa",
          "Média baixa",
          "Média alta",
          "Renda alta"
         ],
         "categoryorder": "array",
         "domain": [
          0,
          1
         ],
         "title": {
          "text": "Renda"
         }
        },
        "yaxis": {
         "anchor": "x",
         "domain": [
          0,
          1
         ],
         "title": {
          "text": "Nota Geral"
         }
        }
       }
      }
     },
     "metadata": {},
     "output_type": "display_data"
    }
   ],
   "source": [
    "categorias = {\n",
    "    'A': 'Renda baixa',\n",
    "    'B': 'Média baixa',\n",
    "    'C': 'Média alta',\n",
    "    'D': 'Média alta',\n",
    "    'E': 'Renda alta',\n",
    "    'F': 'Renda alta',\n",
    "    'G': 'Renda alta'\n",
    "}\n",
    "\n",
    "ordem_categorias = {'Renda baixa': 1, 'Média baixa': 2, 'Média alta': 3, 'Renda alta': 4}\n",
    "\n",
    "dados_explorados['Nota_geral'] = pd.to_numeric(dados_explorados['Nota_geral'], errors='coerce')\n",
    "dados_explorados = dados_explorados.dropna(subset=['Nota_geral'])\n",
    "\n",
    "dados_explorados['Categoria'] = dados_explorados['Renda'].map(categorias)\n",
    "\n",
    "#calcular as medianas das notas gerais para cada categoria de renda\n",
    "medianas = dados_explorados.groupby('Categoria')['Nota_geral'].median().reset_index()\n",
    "\n",
    "#ordenar os resultados com base nas medianas\n",
    "medianas['ordem_categoria'] = medianas['Categoria'].map(ordem_categorias)\n",
    "medianas = medianas.sort_values(by='ordem_categoria')\n",
    "\n",
    "\n",
    "fig = px.box(dados_explorados, x='Categoria', y='Nota_geral', \n",
    "             labels={'Categoria': 'Renda', 'Nota_geral': 'Nota Geral'},\n",
    "             category_orders={\"Categoria\": medianas['Categoria']})\n",
    "fig.update_layout(title='Boxplot de Renda em relação à Nota Geral', title_x=0.5, title_y=0.95)\n",
    "fig.show()"
   ]
  },
  {
   "cell_type": "code",
   "execution_count": 13,
   "metadata": {},
   "outputs": [
    {
     "data": {
      "application/vnd.plotly.v1+json": {
       "config": {
        "plotlyServerURL": "https://plot.ly"
       },
       "data": [
        {
         "alignmentgroup": "True",
         "hovertemplate": "Escolaridade da Mãe=%{x}<br>Nota Geral=%{y}<extra></extra>",
         "legendgroup": "",
         "marker": {
          "color": "#636efa"
         },
         "name": "",
         "notched": false,
         "offsetgroup": "",
         "orientation": "v",
         "showlegend": false,
         "type": "box",
         "x": [
          "Ensino fundamental",
          "Ensino superior",
          "Ensino superior",
          "Ensino médio",
          "Ensino superior",
          "Ensino fundamental",
          "Ensino médio",
          "Ensino fundamental",
          "Ensino médio",
          "Ensino fundamental",
          "Ensino superior",
          "Ensino médio",
          "Ensino médio",
          "Pós-graduação",
          "Ensino superior",
          "Ensino médio",
          "Ensino fundamental",
          "Ensino superior",
          "Ensino superior",
          "Ensino médio",
          "Ensino superior",
          "Ensino médio",
          "Ensino médio",
          "Ensino superior",
          "Ensino superior",
          "Ensino superior",
          "Ensino superior",
          "Ensino superior",
          "Ensino médio",
          "Ensino fundamental",
          "Ensino médio",
          "Ensino fundamental",
          "Ensino superior",
          "Ensino médio",
          "Ensino médio",
          "Ensino superior",
          "Ensino superior",
          "Pós-graduação",
          "Ensino médio",
          "Ensino médio",
          "Ensino fundamental",
          "Ensino fundamental",
          "Pós-graduação",
          "Ensino médio",
          "Ensino superior",
          "Ensino fundamental",
          "Ensino superior",
          "Ensino superior",
          "Ensino médio",
          "Ensino superior",
          "Ensino médio",
          "Ensino médio",
          "Ensino fundamental",
          "Ensino médio",
          "Ensino médio",
          "Ensino médio",
          "Ensino médio",
          "Ensino médio",
          "Ensino fundamental",
          "Ensino fundamental",
          "Ensino fundamental",
          "Pós-graduação",
          "Ensino fundamental",
          "Ensino médio",
          "Ensino médio",
          "Ensino superior",
          "Ensino fundamental",
          "Ensino médio",
          "Ensino médio",
          "Ensino fundamental",
          "Ensino superior",
          "Ensino superior",
          "Ensino fundamental",
          "Ensino superior",
          "Ensino médio",
          "Ensino médio",
          "Ensino superior",
          "Ensino fundamental",
          "Ensino fundamental",
          "Ensino médio",
          "Ensino médio",
          "Ensino fundamental",
          "Ensino superior",
          "Ensino médio",
          "Ensino superior",
          "Pós-graduação",
          "Ensino médio",
          "Ensino superior",
          "Ensino superior",
          "Ensino superior",
          "Ensino superior",
          "Ensino fundamental",
          "Ensino médio",
          "Ensino superior",
          "Ensino fundamental",
          "Ensino fundamental",
          "Ensino superior",
          "Ensino médio",
          "Ensino fundamental",
          "Nenhuma escolaridade",
          "Ensino superior",
          "Ensino superior",
          "Ensino médio",
          "Ensino fundamental",
          "Pós-graduação",
          "Ensino fundamental",
          "Ensino fundamental",
          "Ensino fundamental",
          "Pós-graduação",
          "Ensino médio",
          "Ensino fundamental",
          "Ensino fundamental",
          "Ensino médio",
          "Ensino médio",
          "Ensino fundamental",
          "Ensino fundamental",
          "Ensino fundamental",
          "Ensino fundamental",
          "Ensino superior",
          "Ensino médio",
          "Ensino fundamental",
          "Pós-graduação",
          "Ensino médio",
          "Ensino fundamental",
          "Ensino superior",
          "Ensino fundamental",
          "Ensino médio",
          "Ensino superior",
          "Ensino fundamental",
          "Ensino médio",
          "Ensino fundamental",
          "Ensino superior",
          "Ensino fundamental",
          "Ensino médio",
          "Ensino médio",
          "Ensino médio",
          "Ensino médio",
          "Ensino superior",
          "Ensino médio",
          "Ensino superior",
          "Ensino superior",
          "Ensino fundamental",
          "Ensino superior",
          "Pós-graduação",
          "Ensino superior",
          "Ensino superior",
          "Ensino médio",
          "Ensino superior",
          "Ensino superior",
          "Ensino superior",
          "Ensino fundamental",
          "Ensino fundamental",
          "Ensino médio",
          "Ensino médio",
          "Ensino fundamental",
          "Ensino médio",
          "Ensino médio",
          "Ensino superior",
          "Ensino médio",
          "Ensino médio",
          "Ensino fundamental",
          "Ensino médio",
          "Ensino superior",
          "Ensino superior",
          "Ensino fundamental",
          "Ensino fundamental",
          "Ensino médio",
          "Ensino superior",
          "Ensino fundamental",
          "Ensino fundamental",
          "Ensino superior",
          "Pós-graduação",
          "Ensino superior",
          "Ensino médio",
          "Ensino médio",
          "Ensino médio",
          "Ensino médio",
          "Ensino médio",
          "Ensino médio",
          "Ensino médio",
          "Ensino superior",
          "Ensino médio",
          "Ensino fundamental",
          "Ensino médio",
          "Ensino médio",
          "Ensino fundamental",
          "Ensino médio",
          "Ensino médio",
          "Ensino médio",
          "Ensino fundamental",
          "Pós-graduação",
          "Ensino médio",
          "Ensino fundamental",
          "Ensino superior",
          "Ensino fundamental",
          "Pós-graduação",
          "Ensino médio",
          "Ensino médio",
          "Ensino superior",
          "Pós-graduação",
          "Ensino fundamental",
          "Ensino médio",
          "Ensino médio",
          "Ensino médio",
          "Ensino médio",
          "Ensino superior",
          "Ensino médio",
          "Ensino superior",
          "Ensino fundamental",
          "Ensino fundamental",
          "Ensino médio",
          "Ensino médio",
          "Ensino superior",
          "Ensino médio",
          "Ensino médio",
          "Ensino fundamental",
          "Ensino superior",
          "Ensino fundamental",
          "Ensino médio",
          "Ensino superior",
          "Pós-graduação",
          "Ensino fundamental",
          "Ensino médio",
          "Ensino médio",
          "Ensino médio",
          "Ensino superior",
          "Ensino superior",
          "Ensino médio",
          "Ensino médio",
          "Ensino superior",
          "Pós-graduação",
          "Ensino médio",
          "Ensino médio",
          "Ensino fundamental",
          "Ensino médio",
          "Ensino médio",
          "Ensino médio",
          "Ensino fundamental",
          "Ensino fundamental",
          "Ensino fundamental",
          "Ensino fundamental",
          "Ensino fundamental",
          "Ensino médio",
          "Ensino médio",
          "Ensino fundamental",
          "Ensino médio",
          "Ensino médio",
          "Ensino médio",
          "Ensino superior",
          "Ensino médio",
          "Ensino médio",
          "Ensino fundamental",
          "Ensino médio",
          "Ensino médio",
          "Ensino superior",
          "Ensino médio",
          "Ensino fundamental",
          "Ensino superior",
          "Ensino fundamental",
          "Ensino superior",
          "Ensino médio",
          "Ensino fundamental",
          "Ensino fundamental",
          "Ensino fundamental",
          "Ensino fundamental",
          "Ensino superior",
          "Nenhuma escolaridade",
          "Ensino fundamental",
          "Ensino médio",
          "Ensino médio",
          "Nenhuma escolaridade",
          "Ensino superior",
          "Ensino fundamental",
          "Ensino superior",
          "Ensino médio",
          "Ensino médio",
          "Ensino fundamental",
          "Ensino médio",
          "Ensino superior",
          "Ensino médio",
          "Ensino fundamental",
          "Ensino médio",
          "Ensino fundamental",
          "Ensino médio",
          "Ensino fundamental",
          "Ensino médio",
          "Pós-graduação",
          "Ensino superior",
          "Ensino superior",
          "Ensino médio",
          "Ensino fundamental",
          "Pós-graduação",
          "Ensino médio",
          "Ensino superior",
          "Ensino médio",
          "Ensino superior",
          "Ensino superior",
          "Ensino médio",
          "Ensino médio",
          "Ensino superior",
          "Ensino superior",
          "Ensino médio",
          "Ensino superior",
          "Ensino superior",
          "Ensino médio",
          "Ensino superior",
          "Ensino fundamental",
          "Pós-graduação",
          "Pós-graduação",
          "Ensino fundamental",
          "Ensino superior",
          "Ensino superior",
          "Ensino fundamental",
          "Ensino superior",
          "Ensino superior",
          "Ensino superior",
          "Ensino superior",
          "Ensino fundamental",
          "Ensino fundamental",
          "Pós-graduação",
          "Ensino superior",
          "Ensino fundamental",
          "Ensino fundamental",
          "Ensino médio",
          "Ensino fundamental",
          "Ensino fundamental",
          "Pós-graduação",
          "Ensino fundamental",
          "Ensino fundamental",
          "Nenhuma escolaridade",
          "Ensino médio",
          "Ensino fundamental",
          "Ensino fundamental",
          "Ensino médio",
          "Ensino médio",
          "Ensino médio",
          "Ensino superior",
          "Ensino fundamental",
          "Pós-graduação",
          "Ensino médio",
          "Ensino fundamental",
          "Ensino médio",
          "Nenhuma escolaridade",
          "Nenhuma escolaridade",
          "Ensino fundamental",
          "Ensino superior",
          "Pós-graduação",
          "Pós-graduação",
          "Ensino fundamental",
          "Ensino fundamental",
          "Ensino superior",
          "Ensino superior",
          "Pós-graduação",
          "Ensino superior",
          "Ensino superior",
          "Pós-graduação",
          "Ensino médio",
          "Ensino fundamental",
          "Ensino superior",
          "Nenhuma escolaridade",
          "Ensino médio",
          "Ensino fundamental",
          "Ensino médio",
          "Ensino superior",
          "Ensino fundamental",
          "Pós-graduação",
          "Ensino superior",
          "Ensino médio",
          "Ensino médio",
          "Ensino médio",
          "Ensino médio",
          "Ensino médio",
          "Ensino superior",
          "Pós-graduação",
          "Ensino superior",
          "Ensino médio",
          "Ensino fundamental",
          "Ensino médio",
          "Ensino superior",
          "Ensino fundamental",
          "Ensino superior",
          "Ensino fundamental",
          "Ensino médio",
          "Ensino médio",
          "Ensino fundamental",
          "Ensino médio",
          "Ensino superior",
          "Ensino fundamental",
          "Ensino superior",
          "Ensino superior",
          "Ensino fundamental",
          "Ensino fundamental",
          "Ensino fundamental",
          "Ensino médio",
          "Ensino médio",
          "Ensino médio",
          "Ensino médio",
          "Ensino fundamental",
          "Ensino médio",
          "Pós-graduação",
          "Ensino fundamental",
          "Ensino médio",
          "Ensino fundamental",
          "Ensino médio",
          "Ensino médio",
          "Ensino superior",
          "Ensino médio",
          "Pós-graduação",
          "Ensino médio",
          "Ensino médio",
          "Ensino superior",
          "Ensino fundamental",
          "Ensino fundamental",
          "Ensino médio",
          "Ensino fundamental",
          "Ensino fundamental",
          "Ensino superior",
          "Ensino superior",
          "Ensino fundamental",
          "Ensino médio",
          "Ensino superior",
          "Pós-graduação",
          "Ensino médio",
          "Ensino médio",
          "Ensino fundamental",
          "Ensino médio",
          "Ensino superior",
          "Pós-graduação",
          "Ensino médio",
          "Ensino médio",
          "Ensino fundamental",
          "Ensino médio",
          "Pós-graduação",
          "Ensino médio",
          "Ensino médio",
          "Ensino superior",
          "Nenhuma escolaridade",
          "Ensino superior",
          "Ensino médio"
         ],
         "x0": " ",
         "xaxis": "x",
         "y": [
          40,
          54,
          35,
          57,
          62,
          42,
          35,
          51,
          28,
          59,
          60,
          63,
          62,
          62,
          53,
          57,
          55,
          44,
          54,
          57,
          44,
          60,
          38,
          30,
          48,
          70,
          63,
          59,
          73,
          72,
          0,
          47,
          49,
          35,
          54,
          46,
          31,
          50,
          69,
          31,
          43,
          31,
          45,
          40,
          45,
          56,
          74,
          28,
          41,
          20,
          33,
          26,
          48,
          39,
          18,
          52,
          40,
          39,
          44,
          19,
          36,
          37,
          30,
          66,
          52,
          54,
          46,
          50,
          50,
          52,
          37,
          66,
          0,
          52,
          83,
          57,
          55,
          57,
          61,
          58,
          37,
          61,
          44,
          66,
          46,
          62,
          57,
          37,
          60,
          71,
          53,
          47,
          25,
          19,
          63,
          47,
          54,
          14,
          48,
          42,
          21,
          44,
          52,
          50,
          57,
          60,
          58,
          40,
          46,
          64,
          64,
          58,
          54,
          41,
          39,
          61,
          43,
          63,
          36,
          34,
          51,
          30,
          48,
          41,
          39,
          27,
          17,
          29,
          25,
          34,
          56,
          54,
          24,
          32,
          52,
          23,
          48,
          46,
          25,
          37,
          66,
          54,
          0,
          39,
          53,
          40,
          49,
          39,
          54,
          60,
          60,
          64,
          49,
          48,
          22,
          28,
          52,
          41,
          11,
          30,
          17,
          37,
          54,
          30,
          34,
          30,
          43,
          45,
          46,
          27,
          35,
          28,
          43,
          43,
          35,
          39,
          31,
          39,
          36,
          40,
          41,
          62,
          26,
          29,
          45,
          38,
          25,
          32,
          17,
          45,
          22,
          31,
          42,
          72,
          28,
          56,
          39,
          34,
          44,
          44,
          40,
          59,
          51,
          49,
          39,
          35,
          53,
          23,
          20,
          49,
          36,
          40,
          32,
          28,
          35,
          50,
          42,
          46,
          24,
          39,
          44,
          37,
          30,
          30,
          27,
          36,
          45,
          36,
          44,
          47,
          43,
          46,
          34,
          35,
          33,
          33,
          39,
          48,
          50,
          39,
          39,
          44,
          31,
          52,
          42,
          62,
          55,
          24,
          44,
          37,
          40,
          38,
          29,
          30,
          31,
          43,
          42,
          25,
          68,
          30,
          36,
          35,
          28,
          40,
          53,
          42,
          35,
          41,
          39,
          53,
          44,
          41,
          19,
          48,
          40,
          60,
          48,
          16,
          34,
          31,
          30,
          31,
          38,
          37,
          33,
          29,
          35,
          52,
          62,
          56,
          38,
          43,
          55,
          46,
          36,
          44,
          29,
          28,
          50,
          54,
          59,
          61,
          51,
          79,
          79,
          72,
          69,
          39,
          50,
          69,
          41,
          48,
          57,
          44,
          47,
          74,
          39,
          34,
          39,
          38,
          29,
          22,
          11,
          51,
          35,
          42,
          39,
          39,
          39,
          33,
          39,
          33,
          52,
          57,
          41,
          36,
          65,
          47,
          62,
          23,
          44,
          49,
          40,
          39,
          35,
          50,
          40,
          40,
          41,
          47,
          29,
          43,
          31,
          49,
          71,
          62,
          38,
          30,
          33,
          34,
          36,
          41,
          48,
          13,
          24,
          52,
          57,
          55,
          66,
          25,
          33,
          40,
          53,
          38,
          0,
          43,
          27,
          46,
          37,
          26,
          47,
          17,
          49,
          40,
          32,
          32,
          31,
          36,
          66,
          41,
          44,
          64,
          36,
          31,
          47,
          40,
          29,
          28,
          37,
          28,
          30,
          47,
          44,
          66,
          59,
          57,
          63,
          62,
          61,
          54,
          64,
          63,
          25,
          49,
          68,
          44,
          37,
          57,
          22,
          37,
          50,
          31,
          57,
          52,
          59,
          43,
          40,
          59,
          50,
          49,
          32,
          43,
          39,
          69,
          19,
          70,
          48,
          78,
          49
         ],
         "y0": " ",
         "yaxis": "y"
        }
       ],
       "layout": {
        "boxmode": "group",
        "legend": {
         "tracegroupgap": 0
        },
        "margin": {
         "t": 60
        },
        "template": {
         "data": {
          "bar": [
           {
            "error_x": {
             "color": "#2a3f5f"
            },
            "error_y": {
             "color": "#2a3f5f"
            },
            "marker": {
             "line": {
              "color": "#E5ECF6",
              "width": 0.5
             },
             "pattern": {
              "fillmode": "overlay",
              "size": 10,
              "solidity": 0.2
             }
            },
            "type": "bar"
           }
          ],
          "barpolar": [
           {
            "marker": {
             "line": {
              "color": "#E5ECF6",
              "width": 0.5
             },
             "pattern": {
              "fillmode": "overlay",
              "size": 10,
              "solidity": 0.2
             }
            },
            "type": "barpolar"
           }
          ],
          "carpet": [
           {
            "aaxis": {
             "endlinecolor": "#2a3f5f",
             "gridcolor": "white",
             "linecolor": "white",
             "minorgridcolor": "white",
             "startlinecolor": "#2a3f5f"
            },
            "baxis": {
             "endlinecolor": "#2a3f5f",
             "gridcolor": "white",
             "linecolor": "white",
             "minorgridcolor": "white",
             "startlinecolor": "#2a3f5f"
            },
            "type": "carpet"
           }
          ],
          "choropleth": [
           {
            "colorbar": {
             "outlinewidth": 0,
             "ticks": ""
            },
            "type": "choropleth"
           }
          ],
          "contour": [
           {
            "colorbar": {
             "outlinewidth": 0,
             "ticks": ""
            },
            "colorscale": [
             [
              0,
              "#0d0887"
             ],
             [
              0.1111111111111111,
              "#46039f"
             ],
             [
              0.2222222222222222,
              "#7201a8"
             ],
             [
              0.3333333333333333,
              "#9c179e"
             ],
             [
              0.4444444444444444,
              "#bd3786"
             ],
             [
              0.5555555555555556,
              "#d8576b"
             ],
             [
              0.6666666666666666,
              "#ed7953"
             ],
             [
              0.7777777777777778,
              "#fb9f3a"
             ],
             [
              0.8888888888888888,
              "#fdca26"
             ],
             [
              1,
              "#f0f921"
             ]
            ],
            "type": "contour"
           }
          ],
          "contourcarpet": [
           {
            "colorbar": {
             "outlinewidth": 0,
             "ticks": ""
            },
            "type": "contourcarpet"
           }
          ],
          "heatmap": [
           {
            "colorbar": {
             "outlinewidth": 0,
             "ticks": ""
            },
            "colorscale": [
             [
              0,
              "#0d0887"
             ],
             [
              0.1111111111111111,
              "#46039f"
             ],
             [
              0.2222222222222222,
              "#7201a8"
             ],
             [
              0.3333333333333333,
              "#9c179e"
             ],
             [
              0.4444444444444444,
              "#bd3786"
             ],
             [
              0.5555555555555556,
              "#d8576b"
             ],
             [
              0.6666666666666666,
              "#ed7953"
             ],
             [
              0.7777777777777778,
              "#fb9f3a"
             ],
             [
              0.8888888888888888,
              "#fdca26"
             ],
             [
              1,
              "#f0f921"
             ]
            ],
            "type": "heatmap"
           }
          ],
          "heatmapgl": [
           {
            "colorbar": {
             "outlinewidth": 0,
             "ticks": ""
            },
            "colorscale": [
             [
              0,
              "#0d0887"
             ],
             [
              0.1111111111111111,
              "#46039f"
             ],
             [
              0.2222222222222222,
              "#7201a8"
             ],
             [
              0.3333333333333333,
              "#9c179e"
             ],
             [
              0.4444444444444444,
              "#bd3786"
             ],
             [
              0.5555555555555556,
              "#d8576b"
             ],
             [
              0.6666666666666666,
              "#ed7953"
             ],
             [
              0.7777777777777778,
              "#fb9f3a"
             ],
             [
              0.8888888888888888,
              "#fdca26"
             ],
             [
              1,
              "#f0f921"
             ]
            ],
            "type": "heatmapgl"
           }
          ],
          "histogram": [
           {
            "marker": {
             "pattern": {
              "fillmode": "overlay",
              "size": 10,
              "solidity": 0.2
             }
            },
            "type": "histogram"
           }
          ],
          "histogram2d": [
           {
            "colorbar": {
             "outlinewidth": 0,
             "ticks": ""
            },
            "colorscale": [
             [
              0,
              "#0d0887"
             ],
             [
              0.1111111111111111,
              "#46039f"
             ],
             [
              0.2222222222222222,
              "#7201a8"
             ],
             [
              0.3333333333333333,
              "#9c179e"
             ],
             [
              0.4444444444444444,
              "#bd3786"
             ],
             [
              0.5555555555555556,
              "#d8576b"
             ],
             [
              0.6666666666666666,
              "#ed7953"
             ],
             [
              0.7777777777777778,
              "#fb9f3a"
             ],
             [
              0.8888888888888888,
              "#fdca26"
             ],
             [
              1,
              "#f0f921"
             ]
            ],
            "type": "histogram2d"
           }
          ],
          "histogram2dcontour": [
           {
            "colorbar": {
             "outlinewidth": 0,
             "ticks": ""
            },
            "colorscale": [
             [
              0,
              "#0d0887"
             ],
             [
              0.1111111111111111,
              "#46039f"
             ],
             [
              0.2222222222222222,
              "#7201a8"
             ],
             [
              0.3333333333333333,
              "#9c179e"
             ],
             [
              0.4444444444444444,
              "#bd3786"
             ],
             [
              0.5555555555555556,
              "#d8576b"
             ],
             [
              0.6666666666666666,
              "#ed7953"
             ],
             [
              0.7777777777777778,
              "#fb9f3a"
             ],
             [
              0.8888888888888888,
              "#fdca26"
             ],
             [
              1,
              "#f0f921"
             ]
            ],
            "type": "histogram2dcontour"
           }
          ],
          "mesh3d": [
           {
            "colorbar": {
             "outlinewidth": 0,
             "ticks": ""
            },
            "type": "mesh3d"
           }
          ],
          "parcoords": [
           {
            "line": {
             "colorbar": {
              "outlinewidth": 0,
              "ticks": ""
             }
            },
            "type": "parcoords"
           }
          ],
          "pie": [
           {
            "automargin": true,
            "type": "pie"
           }
          ],
          "scatter": [
           {
            "fillpattern": {
             "fillmode": "overlay",
             "size": 10,
             "solidity": 0.2
            },
            "type": "scatter"
           }
          ],
          "scatter3d": [
           {
            "line": {
             "colorbar": {
              "outlinewidth": 0,
              "ticks": ""
             }
            },
            "marker": {
             "colorbar": {
              "outlinewidth": 0,
              "ticks": ""
             }
            },
            "type": "scatter3d"
           }
          ],
          "scattercarpet": [
           {
            "marker": {
             "colorbar": {
              "outlinewidth": 0,
              "ticks": ""
             }
            },
            "type": "scattercarpet"
           }
          ],
          "scattergeo": [
           {
            "marker": {
             "colorbar": {
              "outlinewidth": 0,
              "ticks": ""
             }
            },
            "type": "scattergeo"
           }
          ],
          "scattergl": [
           {
            "marker": {
             "colorbar": {
              "outlinewidth": 0,
              "ticks": ""
             }
            },
            "type": "scattergl"
           }
          ],
          "scattermapbox": [
           {
            "marker": {
             "colorbar": {
              "outlinewidth": 0,
              "ticks": ""
             }
            },
            "type": "scattermapbox"
           }
          ],
          "scatterpolar": [
           {
            "marker": {
             "colorbar": {
              "outlinewidth": 0,
              "ticks": ""
             }
            },
            "type": "scatterpolar"
           }
          ],
          "scatterpolargl": [
           {
            "marker": {
             "colorbar": {
              "outlinewidth": 0,
              "ticks": ""
             }
            },
            "type": "scatterpolargl"
           }
          ],
          "scatterternary": [
           {
            "marker": {
             "colorbar": {
              "outlinewidth": 0,
              "ticks": ""
             }
            },
            "type": "scatterternary"
           }
          ],
          "surface": [
           {
            "colorbar": {
             "outlinewidth": 0,
             "ticks": ""
            },
            "colorscale": [
             [
              0,
              "#0d0887"
             ],
             [
              0.1111111111111111,
              "#46039f"
             ],
             [
              0.2222222222222222,
              "#7201a8"
             ],
             [
              0.3333333333333333,
              "#9c179e"
             ],
             [
              0.4444444444444444,
              "#bd3786"
             ],
             [
              0.5555555555555556,
              "#d8576b"
             ],
             [
              0.6666666666666666,
              "#ed7953"
             ],
             [
              0.7777777777777778,
              "#fb9f3a"
             ],
             [
              0.8888888888888888,
              "#fdca26"
             ],
             [
              1,
              "#f0f921"
             ]
            ],
            "type": "surface"
           }
          ],
          "table": [
           {
            "cells": {
             "fill": {
              "color": "#EBF0F8"
             },
             "line": {
              "color": "white"
             }
            },
            "header": {
             "fill": {
              "color": "#C8D4E3"
             },
             "line": {
              "color": "white"
             }
            },
            "type": "table"
           }
          ]
         },
         "layout": {
          "annotationdefaults": {
           "arrowcolor": "#2a3f5f",
           "arrowhead": 0,
           "arrowwidth": 1
          },
          "autotypenumbers": "strict",
          "coloraxis": {
           "colorbar": {
            "outlinewidth": 0,
            "ticks": ""
           }
          },
          "colorscale": {
           "diverging": [
            [
             0,
             "#8e0152"
            ],
            [
             0.1,
             "#c51b7d"
            ],
            [
             0.2,
             "#de77ae"
            ],
            [
             0.3,
             "#f1b6da"
            ],
            [
             0.4,
             "#fde0ef"
            ],
            [
             0.5,
             "#f7f7f7"
            ],
            [
             0.6,
             "#e6f5d0"
            ],
            [
             0.7,
             "#b8e186"
            ],
            [
             0.8,
             "#7fbc41"
            ],
            [
             0.9,
             "#4d9221"
            ],
            [
             1,
             "#276419"
            ]
           ],
           "sequential": [
            [
             0,
             "#0d0887"
            ],
            [
             0.1111111111111111,
             "#46039f"
            ],
            [
             0.2222222222222222,
             "#7201a8"
            ],
            [
             0.3333333333333333,
             "#9c179e"
            ],
            [
             0.4444444444444444,
             "#bd3786"
            ],
            [
             0.5555555555555556,
             "#d8576b"
            ],
            [
             0.6666666666666666,
             "#ed7953"
            ],
            [
             0.7777777777777778,
             "#fb9f3a"
            ],
            [
             0.8888888888888888,
             "#fdca26"
            ],
            [
             1,
             "#f0f921"
            ]
           ],
           "sequentialminus": [
            [
             0,
             "#0d0887"
            ],
            [
             0.1111111111111111,
             "#46039f"
            ],
            [
             0.2222222222222222,
             "#7201a8"
            ],
            [
             0.3333333333333333,
             "#9c179e"
            ],
            [
             0.4444444444444444,
             "#bd3786"
            ],
            [
             0.5555555555555556,
             "#d8576b"
            ],
            [
             0.6666666666666666,
             "#ed7953"
            ],
            [
             0.7777777777777778,
             "#fb9f3a"
            ],
            [
             0.8888888888888888,
             "#fdca26"
            ],
            [
             1,
             "#f0f921"
            ]
           ]
          },
          "colorway": [
           "#636efa",
           "#EF553B",
           "#00cc96",
           "#ab63fa",
           "#FFA15A",
           "#19d3f3",
           "#FF6692",
           "#B6E880",
           "#FF97FF",
           "#FECB52"
          ],
          "font": {
           "color": "#2a3f5f"
          },
          "geo": {
           "bgcolor": "white",
           "lakecolor": "white",
           "landcolor": "#E5ECF6",
           "showlakes": true,
           "showland": true,
           "subunitcolor": "white"
          },
          "hoverlabel": {
           "align": "left"
          },
          "hovermode": "closest",
          "mapbox": {
           "style": "light"
          },
          "paper_bgcolor": "white",
          "plot_bgcolor": "#E5ECF6",
          "polar": {
           "angularaxis": {
            "gridcolor": "white",
            "linecolor": "white",
            "ticks": ""
           },
           "bgcolor": "#E5ECF6",
           "radialaxis": {
            "gridcolor": "white",
            "linecolor": "white",
            "ticks": ""
           }
          },
          "scene": {
           "xaxis": {
            "backgroundcolor": "#E5ECF6",
            "gridcolor": "white",
            "gridwidth": 2,
            "linecolor": "white",
            "showbackground": true,
            "ticks": "",
            "zerolinecolor": "white"
           },
           "yaxis": {
            "backgroundcolor": "#E5ECF6",
            "gridcolor": "white",
            "gridwidth": 2,
            "linecolor": "white",
            "showbackground": true,
            "ticks": "",
            "zerolinecolor": "white"
           },
           "zaxis": {
            "backgroundcolor": "#E5ECF6",
            "gridcolor": "white",
            "gridwidth": 2,
            "linecolor": "white",
            "showbackground": true,
            "ticks": "",
            "zerolinecolor": "white"
           }
          },
          "shapedefaults": {
           "line": {
            "color": "#2a3f5f"
           }
          },
          "ternary": {
           "aaxis": {
            "gridcolor": "white",
            "linecolor": "white",
            "ticks": ""
           },
           "baxis": {
            "gridcolor": "white",
            "linecolor": "white",
            "ticks": ""
           },
           "bgcolor": "#E5ECF6",
           "caxis": {
            "gridcolor": "white",
            "linecolor": "white",
            "ticks": ""
           }
          },
          "title": {
           "x": 0.05
          },
          "xaxis": {
           "automargin": true,
           "gridcolor": "white",
           "linecolor": "white",
           "ticks": "",
           "title": {
            "standoff": 15
           },
           "zerolinecolor": "white",
           "zerolinewidth": 2
          },
          "yaxis": {
           "automargin": true,
           "gridcolor": "white",
           "linecolor": "white",
           "ticks": "",
           "title": {
            "standoff": 15
           },
           "zerolinecolor": "white",
           "zerolinewidth": 2
          }
         }
        },
        "title": {
         "text": "Boxplot de Escolaridade da Mãe em relação à Nota Geral",
         "x": 0.5,
         "y": 0.95
        },
        "xaxis": {
         "anchor": "y",
         "categoryarray": [
          "Nenhuma escolaridade",
          "Ensino fundamental",
          "Ensino médio",
          "Ensino superior",
          "Pós-graduação"
         ],
         "categoryorder": "array",
         "domain": [
          0,
          1
         ],
         "title": {
          "text": "Escolaridade da Mãe"
         }
        },
        "yaxis": {
         "anchor": "x",
         "domain": [
          0,
          1
         ],
         "title": {
          "text": "Nota Geral"
         }
        }
       }
      }
     },
     "metadata": {},
     "output_type": "display_data"
    }
   ],
   "source": [
    "categorias = {\n",
    "    'A': 'Nenhuma escolaridade',\n",
    "    'B': 'Ensino fundamental',\n",
    "    'C': 'Ensino fundamental',\n",
    "    'D': 'Ensino médio',\n",
    "    'E': 'Ensino superior',\n",
    "    'F': 'Pós-graduação'\n",
    "}\n",
    "\n",
    "ordem_categorias = {'Nenhuma escolaridade': 1, 'Ensino fundamental': 2, \n",
    "                    'Ensino médio': 3, 'Ensino superior': 4, 'Pós-graduação': 5}\n",
    "\n",
    "dados_explorados['Nota_geral'] = pd.to_numeric(dados_explorados['Nota_geral'], errors='coerce')\n",
    "dados_explorados = dados_explorados.dropna(subset=['Nota_geral'])\n",
    "\n",
    "dados_explorados['Categoria'] = dados_explorados['Escolaridade_mae'].map(categorias)\n",
    "\n",
    "medianas = dados_explorados.groupby('Categoria')['Nota_geral'].median().reset_index()\n",
    "\n",
    "medianas['ordem_categoria'] = medianas['Categoria'].map(ordem_categorias)\n",
    "medianas = medianas.sort_values(by='ordem_categoria')\n",
    "\n",
    "fig = px.box(dados_explorados, x='Categoria', y='Nota_geral', \n",
    "             labels={'Categoria': 'Escolaridade da Mãe', 'Nota_geral': 'Nota Geral'},\n",
    "             category_orders={\"Categoria\": medianas['Categoria']})\n",
    "fig.update_layout(title='Boxplot de Escolaridade da Mãe em relação à Nota Geral', title_x=0.5, title_y=0.95)\n",
    "fig.show()"
   ]
  },
  {
   "cell_type": "code",
   "execution_count": 15,
   "metadata": {},
   "outputs": [
    {
     "data": {
      "application/vnd.plotly.v1+json": {
       "config": {
        "plotlyServerURL": "https://plot.ly"
       },
       "data": [
        {
         "alignmentgroup": "True",
         "hovertemplate": "Escolaridade do Pai=%{x}<br>Nota Geral=%{y}<extra></extra>",
         "legendgroup": "",
         "marker": {
          "color": "#636efa"
         },
         "name": "",
         "notched": false,
         "offsetgroup": "",
         "orientation": "v",
         "showlegend": false,
         "type": "box",
         "x": [
          "Ensino fundamental",
          "Ensino médio",
          "Ensino superior",
          "Ensino médio",
          "Ensino médio",
          "Ensino fundamental",
          "Ensino fundamental",
          "Ensino fundamental",
          "Ensino médio",
          "Ensino fundamental",
          "Pós-graduação",
          "Ensino superior",
          "Pós-graduação",
          "Ensino médio",
          "Ensino médio",
          "Ensino médio",
          "Ensino médio",
          "Ensino superior",
          "Ensino médio",
          "Ensino fundamental",
          "Ensino médio",
          "Ensino superior",
          "Ensino médio",
          "Ensino superior",
          "Ensino fundamental",
          "Ensino superior",
          "Pós-graduação",
          "Ensino superior",
          "Ensino superior",
          "Nenhuma escolaridade",
          "Pós-graduação",
          "Ensino superior",
          "Ensino superior",
          "Ensino médio",
          "Ensino médio",
          "Ensino médio",
          "Ensino superior",
          "Pós-graduação",
          "Ensino superior",
          "Ensino superior",
          "Ensino fundamental",
          "Ensino fundamental",
          "Pós-graduação",
          "Ensino fundamental",
          "Ensino superior",
          "Ensino médio",
          "Ensino médio",
          "Ensino superior",
          "Ensino médio",
          "Ensino superior",
          "Ensino superior",
          "Ensino médio",
          "Ensino fundamental",
          "Ensino médio",
          "Ensino médio",
          "Ensino superior",
          "Ensino médio",
          "Ensino médio",
          "Ensino superior",
          "Ensino fundamental",
          "Ensino médio",
          "Ensino superior",
          "Ensino fundamental",
          "Ensino médio",
          "Ensino superior",
          "Ensino médio",
          "Ensino fundamental",
          "Ensino superior",
          "Ensino superior",
          "Ensino médio",
          "Ensino superior",
          "Ensino médio",
          "Ensino fundamental",
          "Ensino superior",
          "Ensino médio",
          "Ensino médio",
          "Ensino médio",
          "Ensino superior",
          "Ensino médio",
          "Ensino médio",
          "Pós-graduação",
          "Pós-graduação",
          "Ensino superior",
          "Pós-graduação",
          "Ensino superior",
          "Ensino fundamental",
          "Ensino superior",
          "Ensino superior",
          "Ensino superior",
          "Ensino superior",
          "Ensino médio",
          "Ensino médio",
          "Ensino fundamental",
          "Ensino superior",
          "Ensino médio",
          "Ensino médio",
          "Ensino médio",
          "Ensino fundamental",
          "Ensino fundamental",
          "Ensino fundamental",
          "Ensino superior",
          "Ensino médio",
          "Ensino superior",
          "Ensino médio",
          "Pós-graduação",
          "Ensino médio",
          "Ensino fundamental",
          "Ensino superior",
          "Pós-graduação",
          "Ensino fundamental",
          "Ensino fundamental",
          "Ensino médio",
          "Ensino fundamental",
          "Ensino médio",
          "Ensino fundamental",
          "Ensino fundamental",
          "Ensino fundamental",
          "Ensino médio",
          "Ensino médio",
          "Ensino médio",
          "Ensino médio",
          "Ensino superior",
          "Ensino médio",
          "Ensino fundamental",
          "Ensino médio",
          "Ensino médio",
          "Ensino médio",
          "Ensino superior",
          "Ensino médio",
          "Ensino fundamental",
          "Ensino médio",
          "Ensino superior",
          "Ensino fundamental",
          "Ensino superior",
          "Ensino fundamental",
          "Ensino médio",
          "Ensino fundamental",
          "Ensino médio",
          "Ensino médio",
          "Ensino médio",
          "Ensino superior",
          "Nenhuma escolaridade",
          "Ensino fundamental",
          "Pós-graduação",
          "Ensino superior",
          "Ensino superior",
          "Ensino médio",
          "Ensino médio",
          "Ensino superior",
          "Ensino superior",
          "Ensino médio",
          "Ensino médio",
          "Ensino fundamental",
          "Ensino fundamental",
          "Ensino fundamental",
          "Ensino fundamental",
          "Ensino médio",
          "Ensino superior",
          "Ensino médio",
          "Ensino médio",
          "Ensino fundamental",
          "Ensino médio",
          "Ensino superior",
          "Ensino superior",
          "Ensino fundamental",
          "Ensino fundamental",
          "Ensino fundamental",
          "Ensino médio",
          "Ensino médio",
          "Ensino fundamental",
          "Pós-graduação",
          "Ensino superior",
          "Ensino superior",
          "Ensino médio",
          "Ensino fundamental",
          "Nenhuma escolaridade",
          "Ensino médio",
          "Ensino superior",
          "Ensino superior",
          "Ensino superior",
          "Ensino fundamental",
          "Ensino fundamental",
          "Ensino fundamental",
          "Ensino superior",
          "Ensino médio",
          "Ensino fundamental",
          "Ensino superior",
          "Ensino médio",
          "Ensino médio",
          "Ensino fundamental",
          "Pós-graduação",
          "Ensino médio",
          "Ensino fundamental",
          "Ensino superior",
          "Ensino fundamental",
          "Ensino médio",
          "Ensino médio",
          "Ensino médio",
          "Pós-graduação",
          "Pós-graduação",
          "Ensino médio",
          "Ensino fundamental",
          "Ensino médio",
          "Ensino fundamental",
          "Ensino médio",
          "Ensino médio",
          "Ensino médio",
          "Ensino fundamental",
          "Ensino fundamental",
          "Pós-graduação",
          "Ensino médio",
          "Ensino médio",
          "Ensino fundamental",
          "Ensino médio",
          "Ensino superior",
          "Ensino médio",
          "Ensino fundamental",
          "Ensino superior",
          "Nenhuma escolaridade",
          "Ensino médio",
          "Ensino médio",
          "Ensino médio",
          "Ensino médio",
          "Ensino fundamental",
          "Ensino fundamental",
          "Ensino médio",
          "Ensino médio",
          "Ensino médio",
          "Ensino superior",
          "Pós-graduação",
          "Pós-graduação",
          "Ensino médio",
          "Ensino médio",
          "Ensino médio",
          "Ensino fundamental",
          "Ensino fundamental",
          "Ensino médio",
          "Ensino fundamental",
          "Ensino fundamental",
          "Ensino fundamental",
          "Ensino fundamental",
          "Ensino fundamental",
          "Ensino superior",
          "Ensino fundamental",
          "Ensino fundamental",
          "Ensino médio",
          "Ensino superior",
          "Ensino médio",
          "Ensino médio",
          "Ensino médio",
          "Ensino médio",
          "Nenhuma escolaridade",
          "Ensino médio",
          "Ensino superior",
          "Ensino superior",
          "Ensino médio",
          "Ensino fundamental",
          "Ensino fundamental",
          "Ensino fundamental",
          "Ensino superior",
          "Ensino fundamental",
          "Ensino fundamental",
          "Nenhuma escolaridade",
          "Ensino fundamental",
          "Ensino fundamental",
          "Ensino superior",
          "Nenhuma escolaridade",
          "Ensino médio",
          "Ensino médio",
          "Ensino médio",
          "Nenhuma escolaridade",
          "Ensino médio",
          "Ensino superior",
          "Ensino fundamental",
          "Ensino superior",
          "Ensino médio",
          "Ensino superior",
          "Ensino médio",
          "Ensino superior",
          "Ensino fundamental",
          "Ensino fundamental",
          "Ensino fundamental",
          "Ensino médio",
          "Ensino fundamental",
          "Nenhuma escolaridade",
          "Ensino fundamental",
          "Pós-graduação",
          "Ensino médio",
          "Ensino médio",
          "Ensino fundamental",
          "Ensino médio",
          "Ensino médio",
          "Pós-graduação",
          "Ensino superior",
          "Ensino médio",
          "Ensino médio",
          "Ensino fundamental",
          "Ensino médio",
          "Pós-graduação",
          "Ensino superior",
          "Pós-graduação",
          "Ensino médio",
          "Pós-graduação",
          "Ensino médio",
          "Ensino médio",
          "Ensino superior",
          "Ensino fundamental",
          "Pós-graduação",
          "Ensino médio",
          "Ensino fundamental",
          "Ensino médio",
          "Ensino superior",
          "Ensino fundamental",
          "Pós-graduação",
          "Ensino superior",
          "Ensino superior",
          "Ensino superior",
          "Ensino fundamental",
          "Ensino fundamental",
          "Ensino médio",
          "Ensino médio",
          "Ensino fundamental",
          "Ensino fundamental",
          "Ensino superior",
          "Ensino fundamental",
          "Ensino fundamental",
          "Ensino superior",
          "Ensino fundamental",
          "Ensino fundamental",
          "Ensino fundamental",
          "Ensino fundamental",
          "Ensino fundamental",
          "Ensino fundamental",
          "Ensino médio",
          "Ensino médio",
          "Ensino médio",
          "Ensino superior",
          "Ensino fundamental",
          "Ensino fundamental",
          "Ensino superior",
          "Ensino fundamental",
          "Ensino médio",
          "Ensino fundamental",
          "Nenhuma escolaridade",
          "Ensino fundamental",
          "Ensino superior",
          "Ensino médio",
          "Ensino superior",
          "Ensino fundamental",
          "Ensino médio",
          "Ensino superior",
          "Ensino médio",
          "Ensino superior",
          "Ensino superior",
          "Ensino superior",
          "Ensino médio",
          "Ensino fundamental",
          "Nenhuma escolaridade",
          "Ensino fundamental",
          "Nenhuma escolaridade",
          "Ensino médio",
          "Nenhuma escolaridade",
          "Ensino fundamental",
          "Ensino fundamental",
          "Ensino superior",
          "Ensino superior",
          "Ensino superior",
          "Ensino médio",
          "Ensino fundamental",
          "Ensino fundamental",
          "Ensino fundamental",
          "Ensino fundamental",
          "Ensino superior",
          "Ensino médio",
          "Ensino fundamental",
          "Ensino fundamental",
          "Ensino fundamental",
          "Ensino fundamental",
          "Ensino superior",
          "Ensino fundamental",
          "Ensino médio",
          "Ensino fundamental",
          "Ensino médio",
          "Ensino fundamental",
          "Ensino fundamental",
          "Ensino médio",
          "Ensino superior",
          "Ensino fundamental",
          "Pós-graduação",
          "Ensino fundamental",
          "Ensino superior",
          "Ensino fundamental",
          "Ensino médio",
          "Ensino superior",
          "Ensino médio",
          "Ensino médio",
          "Ensino superior",
          "Ensino médio",
          "Ensino fundamental",
          "Ensino fundamental",
          "Ensino médio",
          "Ensino fundamental",
          "Ensino fundamental",
          "Ensino médio",
          "Ensino médio",
          "Ensino superior",
          "Ensino médio",
          "Ensino médio",
          "Ensino médio",
          "Ensino médio",
          "Ensino superior",
          "Ensino fundamental",
          "Ensino médio",
          "Ensino superior",
          "Ensino fundamental",
          "Ensino fundamental",
          "Ensino médio",
          "Ensino fundamental",
          "Ensino fundamental",
          "Ensino médio",
          "Pós-graduação",
          "Pós-graduação",
          "Ensino superior",
          "Ensino fundamental",
          "Ensino fundamental",
          "Ensino médio",
          "Pós-graduação",
          "Ensino médio",
          "Ensino fundamental",
          "Ensino fundamental",
          "Ensino fundamental",
          "Ensino médio",
          "Ensino superior",
          "Nenhuma escolaridade",
          "Ensino fundamental",
          "Ensino superior",
          "Nenhuma escolaridade",
          "Ensino superior",
          "Ensino superior"
         ],
         "x0": " ",
         "xaxis": "x",
         "y": [
          40,
          54,
          35,
          57,
          62,
          42,
          35,
          51,
          28,
          59,
          60,
          63,
          62,
          62,
          53,
          57,
          55,
          44,
          54,
          57,
          44,
          60,
          38,
          30,
          48,
          70,
          63,
          59,
          73,
          72,
          0,
          47,
          49,
          35,
          54,
          46,
          31,
          50,
          69,
          31,
          43,
          31,
          45,
          40,
          45,
          56,
          74,
          28,
          41,
          20,
          33,
          26,
          48,
          39,
          18,
          52,
          40,
          39,
          44,
          19,
          36,
          37,
          30,
          66,
          52,
          54,
          46,
          50,
          50,
          52,
          37,
          66,
          0,
          52,
          83,
          57,
          55,
          57,
          61,
          58,
          37,
          61,
          44,
          66,
          46,
          62,
          57,
          37,
          60,
          71,
          53,
          47,
          25,
          19,
          63,
          47,
          54,
          14,
          48,
          42,
          21,
          44,
          52,
          50,
          57,
          60,
          58,
          40,
          46,
          64,
          64,
          58,
          54,
          41,
          39,
          61,
          43,
          63,
          36,
          34,
          51,
          30,
          48,
          41,
          39,
          27,
          17,
          29,
          25,
          34,
          56,
          54,
          24,
          32,
          52,
          23,
          48,
          46,
          25,
          37,
          66,
          54,
          0,
          39,
          53,
          40,
          49,
          39,
          54,
          60,
          60,
          64,
          49,
          48,
          22,
          28,
          52,
          41,
          11,
          30,
          17,
          37,
          54,
          30,
          34,
          30,
          43,
          45,
          46,
          27,
          35,
          28,
          43,
          43,
          35,
          39,
          31,
          39,
          36,
          40,
          41,
          62,
          26,
          29,
          45,
          38,
          25,
          32,
          17,
          45,
          22,
          31,
          42,
          72,
          28,
          56,
          39,
          34,
          44,
          44,
          40,
          59,
          51,
          49,
          39,
          35,
          53,
          23,
          20,
          49,
          36,
          40,
          32,
          28,
          35,
          50,
          42,
          46,
          24,
          39,
          44,
          37,
          30,
          30,
          27,
          36,
          45,
          36,
          44,
          47,
          43,
          46,
          34,
          35,
          33,
          33,
          39,
          48,
          50,
          39,
          39,
          44,
          31,
          52,
          42,
          62,
          55,
          24,
          44,
          37,
          40,
          38,
          29,
          30,
          31,
          43,
          42,
          25,
          68,
          30,
          36,
          35,
          28,
          40,
          53,
          42,
          35,
          41,
          39,
          53,
          44,
          41,
          19,
          48,
          40,
          60,
          48,
          16,
          34,
          31,
          30,
          31,
          38,
          37,
          33,
          29,
          35,
          52,
          62,
          56,
          38,
          43,
          55,
          46,
          36,
          44,
          29,
          28,
          50,
          54,
          59,
          61,
          51,
          79,
          79,
          72,
          69,
          39,
          50,
          69,
          41,
          48,
          57,
          44,
          47,
          74,
          39,
          34,
          39,
          38,
          29,
          22,
          11,
          51,
          35,
          42,
          39,
          39,
          39,
          33,
          39,
          33,
          52,
          57,
          41,
          36,
          65,
          47,
          62,
          23,
          44,
          49,
          40,
          39,
          35,
          50,
          40,
          40,
          41,
          47,
          29,
          43,
          31,
          49,
          71,
          62,
          38,
          30,
          33,
          34,
          36,
          41,
          48,
          13,
          24,
          52,
          57,
          55,
          66,
          25,
          33,
          40,
          53,
          38,
          0,
          43,
          27,
          46,
          37,
          26,
          47,
          17,
          49,
          40,
          32,
          32,
          31,
          36,
          66,
          41,
          44,
          64,
          36,
          31,
          47,
          40,
          29,
          28,
          37,
          28,
          30,
          47,
          44,
          66,
          59,
          57,
          63,
          62,
          61,
          54,
          64,
          63,
          25,
          49,
          68,
          44,
          37,
          57,
          22,
          37,
          50,
          31,
          57,
          52,
          59,
          43,
          40,
          59,
          50,
          49,
          32,
          43,
          39,
          69,
          19,
          70,
          48,
          78,
          49
         ],
         "y0": " ",
         "yaxis": "y"
        }
       ],
       "layout": {
        "boxmode": "group",
        "legend": {
         "tracegroupgap": 0
        },
        "margin": {
         "t": 60
        },
        "template": {
         "data": {
          "bar": [
           {
            "error_x": {
             "color": "#2a3f5f"
            },
            "error_y": {
             "color": "#2a3f5f"
            },
            "marker": {
             "line": {
              "color": "#E5ECF6",
              "width": 0.5
             },
             "pattern": {
              "fillmode": "overlay",
              "size": 10,
              "solidity": 0.2
             }
            },
            "type": "bar"
           }
          ],
          "barpolar": [
           {
            "marker": {
             "line": {
              "color": "#E5ECF6",
              "width": 0.5
             },
             "pattern": {
              "fillmode": "overlay",
              "size": 10,
              "solidity": 0.2
             }
            },
            "type": "barpolar"
           }
          ],
          "carpet": [
           {
            "aaxis": {
             "endlinecolor": "#2a3f5f",
             "gridcolor": "white",
             "linecolor": "white",
             "minorgridcolor": "white",
             "startlinecolor": "#2a3f5f"
            },
            "baxis": {
             "endlinecolor": "#2a3f5f",
             "gridcolor": "white",
             "linecolor": "white",
             "minorgridcolor": "white",
             "startlinecolor": "#2a3f5f"
            },
            "type": "carpet"
           }
          ],
          "choropleth": [
           {
            "colorbar": {
             "outlinewidth": 0,
             "ticks": ""
            },
            "type": "choropleth"
           }
          ],
          "contour": [
           {
            "colorbar": {
             "outlinewidth": 0,
             "ticks": ""
            },
            "colorscale": [
             [
              0,
              "#0d0887"
             ],
             [
              0.1111111111111111,
              "#46039f"
             ],
             [
              0.2222222222222222,
              "#7201a8"
             ],
             [
              0.3333333333333333,
              "#9c179e"
             ],
             [
              0.4444444444444444,
              "#bd3786"
             ],
             [
              0.5555555555555556,
              "#d8576b"
             ],
             [
              0.6666666666666666,
              "#ed7953"
             ],
             [
              0.7777777777777778,
              "#fb9f3a"
             ],
             [
              0.8888888888888888,
              "#fdca26"
             ],
             [
              1,
              "#f0f921"
             ]
            ],
            "type": "contour"
           }
          ],
          "contourcarpet": [
           {
            "colorbar": {
             "outlinewidth": 0,
             "ticks": ""
            },
            "type": "contourcarpet"
           }
          ],
          "heatmap": [
           {
            "colorbar": {
             "outlinewidth": 0,
             "ticks": ""
            },
            "colorscale": [
             [
              0,
              "#0d0887"
             ],
             [
              0.1111111111111111,
              "#46039f"
             ],
             [
              0.2222222222222222,
              "#7201a8"
             ],
             [
              0.3333333333333333,
              "#9c179e"
             ],
             [
              0.4444444444444444,
              "#bd3786"
             ],
             [
              0.5555555555555556,
              "#d8576b"
             ],
             [
              0.6666666666666666,
              "#ed7953"
             ],
             [
              0.7777777777777778,
              "#fb9f3a"
             ],
             [
              0.8888888888888888,
              "#fdca26"
             ],
             [
              1,
              "#f0f921"
             ]
            ],
            "type": "heatmap"
           }
          ],
          "heatmapgl": [
           {
            "colorbar": {
             "outlinewidth": 0,
             "ticks": ""
            },
            "colorscale": [
             [
              0,
              "#0d0887"
             ],
             [
              0.1111111111111111,
              "#46039f"
             ],
             [
              0.2222222222222222,
              "#7201a8"
             ],
             [
              0.3333333333333333,
              "#9c179e"
             ],
             [
              0.4444444444444444,
              "#bd3786"
             ],
             [
              0.5555555555555556,
              "#d8576b"
             ],
             [
              0.6666666666666666,
              "#ed7953"
             ],
             [
              0.7777777777777778,
              "#fb9f3a"
             ],
             [
              0.8888888888888888,
              "#fdca26"
             ],
             [
              1,
              "#f0f921"
             ]
            ],
            "type": "heatmapgl"
           }
          ],
          "histogram": [
           {
            "marker": {
             "pattern": {
              "fillmode": "overlay",
              "size": 10,
              "solidity": 0.2
             }
            },
            "type": "histogram"
           }
          ],
          "histogram2d": [
           {
            "colorbar": {
             "outlinewidth": 0,
             "ticks": ""
            },
            "colorscale": [
             [
              0,
              "#0d0887"
             ],
             [
              0.1111111111111111,
              "#46039f"
             ],
             [
              0.2222222222222222,
              "#7201a8"
             ],
             [
              0.3333333333333333,
              "#9c179e"
             ],
             [
              0.4444444444444444,
              "#bd3786"
             ],
             [
              0.5555555555555556,
              "#d8576b"
             ],
             [
              0.6666666666666666,
              "#ed7953"
             ],
             [
              0.7777777777777778,
              "#fb9f3a"
             ],
             [
              0.8888888888888888,
              "#fdca26"
             ],
             [
              1,
              "#f0f921"
             ]
            ],
            "type": "histogram2d"
           }
          ],
          "histogram2dcontour": [
           {
            "colorbar": {
             "outlinewidth": 0,
             "ticks": ""
            },
            "colorscale": [
             [
              0,
              "#0d0887"
             ],
             [
              0.1111111111111111,
              "#46039f"
             ],
             [
              0.2222222222222222,
              "#7201a8"
             ],
             [
              0.3333333333333333,
              "#9c179e"
             ],
             [
              0.4444444444444444,
              "#bd3786"
             ],
             [
              0.5555555555555556,
              "#d8576b"
             ],
             [
              0.6666666666666666,
              "#ed7953"
             ],
             [
              0.7777777777777778,
              "#fb9f3a"
             ],
             [
              0.8888888888888888,
              "#fdca26"
             ],
             [
              1,
              "#f0f921"
             ]
            ],
            "type": "histogram2dcontour"
           }
          ],
          "mesh3d": [
           {
            "colorbar": {
             "outlinewidth": 0,
             "ticks": ""
            },
            "type": "mesh3d"
           }
          ],
          "parcoords": [
           {
            "line": {
             "colorbar": {
              "outlinewidth": 0,
              "ticks": ""
             }
            },
            "type": "parcoords"
           }
          ],
          "pie": [
           {
            "automargin": true,
            "type": "pie"
           }
          ],
          "scatter": [
           {
            "fillpattern": {
             "fillmode": "overlay",
             "size": 10,
             "solidity": 0.2
            },
            "type": "scatter"
           }
          ],
          "scatter3d": [
           {
            "line": {
             "colorbar": {
              "outlinewidth": 0,
              "ticks": ""
             }
            },
            "marker": {
             "colorbar": {
              "outlinewidth": 0,
              "ticks": ""
             }
            },
            "type": "scatter3d"
           }
          ],
          "scattercarpet": [
           {
            "marker": {
             "colorbar": {
              "outlinewidth": 0,
              "ticks": ""
             }
            },
            "type": "scattercarpet"
           }
          ],
          "scattergeo": [
           {
            "marker": {
             "colorbar": {
              "outlinewidth": 0,
              "ticks": ""
             }
            },
            "type": "scattergeo"
           }
          ],
          "scattergl": [
           {
            "marker": {
             "colorbar": {
              "outlinewidth": 0,
              "ticks": ""
             }
            },
            "type": "scattergl"
           }
          ],
          "scattermapbox": [
           {
            "marker": {
             "colorbar": {
              "outlinewidth": 0,
              "ticks": ""
             }
            },
            "type": "scattermapbox"
           }
          ],
          "scatterpolar": [
           {
            "marker": {
             "colorbar": {
              "outlinewidth": 0,
              "ticks": ""
             }
            },
            "type": "scatterpolar"
           }
          ],
          "scatterpolargl": [
           {
            "marker": {
             "colorbar": {
              "outlinewidth": 0,
              "ticks": ""
             }
            },
            "type": "scatterpolargl"
           }
          ],
          "scatterternary": [
           {
            "marker": {
             "colorbar": {
              "outlinewidth": 0,
              "ticks": ""
             }
            },
            "type": "scatterternary"
           }
          ],
          "surface": [
           {
            "colorbar": {
             "outlinewidth": 0,
             "ticks": ""
            },
            "colorscale": [
             [
              0,
              "#0d0887"
             ],
             [
              0.1111111111111111,
              "#46039f"
             ],
             [
              0.2222222222222222,
              "#7201a8"
             ],
             [
              0.3333333333333333,
              "#9c179e"
             ],
             [
              0.4444444444444444,
              "#bd3786"
             ],
             [
              0.5555555555555556,
              "#d8576b"
             ],
             [
              0.6666666666666666,
              "#ed7953"
             ],
             [
              0.7777777777777778,
              "#fb9f3a"
             ],
             [
              0.8888888888888888,
              "#fdca26"
             ],
             [
              1,
              "#f0f921"
             ]
            ],
            "type": "surface"
           }
          ],
          "table": [
           {
            "cells": {
             "fill": {
              "color": "#EBF0F8"
             },
             "line": {
              "color": "white"
             }
            },
            "header": {
             "fill": {
              "color": "#C8D4E3"
             },
             "line": {
              "color": "white"
             }
            },
            "type": "table"
           }
          ]
         },
         "layout": {
          "annotationdefaults": {
           "arrowcolor": "#2a3f5f",
           "arrowhead": 0,
           "arrowwidth": 1
          },
          "autotypenumbers": "strict",
          "coloraxis": {
           "colorbar": {
            "outlinewidth": 0,
            "ticks": ""
           }
          },
          "colorscale": {
           "diverging": [
            [
             0,
             "#8e0152"
            ],
            [
             0.1,
             "#c51b7d"
            ],
            [
             0.2,
             "#de77ae"
            ],
            [
             0.3,
             "#f1b6da"
            ],
            [
             0.4,
             "#fde0ef"
            ],
            [
             0.5,
             "#f7f7f7"
            ],
            [
             0.6,
             "#e6f5d0"
            ],
            [
             0.7,
             "#b8e186"
            ],
            [
             0.8,
             "#7fbc41"
            ],
            [
             0.9,
             "#4d9221"
            ],
            [
             1,
             "#276419"
            ]
           ],
           "sequential": [
            [
             0,
             "#0d0887"
            ],
            [
             0.1111111111111111,
             "#46039f"
            ],
            [
             0.2222222222222222,
             "#7201a8"
            ],
            [
             0.3333333333333333,
             "#9c179e"
            ],
            [
             0.4444444444444444,
             "#bd3786"
            ],
            [
             0.5555555555555556,
             "#d8576b"
            ],
            [
             0.6666666666666666,
             "#ed7953"
            ],
            [
             0.7777777777777778,
             "#fb9f3a"
            ],
            [
             0.8888888888888888,
             "#fdca26"
            ],
            [
             1,
             "#f0f921"
            ]
           ],
           "sequentialminus": [
            [
             0,
             "#0d0887"
            ],
            [
             0.1111111111111111,
             "#46039f"
            ],
            [
             0.2222222222222222,
             "#7201a8"
            ],
            [
             0.3333333333333333,
             "#9c179e"
            ],
            [
             0.4444444444444444,
             "#bd3786"
            ],
            [
             0.5555555555555556,
             "#d8576b"
            ],
            [
             0.6666666666666666,
             "#ed7953"
            ],
            [
             0.7777777777777778,
             "#fb9f3a"
            ],
            [
             0.8888888888888888,
             "#fdca26"
            ],
            [
             1,
             "#f0f921"
            ]
           ]
          },
          "colorway": [
           "#636efa",
           "#EF553B",
           "#00cc96",
           "#ab63fa",
           "#FFA15A",
           "#19d3f3",
           "#FF6692",
           "#B6E880",
           "#FF97FF",
           "#FECB52"
          ],
          "font": {
           "color": "#2a3f5f"
          },
          "geo": {
           "bgcolor": "white",
           "lakecolor": "white",
           "landcolor": "#E5ECF6",
           "showlakes": true,
           "showland": true,
           "subunitcolor": "white"
          },
          "hoverlabel": {
           "align": "left"
          },
          "hovermode": "closest",
          "mapbox": {
           "style": "light"
          },
          "paper_bgcolor": "white",
          "plot_bgcolor": "#E5ECF6",
          "polar": {
           "angularaxis": {
            "gridcolor": "white",
            "linecolor": "white",
            "ticks": ""
           },
           "bgcolor": "#E5ECF6",
           "radialaxis": {
            "gridcolor": "white",
            "linecolor": "white",
            "ticks": ""
           }
          },
          "scene": {
           "xaxis": {
            "backgroundcolor": "#E5ECF6",
            "gridcolor": "white",
            "gridwidth": 2,
            "linecolor": "white",
            "showbackground": true,
            "ticks": "",
            "zerolinecolor": "white"
           },
           "yaxis": {
            "backgroundcolor": "#E5ECF6",
            "gridcolor": "white",
            "gridwidth": 2,
            "linecolor": "white",
            "showbackground": true,
            "ticks": "",
            "zerolinecolor": "white"
           },
           "zaxis": {
            "backgroundcolor": "#E5ECF6",
            "gridcolor": "white",
            "gridwidth": 2,
            "linecolor": "white",
            "showbackground": true,
            "ticks": "",
            "zerolinecolor": "white"
           }
          },
          "shapedefaults": {
           "line": {
            "color": "#2a3f5f"
           }
          },
          "ternary": {
           "aaxis": {
            "gridcolor": "white",
            "linecolor": "white",
            "ticks": ""
           },
           "baxis": {
            "gridcolor": "white",
            "linecolor": "white",
            "ticks": ""
           },
           "bgcolor": "#E5ECF6",
           "caxis": {
            "gridcolor": "white",
            "linecolor": "white",
            "ticks": ""
           }
          },
          "title": {
           "x": 0.05
          },
          "xaxis": {
           "automargin": true,
           "gridcolor": "white",
           "linecolor": "white",
           "ticks": "",
           "title": {
            "standoff": 15
           },
           "zerolinecolor": "white",
           "zerolinewidth": 2
          },
          "yaxis": {
           "automargin": true,
           "gridcolor": "white",
           "linecolor": "white",
           "ticks": "",
           "title": {
            "standoff": 15
           },
           "zerolinecolor": "white",
           "zerolinewidth": 2
          }
         }
        },
        "title": {
         "text": "Boxplot de Escolaridade do Pai em relação à Nota Geral",
         "x": 0.5,
         "y": 0.95
        },
        "xaxis": {
         "anchor": "y",
         "categoryarray": [
          "Nenhuma escolaridade",
          "Ensino fundamental",
          "Ensino médio",
          "Ensino superior",
          "Pós-graduação"
         ],
         "categoryorder": "array",
         "domain": [
          0,
          1
         ],
         "title": {
          "text": "Escolaridade do Pai"
         }
        },
        "yaxis": {
         "anchor": "x",
         "domain": [
          0,
          1
         ],
         "title": {
          "text": "Nota Geral"
         }
        }
       }
      }
     },
     "metadata": {},
     "output_type": "display_data"
    }
   ],
   "source": [
    "categorias = {\n",
    "    'A': 'Nenhuma escolaridade',\n",
    "    'B': 'Ensino fundamental',\n",
    "    'C': 'Ensino fundamental',\n",
    "    'D': 'Ensino médio',\n",
    "    'E': 'Ensino superior',\n",
    "    'F': 'Pós-graduação'\n",
    "}\n",
    "\n",
    "ordem_categorias = {'Nenhuma escolaridade': 1, 'Ensino fundamental': 2, \n",
    "                    'Ensino médio': 3, 'Ensino superior': 4, 'Pós-graduação': 5}\n",
    "\n",
    "dados_explorados['Nota_geral'] = pd.to_numeric(dados_explorados['Nota_geral'], errors='coerce')\n",
    "dados_explorados = dados_explorados.dropna(subset=['Nota_geral'])\n",
    "\n",
    "dados_explorados['Categoria'] = dados_explorados['Escolaridade_pai'].map(categorias)\n",
    "\n",
    "medianas = dados_explorados.groupby('Categoria')['Nota_geral'].median().reset_index()\n",
    "\n",
    "medianas['ordem_categoria'] = medianas['Categoria'].map(ordem_categorias)\n",
    "medianas = medianas.sort_values(by='ordem_categoria')\n",
    "\n",
    "fig = px.box(dados_explorados, x='Categoria', y='Nota_geral', \n",
    "             labels={'Categoria': 'Escolaridade do Pai', 'Nota_geral': 'Nota Geral'},\n",
    "             category_orders={\"Categoria\": medianas['Categoria']})\n",
    "fig.update_layout(title='Boxplot de Escolaridade do Pai em relação à Nota Geral', title_x=0.5, title_y=0.95)\n",
    "fig.show()"
   ]
  }
 ],
 "metadata": {
  "kernelspec": {
   "display_name": "Python 3",
   "language": "python",
   "name": "python3"
  },
  "language_info": {
   "codemirror_mode": {
    "name": "ipython",
    "version": 3
   },
   "file_extension": ".py",
   "mimetype": "text/x-python",
   "name": "python",
   "nbconvert_exporter": "python",
   "pygments_lexer": "ipython3",
   "version": "3.12.0"
  }
 },
 "nbformat": 4,
 "nbformat_minor": 2
}
