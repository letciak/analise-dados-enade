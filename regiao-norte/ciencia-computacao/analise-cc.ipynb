{
 "cells": [
  {
   "cell_type": "code",
   "execution_count": 127,
   "metadata": {},
   "outputs": [],
   "source": [
    "import pandas as pd\n",
    "import numpy as np\n",
    "import matplotlib as plt"
   ]
  },
  {
   "cell_type": "code",
   "execution_count": 128,
   "metadata": {},
   "outputs": [
    {
     "name": "stdout",
     "output_type": "stream",
     "text": [
      "     Cod_curso  Cod_grupo_curso  Cod_regiao_curso Nota_geral Escolaridade_pai  \\\n",
      "0        12025             4004                 1        NaN                D   \n",
      "1        12025             4004                 1       48,6                C   \n",
      "2        12025             4004                 1       63,2                E   \n",
      "3        12025             4004                 1       51,1                C   \n",
      "4        12025             4004                 1        NaN              NaN   \n",
      "..         ...              ...               ...        ...              ...   \n",
      "621      73438             4004                 1        NaN                B   \n",
      "622      73438             4004                 1        NaN                D   \n",
      "623      73438             4004                 1        NaN                D   \n",
      "624      73438             4004                 1        NaN                E   \n",
      "625      73438             4004                 1        NaN                A   \n",
      "\n",
      "    Escolaridade_mae Renda Tipo_escola Horas_estudos  \n",
      "0                  B     A           A             B  \n",
      "1                  D     A           A             C  \n",
      "2                  E     D           B             C  \n",
      "3                  D     B           B             B  \n",
      "4                NaN   NaN         NaN           NaN  \n",
      "..               ...   ...         ...           ...  \n",
      "621                C     B           A             C  \n",
      "622                D     C           E             C  \n",
      "623                D     D           A             B  \n",
      "624                F     A           A             B  \n",
      "625                B     A           A             C  \n",
      "\n",
      "[626 rows x 9 columns]\n"
     ]
    }
   ],
   "source": [
    "regiao_norte_cc = pd.read_csv('regiao-norte-cc.csv', sep=',')\n",
    "\n",
    "print(regiao_norte_cc)"
   ]
  },
  {
   "cell_type": "code",
   "execution_count": 129,
   "metadata": {},
   "outputs": [
    {
     "name": "stdout",
     "output_type": "stream",
     "text": [
      "Cod_curso             0\n",
      "Cod_grupo_curso       0\n",
      "Cod_regiao_curso      0\n",
      "Nota_geral          211\n",
      "Escolaridade_pai    149\n",
      "Escolaridade_mae    149\n",
      "Renda               149\n",
      "Tipo_escola         149\n",
      "Horas_estudos       149\n",
      "dtype: int64\n"
     ]
    }
   ],
   "source": [
    "valores_nulos = regiao_norte_cc.isnull()\n",
    "contagem = valores_nulos.sum()\n",
    "\n",
    "print(contagem)"
   ]
  },
  {
   "cell_type": "code",
   "execution_count": 130,
   "metadata": {},
   "outputs": [],
   "source": [
    "regiao_norte_cc.dropna(inplace=True)"
   ]
  },
  {
   "cell_type": "code",
   "execution_count": 143,
   "metadata": {},
   "outputs": [
    {
     "name": "stdout",
     "output_type": "stream",
     "text": [
      "Escolaridade_pai\n",
      "D    163\n",
      "E     82\n",
      "B     69\n",
      "C     51\n",
      "F     29\n",
      "A     19\n",
      "Name: count, dtype: int64\n"
     ]
    }
   ],
   "source": [
    "escolaridade_pai = regiao_norte_cc['Escolaridade_pai'].value_counts()\n",
    "\n",
    "print(escolaridade_pai)"
   ]
  },
  {
   "cell_type": "code",
   "execution_count": 24,
   "metadata": {},
   "outputs": [
    {
     "name": "stdout",
     "output_type": "stream",
     "text": [
      "Escolaridade_pai\n",
      "A    35.500000\n",
      "B    29.166667\n",
      "C    38.000000\n",
      "D    39.600000\n",
      "E    40.916667\n",
      "F    59.500000\n",
      "Name: Nota_geral, dtype: float64\n"
     ]
    }
   ],
   "source": [
    "regiao_norte_cc['Nota_geral'] = pd.to_numeric(regiao_norte_cc['Nota_geral'], errors='coerce')\n",
    "\n",
    "def calcular_media_nota_geral_por_resposta(dataframe):\n",
    "    media_por_resposta = dataframe.groupby('Escolaridade_pai')['Nota_geral'].mean()\n",
    "    \n",
    "    return media_por_resposta\n",
    "\n",
    "media_nota_geral_por_resposta = calcular_media_nota_geral_por_resposta(regiao_norte_cc)\n",
    "print(media_nota_geral_por_resposta)"
   ]
  },
  {
   "cell_type": "code",
   "execution_count": 144,
   "metadata": {},
   "outputs": [
    {
     "name": "stdout",
     "output_type": "stream",
     "text": [
      "Escolaridade_mae\n",
      "D    178\n",
      "E     83\n",
      "C     58\n",
      "F     47\n",
      "B     42\n",
      "A      5\n",
      "Name: count, dtype: int64\n"
     ]
    }
   ],
   "source": [
    "escolaridade_mae = regiao_norte_cc['Escolaridade_mae'].value_counts()\n",
    "\n",
    "print(escolaridade_mae)"
   ]
  },
  {
   "cell_type": "code",
   "execution_count": 151,
   "metadata": {},
   "outputs": [
    {
     "name": "stdout",
     "output_type": "stream",
     "text": [
      "Escolaridade_mae\n",
      "A          NaN\n",
      "B    38.200000\n",
      "C    34.444444\n",
      "D    36.714286\n",
      "E    36.000000\n",
      "F    49.166667\n",
      "Name: Nota_geral, dtype: float64\n"
     ]
    }
   ],
   "source": [
    "def calcular_media_nota_geral_por_resposta(dataframe):\n",
    "    media_por_resposta = dataframe.groupby('Escolaridade_mae')['Nota_geral'].mean()\n",
    "    \n",
    "    return media_por_resposta\n",
    "\n",
    "media_nota_geral_por_resposta = calcular_media_nota_geral_por_resposta(regiao_norte_cc)\n",
    "print(media_nota_geral_por_resposta)"
   ]
  },
  {
   "cell_type": "code",
   "execution_count": 145,
   "metadata": {},
   "outputs": [
    {
     "name": "stdout",
     "output_type": "stream",
     "text": [
      "Renda\n",
      "A    115\n",
      "B    108\n",
      "C     76\n",
      "E     48\n",
      "D     42\n",
      "F     18\n",
      "G      6\n",
      "Name: count, dtype: int64\n"
     ]
    }
   ],
   "source": [
    "renda = regiao_norte_cc['Renda'].value_counts()\n",
    "\n",
    "print(renda)"
   ]
  },
  {
   "cell_type": "code",
   "execution_count": 152,
   "metadata": {},
   "outputs": [
    {
     "name": "stdout",
     "output_type": "stream",
     "text": [
      "Renda\n",
      "A    33.466667\n",
      "B    31.916667\n",
      "C    41.000000\n",
      "D    47.000000\n",
      "E    42.142857\n",
      "F    49.333333\n",
      "G          NaN\n",
      "Name: Nota_geral, dtype: float64\n"
     ]
    }
   ],
   "source": [
    "def calcular_media_nota_geral_por_resposta(dataframe):\n",
    "    media_por_resposta = dataframe.groupby('Renda')['Nota_geral'].mean()\n",
    "    \n",
    "    return media_por_resposta\n",
    "\n",
    "media_nota_geral_por_resposta = calcular_media_nota_geral_por_resposta(regiao_norte_cc)\n",
    "print(media_nota_geral_por_resposta)"
   ]
  },
  {
   "cell_type": "code",
   "execution_count": 146,
   "metadata": {},
   "outputs": [
    {
     "name": "stdout",
     "output_type": "stream",
     "text": [
      "Tipo_escola\n",
      "A    274\n",
      "B    108\n",
      "E     17\n",
      "D     14\n",
      "Name: count, dtype: int64\n"
     ]
    }
   ],
   "source": [
    "tipo_escola = regiao_norte_cc['Tipo_escola'].value_counts()\n",
    "\n",
    "print(tipo_escola)"
   ]
  },
  {
   "cell_type": "code",
   "execution_count": 153,
   "metadata": {},
   "outputs": [
    {
     "name": "stdout",
     "output_type": "stream",
     "text": [
      "Tipo_escola\n",
      "A    35.121212\n",
      "B    46.333333\n",
      "D    51.500000\n",
      "E    24.333333\n",
      "Name: Nota_geral, dtype: float64\n"
     ]
    }
   ],
   "source": [
    "def calcular_media_nota_geral_por_resposta(dataframe):\n",
    "    media_por_resposta = dataframe.groupby('Tipo_escola')['Nota_geral'].mean()\n",
    "    \n",
    "    return media_por_resposta\n",
    "\n",
    "media_nota_geral_por_resposta = calcular_media_nota_geral_por_resposta(regiao_norte_cc)\n",
    "print(media_nota_geral_por_resposta)"
   ]
  },
  {
   "cell_type": "code",
   "execution_count": 147,
   "metadata": {},
   "outputs": [
    {
     "name": "stdout",
     "output_type": "stream",
     "text": [
      "Horas_estudos\n",
      "B    163\n",
      "C    128\n",
      "E     50\n",
      "D     49\n",
      "A     23\n",
      "Name: count, dtype: int64\n"
     ]
    }
   ],
   "source": [
    "horas_estudos = regiao_norte_cc['Horas_estudos'].value_counts()\n",
    "\n",
    "print(horas_estudos)"
   ]
  },
  {
   "cell_type": "code",
   "execution_count": 154,
   "metadata": {},
   "outputs": [
    {
     "name": "stdout",
     "output_type": "stream",
     "text": [
      "Horas_estudos\n",
      "A    25.666667\n",
      "B    37.666667\n",
      "C    40.055556\n",
      "D    41.666667\n",
      "E    33.000000\n",
      "Name: Nota_geral, dtype: float64\n"
     ]
    }
   ],
   "source": [
    "def calcular_media_nota_geral_por_resposta(dataframe):\n",
    "    media_por_resposta = dataframe.groupby('Horas_estudos')['Nota_geral'].mean()\n",
    "    \n",
    "    return media_por_resposta\n",
    "\n",
    "media_nota_geral_por_resposta = calcular_media_nota_geral_por_resposta(regiao_norte_cc)\n",
    "print(media_nota_geral_por_resposta)"
   ]
  }
 ],
 "metadata": {
  "kernelspec": {
   "display_name": "Python 3",
   "language": "python",
   "name": "python3"
  },
  "language_info": {
   "codemirror_mode": {
    "name": "ipython",
    "version": 3
   },
   "file_extension": ".py",
   "mimetype": "text/x-python",
   "name": "python",
   "nbconvert_exporter": "python",
   "pygments_lexer": "ipython3",
   "version": "3.12.0"
  }
 },
 "nbformat": 4,
 "nbformat_minor": 2
}
