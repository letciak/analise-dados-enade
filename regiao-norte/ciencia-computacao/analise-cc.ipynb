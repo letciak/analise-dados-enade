{
 "cells": [
  {
   "cell_type": "code",
   "execution_count": 1,
   "metadata": {},
   "outputs": [],
   "source": [
    "import pandas as pd\n",
    "import numpy as np\n",
    "import matplotlib as plt"
   ]
  },
  {
   "cell_type": "code",
   "execution_count": 2,
   "metadata": {},
   "outputs": [
    {
     "name": "stdout",
     "output_type": "stream",
     "text": [
      "     Cod_curso  Cod_grupo_curso  Cod_regiao_curso Nota_geral Escolaridade_pai  \\\n",
      "0        12025             4004                 1        NaN                D   \n",
      "1        12025             4004                 1       48,6                C   \n",
      "2        12025             4004                 1       63,2                E   \n",
      "3        12025             4004                 1       51,1                C   \n",
      "4        12025             4004                 1        NaN              NaN   \n",
      "..         ...              ...               ...        ...              ...   \n",
      "621      73438             4004                 1        NaN                B   \n",
      "622      73438             4004                 1        NaN                D   \n",
      "623      73438             4004                 1        NaN                D   \n",
      "624      73438             4004                 1        NaN                E   \n",
      "625      73438             4004                 1        NaN                A   \n",
      "\n",
      "    Escolaridade_mae Renda Tipo_escola Horas_estudos  \n",
      "0                  B     A           A             B  \n",
      "1                  D     A           A             C  \n",
      "2                  E     D           B             C  \n",
      "3                  D     B           B             B  \n",
      "4                NaN   NaN         NaN           NaN  \n",
      "..               ...   ...         ...           ...  \n",
      "621                C     B           A             C  \n",
      "622                D     C           E             C  \n",
      "623                D     D           A             B  \n",
      "624                F     A           A             B  \n",
      "625                B     A           A             C  \n",
      "\n",
      "[626 rows x 9 columns]\n"
     ]
    }
   ],
   "source": [
    "regiao_norte_cc = pd.read_csv('regiao-norte-cc.csv', sep=',')\n",
    "\n",
    "print(regiao_norte_cc)"
   ]
  },
  {
   "cell_type": "code",
   "execution_count": 3,
   "metadata": {},
   "outputs": [
    {
     "name": "stdout",
     "output_type": "stream",
     "text": [
      "Cod_curso             0\n",
      "Cod_grupo_curso       0\n",
      "Cod_regiao_curso      0\n",
      "Nota_geral          211\n",
      "Escolaridade_pai    149\n",
      "Escolaridade_mae    149\n",
      "Renda               149\n",
      "Tipo_escola         149\n",
      "Horas_estudos       149\n",
      "dtype: int64\n"
     ]
    }
   ],
   "source": [
    "valores_nulos = regiao_norte_cc.isnull()\n",
    "contagem = valores_nulos.sum()\n",
    "\n",
    "print(contagem)"
   ]
  },
  {
   "cell_type": "code",
   "execution_count": 4,
   "metadata": {},
   "outputs": [],
   "source": [
    "regiao_norte_cc.dropna(inplace=True)"
   ]
  },
  {
   "cell_type": "code",
   "execution_count": 5,
   "metadata": {},
   "outputs": [
    {
     "name": "stdout",
     "output_type": "stream",
     "text": [
      "Escolaridade_pai\n",
      "A    35.500000\n",
      "B    29.166667\n",
      "C    38.000000\n",
      "D    39.600000\n",
      "E    40.916667\n",
      "F    59.500000\n",
      "Name: Nota_geral, dtype: float64\n"
     ]
    }
   ],
   "source": [
    "regiao_norte_cc['Nota_geral'] = pd.to_numeric(regiao_norte_cc['Nota_geral'], errors='coerce')\n",
    "\n",
    "def calcular_media_nota_geral_por_resposta(dataframe):\n",
    "    media_por_resposta = dataframe.groupby('Escolaridade_pai')['Nota_geral'].mean()\n",
    "    \n",
    "    return media_por_resposta\n",
    "\n",
    "media_nota_geral_por_resposta = calcular_media_nota_geral_por_resposta(regiao_norte_cc)\n",
    "print(media_nota_geral_por_resposta)"
   ]
  },
  {
   "cell_type": "code",
   "execution_count": 6,
   "metadata": {},
   "outputs": [
    {
     "name": "stdout",
     "output_type": "stream",
     "text": [
      "Escolaridade_pai  Media_Nota_Geral  Desvio_Padrao_Nota_Geral  Coeficiente_Variacao_Nota_Geral\n",
      "               A         35.500000                  7.778175                         0.219104\n",
      "               B         29.166667                  5.734003                         0.196594\n",
      "               C         38.000000                 10.327956                         0.271788\n",
      "               D         39.600000                 12.099587                         0.305545\n",
      "               E         40.916667                 14.687399                         0.358959\n",
      "               F         59.500000                  6.363961                         0.106957\n"
     ]
    }
   ],
   "source": [
    "grupo_escolaridade = regiao_norte_cc.groupby('Escolaridade_pai')\n",
    "\n",
    "estatisticas_por_escolaridade = grupo_escolaridade['Nota_geral'].agg(['mean', 'std', 'var'])\n",
    "\n",
    "estatisticas_por_escolaridade['Coeficiente_Variacao_Nota_Geral'] = (estatisticas_por_escolaridade['std'] / estatisticas_por_escolaridade['mean']) \n",
    "\n",
    "estatisticas_por_escolaridade.columns = ['Media_Nota_Geral', 'Desvio_Padrao_Nota_Geral', 'Variancia_Nota_Geral', 'Coeficiente_Variacao_Nota_Geral']\n",
    "\n",
    "estatisticas_por_escolaridade['Escolaridade_pai'] = estatisticas_por_escolaridade.index\n",
    "resultado_final = estatisticas_por_escolaridade[['Escolaridade_pai', 'Media_Nota_Geral', 'Desvio_Padrao_Nota_Geral', 'Coeficiente_Variacao_Nota_Geral']]\n",
    "\n",
    "\n",
    "print(resultado_final.to_string(index=False))"
   ]
  },
  {
   "cell_type": "code",
   "execution_count": 7,
   "metadata": {},
   "outputs": [
    {
     "name": "stdout",
     "output_type": "stream",
     "text": [
      "Escolaridade_mae\n",
      "A          NaN\n",
      "B    38.200000\n",
      "C    34.444444\n",
      "D    36.714286\n",
      "E    36.000000\n",
      "F    49.166667\n",
      "Name: Nota_geral, dtype: float64\n"
     ]
    }
   ],
   "source": [
    "def calcular_media_nota_geral_por_resposta(dataframe):\n",
    "    media_por_resposta = dataframe.groupby('Escolaridade_mae')['Nota_geral'].mean()\n",
    "    \n",
    "    return media_por_resposta\n",
    "\n",
    "media_nota_geral_por_resposta = calcular_media_nota_geral_por_resposta(regiao_norte_cc)\n",
    "print(media_nota_geral_por_resposta)"
   ]
  },
  {
   "cell_type": "code",
   "execution_count": 8,
   "metadata": {},
   "outputs": [
    {
     "name": "stdout",
     "output_type": "stream",
     "text": [
      "Escolaridade_mae  Media_Nota_Geral  Desvio_Padrao_Nota_Geral  Coeficiente_Variacao_Nota_Geral\n",
      "               A               NaN                       NaN                              NaN\n",
      "               B         38.200000                 10.521407                         0.275429\n",
      "               C         34.444444                  8.048464                         0.233665\n",
      "               D         36.714286                 13.498677                         0.367668\n",
      "               E         36.000000                 13.555442                         0.376540\n",
      "               F         49.166667                 10.303721                         0.209567\n"
     ]
    }
   ],
   "source": [
    "grupo_escolaridade = regiao_norte_cc.groupby('Escolaridade_mae')\n",
    "\n",
    "estatisticas_por_escolaridade = grupo_escolaridade['Nota_geral'].agg(['mean', 'std', 'var'])\n",
    "\n",
    "estatisticas_por_escolaridade['Coeficiente_Variacao_Nota_Geral'] = (estatisticas_por_escolaridade['std'] / estatisticas_por_escolaridade['mean']) \n",
    "\n",
    "estatisticas_por_escolaridade.columns = ['Media_Nota_Geral', 'Desvio_Padrao_Nota_Geral', 'Variancia_Nota_Geral', 'Coeficiente_Variacao_Nota_Geral']\n",
    "\n",
    "estatisticas_por_escolaridade['Escolaridade_mae'] = estatisticas_por_escolaridade.index\n",
    "resultado_final = estatisticas_por_escolaridade[['Escolaridade_mae', 'Media_Nota_Geral', 'Desvio_Padrao_Nota_Geral', 'Coeficiente_Variacao_Nota_Geral']]\n",
    "\n",
    "\n",
    "print(resultado_final.to_string(index=False))"
   ]
  },
  {
   "cell_type": "code",
   "execution_count": 9,
   "metadata": {},
   "outputs": [
    {
     "name": "stdout",
     "output_type": "stream",
     "text": [
      "Renda\n",
      "A    33.466667\n",
      "B    31.916667\n",
      "C    41.000000\n",
      "D    47.000000\n",
      "E    42.142857\n",
      "F    49.333333\n",
      "G          NaN\n",
      "Name: Nota_geral, dtype: float64\n"
     ]
    }
   ],
   "source": [
    "def calcular_media_nota_geral_por_resposta(dataframe):\n",
    "    media_por_resposta = dataframe.groupby('Renda')['Nota_geral'].mean()\n",
    "    \n",
    "    return media_por_resposta\n",
    "\n",
    "media_nota_geral_por_resposta = calcular_media_nota_geral_por_resposta(regiao_norte_cc)\n",
    "print(media_nota_geral_por_resposta)"
   ]
  },
  {
   "cell_type": "code",
   "execution_count": 10,
   "metadata": {},
   "outputs": [
    {
     "name": "stdout",
     "output_type": "stream",
     "text": [
      "Renda  Media_Nota_Geral  Desvio_Padrao_Nota_Geral  Coeficiente_Variacao_Nota_Geral\n",
      "    A         33.466667                  8.567936                         0.256014\n",
      "    B         31.916667                  9.967751                         0.312306\n",
      "    C         41.000000                 13.298765                         0.324360\n",
      "    D         47.000000                 20.223748                         0.430293\n",
      "    E         42.142857                  8.532850                         0.202474\n",
      "    F         49.333333                 13.650397                         0.276697\n",
      "    G               NaN                       NaN                              NaN\n"
     ]
    }
   ],
   "source": [
    "grupo_escolaridade = regiao_norte_cc.groupby('Renda')\n",
    "\n",
    "estatisticas_por_escolaridade = grupo_escolaridade['Nota_geral'].agg(['mean', 'std', 'var'])\n",
    "\n",
    "estatisticas_por_escolaridade['Coeficiente_Variacao_Nota_Geral'] = (estatisticas_por_escolaridade['std'] / estatisticas_por_escolaridade['mean']) \n",
    "\n",
    "estatisticas_por_escolaridade.columns = ['Media_Nota_Geral', 'Desvio_Padrao_Nota_Geral', 'Variancia_Nota_Geral', 'Coeficiente_Variacao_Nota_Geral']\n",
    "\n",
    "estatisticas_por_escolaridade['Renda'] = estatisticas_por_escolaridade.index\n",
    "resultado_final = estatisticas_por_escolaridade[['Renda', 'Media_Nota_Geral', 'Desvio_Padrao_Nota_Geral', 'Coeficiente_Variacao_Nota_Geral']]\n",
    "\n",
    "\n",
    "print(resultado_final.to_string(index=False))"
   ]
  },
  {
   "cell_type": "code",
   "execution_count": 11,
   "metadata": {},
   "outputs": [
    {
     "name": "stdout",
     "output_type": "stream",
     "text": [
      "Tipo_escola\n",
      "A    35.121212\n",
      "B    46.333333\n",
      "D    51.500000\n",
      "E    24.333333\n",
      "Name: Nota_geral, dtype: float64\n"
     ]
    }
   ],
   "source": [
    "def calcular_media_nota_geral_por_resposta(dataframe):\n",
    "    media_por_resposta = dataframe.groupby('Tipo_escola')['Nota_geral'].mean()\n",
    "    \n",
    "    return media_por_resposta\n",
    "\n",
    "media_nota_geral_por_resposta = calcular_media_nota_geral_por_resposta(regiao_norte_cc)\n",
    "print(media_nota_geral_por_resposta)"
   ]
  },
  {
   "cell_type": "code",
   "execution_count": 12,
   "metadata": {},
   "outputs": [
    {
     "name": "stdout",
     "output_type": "stream",
     "text": [
      "Tipo_escola  Media_Nota_Geral  Desvio_Padrao_Nota_Geral  Coeficiente_Variacao_Nota_Geral\n",
      "          A         35.121212                 10.956612                         0.311966\n",
      "          B         46.333333                 12.078029                         0.260677\n",
      "          D         51.500000                  0.707107                         0.013730\n",
      "          E         24.333333                  5.507571                         0.226339\n"
     ]
    }
   ],
   "source": [
    "grupo_escolaridade = regiao_norte_cc.groupby('Tipo_escola')\n",
    "\n",
    "estatisticas_por_escolaridade = grupo_escolaridade['Nota_geral'].agg(['mean', 'std', 'var'])\n",
    "\n",
    "estatisticas_por_escolaridade['Coeficiente_Variacao_Nota_Geral'] = (estatisticas_por_escolaridade['std'] / estatisticas_por_escolaridade['mean']) \n",
    "\n",
    "estatisticas_por_escolaridade.columns = ['Media_Nota_Geral', 'Desvio_Padrao_Nota_Geral', 'Variancia_Nota_Geral', 'Coeficiente_Variacao_Nota_Geral']\n",
    "\n",
    "estatisticas_por_escolaridade['Tipo_escola'] = estatisticas_por_escolaridade.index\n",
    "resultado_final = estatisticas_por_escolaridade[['Tipo_escola', 'Media_Nota_Geral', 'Desvio_Padrao_Nota_Geral', 'Coeficiente_Variacao_Nota_Geral']]\n",
    "\n",
    "\n",
    "print(resultado_final.to_string(index=False))"
   ]
  },
  {
   "cell_type": "code",
   "execution_count": 13,
   "metadata": {},
   "outputs": [
    {
     "name": "stdout",
     "output_type": "stream",
     "text": [
      "Horas_estudos\n",
      "A    25.666667\n",
      "B    37.666667\n",
      "C    40.055556\n",
      "D    41.666667\n",
      "E    33.000000\n",
      "Name: Nota_geral, dtype: float64\n"
     ]
    }
   ],
   "source": [
    "def calcular_media_nota_geral_por_resposta(dataframe):\n",
    "    media_por_resposta = dataframe.groupby('Horas_estudos')['Nota_geral'].mean()\n",
    "    \n",
    "    return media_por_resposta\n",
    "\n",
    "media_nota_geral_por_resposta = calcular_media_nota_geral_por_resposta(regiao_norte_cc)\n",
    "print(media_nota_geral_por_resposta)"
   ]
  },
  {
   "cell_type": "code",
   "execution_count": 14,
   "metadata": {},
   "outputs": [
    {
     "name": "stdout",
     "output_type": "stream",
     "text": [
      "Horas_estudos  Media_Nota_Geral  Desvio_Padrao_Nota_Geral  Coeficiente_Variacao_Nota_Geral\n",
      "            A         25.666667                  7.505553                         0.292424\n",
      "            B         37.666667                  9.035876                         0.239891\n",
      "            C         40.055556                 14.999891                         0.374477\n",
      "            D         41.666667                 13.515423                         0.324370\n",
      "            E         33.000000                 11.832160                         0.358550\n"
     ]
    }
   ],
   "source": [
    "grupo_escolaridade = regiao_norte_cc.groupby('Horas_estudos')\n",
    "\n",
    "estatisticas_por_escolaridade = grupo_escolaridade['Nota_geral'].agg(['mean', 'std', 'var'])\n",
    "\n",
    "estatisticas_por_escolaridade['Coeficiente_Variacao_Nota_Geral'] = (estatisticas_por_escolaridade['std'] / estatisticas_por_escolaridade['mean']) \n",
    "\n",
    "estatisticas_por_escolaridade.columns = ['Media_Nota_Geral', 'Desvio_Padrao_Nota_Geral', 'Variancia_Nota_Geral', 'Coeficiente_Variacao_Nota_Geral']\n",
    "\n",
    "estatisticas_por_escolaridade['Horas_estudos'] = estatisticas_por_escolaridade.index\n",
    "resultado_final = estatisticas_por_escolaridade[['Horas_estudos', 'Media_Nota_Geral', 'Desvio_Padrao_Nota_Geral', 'Coeficiente_Variacao_Nota_Geral']]\n",
    "\n",
    "\n",
    "print(resultado_final.to_string(index=False))"
   ]
  }
 ],
 "metadata": {
  "kernelspec": {
   "display_name": "Python 3",
   "language": "python",
   "name": "python3"
  },
  "language_info": {
   "codemirror_mode": {
    "name": "ipython",
    "version": 3
   },
   "file_extension": ".py",
   "mimetype": "text/x-python",
   "name": "python",
   "nbconvert_exporter": "python",
   "pygments_lexer": "ipython3",
   "version": "3.12.0"
  }
 },
 "nbformat": 4,
 "nbformat_minor": 2
}
