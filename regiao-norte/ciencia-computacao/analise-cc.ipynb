{
 "cells": [
  {
   "cell_type": "code",
   "execution_count": 2,
   "metadata": {},
   "outputs": [],
   "source": [
    "import pandas as pd\n",
    "import numpy as np\n",
    "import matplotlib as plt"
   ]
  },
  {
   "cell_type": "code",
   "execution_count": 14,
   "metadata": {},
   "outputs": [
    {
     "name": "stdout",
     "output_type": "stream",
     "text": [
      "     Cod_curso  Cod_grupo_curso  Cod_regiao_curso Nota_geral Escolaridade_pai  \\\n",
      "0        12025             4004                 1        NaN                D   \n",
      "1        12025             4004                 1       48,6                C   \n",
      "2        12025             4004                 1       63,2                E   \n",
      "3        12025             4004                 1       51,1                C   \n",
      "4        12025             4004                 1        NaN              NaN   \n",
      "..         ...              ...               ...        ...              ...   \n",
      "621      73438             4004                 1        NaN                B   \n",
      "622      73438             4004                 1        NaN                D   \n",
      "623      73438             4004                 1        NaN                D   \n",
      "624      73438             4004                 1        NaN                E   \n",
      "625      73438             4004                 1        NaN                A   \n",
      "\n",
      "    Escolaridade_mae Renda Tipo_escola Horas_estudos  \n",
      "0                  B     A           A             B  \n",
      "1                  D     A           A             C  \n",
      "2                  E     D           B             C  \n",
      "3                  D     B           B             B  \n",
      "4                NaN   NaN         NaN           NaN  \n",
      "..               ...   ...         ...           ...  \n",
      "621                C     B           A             C  \n",
      "622                D     C           E             C  \n",
      "623                D     D           A             B  \n",
      "624                F     A           A             B  \n",
      "625                B     A           A             C  \n",
      "\n",
      "[626 rows x 9 columns]\n"
     ]
    }
   ],
   "source": [
    "regiao_norte_cc = pd.read_csv('regiao-norte-cc.csv', sep=',')\n",
    "\n",
    "print(regiao_norte_cc)"
   ]
  },
  {
   "cell_type": "code",
   "execution_count": 6,
   "metadata": {},
   "outputs": [
    {
     "name": "stdout",
     "output_type": "stream",
     "text": [
      "Cod_curso             0\n",
      "Cod_grupo_curso       0\n",
      "Cod_regiao_curso      0\n",
      "Nota_geral          211\n",
      "Escolaridade_pai    149\n",
      "Escolaridade_mae    149\n",
      "Renda               149\n",
      "Tipo_escola         149\n",
      "Horas_estudos       149\n",
      "dtype: int64\n"
     ]
    }
   ],
   "source": [
    "valores_nulos = regiao_norte_cc.isnull()\n",
    "contagem = valores_nulos.sum()\n",
    "\n",
    "print(contagem)"
   ]
  },
  {
   "cell_type": "code",
   "execution_count": null,
   "metadata": {},
   "outputs": [],
   "source": [
    "regiao_norte_cc.dropna(inplace=True)"
   ]
  },
  {
   "cell_type": "code",
   "execution_count": null,
   "metadata": {},
   "outputs": [
    {
     "name": "stdout",
     "output_type": "stream",
     "text": [
      "Escolaridade_pai\n",
      "D    163\n",
      "E     82\n",
      "B     69\n",
      "C     51\n",
      "F     29\n",
      "A     19\n",
      "Name: count, dtype: int64\n"
     ]
    }
   ],
   "source": [
    "escolaridade_pai = regiao_norte_cc['Escolaridade_pai'].value_counts()\n",
    "\n",
    "print(escolaridade_pai)"
   ]
  },
  {
   "cell_type": "code",
   "execution_count": null,
   "metadata": {},
   "outputs": [
    {
     "name": "stdout",
     "output_type": "stream",
     "text": [
      "     Cod_curso  Cod_grupo_curso  Cod_regiao_curso Nota_geral Escolaridade_pai  \\\n",
      "47       12025             4004                 1       28,5                A   \n",
      "121      22061             4004                 1       39,9                A   \n",
      "128      22061             4004                 1       31,8                A   \n",
      "177      41238             4004                 1       53,8                A   \n",
      "202      43664             4004                 1       28,7                A   \n",
      "233      50888             4004                 1       28,8                A   \n",
      "304      73438             4004                 1       26,1                A   \n",
      "315      98305             4004                 1       38,2                A   \n",
      "352      98957             4004                 1         41                A   \n",
      "361      98957             4004                 1       35,1                A   \n",
      "457     106996             4004                 1       35,9                A   \n",
      "504    1148708             4004                 1       47,2                A   \n",
      "513    1187671             4004                 1       40,9                A   \n",
      "528    1187671             4004                 1       40,7                A   \n",
      "533    1187671             4004                 1       43,2                A   \n",
      "535    1187671             4004                 1       35,1                A   \n",
      "545    1187671             4004                 1       18,9                A   \n",
      "559    5000951             4004                 1         30                A   \n",
      "564    5000951             4004                 1       36,6                A   \n",
      "\n",
      "    Escolaridade_mae Renda Tipo_escola Horas_estudos  \n",
      "47                 A     D           A             B  \n",
      "121                C     B           A             C  \n",
      "128                F     B           E             B  \n",
      "177                B     A           A             C  \n",
      "202                E     A           A             D  \n",
      "233                B     B           A             C  \n",
      "304                C     B           A             B  \n",
      "315                E     C           A             C  \n",
      "352                D     B           A             B  \n",
      "361                C     E           A             B  \n",
      "457                B     B           A             B  \n",
      "504                D     C           A             E  \n",
      "513                A     A           A             D  \n",
      "528                B     A           A             B  \n",
      "533                B     D           A             E  \n",
      "535                A     A           A             C  \n",
      "545                B     E           A             B  \n",
      "559                C     A           A             C  \n",
      "564                E     D           A             C  \n"
     ]
    }
   ],
   "source": [
    "pai_sem_escolaridade = regiao_norte_cc[regiao_norte_cc['Escolaridade_pai'] == 'A']\n",
    "\n",
    "print(pai_sem_escolaridade)"
   ]
  },
  {
   "cell_type": "code",
   "execution_count": null,
   "metadata": {},
   "outputs": [
    {
     "name": "stdout",
     "output_type": "stream",
     "text": [
      "35.81052631578948\n"
     ]
    },
    {
     "name": "stderr",
     "output_type": "stream",
     "text": [
      "C:\\Users\\letic\\AppData\\Local\\Temp\\ipykernel_5572\\2104697514.py:2: SettingWithCopyWarning: \n",
      "A value is trying to be set on a copy of a slice from a DataFrame.\n",
      "Try using .loc[row_indexer,col_indexer] = value instead\n",
      "\n",
      "See the caveats in the documentation: https://pandas.pydata.org/pandas-docs/stable/user_guide/indexing.html#returning-a-view-versus-a-copy\n",
      "  pai_sem_escolaridade['Nota_geral'] = pai_sem_escolaridade['Nota_geral'].str.replace(',', '.').astype(float)\n"
     ]
    }
   ],
   "source": [
    "if pai_sem_escolaridade['Nota_geral'].dtype == 'O':  \n",
    "    pai_sem_escolaridade['Nota_geral'] = pai_sem_escolaridade['Nota_geral'].str.replace(',', '.').astype(float)\n",
    "\n",
    "media_notas = pai_sem_escolaridade['Nota_geral'].mean(skipna=True)\n",
    "\n",
    "\n",
    "print(media_notas)"
   ]
  },
  {
   "cell_type": "code",
   "execution_count": null,
   "metadata": {},
   "outputs": [
    {
     "name": "stdout",
     "output_type": "stream",
     "text": [
      "     Cod_curso  Cod_grupo_curso  Cod_regiao_curso Nota_geral Escolaridade_pai  \\\n",
      "10       12025             4004                 1       59,6                B   \n",
      "11       12025             4004                 1       39,5                B   \n",
      "104      22061             4004                 1       28,7                B   \n",
      "135      22061             4004                 1       22,7                B   \n",
      "138      22061             4004                 1       13,7                B   \n",
      "..         ...              ...               ...        ...              ...   \n",
      "579    5000951             4004                 1       16,2                B   \n",
      "581    5000951             4004                 1       30,1                B   \n",
      "582    5000951             4004                 1       35,1                B   \n",
      "586    5000951             4004                 1       33,7                B   \n",
      "595    5000951             4004                 1       28,7                B   \n",
      "\n",
      "    Escolaridade_mae Renda Tipo_escola Horas_estudos  \n",
      "10                 C     B           A             C  \n",
      "11                 E     A           B             A  \n",
      "104                D     C           A             B  \n",
      "135                B     A           A             B  \n",
      "138                E     A           A             B  \n",
      "..               ...   ...         ...           ...  \n",
      "579                C     A           A             C  \n",
      "581                D     A           A             B  \n",
      "582                D     A           A             B  \n",
      "586                D     A           A             B  \n",
      "595                C     B           A             B  \n",
      "\n",
      "[69 rows x 9 columns]\n"
     ]
    }
   ],
   "source": [
    "pai_ate_naosei = regiao_norte_cc[regiao_norte_cc['Escolaridade_pai'] == 'B']\n",
    "\n",
    "print(pai_ate_naosei)"
   ]
  },
  {
   "cell_type": "code",
   "execution_count": null,
   "metadata": {},
   "outputs": [
    {
     "name": "stdout",
     "output_type": "stream",
     "text": [
      "32.42898550724637\n"
     ]
    },
    {
     "name": "stderr",
     "output_type": "stream",
     "text": [
      "C:\\Users\\letic\\AppData\\Local\\Temp\\ipykernel_5572\\2248042766.py:2: SettingWithCopyWarning: \n",
      "A value is trying to be set on a copy of a slice from a DataFrame.\n",
      "Try using .loc[row_indexer,col_indexer] = value instead\n",
      "\n",
      "See the caveats in the documentation: https://pandas.pydata.org/pandas-docs/stable/user_guide/indexing.html#returning-a-view-versus-a-copy\n",
      "  pai_ate_naosei['Nota_geral'] = pai_ate_naosei['Nota_geral'].str.replace(',', '.').astype(float)\n"
     ]
    }
   ],
   "source": [
    "if pai_ate_naosei['Nota_geral'].dtype == 'O':  \n",
    "    pai_ate_naosei['Nota_geral'] = pai_ate_naosei['Nota_geral'].str.replace(',', '.').astype(float)\n",
    "\n",
    "media_notas_b = pai_ate_naosei['Nota_geral'].mean()\n",
    "\n",
    "\n",
    "print(media_notas_b)"
   ]
  },
  {
   "cell_type": "code",
   "execution_count": null,
   "metadata": {},
   "outputs": [
    {
     "name": "stdout",
     "output_type": "stream",
     "text": [
      "     Cod_curso  Cod_grupo_curso  Cod_regiao_curso Nota_geral Escolaridade_pai  \\\n",
      "1        12025             4004                 1       48,6                C   \n",
      "3        12025             4004                 1       51,1                C   \n",
      "5        12025             4004                 1       39,3                C   \n",
      "8        12025             4004                 1       53,3                C   \n",
      "18       12025             4004                 1       29,2                C   \n",
      "37       12025             4004                 1       38,9                C   \n",
      "53       18250             4004                 1       41,2                C   \n",
      "69       18250             4004                 1       36,4                C   \n",
      "91       20009             4004                 1       25,9                C   \n",
      "92       20009             4004                 1       36,5                C   \n",
      "103      22061             4004                 1       28,2                C   \n",
      "149      22061             4004                 1       22,4                C   \n",
      "157      22061             4004                 1       38,1                C   \n",
      "174      41238             4004                 1       36,4                C   \n",
      "186      41238             4004                 1       55,6                C   \n",
      "190      41238             4004                 1         44                C   \n",
      "200      43664             4004                 1       27,4                C   \n",
      "220      50888             4004                 1       28,7                C   \n",
      "226      50888             4004                 1       27,7                C   \n",
      "250      62484             4004                 1         47                C   \n",
      "261      62484             4004                 1       59,1                C   \n",
      "273      62484             4004                 1       41,2                C   \n",
      "290      62484             4004                 1       68,5                C   \n",
      "291      62484             4004                 1       33,8                C   \n",
      "307      73438             4004                 1       34,2                C   \n",
      "316      98305             4004                 1       32,7                C   \n",
      "368      98957             4004                 1       27,5                C   \n",
      "373      98957             4004                 1       39,5                C   \n",
      "376      98957             4004                 1       31,1                C   \n",
      "378      98957             4004                 1       28,2                C   \n",
      "448     106996             4004                 1       42,1                C   \n",
      "476     318882             4004                 1         31                C   \n",
      "478     318882             4004                 1       43,9                C   \n",
      "479     318882             4004                 1         31                C   \n",
      "480     318882             4004                 1         54                C   \n",
      "485    1076129             4004                 1       22,6                C   \n",
      "497    1076129             4004                 1         33                C   \n",
      "505    1148708             4004                 1       35,4                C   \n",
      "507    1148708             4004                 1       52,4                C   \n",
      "510    1148708             4004                 1       47,5                C   \n",
      "524    1187671             4004                 1       32,4                C   \n",
      "525    1187671             4004                 1       29,3                C   \n",
      "541    1187671             4004                 1       42,1                C   \n",
      "547    1187671             4004                 1       47,7                C   \n",
      "554    5000951             4004                 1       25,5                C   \n",
      "569    5000951             4004                 1       40,6                C   \n",
      "572    5000951             4004                 1       35,3                C   \n",
      "577    5000951             4004                 1       33,2                C   \n",
      "583    5000951             4004                 1         26                C   \n",
      "588    5000951             4004                 1       34,6                C   \n",
      "591    5000951             4004                 1       35,7                C   \n",
      "\n",
      "    Escolaridade_mae Renda Tipo_escola Horas_estudos  \n",
      "1                  D     A           A             C  \n",
      "3                  D     B           B             B  \n",
      "5                  B     B           A             E  \n",
      "8                  F     B           A             D  \n",
      "18                 D     C           A             C  \n",
      "37                 C     D           A             C  \n",
      "53                 E     A           A             D  \n",
      "69                 C     C           A             C  \n",
      "91                 D     C           B             E  \n",
      "92                 D     C           A             C  \n",
      "103                B     B           D             C  \n",
      "149                D     A           A             B  \n",
      "157                D     B           B             C  \n",
      "174                C     B           A             D  \n",
      "186                C     C           A             C  \n",
      "190                C     C           A             E  \n",
      "200                F     A           A             B  \n",
      "220                E     B           A             A  \n",
      "226                D     A           A             A  \n",
      "250                D     A           B             E  \n",
      "261                D     C           A             E  \n",
      "273                D     A           A             C  \n",
      "290                C     B           B             C  \n",
      "291                E     E           E             C  \n",
      "307                D     C           A             B  \n",
      "316                E     B           A             C  \n",
      "368                E     B           A             B  \n",
      "373                D     A           A             B  \n",
      "376                D     B           A             B  \n",
      "378                C     C           A             C  \n",
      "448                D     A           A             C  \n",
      "476                C     A           A             C  \n",
      "478                E     E           A             B  \n",
      "479                D     B           A             B  \n",
      "480                B     D           A             C  \n",
      "485                C     A           A             C  \n",
      "497                B     A           A             B  \n",
      "505                D     C           B             E  \n",
      "507                D     A           B             C  \n",
      "510                E     D           A             B  \n",
      "524                C     A           A             D  \n",
      "525                C     C           A             C  \n",
      "541                E     A           A             B  \n",
      "547                D     B           A             E  \n",
      "554                C     D           D             B  \n",
      "569                C     A           A             C  \n",
      "572                E     A           A             A  \n",
      "577                D     A           A             B  \n",
      "583                D     B           A             E  \n",
      "588                C     A           A             C  \n",
      "591                C     B           A             C  \n"
     ]
    }
   ],
   "source": [
    "pai_ate_algumacoisa = regiao_norte_cc[regiao_norte_cc['Escolaridade_pai'] == 'C']\n",
    "\n",
    "print(pai_ate_algumacoisa)"
   ]
  },
  {
   "cell_type": "code",
   "execution_count": null,
   "metadata": {},
   "outputs": [
    {
     "name": "stdout",
     "output_type": "stream",
     "text": [
      "37.78431372549019\n"
     ]
    }
   ],
   "source": [
    "if pai_ate_algumacoisa['Nota_geral'].dtype == 'O':  \n",
    "    pai_ate_algumacoisa['Nota_geral'] = pai_ate_algumacoisa['Nota_geral'].str.replace(',', '.').astype(float)\n",
    "\n",
    "media_notas_c = pai_ate_algumacoisa['Nota_geral'].mean()\n",
    "\n",
    "\n",
    "print(media_notas_c)"
   ]
  },
  {
   "cell_type": "code",
   "execution_count": null,
   "metadata": {},
   "outputs": [
    {
     "name": "stdout",
     "output_type": "stream",
     "text": [
      "     Cod_curso  Cod_grupo_curso  Cod_regiao_curso Nota_geral Escolaridade_pai  \\\n",
      "12       12025             4004                 1       54,9                D   \n",
      "13       12025             4004                 1       65,9                D   \n",
      "15       12025             4004                 1       61,1                D   \n",
      "16       12025             4004                 1       46,1                D   \n",
      "19       12025             4004                 1       44,8                D   \n",
      "..         ...              ...               ...        ...              ...   \n",
      "587    5000951             4004                 1       19,6                D   \n",
      "589    5000951             4004                 1       27,4                D   \n",
      "592    5000951             4004                 1       33,3                D   \n",
      "594    5000951             4004                 1       26,6                D   \n",
      "596    5000951             4004                 1       32,5                D   \n",
      "\n",
      "    Escolaridade_mae Renda Tipo_escola Horas_estudos  \n",
      "12                 D     E           A             B  \n",
      "13                 D     B           A             E  \n",
      "15                 D     A           A             E  \n",
      "16                 D     D           A             B  \n",
      "19                 D     C           D             E  \n",
      "..               ...   ...         ...           ...  \n",
      "587                D     A           A             B  \n",
      "589                D     A           A             B  \n",
      "592                D     B           A             B  \n",
      "594                D     A           E             B  \n",
      "596                D     B           A             B  \n",
      "\n",
      "[163 rows x 9 columns]\n"
     ]
    }
   ],
   "source": [
    "pai_ate_outracoisa = regiao_norte_cc[regiao_norte_cc['Escolaridade_pai'] == 'D']\n",
    "\n",
    "print(pai_ate_outracoisa)"
   ]
  },
  {
   "cell_type": "code",
   "execution_count": null,
   "metadata": {},
   "outputs": [
    {
     "name": "stdout",
     "output_type": "stream",
     "text": [
      "38.3079754601227\n"
     ]
    },
    {
     "name": "stderr",
     "output_type": "stream",
     "text": [
      "C:\\Users\\letic\\AppData\\Local\\Temp\\ipykernel_5572\\1174625679.py:2: SettingWithCopyWarning: \n",
      "A value is trying to be set on a copy of a slice from a DataFrame.\n",
      "Try using .loc[row_indexer,col_indexer] = value instead\n",
      "\n",
      "See the caveats in the documentation: https://pandas.pydata.org/pandas-docs/stable/user_guide/indexing.html#returning-a-view-versus-a-copy\n",
      "  pai_ate_outracoisa['Nota_geral'] = pai_ate_outracoisa['Nota_geral'].str.replace(',', '.').astype(float)\n"
     ]
    }
   ],
   "source": [
    "if pai_ate_outracoisa['Nota_geral'].dtype == 'O':  \n",
    "    pai_ate_outracoisa['Nota_geral'] = pai_ate_outracoisa['Nota_geral'].str.replace(',', '.').astype(float)\n",
    "\n",
    "media_notas_d = pai_ate_outracoisa['Nota_geral'].mean()\n",
    "\n",
    "\n",
    "print(media_notas_d)"
   ]
  },
  {
   "cell_type": "code",
   "execution_count": null,
   "metadata": {},
   "outputs": [
    {
     "name": "stdout",
     "output_type": "stream",
     "text": [
      "     Cod_curso  Cod_grupo_curso  Cod_regiao_curso Nota_geral Escolaridade_pai  \\\n",
      "2        12025             4004                 1       63,2                E   \n",
      "22       12025             4004                 1       45,6                E   \n",
      "27       12025             4004                 1       32,7                E   \n",
      "28       12025             4004                 1         43                E   \n",
      "30       12025             4004                 1       34,1                E   \n",
      "..         ...              ...               ...        ...              ...   \n",
      "543    1187671             4004                 1       51,9                E   \n",
      "546    1187671             4004                 1       35,9                E   \n",
      "551    5000951             4004                 1       41,3                E   \n",
      "557    5000951             4004                 1         26                E   \n",
      "585    5000951             4004                 1       44,2                E   \n",
      "\n",
      "    Escolaridade_mae Renda Tipo_escola Horas_estudos  \n",
      "2                  E     D           B             C  \n",
      "22                 F     D           B             C  \n",
      "27                 D     E           B             D  \n",
      "28                 D     E           B             B  \n",
      "30                 E     C           A             B  \n",
      "..               ...   ...         ...           ...  \n",
      "543                F     C           B             A  \n",
      "546                D     B           A             B  \n",
      "551                D     A           A             C  \n",
      "557                C     A           A             A  \n",
      "585                F     E           A             D  \n",
      "\n",
      "[82 rows x 9 columns]\n"
     ]
    }
   ],
   "source": [
    "pai_ate_qualquercoisa = regiao_norte_cc[regiao_norte_cc['Escolaridade_pai'] == 'E']\n",
    "\n",
    "print(pai_ate_qualquercoisa)"
   ]
  },
  {
   "cell_type": "code",
   "execution_count": null,
   "metadata": {},
   "outputs": [
    {
     "name": "stdout",
     "output_type": "stream",
     "text": [
      "42.606097560975606\n"
     ]
    },
    {
     "name": "stderr",
     "output_type": "stream",
     "text": [
      "C:\\Users\\letic\\AppData\\Local\\Temp\\ipykernel_5572\\3950487618.py:2: SettingWithCopyWarning: \n",
      "A value is trying to be set on a copy of a slice from a DataFrame.\n",
      "Try using .loc[row_indexer,col_indexer] = value instead\n",
      "\n",
      "See the caveats in the documentation: https://pandas.pydata.org/pandas-docs/stable/user_guide/indexing.html#returning-a-view-versus-a-copy\n",
      "  pai_ate_qualquercoisa['Nota_geral'] = pai_ate_qualquercoisa['Nota_geral'].str.replace(',', '.').astype(float)\n"
     ]
    }
   ],
   "source": [
    "if pai_ate_qualquercoisa['Nota_geral'].dtype == 'O':  \n",
    "    pai_ate_qualquercoisa['Nota_geral'] = pai_ate_qualquercoisa['Nota_geral'].str.replace(',', '.').astype(float)\n",
    "\n",
    "media_notas_e = pai_ate_qualquercoisa['Nota_geral'].mean()\n",
    "\n",
    "\n",
    "print(media_notas_e)"
   ]
  },
  {
   "cell_type": "code",
   "execution_count": null,
   "metadata": {},
   "outputs": [
    {
     "name": "stdout",
     "output_type": "stream",
     "text": [
      "     Cod_curso  Cod_grupo_curso  Cod_regiao_curso Nota_geral Escolaridade_pai  \\\n",
      "14       12025             4004                 1       70,5                F   \n",
      "17       12025             4004                 1       42,6                F   \n",
      "49       18250             4004                 1       44,7                F   \n",
      "57       18250             4004                 1       40,6                F   \n",
      "65       18250             4004                 1       15,9                F   \n",
      "67       18250             4004                 1       35,5                F   \n",
      "107      22061             4004                 1       43,2                F   \n",
      "132      22061             4004                 1       29,2                F   \n",
      "153      22061             4004                 1       39,9                F   \n",
      "161      22061             4004                 1       30,2                F   \n",
      "197      43664             4004                 1       26,3                F   \n",
      "198      43664             4004                 1       28,2                F   \n",
      "224      50888             4004                 1       43,1                F   \n",
      "247      62484             4004                 1       64,7                F   \n",
      "249      62484             4004                 1       51,3                F   \n",
      "262      62484             4004                 1       53,4                F   \n",
      "263      62484             4004                 1       54,5                F   \n",
      "265      62484             4004                 1       47,1                F   \n",
      "267      62484             4004                 1         55                F   \n",
      "277      62484             4004                 1       57,8                F   \n",
      "284      62484             4004                 1       58,4                F   \n",
      "292      62484             4004                 1       44,9                F   \n",
      "299      73438             4004                 1       40,8                F   \n",
      "319      98305             4004                 1       60,7                F   \n",
      "337      98665             4004                 1       26,6                F   \n",
      "427     106996             4004                 1         64                F   \n",
      "447     106996             4004                 1       62,2                F   \n",
      "566    5000951             4004                 1       35,9                F   \n",
      "590    5000951             4004                 1       18,1                F   \n",
      "\n",
      "    Escolaridade_mae Renda Tipo_escola Horas_estudos  \n",
      "14                 F     G           B             C  \n",
      "17                 D     A           A             D  \n",
      "49                 F     F           B             B  \n",
      "57                 F     F           B             B  \n",
      "65                 F     E           B             B  \n",
      "67                 F     F           E             D  \n",
      "107                F     E           A             C  \n",
      "132                F     C           B             B  \n",
      "153                D     A           A             C  \n",
      "161                E     E           B             D  \n",
      "197                D     C           A             E  \n",
      "198                E     A           B             B  \n",
      "224                E     E           A             C  \n",
      "247                F     B           A             A  \n",
      "249                D     E           B             C  \n",
      "262                C     E           A             B  \n",
      "263                D     A           B             E  \n",
      "265                F     E           B             B  \n",
      "267                F     E           A             C  \n",
      "277                F     C           B             C  \n",
      "284                F     F           B             B  \n",
      "292                E     C           E             E  \n",
      "299                F     B           A             A  \n",
      "319                E     F           B             B  \n",
      "337                F     A           A             C  \n",
      "427                F     F           B             C  \n",
      "447                F     B           A             B  \n",
      "566                F     B           A             C  \n",
      "590                E     B           A             C  \n"
     ]
    }
   ],
   "source": [
    "pai_ate_ultimacoisa = regiao_norte_cc[regiao_norte_cc['Escolaridade_pai'] == 'F']\n",
    "\n",
    "print(pai_ate_ultimacoisa)"
   ]
  },
  {
   "cell_type": "code",
   "execution_count": null,
   "metadata": {},
   "outputs": [
    {
     "name": "stdout",
     "output_type": "stream",
     "text": [
      "42.606097560975606\n"
     ]
    },
    {
     "name": "stderr",
     "output_type": "stream",
     "text": [
      "C:\\Users\\letic\\AppData\\Local\\Temp\\ipykernel_5572\\1857505835.py:2: SettingWithCopyWarning: \n",
      "A value is trying to be set on a copy of a slice from a DataFrame.\n",
      "Try using .loc[row_indexer,col_indexer] = value instead\n",
      "\n",
      "See the caveats in the documentation: https://pandas.pydata.org/pandas-docs/stable/user_guide/indexing.html#returning-a-view-versus-a-copy\n",
      "  pai_ate_ultimacoisa['Nota_geral'] = pai_ate_ultimacoisa['Nota_geral'].str.replace(',', '.').astype(float)\n"
     ]
    }
   ],
   "source": [
    "if pai_ate_ultimacoisa['Nota_geral'].dtype == 'O':  \n",
    "    pai_ate_ultimacoisa['Nota_geral'] = pai_ate_ultimacoisa['Nota_geral'].str.replace(',', '.').astype(float)\n",
    "\n",
    "media_notas_f = pai_ate_qualquercoisa['Nota_geral'].mean()\n",
    "\n",
    "\n",
    "print(media_notas_f)"
   ]
  },
  {
   "cell_type": "code",
   "execution_count": null,
   "metadata": {},
   "outputs": [
    {
     "name": "stdout",
     "output_type": "stream",
     "text": [
      "Escolaridade_mae\n",
      "D    178\n",
      "E     83\n",
      "C     58\n",
      "F     47\n",
      "B     42\n",
      "A      5\n",
      "Name: count, dtype: int64\n"
     ]
    }
   ],
   "source": [
    "escolaridade_mae = regiao_norte_cc['Escolaridade_mae'].value_counts()\n",
    "\n",
    "print(escolaridade_mae)"
   ]
  },
  {
   "cell_type": "code",
   "execution_count": null,
   "metadata": {},
   "outputs": [
    {
     "name": "stdout",
     "output_type": "stream",
     "text": [
      "Renda\n",
      "A    115\n",
      "B    108\n",
      "C     76\n",
      "E     48\n",
      "D     42\n",
      "F     18\n",
      "G      6\n",
      "Name: count, dtype: int64\n"
     ]
    }
   ],
   "source": [
    "renda = regiao_norte_cc['Renda'].value_counts()\n",
    "\n",
    "print(renda)"
   ]
  },
  {
   "cell_type": "code",
   "execution_count": null,
   "metadata": {},
   "outputs": [
    {
     "name": "stdout",
     "output_type": "stream",
     "text": [
      "Tipo_escola\n",
      "A    274\n",
      "B    108\n",
      "E     17\n",
      "D     14\n",
      "Name: count, dtype: int64\n"
     ]
    }
   ],
   "source": [
    "tipo_escola = regiao_norte_cc['Tipo_escola'].value_counts()\n",
    "\n",
    "print(tipo_escola)"
   ]
  },
  {
   "cell_type": "code",
   "execution_count": null,
   "metadata": {},
   "outputs": [
    {
     "name": "stdout",
     "output_type": "stream",
     "text": [
      "Horas_estudos\n",
      "B    163\n",
      "C    128\n",
      "E     50\n",
      "D     49\n",
      "A     23\n",
      "Name: count, dtype: int64\n"
     ]
    }
   ],
   "source": [
    "horas_estudos = regiao_norte_cc['Horas_estudos'].value_counts()\n",
    "\n",
    "print(horas_estudos)"
   ]
  }
 ],
 "metadata": {
  "kernelspec": {
   "display_name": "Python 3",
   "language": "python",
   "name": "python3"
  },
  "language_info": {
   "codemirror_mode": {
    "name": "ipython",
    "version": 3
   },
   "file_extension": ".py",
   "mimetype": "text/x-python",
   "name": "python",
   "nbconvert_exporter": "python",
   "pygments_lexer": "ipython3",
   "version": "3.12.0"
  }
 },
 "nbformat": 4,
 "nbformat_minor": 2
}
