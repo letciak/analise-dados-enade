{
 "cells": [
  {
   "cell_type": "code",
   "execution_count": 1,
   "metadata": {},
   "outputs": [],
   "source": [
    "import pandas as pd\n",
    "import plotly.express as px"
   ]
  },
  {
   "cell_type": "code",
   "execution_count": 2,
   "metadata": {},
   "outputs": [
    {
     "name": "stdout",
     "output_type": "stream",
     "text": [
      "     Cod_curso  Cod_grupo_curso  Cod_regiao_curso Nota_geral Escolaridade_pai  \\\n",
      "0        12025             4004                 1        NaN                D   \n",
      "1        12025             4004                 1       48,6                C   \n",
      "2        12025             4004                 1       63,2                E   \n",
      "3        12025             4004                 1       51,1                C   \n",
      "4        12025             4004                 1        NaN              NaN   \n",
      "..         ...              ...               ...        ...              ...   \n",
      "621      73438             4004                 1        NaN                B   \n",
      "622      73438             4004                 1        NaN                D   \n",
      "623      73438             4004                 1        NaN                D   \n",
      "624      73438             4004                 1        NaN                E   \n",
      "625      73438             4004                 1        NaN                A   \n",
      "\n",
      "    Escolaridade_mae Renda Tipo_escola Horas_estudos  \n",
      "0                  B     A           A             B  \n",
      "1                  D     A           A             C  \n",
      "2                  E     D           B             C  \n",
      "3                  D     B           B             B  \n",
      "4                NaN   NaN         NaN           NaN  \n",
      "..               ...   ...         ...           ...  \n",
      "621                C     B           A             C  \n",
      "622                D     C           E             C  \n",
      "623                D     D           A             B  \n",
      "624                F     A           A             B  \n",
      "625                B     A           A             C  \n",
      "\n",
      "[626 rows x 9 columns]\n"
     ]
    }
   ],
   "source": [
    "regiao_norte_cc = pd.read_csv('regiao-norte-cc.csv', sep=',')\n",
    "\n",
    "print(regiao_norte_cc)"
   ]
  },
  {
   "cell_type": "code",
   "execution_count": 3,
   "metadata": {},
   "outputs": [
    {
     "name": "stdout",
     "output_type": "stream",
     "text": [
      "Cod_curso             0\n",
      "Cod_grupo_curso       0\n",
      "Cod_regiao_curso      0\n",
      "Nota_geral          211\n",
      "Escolaridade_pai    149\n",
      "Escolaridade_mae    149\n",
      "Renda               149\n",
      "Tipo_escola         149\n",
      "Horas_estudos       149\n",
      "dtype: int64\n"
     ]
    }
   ],
   "source": [
    "valores_nulos = regiao_norte_cc.isnull()\n",
    "contagem = valores_nulos.sum()\n",
    "\n",
    "print(contagem)"
   ]
  },
  {
   "cell_type": "code",
   "execution_count": 4,
   "metadata": {},
   "outputs": [],
   "source": [
    "regiao_norte_cc.dropna(inplace=True)"
   ]
  },
  {
   "cell_type": "code",
   "execution_count": 5,
   "metadata": {},
   "outputs": [
    {
     "name": "stdout",
     "output_type": "stream",
     "text": [
      "    Nota_geral Renda Escolaridade_mae Escolaridade_pai\n",
      "1         48,6     A                D                C\n",
      "2         63,2     D                E                E\n",
      "3         51,1     B                D                C\n",
      "5         39,3     B                B                C\n",
      "8         53,3     B                F                C\n",
      "..         ...   ...              ...              ...\n",
      "591       35,7     B                C                C\n",
      "592       33,3     B                D                D\n",
      "594       26,6     A                D                D\n",
      "595       28,7     B                C                B\n",
      "596       32,5     B                D                D\n",
      "\n",
      "[413 rows x 4 columns]\n"
     ]
    }
   ],
   "source": [
    "filtro = ['Nota_geral', 'Renda', 'Escolaridade_mae', 'Escolaridade_pai']\n",
    "dados_explorados = regiao_norte_cc[filtro]\n",
    "\n",
    "print(dados_explorados)"
   ]
  },
  {
   "cell_type": "code",
   "execution_count": 9,
   "metadata": {},
   "outputs": [
    {
     "data": {
      "application/vnd.plotly.v1+json": {
       "config": {
        "plotlyServerURL": "https://plot.ly"
       },
       "data": [
        {
         "alignmentgroup": "True",
         "hovertemplate": "Renda=%{x}<br>Nota Geral=%{y}<extra></extra>",
         "legendgroup": "",
         "marker": {
          "color": "#636efa"
         },
         "name": "",
         "notched": false,
         "offsetgroup": "",
         "orientation": "v",
         "showlegend": false,
         "type": "box",
         "x": [
          "Renda baixa",
          "Renda baixa",
          "Renda baixa",
          "Renda baixa",
          "Renda baixa",
          "Renda alta",
          "Renda baixa",
          "Renda alta",
          "Renda baixa",
          "Renda baixa",
          "Média baixa",
          "Média alta",
          "Média alta",
          "Média alta",
          "Média baixa",
          "Renda baixa",
          "Renda alta",
          "Média alta",
          "Média alta",
          "Renda baixa",
          "Média baixa",
          "Média baixa",
          "Média alta",
          "Média alta",
          "Renda baixa",
          "Renda baixa",
          "Renda baixa",
          "Renda baixa",
          "Média baixa",
          "Renda baixa",
          "Média baixa",
          "Renda baixa",
          "Renda baixa",
          "Média baixa",
          "Média baixa",
          "Renda baixa",
          "Média alta",
          "Renda baixa",
          "Renda baixa",
          "Renda baixa",
          "Renda baixa",
          "Renda baixa",
          "Renda alta",
          "Média alta",
          "Média alta",
          "Média baixa",
          "Renda baixa",
          "Média baixa",
          "Renda baixa",
          "Renda baixa",
          "Média alta",
          "Média alta",
          "Renda baixa",
          "Média alta",
          "Média alta",
          "Média alta",
          "Renda baixa",
          "Média baixa",
          "Média baixa",
          "Média alta",
          "Média baixa",
          "Renda baixa",
          "Renda baixa",
          "Média alta",
          "Renda baixa",
          "Média baixa",
          "Renda baixa",
          "Média alta",
          "Média alta",
          "Renda baixa",
          "Renda baixa",
          "Renda baixa",
          "Média baixa",
          "Renda baixa",
          "Renda baixa",
          "Média alta",
          "Renda baixa",
          "Média alta",
          "Média baixa",
          "Média alta",
          "Média alta",
          "Média baixa",
          "Renda baixa",
          "Média baixa",
          "Média alta",
          "Renda baixa",
          "Média baixa",
          "Média alta",
          "Média baixa",
          "Média baixa",
          "Média baixa",
          "Renda baixa",
          "Média baixa",
          "Renda baixa",
          "Média baixa",
          "Média alta",
          "Média alta",
          "Renda baixa",
          "Média alta",
          "Renda baixa",
          "Média alta",
          "Renda baixa",
          "Renda baixa",
          "Renda baixa",
          "Renda baixa",
          "Renda baixa",
          "Renda baixa",
          "Renda alta",
          "Média alta",
          "Média baixa",
          "Renda baixa",
          "Média alta",
          "Média alta",
          "Média baixa",
          "Renda alta",
          "Média baixa",
          "Renda baixa",
          "Renda baixa",
          "Média baixa",
          "Renda baixa",
          "Renda alta",
          "Média baixa",
          "Média alta",
          "Média alta",
          "Média alta",
          "Média baixa",
          "Média alta",
          "Média baixa",
          "Média alta",
          "Média alta",
          "Renda alta",
          "Renda baixa",
          "Renda baixa",
          "Renda alta",
          "Média baixa",
          "Média baixa",
          "Renda baixa",
          "Renda baixa",
          "Média baixa",
          "Média alta",
          "Média baixa",
          "Média baixa",
          "Média baixa",
          "Renda alta",
          "Renda baixa",
          "Renda baixa",
          "Renda baixa",
          "Renda baixa",
          "Renda baixa",
          "Média baixa",
          "Média baixa",
          "Renda baixa",
          "Média alta",
          "Renda baixa",
          "Renda alta",
          "Renda baixa",
          "Renda alta",
          "Média baixa",
          "Média alta",
          "Média alta",
          "Média alta",
          "Média baixa",
          "Média baixa",
          "Média alta",
          "Renda baixa",
          "Média baixa",
          "Média alta",
          "Média alta",
          "Renda alta",
          "Renda baixa",
          "Renda alta",
          "Renda baixa",
          "Média alta",
          "Renda baixa",
          "Renda alta",
          "Renda baixa",
          "Média alta",
          "Renda baixa",
          "Média alta",
          "Renda baixa",
          "Média baixa",
          "Renda alta",
          "Renda baixa",
          "Média baixa",
          "Renda baixa",
          "Média baixa",
          "Média baixa",
          "Média baixa",
          "Média baixa",
          "Média baixa",
          "Média baixa",
          "Média alta",
          "Renda alta",
          "Média baixa",
          "Média alta",
          "Renda alta",
          "Média alta",
          "Média alta",
          "Média baixa",
          "Média baixa",
          "Média alta",
          "Média baixa",
          "Renda baixa",
          "Renda baixa",
          "Renda alta",
          "Renda baixa",
          "Média baixa",
          "Média alta",
          "Renda alta",
          "Média baixa",
          "Renda alta",
          "Renda alta",
          "Média baixa",
          "Média baixa",
          "Média alta",
          "Média baixa",
          "Média alta",
          "Média alta",
          "Média baixa",
          "Média baixa",
          "Média alta",
          "Média alta",
          "Média alta",
          "Média alta",
          "Média baixa",
          "Renda alta",
          "Média alta",
          "Renda alta",
          "Média alta",
          "Renda baixa",
          "Renda baixa",
          "Renda baixa",
          "Média alta",
          "Média alta",
          "Média alta",
          "Média alta",
          "Renda baixa",
          "Média baixa",
          "Média baixa",
          "Média baixa",
          "Renda baixa",
          "Média alta",
          "Renda alta",
          "Média baixa",
          "Renda alta",
          "Média baixa",
          "Renda baixa",
          "Renda alta",
          "Renda baixa",
          "Renda baixa",
          "Média baixa",
          "Média baixa",
          "Renda baixa",
          "Média baixa",
          "Média baixa",
          "Renda baixa",
          "Renda baixa",
          "Renda baixa",
          "Média alta",
          "Média alta",
          "Renda alta",
          "Renda baixa",
          "Média baixa",
          "Renda baixa",
          "Renda alta",
          "Média alta",
          "Renda baixa",
          "Média baixa",
          "Renda alta",
          "Média baixa",
          "Renda baixa",
          "Média baixa",
          "Média alta",
          "Média alta",
          "Renda alta",
          "Média alta",
          "Renda alta",
          "Renda baixa",
          "Renda alta",
          "Média baixa",
          "Média baixa",
          "Renda baixa",
          "Média alta",
          "Média alta",
          "Renda alta",
          "Média alta",
          "Renda baixa",
          "Renda alta",
          "Média alta",
          "Média alta",
          "Média alta",
          "Renda alta",
          "Renda alta",
          "Renda baixa",
          "Renda alta",
          "Média alta",
          "Renda alta",
          "Média baixa",
          "Média alta",
          "Renda alta",
          "Média baixa",
          "Renda baixa",
          "Renda alta",
          "Renda alta",
          "Renda baixa",
          "Média alta",
          "Média alta",
          "Renda alta",
          "Média baixa",
          "Média alta",
          "Média alta",
          "Média alta",
          "Média alta",
          "Média alta",
          "Média alta",
          "Média baixa",
          "Média baixa",
          "Renda baixa",
          "Renda alta",
          "Renda alta",
          "Média alta",
          "Média alta",
          "Média alta",
          "Média alta",
          "Média alta",
          "Média baixa",
          "Renda baixa",
          "Renda baixa",
          "Renda alta",
          "Média baixa",
          "Média baixa",
          "Renda alta",
          "Renda baixa",
          "Média alta",
          "Média alta",
          "Renda baixa",
          "Renda baixa",
          "Média alta",
          "Média baixa",
          "Média alta",
          "Renda alta",
          "Média baixa",
          "Renda alta",
          "Renda alta",
          "Renda alta",
          "Média alta",
          "Média alta",
          "Média alta",
          "Renda alta",
          "Média baixa",
          "Média baixa",
          "Renda baixa",
          "Renda alta",
          "Renda baixa",
          "Média baixa",
          "Renda baixa",
          "Média baixa",
          "Média baixa",
          "Renda alta",
          "Renda baixa",
          "Média baixa",
          "Média alta",
          "Média alta",
          "Renda alta",
          "Renda baixa",
          "Renda alta",
          "Renda alta",
          "Média baixa",
          "Renda alta",
          "Média alta",
          "Média baixa",
          "Renda alta",
          "Renda baixa",
          "Média baixa",
          "Renda alta",
          "Renda alta",
          "Renda alta",
          "Média alta",
          "Média alta",
          "Média alta",
          "Média alta",
          "Renda alta",
          "Média alta",
          "Média alta",
          "Média baixa",
          "Média baixa",
          "Média alta",
          "Média baixa",
          "Renda baixa",
          "Média alta",
          "Média alta",
          "Renda alta",
          "Renda baixa",
          "Média alta",
          "Renda alta",
          "Renda alta",
          "Média baixa",
          "Média alta",
          "Média baixa",
          "Média baixa",
          "Renda alta",
          "Renda alta",
          "Média baixa",
          "Média baixa",
          "Média baixa",
          "Renda alta",
          "Média baixa",
          "Média baixa",
          "Renda alta",
          "Renda alta",
          "Média alta",
          "Renda alta",
          "Renda baixa"
         ],
         "x0": " ",
         "xaxis": "x",
         "y": [
          "12,9",
          "13,3",
          "13,7",
          "13,9",
          "13,9",
          "15,2",
          "15,5",
          "15,9",
          "16,2",
          "16,4",
          "16,8",
          "17,1",
          "17,6",
          "18",
          "18,1",
          "18,9",
          "18,9",
          "19,3",
          "19,3",
          "19,6",
          "20",
          "20",
          "20",
          "20,5",
          "20,7",
          "21",
          "21,6",
          "21,8",
          "22,1",
          "22,2",
          "22,3",
          "22,3",
          "22,4",
          "22,5",
          "22,5",
          "22,6",
          "22,7",
          "22,7",
          "23,5",
          "23,5",
          "23,6",
          "23,6",
          "24,2",
          "24,2",
          "24,4",
          "24,6",
          "24,9",
          "25",
          "25",
          "25,1",
          "25,4",
          "25,5",
          "25,6",
          "25,8",
          "25,9",
          "26",
          "26",
          "26",
          "26,1",
          "26,3",
          "26,5",
          "26,6",
          "26,6",
          "26,7",
          "26,8",
          "27",
          "27,1",
          "27,1",
          "27,3",
          "27,4",
          "27,4",
          "27,4",
          "27,5",
          "27,7",
          "27,7",
          "27,7",
          "27,8",
          "27,9",
          "28",
          "28,1",
          "28,2",
          "28,2",
          "28,2",
          "28,4",
          "28,5",
          "28,7",
          "28,7",
          "28,7",
          "28,7",
          "28,8",
          "28,8",
          "29",
          "29,1",
          "29,1",
          "29,2",
          "29,2",
          "29,2",
          "29,3",
          "29,3",
          "29,4",
          "29,5",
          "29,7",
          "29,9",
          "30",
          "30",
          "30",
          "30,1",
          "30,2",
          "30,3",
          "30,3",
          "30,3",
          "30,3",
          "30,6",
          "30,7",
          "30,7",
          "30,7",
          "30,7",
          "30,8",
          "31",
          "31",
          "31",
          "31,1",
          "31,1",
          "31,1",
          "31,2",
          "31,4",
          "31,4",
          "31,8",
          "31,9",
          "31,9",
          "31,9",
          "32",
          "32,1",
          "32,1",
          "32,3",
          "32,4",
          "32,4",
          "32,4",
          "32,5",
          "32,5",
          "32,5",
          "32,6",
          "32,7",
          "32,7",
          "32,9",
          "32,9",
          "33",
          "33",
          "33,2",
          "33,3",
          "33,3",
          "33,4",
          "33,6",
          "33,7",
          "33,8",
          "33,8",
          "33,8",
          "33,9",
          "34",
          "34,1",
          "34,2",
          "34,2",
          "34,5",
          "34,5",
          "34,6",
          "34,7",
          "34,8",
          "34,9",
          "35",
          "35,1",
          "35,1",
          "35,1",
          "35,2",
          "35,2",
          "35,2",
          "35,3",
          "35,3",
          "35,4",
          "35,4",
          "35,4",
          "35,5",
          "35,5",
          "35,6",
          "35,7",
          "35,8",
          "35,9",
          "35,9",
          "35,9",
          "35,9",
          "36",
          "36",
          "36,3",
          "36,3",
          "36,4",
          "36,4",
          "36,4",
          "36,4",
          "36,5",
          "36,5",
          "36,5",
          "36,6",
          "36,7",
          "36,7",
          "37",
          "37",
          "37,2",
          "37,4",
          "37,5",
          "37,5",
          "37,8",
          "37,8",
          "38",
          "38",
          "38,1",
          "38,2",
          "38,3",
          "38,4",
          "38,7",
          "38,7",
          "38,7",
          "38,8",
          "38,9",
          "38,9",
          "39,3",
          "39,3",
          "39,4",
          "39,4",
          "39,4",
          "39,4",
          "39,5",
          "39,5",
          "39,5",
          "39,6",
          "39,7",
          "39,8",
          "39,8",
          "39,8",
          "39,8",
          "39,9",
          "39,9",
          "39,9",
          "40,3",
          "40,3",
          "40,4",
          "40,4",
          "40,5",
          "40,6",
          "40,6",
          "40,7",
          "40,7",
          "40,8",
          "40,8",
          "40,9",
          "41",
          "41,2",
          "41,2",
          "41,2",
          "41,3",
          "41,6",
          "41,9",
          "42",
          "42,1",
          "42,1",
          "42,1",
          "42,2",
          "42,2",
          "42,2",
          "42,3",
          "42,3",
          "42,5",
          "42,6",
          "42,8",
          "42,9",
          "43",
          "43",
          "43",
          "43,1",
          "43,2",
          "43,2",
          "43,2",
          "43,2",
          "43,2",
          "43,2",
          "43,3",
          "43,3",
          "43,5",
          "43,9",
          "43,9",
          "44",
          "44,1",
          "44,2",
          "44,2",
          "44,3",
          "44,3",
          "44,5",
          "44,6",
          "44,6",
          "44,6",
          "44,7",
          "44,7",
          "44,7",
          "44,7",
          "44,8",
          "44,8",
          "44,8",
          "44,8",
          "44,9",
          "45,1",
          "45,2",
          "45,4",
          "45,6",
          "45,8",
          "46",
          "46,1",
          "46,1",
          "46,2",
          "46,7",
          "47",
          "47",
          "47,1",
          "47,2",
          "47,2",
          "47,5",
          "47,5",
          "47,5",
          "47,7",
          "48",
          "48,6",
          "48,7",
          "49,3",
          "49,8",
          "49,9",
          "50",
          "50,4",
          "50,4",
          "50,7",
          "50,7",
          "50,8",
          "50,9",
          "51",
          "51",
          "51,1",
          "51,3",
          "51,4",
          "51,5",
          "51,6",
          "51,9",
          "52",
          "52,1",
          "52,2",
          "52,4",
          "52,4",
          "52,6",
          "52,6",
          "52,8",
          "52,8",
          "53,2",
          "53,3",
          "53,4",
          "53,8",
          "53,8",
          "53,9",
          "54",
          "54,5",
          "54,5",
          "54,9",
          "55",
          "55",
          "55,6",
          "55,6",
          "55,9",
          "55,9",
          "56,1",
          "57,1",
          "57,2",
          "57,2",
          "57,3",
          "57,6",
          "57,8",
          "57,8",
          "58",
          "58,4",
          "58,9",
          "59,1",
          "59,6",
          "59,7",
          "59,7",
          "59,8",
          "6,1",
          "60,3",
          "60,4",
          "60,7",
          "61,1",
          "61,3",
          "61,8",
          "61,8",
          "62,2",
          "63,2",
          "63,6",
          "63,7",
          "64",
          "64,5",
          "64,7",
          "65,9",
          "66,3",
          "67,5",
          "68,5",
          "69,5",
          "70,5",
          "72,2",
          "74",
          "76,6",
          "9,8"
         ],
         "y0": " ",
         "yaxis": "y"
        }
       ],
       "layout": {
        "boxmode": "group",
        "legend": {
         "tracegroupgap": 0
        },
        "margin": {
         "t": 60
        },
        "template": {
         "data": {
          "bar": [
           {
            "error_x": {
             "color": "#2a3f5f"
            },
            "error_y": {
             "color": "#2a3f5f"
            },
            "marker": {
             "line": {
              "color": "#E5ECF6",
              "width": 0.5
             },
             "pattern": {
              "fillmode": "overlay",
              "size": 10,
              "solidity": 0.2
             }
            },
            "type": "bar"
           }
          ],
          "barpolar": [
           {
            "marker": {
             "line": {
              "color": "#E5ECF6",
              "width": 0.5
             },
             "pattern": {
              "fillmode": "overlay",
              "size": 10,
              "solidity": 0.2
             }
            },
            "type": "barpolar"
           }
          ],
          "carpet": [
           {
            "aaxis": {
             "endlinecolor": "#2a3f5f",
             "gridcolor": "white",
             "linecolor": "white",
             "minorgridcolor": "white",
             "startlinecolor": "#2a3f5f"
            },
            "baxis": {
             "endlinecolor": "#2a3f5f",
             "gridcolor": "white",
             "linecolor": "white",
             "minorgridcolor": "white",
             "startlinecolor": "#2a3f5f"
            },
            "type": "carpet"
           }
          ],
          "choropleth": [
           {
            "colorbar": {
             "outlinewidth": 0,
             "ticks": ""
            },
            "type": "choropleth"
           }
          ],
          "contour": [
           {
            "colorbar": {
             "outlinewidth": 0,
             "ticks": ""
            },
            "colorscale": [
             [
              0,
              "#0d0887"
             ],
             [
              0.1111111111111111,
              "#46039f"
             ],
             [
              0.2222222222222222,
              "#7201a8"
             ],
             [
              0.3333333333333333,
              "#9c179e"
             ],
             [
              0.4444444444444444,
              "#bd3786"
             ],
             [
              0.5555555555555556,
              "#d8576b"
             ],
             [
              0.6666666666666666,
              "#ed7953"
             ],
             [
              0.7777777777777778,
              "#fb9f3a"
             ],
             [
              0.8888888888888888,
              "#fdca26"
             ],
             [
              1,
              "#f0f921"
             ]
            ],
            "type": "contour"
           }
          ],
          "contourcarpet": [
           {
            "colorbar": {
             "outlinewidth": 0,
             "ticks": ""
            },
            "type": "contourcarpet"
           }
          ],
          "heatmap": [
           {
            "colorbar": {
             "outlinewidth": 0,
             "ticks": ""
            },
            "colorscale": [
             [
              0,
              "#0d0887"
             ],
             [
              0.1111111111111111,
              "#46039f"
             ],
             [
              0.2222222222222222,
              "#7201a8"
             ],
             [
              0.3333333333333333,
              "#9c179e"
             ],
             [
              0.4444444444444444,
              "#bd3786"
             ],
             [
              0.5555555555555556,
              "#d8576b"
             ],
             [
              0.6666666666666666,
              "#ed7953"
             ],
             [
              0.7777777777777778,
              "#fb9f3a"
             ],
             [
              0.8888888888888888,
              "#fdca26"
             ],
             [
              1,
              "#f0f921"
             ]
            ],
            "type": "heatmap"
           }
          ],
          "heatmapgl": [
           {
            "colorbar": {
             "outlinewidth": 0,
             "ticks": ""
            },
            "colorscale": [
             [
              0,
              "#0d0887"
             ],
             [
              0.1111111111111111,
              "#46039f"
             ],
             [
              0.2222222222222222,
              "#7201a8"
             ],
             [
              0.3333333333333333,
              "#9c179e"
             ],
             [
              0.4444444444444444,
              "#bd3786"
             ],
             [
              0.5555555555555556,
              "#d8576b"
             ],
             [
              0.6666666666666666,
              "#ed7953"
             ],
             [
              0.7777777777777778,
              "#fb9f3a"
             ],
             [
              0.8888888888888888,
              "#fdca26"
             ],
             [
              1,
              "#f0f921"
             ]
            ],
            "type": "heatmapgl"
           }
          ],
          "histogram": [
           {
            "marker": {
             "pattern": {
              "fillmode": "overlay",
              "size": 10,
              "solidity": 0.2
             }
            },
            "type": "histogram"
           }
          ],
          "histogram2d": [
           {
            "colorbar": {
             "outlinewidth": 0,
             "ticks": ""
            },
            "colorscale": [
             [
              0,
              "#0d0887"
             ],
             [
              0.1111111111111111,
              "#46039f"
             ],
             [
              0.2222222222222222,
              "#7201a8"
             ],
             [
              0.3333333333333333,
              "#9c179e"
             ],
             [
              0.4444444444444444,
              "#bd3786"
             ],
             [
              0.5555555555555556,
              "#d8576b"
             ],
             [
              0.6666666666666666,
              "#ed7953"
             ],
             [
              0.7777777777777778,
              "#fb9f3a"
             ],
             [
              0.8888888888888888,
              "#fdca26"
             ],
             [
              1,
              "#f0f921"
             ]
            ],
            "type": "histogram2d"
           }
          ],
          "histogram2dcontour": [
           {
            "colorbar": {
             "outlinewidth": 0,
             "ticks": ""
            },
            "colorscale": [
             [
              0,
              "#0d0887"
             ],
             [
              0.1111111111111111,
              "#46039f"
             ],
             [
              0.2222222222222222,
              "#7201a8"
             ],
             [
              0.3333333333333333,
              "#9c179e"
             ],
             [
              0.4444444444444444,
              "#bd3786"
             ],
             [
              0.5555555555555556,
              "#d8576b"
             ],
             [
              0.6666666666666666,
              "#ed7953"
             ],
             [
              0.7777777777777778,
              "#fb9f3a"
             ],
             [
              0.8888888888888888,
              "#fdca26"
             ],
             [
              1,
              "#f0f921"
             ]
            ],
            "type": "histogram2dcontour"
           }
          ],
          "mesh3d": [
           {
            "colorbar": {
             "outlinewidth": 0,
             "ticks": ""
            },
            "type": "mesh3d"
           }
          ],
          "parcoords": [
           {
            "line": {
             "colorbar": {
              "outlinewidth": 0,
              "ticks": ""
             }
            },
            "type": "parcoords"
           }
          ],
          "pie": [
           {
            "automargin": true,
            "type": "pie"
           }
          ],
          "scatter": [
           {
            "fillpattern": {
             "fillmode": "overlay",
             "size": 10,
             "solidity": 0.2
            },
            "type": "scatter"
           }
          ],
          "scatter3d": [
           {
            "line": {
             "colorbar": {
              "outlinewidth": 0,
              "ticks": ""
             }
            },
            "marker": {
             "colorbar": {
              "outlinewidth": 0,
              "ticks": ""
             }
            },
            "type": "scatter3d"
           }
          ],
          "scattercarpet": [
           {
            "marker": {
             "colorbar": {
              "outlinewidth": 0,
              "ticks": ""
             }
            },
            "type": "scattercarpet"
           }
          ],
          "scattergeo": [
           {
            "marker": {
             "colorbar": {
              "outlinewidth": 0,
              "ticks": ""
             }
            },
            "type": "scattergeo"
           }
          ],
          "scattergl": [
           {
            "marker": {
             "colorbar": {
              "outlinewidth": 0,
              "ticks": ""
             }
            },
            "type": "scattergl"
           }
          ],
          "scattermapbox": [
           {
            "marker": {
             "colorbar": {
              "outlinewidth": 0,
              "ticks": ""
             }
            },
            "type": "scattermapbox"
           }
          ],
          "scatterpolar": [
           {
            "marker": {
             "colorbar": {
              "outlinewidth": 0,
              "ticks": ""
             }
            },
            "type": "scatterpolar"
           }
          ],
          "scatterpolargl": [
           {
            "marker": {
             "colorbar": {
              "outlinewidth": 0,
              "ticks": ""
             }
            },
            "type": "scatterpolargl"
           }
          ],
          "scatterternary": [
           {
            "marker": {
             "colorbar": {
              "outlinewidth": 0,
              "ticks": ""
             }
            },
            "type": "scatterternary"
           }
          ],
          "surface": [
           {
            "colorbar": {
             "outlinewidth": 0,
             "ticks": ""
            },
            "colorscale": [
             [
              0,
              "#0d0887"
             ],
             [
              0.1111111111111111,
              "#46039f"
             ],
             [
              0.2222222222222222,
              "#7201a8"
             ],
             [
              0.3333333333333333,
              "#9c179e"
             ],
             [
              0.4444444444444444,
              "#bd3786"
             ],
             [
              0.5555555555555556,
              "#d8576b"
             ],
             [
              0.6666666666666666,
              "#ed7953"
             ],
             [
              0.7777777777777778,
              "#fb9f3a"
             ],
             [
              0.8888888888888888,
              "#fdca26"
             ],
             [
              1,
              "#f0f921"
             ]
            ],
            "type": "surface"
           }
          ],
          "table": [
           {
            "cells": {
             "fill": {
              "color": "#EBF0F8"
             },
             "line": {
              "color": "white"
             }
            },
            "header": {
             "fill": {
              "color": "#C8D4E3"
             },
             "line": {
              "color": "white"
             }
            },
            "type": "table"
           }
          ]
         },
         "layout": {
          "annotationdefaults": {
           "arrowcolor": "#2a3f5f",
           "arrowhead": 0,
           "arrowwidth": 1
          },
          "autotypenumbers": "strict",
          "coloraxis": {
           "colorbar": {
            "outlinewidth": 0,
            "ticks": ""
           }
          },
          "colorscale": {
           "diverging": [
            [
             0,
             "#8e0152"
            ],
            [
             0.1,
             "#c51b7d"
            ],
            [
             0.2,
             "#de77ae"
            ],
            [
             0.3,
             "#f1b6da"
            ],
            [
             0.4,
             "#fde0ef"
            ],
            [
             0.5,
             "#f7f7f7"
            ],
            [
             0.6,
             "#e6f5d0"
            ],
            [
             0.7,
             "#b8e186"
            ],
            [
             0.8,
             "#7fbc41"
            ],
            [
             0.9,
             "#4d9221"
            ],
            [
             1,
             "#276419"
            ]
           ],
           "sequential": [
            [
             0,
             "#0d0887"
            ],
            [
             0.1111111111111111,
             "#46039f"
            ],
            [
             0.2222222222222222,
             "#7201a8"
            ],
            [
             0.3333333333333333,
             "#9c179e"
            ],
            [
             0.4444444444444444,
             "#bd3786"
            ],
            [
             0.5555555555555556,
             "#d8576b"
            ],
            [
             0.6666666666666666,
             "#ed7953"
            ],
            [
             0.7777777777777778,
             "#fb9f3a"
            ],
            [
             0.8888888888888888,
             "#fdca26"
            ],
            [
             1,
             "#f0f921"
            ]
           ],
           "sequentialminus": [
            [
             0,
             "#0d0887"
            ],
            [
             0.1111111111111111,
             "#46039f"
            ],
            [
             0.2222222222222222,
             "#7201a8"
            ],
            [
             0.3333333333333333,
             "#9c179e"
            ],
            [
             0.4444444444444444,
             "#bd3786"
            ],
            [
             0.5555555555555556,
             "#d8576b"
            ],
            [
             0.6666666666666666,
             "#ed7953"
            ],
            [
             0.7777777777777778,
             "#fb9f3a"
            ],
            [
             0.8888888888888888,
             "#fdca26"
            ],
            [
             1,
             "#f0f921"
            ]
           ]
          },
          "colorway": [
           "#636efa",
           "#EF553B",
           "#00cc96",
           "#ab63fa",
           "#FFA15A",
           "#19d3f3",
           "#FF6692",
           "#B6E880",
           "#FF97FF",
           "#FECB52"
          ],
          "font": {
           "color": "#2a3f5f"
          },
          "geo": {
           "bgcolor": "white",
           "lakecolor": "white",
           "landcolor": "#E5ECF6",
           "showlakes": true,
           "showland": true,
           "subunitcolor": "white"
          },
          "hoverlabel": {
           "align": "left"
          },
          "hovermode": "closest",
          "mapbox": {
           "style": "light"
          },
          "paper_bgcolor": "white",
          "plot_bgcolor": "#E5ECF6",
          "polar": {
           "angularaxis": {
            "gridcolor": "white",
            "linecolor": "white",
            "ticks": ""
           },
           "bgcolor": "#E5ECF6",
           "radialaxis": {
            "gridcolor": "white",
            "linecolor": "white",
            "ticks": ""
           }
          },
          "scene": {
           "xaxis": {
            "backgroundcolor": "#E5ECF6",
            "gridcolor": "white",
            "gridwidth": 2,
            "linecolor": "white",
            "showbackground": true,
            "ticks": "",
            "zerolinecolor": "white"
           },
           "yaxis": {
            "backgroundcolor": "#E5ECF6",
            "gridcolor": "white",
            "gridwidth": 2,
            "linecolor": "white",
            "showbackground": true,
            "ticks": "",
            "zerolinecolor": "white"
           },
           "zaxis": {
            "backgroundcolor": "#E5ECF6",
            "gridcolor": "white",
            "gridwidth": 2,
            "linecolor": "white",
            "showbackground": true,
            "ticks": "",
            "zerolinecolor": "white"
           }
          },
          "shapedefaults": {
           "line": {
            "color": "#2a3f5f"
           }
          },
          "ternary": {
           "aaxis": {
            "gridcolor": "white",
            "linecolor": "white",
            "ticks": ""
           },
           "baxis": {
            "gridcolor": "white",
            "linecolor": "white",
            "ticks": ""
           },
           "bgcolor": "#E5ECF6",
           "caxis": {
            "gridcolor": "white",
            "linecolor": "white",
            "ticks": ""
           }
          },
          "title": {
           "x": 0.05
          },
          "xaxis": {
           "automargin": true,
           "gridcolor": "white",
           "linecolor": "white",
           "ticks": "",
           "title": {
            "standoff": 15
           },
           "zerolinecolor": "white",
           "zerolinewidth": 2
          },
          "yaxis": {
           "automargin": true,
           "gridcolor": "white",
           "linecolor": "white",
           "ticks": "",
           "title": {
            "standoff": 15
           },
           "zerolinecolor": "white",
           "zerolinewidth": 2
          }
         }
        },
        "title": {
         "text": "Boxplot de Renda em relação à Nota Geral",
         "x": 0.5,
         "y": 0.95
        },
        "xaxis": {
         "anchor": "y",
         "domain": [
          0,
          1
         ],
         "title": {
          "text": "Renda"
         }
        },
        "yaxis": {
         "anchor": "x",
         "domain": [
          0,
          1
         ],
         "title": {
          "text": "Nota Geral"
         }
        }
       }
      }
     },
     "metadata": {},
     "output_type": "display_data"
    }
   ],
   "source": [
    "categorias = {\n",
    "    'A': 'Renda baixa',\n",
    "    'B': 'Média baixa',\n",
    "    'C': 'Média alta',\n",
    "    'D': 'Média alta',\n",
    "    'E': 'Renda alta',\n",
    "    'F': 'Renda alta',\n",
    "    'G': 'Renda alta'\n",
    "}\n",
    "\n",
    "dados_explorados['Categoria'] = dados_explorados['Renda'].map(categorias)\n",
    "\n",
    "#ordenando os dados apenas pela nota geral\n",
    "dados_explorados = dados_explorados.sort_values(by='Nota_geral')\n",
    "\n",
    "fig = px.box(dados_explorados, x='Categoria', y='Nota_geral', \n",
    "             labels={'Categoria': 'Renda', 'Nota_geral': 'Nota Geral'})\n",
    "fig.update_layout(title='Boxplot de Renda em relação à Nota Geral', title_x=0.5, title_y=0.95)\n",
    "fig.show()"
   ]
  },
  {
   "cell_type": "code",
   "execution_count": 7,
   "metadata": {},
   "outputs": [
    {
     "data": {
      "application/vnd.plotly.v1+json": {
       "config": {
        "plotlyServerURL": "https://plot.ly"
       },
       "data": [
        {
         "alignmentgroup": "True",
         "hovertemplate": "Escolaridade da Mãe=%{x}<br>Nota Geral=%{y}<extra></extra>",
         "legendgroup": "",
         "marker": {
          "color": "#636efa"
         },
         "name": "",
         "notched": false,
         "offsetgroup": "",
         "orientation": "v",
         "showlegend": false,
         "type": "box",
         "x": [
          "Ensino fundamental",
          "Ensino médio",
          "Ensino superior",
          "Ensino fundamental",
          "Ensino fundamental",
          "Ensino fundamental",
          "Ensino fundamental",
          "Pós-graduação",
          "Ensino fundamental",
          "Ensino médio",
          "Ensino médio",
          "Ensino fundamental",
          "Ensino médio",
          "Ensino superior",
          "Ensino superior",
          "Ensino superior",
          "Ensino fundamental",
          "Ensino superior",
          "Pós-graduação",
          "Ensino médio",
          "Ensino médio",
          "Ensino superior",
          "Ensino médio",
          "Ensino fundamental",
          "Ensino fundamental",
          "Ensino médio",
          "Ensino médio",
          "Ensino fundamental",
          "Ensino médio",
          "Ensino médio",
          "Ensino médio",
          "Ensino fundamental",
          "Ensino médio",
          "Ensino médio",
          "Ensino médio",
          "Ensino fundamental",
          "Ensino superior",
          "Ensino fundamental",
          "Ensino médio",
          "Ensino fundamental",
          "Ensino fundamental",
          "Ensino médio",
          "Ensino superior",
          "Ensino superior",
          "Ensino médio",
          "Ensino médio",
          "Pós-graduação",
          "Ensino médio",
          "Ensino fundamental",
          "Ensino fundamental",
          "Ensino fundamental",
          "Ensino fundamental",
          "Ensino médio",
          "Ensino fundamental",
          "Ensino médio",
          "Ensino médio",
          "Ensino fundamental",
          "Ensino médio",
          "Ensino fundamental",
          "Ensino médio",
          "Ensino médio",
          "Ensino médio",
          "Pós-graduação",
          "Ensino médio",
          "Ensino fundamental",
          "Ensino fundamental",
          "Ensino fundamental",
          "Ensino superior",
          "Ensino médio",
          "Pós-graduação",
          "Ensino médio",
          "Ensino superior",
          "Ensino superior",
          "Ensino fundamental",
          "Ensino médio",
          "Ensino fundamental",
          "Ensino fundamental",
          "Pós-graduação",
          "Ensino médio",
          "Ensino superior",
          "Ensino fundamental",
          "Ensino fundamental",
          "Ensino superior",
          "Ensino fundamental",
          "Nenhuma escolaridade",
          "Ensino superior",
          "Ensino fundamental",
          "Ensino médio",
          "Ensino superior",
          "Ensino médio",
          "Ensino fundamental",
          "Ensino médio",
          "Ensino médio",
          "Ensino médio",
          "Ensino fundamental",
          "Ensino médio",
          "Pós-graduação",
          "Ensino fundamental",
          "Ensino fundamental",
          "Ensino médio",
          "Ensino médio",
          "Ensino fundamental",
          "Ensino médio",
          "Ensino fundamental",
          "Ensino fundamental",
          "Ensino médio",
          "Ensino médio",
          "Ensino superior",
          "Pós-graduação",
          "Ensino superior",
          "Ensino superior",
          "Ensino médio",
          "Ensino médio",
          "Ensino superior",
          "Ensino médio",
          "Ensino fundamental",
          "Ensino médio",
          "Ensino médio",
          "Ensino médio",
          "Ensino fundamental",
          "Ensino superior",
          "Ensino médio",
          "Ensino médio",
          "Ensino médio",
          "Ensino médio",
          "Ensino médio",
          "Ensino superior",
          "Pós-graduação",
          "Ensino médio",
          "Pós-graduação",
          "Ensino médio",
          "Ensino superior",
          "Ensino médio",
          "Ensino superior",
          "Ensino fundamental",
          "Ensino médio",
          "Ensino médio",
          "Ensino fundamental",
          "Ensino médio",
          "Ensino médio",
          "Ensino médio",
          "Ensino superior",
          "Ensino superior",
          "Ensino médio",
          "Ensino médio",
          "Ensino médio",
          "Ensino médio",
          "Ensino fundamental",
          "Ensino médio",
          "Ensino médio",
          "Ensino fundamental",
          "Ensino fundamental",
          "Ensino fundamental",
          "Ensino médio",
          "Ensino superior",
          "Ensino médio",
          "Ensino médio",
          "Ensino médio",
          "Ensino fundamental",
          "Ensino superior",
          "Ensino médio",
          "Ensino superior",
          "Ensino médio",
          "Ensino superior",
          "Ensino fundamental",
          "Ensino superior",
          "Nenhuma escolaridade",
          "Ensino fundamental",
          "Ensino fundamental",
          "Ensino médio",
          "Ensino fundamental",
          "Nenhuma escolaridade",
          "Ensino médio",
          "Ensino médio",
          "Ensino superior",
          "Ensino superior",
          "Ensino superior",
          "Ensino médio",
          "Ensino médio",
          "Ensino médio",
          "Ensino fundamental",
          "Pós-graduação",
          "Ensino médio",
          "Ensino fundamental",
          "Ensino fundamental",
          "Ensino fundamental",
          "Ensino médio",
          "Ensino médio",
          "Pós-graduação",
          "Ensino superior",
          "Ensino superior",
          "Ensino fundamental",
          "Ensino superior",
          "Ensino fundamental",
          "Ensino fundamental",
          "Nenhuma escolaridade",
          "Ensino médio",
          "Ensino médio",
          "Ensino fundamental",
          "Ensino médio",
          "Ensino superior",
          "Ensino médio",
          "Ensino médio",
          "Ensino médio",
          "Pós-graduação",
          "Pós-graduação",
          "Ensino superior",
          "Ensino médio",
          "Ensino superior",
          "Ensino médio",
          "Ensino médio",
          "Ensino superior",
          "Pós-graduação",
          "Ensino médio",
          "Ensino superior",
          "Ensino fundamental",
          "Pós-graduação",
          "Ensino médio",
          "Ensino médio",
          "Ensino médio",
          "Ensino fundamental",
          "Ensino fundamental",
          "Ensino fundamental",
          "Ensino fundamental",
          "Ensino fundamental",
          "Ensino superior",
          "Ensino médio",
          "Ensino fundamental",
          "Ensino superior",
          "Ensino médio",
          "Ensino superior",
          "Ensino médio",
          "Ensino superior",
          "Ensino superior",
          "Ensino médio",
          "Ensino médio",
          "Ensino médio",
          "Ensino fundamental",
          "Ensino fundamental",
          "Ensino fundamental",
          "Ensino médio",
          "Pós-graduação",
          "Pós-graduação",
          "Ensino médio",
          "Ensino médio",
          "Ensino médio",
          "Ensino fundamental",
          "Pós-graduação",
          "Ensino superior",
          "Ensino fundamental",
          "Pós-graduação",
          "Ensino médio",
          "Nenhuma escolaridade",
          "Ensino médio",
          "Ensino médio",
          "Ensino médio",
          "Ensino superior",
          "Ensino médio",
          "Ensino fundamental",
          "Ensino médio",
          "Ensino fundamental",
          "Ensino superior",
          "Ensino fundamental",
          "Ensino médio",
          "Ensino fundamental",
          "Ensino superior",
          "Ensino médio",
          "Ensino médio",
          "Ensino superior",
          "Ensino superior",
          "Ensino médio",
          "Ensino médio",
          "Ensino fundamental",
          "Ensino fundamental",
          "Ensino médio",
          "Ensino médio",
          "Ensino superior",
          "Ensino fundamental",
          "Pós-graduação",
          "Ensino fundamental",
          "Ensino fundamental",
          "Ensino médio",
          "Ensino fundamental",
          "Pós-graduação",
          "Ensino superior",
          "Ensino fundamental",
          "Ensino médio",
          "Ensino superior",
          "Ensino fundamental",
          "Ensino médio",
          "Ensino médio",
          "Pós-graduação",
          "Ensino superior",
          "Ensino médio",
          "Ensino superior",
          "Ensino médio",
          "Ensino superior",
          "Ensino médio",
          "Ensino superior",
          "Pós-graduação",
          "Ensino fundamental",
          "Ensino médio",
          "Ensino superior",
          "Ensino médio",
          "Ensino médio",
          "Ensino médio",
          "Ensino superior",
          "Ensino médio",
          "Ensino superior",
          "Pós-graduação",
          "Pós-graduação",
          "Ensino médio",
          "Ensino médio",
          "Ensino médio",
          "Ensino superior",
          "Ensino médio",
          "Ensino fundamental",
          "Ensino médio",
          "Ensino fundamental",
          "Pós-graduação",
          "Ensino médio",
          "Ensino fundamental",
          "Ensino superior",
          "Ensino médio",
          "Ensino superior",
          "Ensino médio",
          "Ensino médio",
          "Ensino médio",
          "Ensino médio",
          "Ensino médio",
          "Ensino superior",
          "Ensino fundamental",
          "Pós-graduação",
          "Pós-graduação",
          "Ensino fundamental",
          "Ensino médio",
          "Ensino superior",
          "Ensino superior",
          "Ensino fundamental",
          "Ensino médio",
          "Pós-graduação",
          "Ensino médio",
          "Ensino médio",
          "Pós-graduação",
          "Ensino médio",
          "Ensino médio",
          "Pós-graduação",
          "Ensino médio",
          "Pós-graduação",
          "Ensino fundamental",
          "Ensino médio",
          "Ensino médio",
          "Ensino médio",
          "Ensino médio",
          "Ensino médio",
          "Ensino médio",
          "Ensino médio",
          "Pós-graduação",
          "Ensino fundamental",
          "Ensino fundamental",
          "Ensino médio",
          "Ensino médio",
          "Ensino fundamental",
          "Pós-graduação",
          "Ensino médio",
          "Ensino médio",
          "Pós-graduação",
          "Ensino superior",
          "Ensino superior",
          "Ensino fundamental",
          "Ensino superior",
          "Ensino superior",
          "Ensino médio",
          "Pós-graduação",
          "Ensino médio",
          "Ensino superior",
          "Ensino superior",
          "Ensino superior",
          "Pós-graduação",
          "Ensino médio",
          "Ensino superior",
          "Pós-graduação",
          "Ensino médio",
          "Ensino médio",
          "Ensino fundamental",
          "Ensino fundamental",
          "Pós-graduação",
          "Ensino médio",
          "Ensino médio",
          "Ensino médio",
          "Ensino médio",
          "Ensino superior",
          "Ensino médio",
          "Ensino superior",
          "Pós-graduação",
          "Ensino superior",
          "Pós-graduação",
          "Ensino superior",
          "Ensino superior",
          "Ensino médio",
          "Pós-graduação",
          "Pós-graduação",
          "Pós-graduação",
          "Ensino médio",
          "Ensino médio",
          "Pós-graduação",
          "Ensino fundamental",
          "Ensino médio",
          "Pós-graduação",
          "Ensino médio",
          "Ensino médio",
          "Ensino médio",
          "Ensino superior"
         ],
         "x0": " ",
         "xaxis": "x",
         "y": [
          "12,9",
          "13,3",
          "13,7",
          "13,9",
          "13,9",
          "15,2",
          "15,5",
          "15,9",
          "16,2",
          "16,4",
          "16,8",
          "17,1",
          "17,6",
          "18",
          "18,1",
          "18,9",
          "18,9",
          "19,3",
          "19,3",
          "19,6",
          "20",
          "20",
          "20",
          "20,5",
          "20,7",
          "21",
          "21,6",
          "21,8",
          "22,1",
          "22,2",
          "22,3",
          "22,3",
          "22,4",
          "22,5",
          "22,5",
          "22,6",
          "22,7",
          "22,7",
          "23,5",
          "23,5",
          "23,6",
          "23,6",
          "24,2",
          "24,2",
          "24,4",
          "24,6",
          "24,9",
          "25",
          "25",
          "25,1",
          "25,4",
          "25,5",
          "25,6",
          "25,8",
          "25,9",
          "26",
          "26",
          "26",
          "26,1",
          "26,3",
          "26,5",
          "26,6",
          "26,6",
          "26,7",
          "26,8",
          "27",
          "27,1",
          "27,1",
          "27,3",
          "27,4",
          "27,4",
          "27,4",
          "27,5",
          "27,7",
          "27,7",
          "27,7",
          "27,8",
          "27,9",
          "28",
          "28,1",
          "28,2",
          "28,2",
          "28,2",
          "28,4",
          "28,5",
          "28,7",
          "28,7",
          "28,7",
          "28,7",
          "28,8",
          "28,8",
          "29",
          "29,1",
          "29,1",
          "29,2",
          "29,2",
          "29,2",
          "29,3",
          "29,3",
          "29,4",
          "29,5",
          "29,7",
          "29,9",
          "30",
          "30",
          "30",
          "30,1",
          "30,2",
          "30,3",
          "30,3",
          "30,3",
          "30,3",
          "30,6",
          "30,7",
          "30,7",
          "30,7",
          "30,7",
          "30,8",
          "31",
          "31",
          "31",
          "31,1",
          "31,1",
          "31,1",
          "31,2",
          "31,4",
          "31,4",
          "31,8",
          "31,9",
          "31,9",
          "31,9",
          "32",
          "32,1",
          "32,1",
          "32,3",
          "32,4",
          "32,4",
          "32,4",
          "32,5",
          "32,5",
          "32,5",
          "32,6",
          "32,7",
          "32,7",
          "32,9",
          "32,9",
          "33",
          "33",
          "33,2",
          "33,3",
          "33,3",
          "33,4",
          "33,6",
          "33,7",
          "33,8",
          "33,8",
          "33,8",
          "33,9",
          "34",
          "34,1",
          "34,2",
          "34,2",
          "34,5",
          "34,5",
          "34,6",
          "34,7",
          "34,8",
          "34,9",
          "35",
          "35,1",
          "35,1",
          "35,1",
          "35,2",
          "35,2",
          "35,2",
          "35,3",
          "35,3",
          "35,4",
          "35,4",
          "35,4",
          "35,5",
          "35,5",
          "35,6",
          "35,7",
          "35,8",
          "35,9",
          "35,9",
          "35,9",
          "35,9",
          "36",
          "36",
          "36,3",
          "36,3",
          "36,4",
          "36,4",
          "36,4",
          "36,4",
          "36,5",
          "36,5",
          "36,5",
          "36,6",
          "36,7",
          "36,7",
          "37",
          "37",
          "37,2",
          "37,4",
          "37,5",
          "37,5",
          "37,8",
          "37,8",
          "38",
          "38",
          "38,1",
          "38,2",
          "38,3",
          "38,4",
          "38,7",
          "38,7",
          "38,7",
          "38,8",
          "38,9",
          "38,9",
          "39,3",
          "39,3",
          "39,4",
          "39,4",
          "39,4",
          "39,4",
          "39,5",
          "39,5",
          "39,5",
          "39,6",
          "39,7",
          "39,8",
          "39,8",
          "39,8",
          "39,8",
          "39,9",
          "39,9",
          "39,9",
          "40,3",
          "40,3",
          "40,4",
          "40,4",
          "40,5",
          "40,6",
          "40,6",
          "40,7",
          "40,7",
          "40,8",
          "40,8",
          "40,9",
          "41",
          "41,2",
          "41,2",
          "41,2",
          "41,3",
          "41,6",
          "41,9",
          "42",
          "42,1",
          "42,1",
          "42,1",
          "42,2",
          "42,2",
          "42,2",
          "42,3",
          "42,3",
          "42,5",
          "42,6",
          "42,8",
          "42,9",
          "43",
          "43",
          "43",
          "43,1",
          "43,2",
          "43,2",
          "43,2",
          "43,2",
          "43,2",
          "43,2",
          "43,3",
          "43,3",
          "43,5",
          "43,9",
          "43,9",
          "44",
          "44,1",
          "44,2",
          "44,2",
          "44,3",
          "44,3",
          "44,5",
          "44,6",
          "44,6",
          "44,6",
          "44,7",
          "44,7",
          "44,7",
          "44,7",
          "44,8",
          "44,8",
          "44,8",
          "44,8",
          "44,9",
          "45,1",
          "45,2",
          "45,4",
          "45,6",
          "45,8",
          "46",
          "46,1",
          "46,1",
          "46,2",
          "46,7",
          "47",
          "47",
          "47,1",
          "47,2",
          "47,2",
          "47,5",
          "47,5",
          "47,5",
          "47,7",
          "48",
          "48,6",
          "48,7",
          "49,3",
          "49,8",
          "49,9",
          "50",
          "50,4",
          "50,4",
          "50,7",
          "50,7",
          "50,8",
          "50,9",
          "51",
          "51",
          "51,1",
          "51,3",
          "51,4",
          "51,5",
          "51,6",
          "51,9",
          "52",
          "52,1",
          "52,2",
          "52,4",
          "52,4",
          "52,6",
          "52,6",
          "52,8",
          "52,8",
          "53,2",
          "53,3",
          "53,4",
          "53,8",
          "53,8",
          "53,9",
          "54",
          "54,5",
          "54,5",
          "54,9",
          "55",
          "55",
          "55,6",
          "55,6",
          "55,9",
          "55,9",
          "56,1",
          "57,1",
          "57,2",
          "57,2",
          "57,3",
          "57,6",
          "57,8",
          "57,8",
          "58",
          "58,4",
          "58,9",
          "59,1",
          "59,6",
          "59,7",
          "59,7",
          "59,8",
          "6,1",
          "60,3",
          "60,4",
          "60,7",
          "61,1",
          "61,3",
          "61,8",
          "61,8",
          "62,2",
          "63,2",
          "63,6",
          "63,7",
          "64",
          "64,5",
          "64,7",
          "65,9",
          "66,3",
          "67,5",
          "68,5",
          "69,5",
          "70,5",
          "72,2",
          "74",
          "76,6",
          "9,8"
         ],
         "y0": " ",
         "yaxis": "y"
        }
       ],
       "layout": {
        "boxmode": "group",
        "legend": {
         "tracegroupgap": 0
        },
        "margin": {
         "t": 60
        },
        "template": {
         "data": {
          "bar": [
           {
            "error_x": {
             "color": "#2a3f5f"
            },
            "error_y": {
             "color": "#2a3f5f"
            },
            "marker": {
             "line": {
              "color": "#E5ECF6",
              "width": 0.5
             },
             "pattern": {
              "fillmode": "overlay",
              "size": 10,
              "solidity": 0.2
             }
            },
            "type": "bar"
           }
          ],
          "barpolar": [
           {
            "marker": {
             "line": {
              "color": "#E5ECF6",
              "width": 0.5
             },
             "pattern": {
              "fillmode": "overlay",
              "size": 10,
              "solidity": 0.2
             }
            },
            "type": "barpolar"
           }
          ],
          "carpet": [
           {
            "aaxis": {
             "endlinecolor": "#2a3f5f",
             "gridcolor": "white",
             "linecolor": "white",
             "minorgridcolor": "white",
             "startlinecolor": "#2a3f5f"
            },
            "baxis": {
             "endlinecolor": "#2a3f5f",
             "gridcolor": "white",
             "linecolor": "white",
             "minorgridcolor": "white",
             "startlinecolor": "#2a3f5f"
            },
            "type": "carpet"
           }
          ],
          "choropleth": [
           {
            "colorbar": {
             "outlinewidth": 0,
             "ticks": ""
            },
            "type": "choropleth"
           }
          ],
          "contour": [
           {
            "colorbar": {
             "outlinewidth": 0,
             "ticks": ""
            },
            "colorscale": [
             [
              0,
              "#0d0887"
             ],
             [
              0.1111111111111111,
              "#46039f"
             ],
             [
              0.2222222222222222,
              "#7201a8"
             ],
             [
              0.3333333333333333,
              "#9c179e"
             ],
             [
              0.4444444444444444,
              "#bd3786"
             ],
             [
              0.5555555555555556,
              "#d8576b"
             ],
             [
              0.6666666666666666,
              "#ed7953"
             ],
             [
              0.7777777777777778,
              "#fb9f3a"
             ],
             [
              0.8888888888888888,
              "#fdca26"
             ],
             [
              1,
              "#f0f921"
             ]
            ],
            "type": "contour"
           }
          ],
          "contourcarpet": [
           {
            "colorbar": {
             "outlinewidth": 0,
             "ticks": ""
            },
            "type": "contourcarpet"
           }
          ],
          "heatmap": [
           {
            "colorbar": {
             "outlinewidth": 0,
             "ticks": ""
            },
            "colorscale": [
             [
              0,
              "#0d0887"
             ],
             [
              0.1111111111111111,
              "#46039f"
             ],
             [
              0.2222222222222222,
              "#7201a8"
             ],
             [
              0.3333333333333333,
              "#9c179e"
             ],
             [
              0.4444444444444444,
              "#bd3786"
             ],
             [
              0.5555555555555556,
              "#d8576b"
             ],
             [
              0.6666666666666666,
              "#ed7953"
             ],
             [
              0.7777777777777778,
              "#fb9f3a"
             ],
             [
              0.8888888888888888,
              "#fdca26"
             ],
             [
              1,
              "#f0f921"
             ]
            ],
            "type": "heatmap"
           }
          ],
          "heatmapgl": [
           {
            "colorbar": {
             "outlinewidth": 0,
             "ticks": ""
            },
            "colorscale": [
             [
              0,
              "#0d0887"
             ],
             [
              0.1111111111111111,
              "#46039f"
             ],
             [
              0.2222222222222222,
              "#7201a8"
             ],
             [
              0.3333333333333333,
              "#9c179e"
             ],
             [
              0.4444444444444444,
              "#bd3786"
             ],
             [
              0.5555555555555556,
              "#d8576b"
             ],
             [
              0.6666666666666666,
              "#ed7953"
             ],
             [
              0.7777777777777778,
              "#fb9f3a"
             ],
             [
              0.8888888888888888,
              "#fdca26"
             ],
             [
              1,
              "#f0f921"
             ]
            ],
            "type": "heatmapgl"
           }
          ],
          "histogram": [
           {
            "marker": {
             "pattern": {
              "fillmode": "overlay",
              "size": 10,
              "solidity": 0.2
             }
            },
            "type": "histogram"
           }
          ],
          "histogram2d": [
           {
            "colorbar": {
             "outlinewidth": 0,
             "ticks": ""
            },
            "colorscale": [
             [
              0,
              "#0d0887"
             ],
             [
              0.1111111111111111,
              "#46039f"
             ],
             [
              0.2222222222222222,
              "#7201a8"
             ],
             [
              0.3333333333333333,
              "#9c179e"
             ],
             [
              0.4444444444444444,
              "#bd3786"
             ],
             [
              0.5555555555555556,
              "#d8576b"
             ],
             [
              0.6666666666666666,
              "#ed7953"
             ],
             [
              0.7777777777777778,
              "#fb9f3a"
             ],
             [
              0.8888888888888888,
              "#fdca26"
             ],
             [
              1,
              "#f0f921"
             ]
            ],
            "type": "histogram2d"
           }
          ],
          "histogram2dcontour": [
           {
            "colorbar": {
             "outlinewidth": 0,
             "ticks": ""
            },
            "colorscale": [
             [
              0,
              "#0d0887"
             ],
             [
              0.1111111111111111,
              "#46039f"
             ],
             [
              0.2222222222222222,
              "#7201a8"
             ],
             [
              0.3333333333333333,
              "#9c179e"
             ],
             [
              0.4444444444444444,
              "#bd3786"
             ],
             [
              0.5555555555555556,
              "#d8576b"
             ],
             [
              0.6666666666666666,
              "#ed7953"
             ],
             [
              0.7777777777777778,
              "#fb9f3a"
             ],
             [
              0.8888888888888888,
              "#fdca26"
             ],
             [
              1,
              "#f0f921"
             ]
            ],
            "type": "histogram2dcontour"
           }
          ],
          "mesh3d": [
           {
            "colorbar": {
             "outlinewidth": 0,
             "ticks": ""
            },
            "type": "mesh3d"
           }
          ],
          "parcoords": [
           {
            "line": {
             "colorbar": {
              "outlinewidth": 0,
              "ticks": ""
             }
            },
            "type": "parcoords"
           }
          ],
          "pie": [
           {
            "automargin": true,
            "type": "pie"
           }
          ],
          "scatter": [
           {
            "fillpattern": {
             "fillmode": "overlay",
             "size": 10,
             "solidity": 0.2
            },
            "type": "scatter"
           }
          ],
          "scatter3d": [
           {
            "line": {
             "colorbar": {
              "outlinewidth": 0,
              "ticks": ""
             }
            },
            "marker": {
             "colorbar": {
              "outlinewidth": 0,
              "ticks": ""
             }
            },
            "type": "scatter3d"
           }
          ],
          "scattercarpet": [
           {
            "marker": {
             "colorbar": {
              "outlinewidth": 0,
              "ticks": ""
             }
            },
            "type": "scattercarpet"
           }
          ],
          "scattergeo": [
           {
            "marker": {
             "colorbar": {
              "outlinewidth": 0,
              "ticks": ""
             }
            },
            "type": "scattergeo"
           }
          ],
          "scattergl": [
           {
            "marker": {
             "colorbar": {
              "outlinewidth": 0,
              "ticks": ""
             }
            },
            "type": "scattergl"
           }
          ],
          "scattermapbox": [
           {
            "marker": {
             "colorbar": {
              "outlinewidth": 0,
              "ticks": ""
             }
            },
            "type": "scattermapbox"
           }
          ],
          "scatterpolar": [
           {
            "marker": {
             "colorbar": {
              "outlinewidth": 0,
              "ticks": ""
             }
            },
            "type": "scatterpolar"
           }
          ],
          "scatterpolargl": [
           {
            "marker": {
             "colorbar": {
              "outlinewidth": 0,
              "ticks": ""
             }
            },
            "type": "scatterpolargl"
           }
          ],
          "scatterternary": [
           {
            "marker": {
             "colorbar": {
              "outlinewidth": 0,
              "ticks": ""
             }
            },
            "type": "scatterternary"
           }
          ],
          "surface": [
           {
            "colorbar": {
             "outlinewidth": 0,
             "ticks": ""
            },
            "colorscale": [
             [
              0,
              "#0d0887"
             ],
             [
              0.1111111111111111,
              "#46039f"
             ],
             [
              0.2222222222222222,
              "#7201a8"
             ],
             [
              0.3333333333333333,
              "#9c179e"
             ],
             [
              0.4444444444444444,
              "#bd3786"
             ],
             [
              0.5555555555555556,
              "#d8576b"
             ],
             [
              0.6666666666666666,
              "#ed7953"
             ],
             [
              0.7777777777777778,
              "#fb9f3a"
             ],
             [
              0.8888888888888888,
              "#fdca26"
             ],
             [
              1,
              "#f0f921"
             ]
            ],
            "type": "surface"
           }
          ],
          "table": [
           {
            "cells": {
             "fill": {
              "color": "#EBF0F8"
             },
             "line": {
              "color": "white"
             }
            },
            "header": {
             "fill": {
              "color": "#C8D4E3"
             },
             "line": {
              "color": "white"
             }
            },
            "type": "table"
           }
          ]
         },
         "layout": {
          "annotationdefaults": {
           "arrowcolor": "#2a3f5f",
           "arrowhead": 0,
           "arrowwidth": 1
          },
          "autotypenumbers": "strict",
          "coloraxis": {
           "colorbar": {
            "outlinewidth": 0,
            "ticks": ""
           }
          },
          "colorscale": {
           "diverging": [
            [
             0,
             "#8e0152"
            ],
            [
             0.1,
             "#c51b7d"
            ],
            [
             0.2,
             "#de77ae"
            ],
            [
             0.3,
             "#f1b6da"
            ],
            [
             0.4,
             "#fde0ef"
            ],
            [
             0.5,
             "#f7f7f7"
            ],
            [
             0.6,
             "#e6f5d0"
            ],
            [
             0.7,
             "#b8e186"
            ],
            [
             0.8,
             "#7fbc41"
            ],
            [
             0.9,
             "#4d9221"
            ],
            [
             1,
             "#276419"
            ]
           ],
           "sequential": [
            [
             0,
             "#0d0887"
            ],
            [
             0.1111111111111111,
             "#46039f"
            ],
            [
             0.2222222222222222,
             "#7201a8"
            ],
            [
             0.3333333333333333,
             "#9c179e"
            ],
            [
             0.4444444444444444,
             "#bd3786"
            ],
            [
             0.5555555555555556,
             "#d8576b"
            ],
            [
             0.6666666666666666,
             "#ed7953"
            ],
            [
             0.7777777777777778,
             "#fb9f3a"
            ],
            [
             0.8888888888888888,
             "#fdca26"
            ],
            [
             1,
             "#f0f921"
            ]
           ],
           "sequentialminus": [
            [
             0,
             "#0d0887"
            ],
            [
             0.1111111111111111,
             "#46039f"
            ],
            [
             0.2222222222222222,
             "#7201a8"
            ],
            [
             0.3333333333333333,
             "#9c179e"
            ],
            [
             0.4444444444444444,
             "#bd3786"
            ],
            [
             0.5555555555555556,
             "#d8576b"
            ],
            [
             0.6666666666666666,
             "#ed7953"
            ],
            [
             0.7777777777777778,
             "#fb9f3a"
            ],
            [
             0.8888888888888888,
             "#fdca26"
            ],
            [
             1,
             "#f0f921"
            ]
           ]
          },
          "colorway": [
           "#636efa",
           "#EF553B",
           "#00cc96",
           "#ab63fa",
           "#FFA15A",
           "#19d3f3",
           "#FF6692",
           "#B6E880",
           "#FF97FF",
           "#FECB52"
          ],
          "font": {
           "color": "#2a3f5f"
          },
          "geo": {
           "bgcolor": "white",
           "lakecolor": "white",
           "landcolor": "#E5ECF6",
           "showlakes": true,
           "showland": true,
           "subunitcolor": "white"
          },
          "hoverlabel": {
           "align": "left"
          },
          "hovermode": "closest",
          "mapbox": {
           "style": "light"
          },
          "paper_bgcolor": "white",
          "plot_bgcolor": "#E5ECF6",
          "polar": {
           "angularaxis": {
            "gridcolor": "white",
            "linecolor": "white",
            "ticks": ""
           },
           "bgcolor": "#E5ECF6",
           "radialaxis": {
            "gridcolor": "white",
            "linecolor": "white",
            "ticks": ""
           }
          },
          "scene": {
           "xaxis": {
            "backgroundcolor": "#E5ECF6",
            "gridcolor": "white",
            "gridwidth": 2,
            "linecolor": "white",
            "showbackground": true,
            "ticks": "",
            "zerolinecolor": "white"
           },
           "yaxis": {
            "backgroundcolor": "#E5ECF6",
            "gridcolor": "white",
            "gridwidth": 2,
            "linecolor": "white",
            "showbackground": true,
            "ticks": "",
            "zerolinecolor": "white"
           },
           "zaxis": {
            "backgroundcolor": "#E5ECF6",
            "gridcolor": "white",
            "gridwidth": 2,
            "linecolor": "white",
            "showbackground": true,
            "ticks": "",
            "zerolinecolor": "white"
           }
          },
          "shapedefaults": {
           "line": {
            "color": "#2a3f5f"
           }
          },
          "ternary": {
           "aaxis": {
            "gridcolor": "white",
            "linecolor": "white",
            "ticks": ""
           },
           "baxis": {
            "gridcolor": "white",
            "linecolor": "white",
            "ticks": ""
           },
           "bgcolor": "#E5ECF6",
           "caxis": {
            "gridcolor": "white",
            "linecolor": "white",
            "ticks": ""
           }
          },
          "title": {
           "x": 0.05
          },
          "xaxis": {
           "automargin": true,
           "gridcolor": "white",
           "linecolor": "white",
           "ticks": "",
           "title": {
            "standoff": 15
           },
           "zerolinecolor": "white",
           "zerolinewidth": 2
          },
          "yaxis": {
           "automargin": true,
           "gridcolor": "white",
           "linecolor": "white",
           "ticks": "",
           "title": {
            "standoff": 15
           },
           "zerolinecolor": "white",
           "zerolinewidth": 2
          }
         }
        },
        "title": {
         "text": "Boxplot de Escolaridade da Mãe em relação à Nota Geral",
         "x": 0.5,
         "y": 0.95
        },
        "xaxis": {
         "anchor": "y",
         "domain": [
          0,
          1
         ],
         "title": {
          "text": "Escolaridade da Mãe"
         }
        },
        "yaxis": {
         "anchor": "x",
         "domain": [
          0,
          1
         ],
         "title": {
          "text": "Nota Geral"
         }
        }
       }
      }
     },
     "metadata": {},
     "output_type": "display_data"
    }
   ],
   "source": [
    "categorias = {\n",
    "    'A': 'Nenhuma escolaridade',\n",
    "    'B': 'Ensino fundamental',\n",
    "    'C': 'Ensino fundamental',\n",
    "    'D': 'Ensino médio',\n",
    "    'E': 'Ensino superior',\n",
    "    'F': 'Pós-graduação'\n",
    "}\n",
    "\n",
    "dados_explorados['Categoria'] = dados_explorados['Escolaridade_mae'].map(categorias)\n",
    "\n",
    "dados_explorados = dados_explorados.sort_values(by='Nota_geral')\n",
    "\n",
    "fig = px.box(dados_explorados, x='Categoria', y='Nota_geral', \n",
    "             labels={'Categoria': 'Escolaridade da Mãe', 'Nota_geral': 'Nota Geral'})\n",
    "fig.update_layout(title='Boxplot de Escolaridade da Mãe em relação à Nota Geral', title_x=0.5, title_y=0.95)\n",
    "fig.show()"
   ]
  },
  {
   "cell_type": "code",
   "execution_count": 8,
   "metadata": {},
   "outputs": [
    {
     "data": {
      "application/vnd.plotly.v1+json": {
       "config": {
        "plotlyServerURL": "https://plot.ly"
       },
       "data": [
        {
         "alignmentgroup": "True",
         "hovertemplate": "Escolaridade do Pai=%{x}<br>Nota Geral=%{y}<extra></extra>",
         "legendgroup": "",
         "marker": {
          "color": "#636efa"
         },
         "name": "",
         "notched": false,
         "offsetgroup": "",
         "orientation": "v",
         "showlegend": false,
         "type": "box",
         "x": [
          "Ensino médio",
          "Ensino médio",
          "Ensino fundamental",
          "Ensino médio",
          "Ensino fundamental",
          "Ensino médio",
          "Ensino fundamental",
          "Pós-graduação",
          "Ensino fundamental",
          "Ensino fundamental",
          "Ensino médio",
          "Ensino fundamental",
          "Ensino fundamental",
          "Ensino superior",
          "Pós-graduação",
          "Ensino fundamental",
          "Nenhuma escolaridade",
          "Ensino médio",
          "Ensino médio",
          "Ensino médio",
          "Ensino médio",
          "Ensino fundamental",
          "Ensino médio",
          "Ensino médio",
          "Ensino médio",
          "Ensino fundamental",
          "Ensino médio",
          "Ensino fundamental",
          "Ensino médio",
          "Ensino médio",
          "Ensino fundamental",
          "Ensino médio",
          "Ensino fundamental",
          "Ensino superior",
          "Ensino médio",
          "Ensino fundamental",
          "Ensino fundamental",
          "Ensino superior",
          "Ensino médio",
          "Ensino médio",
          "Ensino fundamental",
          "Ensino médio",
          "Ensino superior",
          "Ensino superior",
          "Ensino médio",
          "Ensino médio",
          "Ensino médio",
          "Ensino fundamental",
          "Ensino fundamental",
          "Ensino fundamental",
          "Ensino médio",
          "Ensino fundamental",
          "Ensino médio",
          "Ensino médio",
          "Ensino fundamental",
          "Ensino médio",
          "Ensino superior",
          "Ensino fundamental",
          "Nenhuma escolaridade",
          "Pós-graduação",
          "Ensino médio",
          "Ensino médio",
          "Pós-graduação",
          "Ensino superior",
          "Ensino fundamental",
          "Ensino fundamental",
          "Ensino fundamental",
          "Ensino médio",
          "Ensino médio",
          "Ensino fundamental",
          "Ensino médio",
          "Ensino fundamental",
          "Ensino fundamental",
          "Ensino médio",
          "Ensino fundamental",
          "Ensino fundamental",
          "Ensino fundamental",
          "Ensino médio",
          "Ensino superior",
          "Ensino médio",
          "Ensino fundamental",
          "Ensino fundamental",
          "Pós-graduação",
          "Ensino fundamental",
          "Nenhuma escolaridade",
          "Nenhuma escolaridade",
          "Ensino fundamental",
          "Ensino fundamental",
          "Ensino fundamental",
          "Nenhuma escolaridade",
          "Ensino superior",
          "Ensino fundamental",
          "Ensino médio",
          "Ensino médio",
          "Ensino médio",
          "Ensino fundamental",
          "Pós-graduação",
          "Ensino fundamental",
          "Ensino fundamental",
          "Ensino médio",
          "Ensino superior",
          "Ensino fundamental",
          "Ensino médio",
          "Nenhuma escolaridade",
          "Ensino médio",
          "Ensino fundamental",
          "Ensino fundamental",
          "Pós-graduação",
          "Ensino médio",
          "Ensino fundamental",
          "Ensino médio",
          "Ensino médio",
          "Ensino médio",
          "Ensino fundamental",
          "Ensino superior",
          "Ensino fundamental",
          "Ensino médio",
          "Ensino médio",
          "Ensino fundamental",
          "Ensino fundamental",
          "Ensino superior",
          "Ensino fundamental",
          "Ensino superior",
          "Ensino médio",
          "Ensino médio",
          "Ensino superior",
          "Ensino superior",
          "Nenhuma escolaridade",
          "Ensino médio",
          "Ensino superior",
          "Ensino superior",
          "Ensino fundamental",
          "Ensino fundamental",
          "Ensino médio",
          "Ensino fundamental",
          "Ensino médio",
          "Ensino médio",
          "Ensino fundamental",
          "Ensino fundamental",
          "Ensino médio",
          "Ensino médio",
          "Ensino médio",
          "Ensino superior",
          "Ensino fundamental",
          "Ensino médio",
          "Ensino médio",
          "Ensino fundamental",
          "Ensino fundamental",
          "Ensino fundamental",
          "Ensino médio",
          "Ensino fundamental",
          "Ensino fundamental",
          "Ensino fundamental",
          "Ensino fundamental",
          "Ensino fundamental",
          "Ensino fundamental",
          "Ensino superior",
          "Ensino médio",
          "Ensino fundamental",
          "Ensino superior",
          "Ensino fundamental",
          "Ensino superior",
          "Ensino superior",
          "Ensino médio",
          "Ensino fundamental",
          "Ensino médio",
          "Ensino fundamental",
          "Ensino médio",
          "Ensino médio",
          "Ensino fundamental",
          "Nenhuma escolaridade",
          "Nenhuma escolaridade",
          "Ensino médio",
          "Ensino médio",
          "Ensino superior",
          "Ensino fundamental",
          "Ensino médio",
          "Ensino médio",
          "Ensino fundamental",
          "Ensino fundamental",
          "Pós-graduação",
          "Ensino médio",
          "Ensino médio",
          "Ensino fundamental",
          "Ensino fundamental",
          "Nenhuma escolaridade",
          "Ensino médio",
          "Ensino superior",
          "Pós-graduação",
          "Ensino fundamental",
          "Ensino médio",
          "Ensino superior",
          "Ensino superior",
          "Ensino fundamental",
          "Ensino fundamental",
          "Ensino médio",
          "Ensino médio",
          "Ensino fundamental",
          "Ensino médio",
          "Ensino médio",
          "Nenhuma escolaridade",
          "Ensino médio",
          "Ensino médio",
          "Ensino superior",
          "Ensino médio",
          "Ensino médio",
          "Ensino superior",
          "Ensino superior",
          "Ensino médio",
          "Ensino médio",
          "Ensino superior",
          "Ensino fundamental",
          "Ensino médio",
          "Ensino fundamental",
          "Nenhuma escolaridade",
          "Ensino médio",
          "Ensino superior",
          "Ensino médio",
          "Ensino médio",
          "Ensino médio",
          "Ensino superior",
          "Ensino fundamental",
          "Ensino fundamental",
          "Ensino fundamental",
          "Ensino fundamental",
          "Ensino superior",
          "Ensino fundamental",
          "Ensino médio",
          "Ensino superior",
          "Ensino fundamental",
          "Ensino fundamental",
          "Ensino médio",
          "Ensino médio",
          "Ensino superior",
          "Ensino fundamental",
          "Ensino médio",
          "Ensino médio",
          "Ensino fundamental",
          "Nenhuma escolaridade",
          "Ensino fundamental",
          "Pós-graduação",
          "Ensino médio",
          "Ensino superior",
          "Ensino médio",
          "Ensino médio",
          "Ensino médio",
          "Ensino fundamental",
          "Pós-graduação",
          "Ensino médio",
          "Nenhuma escolaridade",
          "Pós-graduação",
          "Ensino fundamental",
          "Nenhuma escolaridade",
          "Nenhuma escolaridade",
          "Ensino fundamental",
          "Ensino médio",
          "Ensino fundamental",
          "Ensino superior",
          "Ensino superior",
          "Ensino superior",
          "Ensino superior",
          "Ensino fundamental",
          "Ensino fundamental",
          "Ensino fundamental",
          "Ensino médio",
          "Ensino superior",
          "Ensino médio",
          "Ensino superior",
          "Ensino superior",
          "Ensino médio",
          "Pós-graduação",
          "Ensino médio",
          "Ensino médio",
          "Ensino médio",
          "Ensino superior",
          "Ensino superior",
          "Pós-graduação",
          "Ensino médio",
          "Pós-graduação",
          "Ensino médio",
          "Ensino fundamental",
          "Ensino médio",
          "Nenhuma escolaridade",
          "Ensino superior",
          "Ensino médio",
          "Ensino médio",
          "Ensino superior",
          "Ensino fundamental",
          "Ensino fundamental",
          "Ensino médio",
          "Ensino médio",
          "Ensino superior",
          "Ensino superior",
          "Ensino médio",
          "Ensino superior",
          "Ensino fundamental",
          "Ensino superior",
          "Ensino superior",
          "Ensino superior",
          "Pós-graduação",
          "Ensino superior",
          "Ensino médio",
          "Ensino superior",
          "Ensino médio",
          "Ensino fundamental",
          "Ensino médio",
          "Pós-graduação",
          "Ensino médio",
          "Ensino superior",
          "Ensino superior",
          "Ensino superior",
          "Ensino médio",
          "Ensino médio",
          "Ensino médio",
          "Ensino superior",
          "Ensino médio",
          "Ensino médio",
          "Ensino fundamental",
          "Ensino superior",
          "Pós-graduação",
          "Nenhuma escolaridade",
          "Ensino fundamental",
          "Ensino fundamental",
          "Ensino superior",
          "Ensino médio",
          "Ensino fundamental",
          "Ensino médio",
          "Ensino fundamental",
          "Ensino médio",
          "Ensino médio",
          "Ensino médio",
          "Ensino médio",
          "Ensino médio",
          "Ensino superior",
          "Ensino médio",
          "Ensino superior",
          "Ensino médio",
          "Ensino superior",
          "Ensino fundamental",
          "Ensino superior",
          "Ensino superior",
          "Ensino fundamental",
          "Pós-graduação",
          "Ensino médio",
          "Ensino médio",
          "Ensino médio",
          "Ensino superior",
          "Ensino médio",
          "Ensino médio",
          "Ensino superior",
          "Ensino superior",
          "Ensino fundamental",
          "Ensino superior",
          "Ensino médio",
          "Ensino superior",
          "Ensino médio",
          "Ensino médio",
          "Ensino fundamental",
          "Pós-graduação",
          "Nenhuma escolaridade",
          "Ensino médio",
          "Ensino médio",
          "Ensino fundamental",
          "Ensino fundamental",
          "Pós-graduação",
          "Ensino médio",
          "Pós-graduação",
          "Ensino médio",
          "Ensino superior",
          "Ensino fundamental",
          "Ensino superior",
          "Ensino médio",
          "Ensino médio",
          "Ensino médio",
          "Ensino superior",
          "Ensino médio",
          "Ensino médio",
          "Ensino médio",
          "Pós-graduação",
          "Ensino médio",
          "Ensino médio",
          "Pós-graduação",
          "Ensino médio",
          "Ensino fundamental",
          "Ensino fundamental",
          "Ensino superior",
          "Ensino médio",
          "Ensino fundamental",
          "Ensino médio",
          "Ensino médio",
          "Ensino médio",
          "Pós-graduação",
          "Ensino médio",
          "Ensino médio",
          "Ensino médio",
          "Ensino médio",
          "Pós-graduação",
          "Ensino superior",
          "Ensino superior",
          "Ensino superior",
          "Pós-graduação",
          "Ensino médio",
          "Pós-graduação",
          "Ensino médio",
          "Ensino médio",
          "Ensino superior",
          "Ensino fundamental",
          "Ensino fundamental",
          "Pós-graduação",
          "Ensino superior",
          "Ensino superior",
          "Ensino superior",
          "Ensino médio"
         ],
         "x0": " ",
         "xaxis": "x",
         "y": [
          "12,9",
          "13,3",
          "13,7",
          "13,9",
          "13,9",
          "15,2",
          "15,5",
          "15,9",
          "16,2",
          "16,4",
          "16,8",
          "17,1",
          "17,6",
          "18",
          "18,1",
          "18,9",
          "18,9",
          "19,3",
          "19,3",
          "19,6",
          "20",
          "20",
          "20",
          "20,5",
          "20,7",
          "21",
          "21,6",
          "21,8",
          "22,1",
          "22,2",
          "22,3",
          "22,3",
          "22,4",
          "22,5",
          "22,5",
          "22,6",
          "22,7",
          "22,7",
          "23,5",
          "23,5",
          "23,6",
          "23,6",
          "24,2",
          "24,2",
          "24,4",
          "24,6",
          "24,9",
          "25",
          "25",
          "25,1",
          "25,4",
          "25,5",
          "25,6",
          "25,8",
          "25,9",
          "26",
          "26",
          "26",
          "26,1",
          "26,3",
          "26,5",
          "26,6",
          "26,6",
          "26,7",
          "26,8",
          "27",
          "27,1",
          "27,1",
          "27,3",
          "27,4",
          "27,4",
          "27,4",
          "27,5",
          "27,7",
          "27,7",
          "27,7",
          "27,8",
          "27,9",
          "28",
          "28,1",
          "28,2",
          "28,2",
          "28,2",
          "28,4",
          "28,5",
          "28,7",
          "28,7",
          "28,7",
          "28,7",
          "28,8",
          "28,8",
          "29",
          "29,1",
          "29,1",
          "29,2",
          "29,2",
          "29,2",
          "29,3",
          "29,3",
          "29,4",
          "29,5",
          "29,7",
          "29,9",
          "30",
          "30",
          "30",
          "30,1",
          "30,2",
          "30,3",
          "30,3",
          "30,3",
          "30,3",
          "30,6",
          "30,7",
          "30,7",
          "30,7",
          "30,7",
          "30,8",
          "31",
          "31",
          "31",
          "31,1",
          "31,1",
          "31,1",
          "31,2",
          "31,4",
          "31,4",
          "31,8",
          "31,9",
          "31,9",
          "31,9",
          "32",
          "32,1",
          "32,1",
          "32,3",
          "32,4",
          "32,4",
          "32,4",
          "32,5",
          "32,5",
          "32,5",
          "32,6",
          "32,7",
          "32,7",
          "32,9",
          "32,9",
          "33",
          "33",
          "33,2",
          "33,3",
          "33,3",
          "33,4",
          "33,6",
          "33,7",
          "33,8",
          "33,8",
          "33,8",
          "33,9",
          "34",
          "34,1",
          "34,2",
          "34,2",
          "34,5",
          "34,5",
          "34,6",
          "34,7",
          "34,8",
          "34,9",
          "35",
          "35,1",
          "35,1",
          "35,1",
          "35,2",
          "35,2",
          "35,2",
          "35,3",
          "35,3",
          "35,4",
          "35,4",
          "35,4",
          "35,5",
          "35,5",
          "35,6",
          "35,7",
          "35,8",
          "35,9",
          "35,9",
          "35,9",
          "35,9",
          "36",
          "36",
          "36,3",
          "36,3",
          "36,4",
          "36,4",
          "36,4",
          "36,4",
          "36,5",
          "36,5",
          "36,5",
          "36,6",
          "36,7",
          "36,7",
          "37",
          "37",
          "37,2",
          "37,4",
          "37,5",
          "37,5",
          "37,8",
          "37,8",
          "38",
          "38",
          "38,1",
          "38,2",
          "38,3",
          "38,4",
          "38,7",
          "38,7",
          "38,7",
          "38,8",
          "38,9",
          "38,9",
          "39,3",
          "39,3",
          "39,4",
          "39,4",
          "39,4",
          "39,4",
          "39,5",
          "39,5",
          "39,5",
          "39,6",
          "39,7",
          "39,8",
          "39,8",
          "39,8",
          "39,8",
          "39,9",
          "39,9",
          "39,9",
          "40,3",
          "40,3",
          "40,4",
          "40,4",
          "40,5",
          "40,6",
          "40,6",
          "40,7",
          "40,7",
          "40,8",
          "40,8",
          "40,9",
          "41",
          "41,2",
          "41,2",
          "41,2",
          "41,3",
          "41,6",
          "41,9",
          "42",
          "42,1",
          "42,1",
          "42,1",
          "42,2",
          "42,2",
          "42,2",
          "42,3",
          "42,3",
          "42,5",
          "42,6",
          "42,8",
          "42,9",
          "43",
          "43",
          "43",
          "43,1",
          "43,2",
          "43,2",
          "43,2",
          "43,2",
          "43,2",
          "43,2",
          "43,3",
          "43,3",
          "43,5",
          "43,9",
          "43,9",
          "44",
          "44,1",
          "44,2",
          "44,2",
          "44,3",
          "44,3",
          "44,5",
          "44,6",
          "44,6",
          "44,6",
          "44,7",
          "44,7",
          "44,7",
          "44,7",
          "44,8",
          "44,8",
          "44,8",
          "44,8",
          "44,9",
          "45,1",
          "45,2",
          "45,4",
          "45,6",
          "45,8",
          "46",
          "46,1",
          "46,1",
          "46,2",
          "46,7",
          "47",
          "47",
          "47,1",
          "47,2",
          "47,2",
          "47,5",
          "47,5",
          "47,5",
          "47,7",
          "48",
          "48,6",
          "48,7",
          "49,3",
          "49,8",
          "49,9",
          "50",
          "50,4",
          "50,4",
          "50,7",
          "50,7",
          "50,8",
          "50,9",
          "51",
          "51",
          "51,1",
          "51,3",
          "51,4",
          "51,5",
          "51,6",
          "51,9",
          "52",
          "52,1",
          "52,2",
          "52,4",
          "52,4",
          "52,6",
          "52,6",
          "52,8",
          "52,8",
          "53,2",
          "53,3",
          "53,4",
          "53,8",
          "53,8",
          "53,9",
          "54",
          "54,5",
          "54,5",
          "54,9",
          "55",
          "55",
          "55,6",
          "55,6",
          "55,9",
          "55,9",
          "56,1",
          "57,1",
          "57,2",
          "57,2",
          "57,3",
          "57,6",
          "57,8",
          "57,8",
          "58",
          "58,4",
          "58,9",
          "59,1",
          "59,6",
          "59,7",
          "59,7",
          "59,8",
          "6,1",
          "60,3",
          "60,4",
          "60,7",
          "61,1",
          "61,3",
          "61,8",
          "61,8",
          "62,2",
          "63,2",
          "63,6",
          "63,7",
          "64",
          "64,5",
          "64,7",
          "65,9",
          "66,3",
          "67,5",
          "68,5",
          "69,5",
          "70,5",
          "72,2",
          "74",
          "76,6",
          "9,8"
         ],
         "y0": " ",
         "yaxis": "y"
        }
       ],
       "layout": {
        "boxmode": "group",
        "legend": {
         "tracegroupgap": 0
        },
        "margin": {
         "t": 60
        },
        "template": {
         "data": {
          "bar": [
           {
            "error_x": {
             "color": "#2a3f5f"
            },
            "error_y": {
             "color": "#2a3f5f"
            },
            "marker": {
             "line": {
              "color": "#E5ECF6",
              "width": 0.5
             },
             "pattern": {
              "fillmode": "overlay",
              "size": 10,
              "solidity": 0.2
             }
            },
            "type": "bar"
           }
          ],
          "barpolar": [
           {
            "marker": {
             "line": {
              "color": "#E5ECF6",
              "width": 0.5
             },
             "pattern": {
              "fillmode": "overlay",
              "size": 10,
              "solidity": 0.2
             }
            },
            "type": "barpolar"
           }
          ],
          "carpet": [
           {
            "aaxis": {
             "endlinecolor": "#2a3f5f",
             "gridcolor": "white",
             "linecolor": "white",
             "minorgridcolor": "white",
             "startlinecolor": "#2a3f5f"
            },
            "baxis": {
             "endlinecolor": "#2a3f5f",
             "gridcolor": "white",
             "linecolor": "white",
             "minorgridcolor": "white",
             "startlinecolor": "#2a3f5f"
            },
            "type": "carpet"
           }
          ],
          "choropleth": [
           {
            "colorbar": {
             "outlinewidth": 0,
             "ticks": ""
            },
            "type": "choropleth"
           }
          ],
          "contour": [
           {
            "colorbar": {
             "outlinewidth": 0,
             "ticks": ""
            },
            "colorscale": [
             [
              0,
              "#0d0887"
             ],
             [
              0.1111111111111111,
              "#46039f"
             ],
             [
              0.2222222222222222,
              "#7201a8"
             ],
             [
              0.3333333333333333,
              "#9c179e"
             ],
             [
              0.4444444444444444,
              "#bd3786"
             ],
             [
              0.5555555555555556,
              "#d8576b"
             ],
             [
              0.6666666666666666,
              "#ed7953"
             ],
             [
              0.7777777777777778,
              "#fb9f3a"
             ],
             [
              0.8888888888888888,
              "#fdca26"
             ],
             [
              1,
              "#f0f921"
             ]
            ],
            "type": "contour"
           }
          ],
          "contourcarpet": [
           {
            "colorbar": {
             "outlinewidth": 0,
             "ticks": ""
            },
            "type": "contourcarpet"
           }
          ],
          "heatmap": [
           {
            "colorbar": {
             "outlinewidth": 0,
             "ticks": ""
            },
            "colorscale": [
             [
              0,
              "#0d0887"
             ],
             [
              0.1111111111111111,
              "#46039f"
             ],
             [
              0.2222222222222222,
              "#7201a8"
             ],
             [
              0.3333333333333333,
              "#9c179e"
             ],
             [
              0.4444444444444444,
              "#bd3786"
             ],
             [
              0.5555555555555556,
              "#d8576b"
             ],
             [
              0.6666666666666666,
              "#ed7953"
             ],
             [
              0.7777777777777778,
              "#fb9f3a"
             ],
             [
              0.8888888888888888,
              "#fdca26"
             ],
             [
              1,
              "#f0f921"
             ]
            ],
            "type": "heatmap"
           }
          ],
          "heatmapgl": [
           {
            "colorbar": {
             "outlinewidth": 0,
             "ticks": ""
            },
            "colorscale": [
             [
              0,
              "#0d0887"
             ],
             [
              0.1111111111111111,
              "#46039f"
             ],
             [
              0.2222222222222222,
              "#7201a8"
             ],
             [
              0.3333333333333333,
              "#9c179e"
             ],
             [
              0.4444444444444444,
              "#bd3786"
             ],
             [
              0.5555555555555556,
              "#d8576b"
             ],
             [
              0.6666666666666666,
              "#ed7953"
             ],
             [
              0.7777777777777778,
              "#fb9f3a"
             ],
             [
              0.8888888888888888,
              "#fdca26"
             ],
             [
              1,
              "#f0f921"
             ]
            ],
            "type": "heatmapgl"
           }
          ],
          "histogram": [
           {
            "marker": {
             "pattern": {
              "fillmode": "overlay",
              "size": 10,
              "solidity": 0.2
             }
            },
            "type": "histogram"
           }
          ],
          "histogram2d": [
           {
            "colorbar": {
             "outlinewidth": 0,
             "ticks": ""
            },
            "colorscale": [
             [
              0,
              "#0d0887"
             ],
             [
              0.1111111111111111,
              "#46039f"
             ],
             [
              0.2222222222222222,
              "#7201a8"
             ],
             [
              0.3333333333333333,
              "#9c179e"
             ],
             [
              0.4444444444444444,
              "#bd3786"
             ],
             [
              0.5555555555555556,
              "#d8576b"
             ],
             [
              0.6666666666666666,
              "#ed7953"
             ],
             [
              0.7777777777777778,
              "#fb9f3a"
             ],
             [
              0.8888888888888888,
              "#fdca26"
             ],
             [
              1,
              "#f0f921"
             ]
            ],
            "type": "histogram2d"
           }
          ],
          "histogram2dcontour": [
           {
            "colorbar": {
             "outlinewidth": 0,
             "ticks": ""
            },
            "colorscale": [
             [
              0,
              "#0d0887"
             ],
             [
              0.1111111111111111,
              "#46039f"
             ],
             [
              0.2222222222222222,
              "#7201a8"
             ],
             [
              0.3333333333333333,
              "#9c179e"
             ],
             [
              0.4444444444444444,
              "#bd3786"
             ],
             [
              0.5555555555555556,
              "#d8576b"
             ],
             [
              0.6666666666666666,
              "#ed7953"
             ],
             [
              0.7777777777777778,
              "#fb9f3a"
             ],
             [
              0.8888888888888888,
              "#fdca26"
             ],
             [
              1,
              "#f0f921"
             ]
            ],
            "type": "histogram2dcontour"
           }
          ],
          "mesh3d": [
           {
            "colorbar": {
             "outlinewidth": 0,
             "ticks": ""
            },
            "type": "mesh3d"
           }
          ],
          "parcoords": [
           {
            "line": {
             "colorbar": {
              "outlinewidth": 0,
              "ticks": ""
             }
            },
            "type": "parcoords"
           }
          ],
          "pie": [
           {
            "automargin": true,
            "type": "pie"
           }
          ],
          "scatter": [
           {
            "fillpattern": {
             "fillmode": "overlay",
             "size": 10,
             "solidity": 0.2
            },
            "type": "scatter"
           }
          ],
          "scatter3d": [
           {
            "line": {
             "colorbar": {
              "outlinewidth": 0,
              "ticks": ""
             }
            },
            "marker": {
             "colorbar": {
              "outlinewidth": 0,
              "ticks": ""
             }
            },
            "type": "scatter3d"
           }
          ],
          "scattercarpet": [
           {
            "marker": {
             "colorbar": {
              "outlinewidth": 0,
              "ticks": ""
             }
            },
            "type": "scattercarpet"
           }
          ],
          "scattergeo": [
           {
            "marker": {
             "colorbar": {
              "outlinewidth": 0,
              "ticks": ""
             }
            },
            "type": "scattergeo"
           }
          ],
          "scattergl": [
           {
            "marker": {
             "colorbar": {
              "outlinewidth": 0,
              "ticks": ""
             }
            },
            "type": "scattergl"
           }
          ],
          "scattermapbox": [
           {
            "marker": {
             "colorbar": {
              "outlinewidth": 0,
              "ticks": ""
             }
            },
            "type": "scattermapbox"
           }
          ],
          "scatterpolar": [
           {
            "marker": {
             "colorbar": {
              "outlinewidth": 0,
              "ticks": ""
             }
            },
            "type": "scatterpolar"
           }
          ],
          "scatterpolargl": [
           {
            "marker": {
             "colorbar": {
              "outlinewidth": 0,
              "ticks": ""
             }
            },
            "type": "scatterpolargl"
           }
          ],
          "scatterternary": [
           {
            "marker": {
             "colorbar": {
              "outlinewidth": 0,
              "ticks": ""
             }
            },
            "type": "scatterternary"
           }
          ],
          "surface": [
           {
            "colorbar": {
             "outlinewidth": 0,
             "ticks": ""
            },
            "colorscale": [
             [
              0,
              "#0d0887"
             ],
             [
              0.1111111111111111,
              "#46039f"
             ],
             [
              0.2222222222222222,
              "#7201a8"
             ],
             [
              0.3333333333333333,
              "#9c179e"
             ],
             [
              0.4444444444444444,
              "#bd3786"
             ],
             [
              0.5555555555555556,
              "#d8576b"
             ],
             [
              0.6666666666666666,
              "#ed7953"
             ],
             [
              0.7777777777777778,
              "#fb9f3a"
             ],
             [
              0.8888888888888888,
              "#fdca26"
             ],
             [
              1,
              "#f0f921"
             ]
            ],
            "type": "surface"
           }
          ],
          "table": [
           {
            "cells": {
             "fill": {
              "color": "#EBF0F8"
             },
             "line": {
              "color": "white"
             }
            },
            "header": {
             "fill": {
              "color": "#C8D4E3"
             },
             "line": {
              "color": "white"
             }
            },
            "type": "table"
           }
          ]
         },
         "layout": {
          "annotationdefaults": {
           "arrowcolor": "#2a3f5f",
           "arrowhead": 0,
           "arrowwidth": 1
          },
          "autotypenumbers": "strict",
          "coloraxis": {
           "colorbar": {
            "outlinewidth": 0,
            "ticks": ""
           }
          },
          "colorscale": {
           "diverging": [
            [
             0,
             "#8e0152"
            ],
            [
             0.1,
             "#c51b7d"
            ],
            [
             0.2,
             "#de77ae"
            ],
            [
             0.3,
             "#f1b6da"
            ],
            [
             0.4,
             "#fde0ef"
            ],
            [
             0.5,
             "#f7f7f7"
            ],
            [
             0.6,
             "#e6f5d0"
            ],
            [
             0.7,
             "#b8e186"
            ],
            [
             0.8,
             "#7fbc41"
            ],
            [
             0.9,
             "#4d9221"
            ],
            [
             1,
             "#276419"
            ]
           ],
           "sequential": [
            [
             0,
             "#0d0887"
            ],
            [
             0.1111111111111111,
             "#46039f"
            ],
            [
             0.2222222222222222,
             "#7201a8"
            ],
            [
             0.3333333333333333,
             "#9c179e"
            ],
            [
             0.4444444444444444,
             "#bd3786"
            ],
            [
             0.5555555555555556,
             "#d8576b"
            ],
            [
             0.6666666666666666,
             "#ed7953"
            ],
            [
             0.7777777777777778,
             "#fb9f3a"
            ],
            [
             0.8888888888888888,
             "#fdca26"
            ],
            [
             1,
             "#f0f921"
            ]
           ],
           "sequentialminus": [
            [
             0,
             "#0d0887"
            ],
            [
             0.1111111111111111,
             "#46039f"
            ],
            [
             0.2222222222222222,
             "#7201a8"
            ],
            [
             0.3333333333333333,
             "#9c179e"
            ],
            [
             0.4444444444444444,
             "#bd3786"
            ],
            [
             0.5555555555555556,
             "#d8576b"
            ],
            [
             0.6666666666666666,
             "#ed7953"
            ],
            [
             0.7777777777777778,
             "#fb9f3a"
            ],
            [
             0.8888888888888888,
             "#fdca26"
            ],
            [
             1,
             "#f0f921"
            ]
           ]
          },
          "colorway": [
           "#636efa",
           "#EF553B",
           "#00cc96",
           "#ab63fa",
           "#FFA15A",
           "#19d3f3",
           "#FF6692",
           "#B6E880",
           "#FF97FF",
           "#FECB52"
          ],
          "font": {
           "color": "#2a3f5f"
          },
          "geo": {
           "bgcolor": "white",
           "lakecolor": "white",
           "landcolor": "#E5ECF6",
           "showlakes": true,
           "showland": true,
           "subunitcolor": "white"
          },
          "hoverlabel": {
           "align": "left"
          },
          "hovermode": "closest",
          "mapbox": {
           "style": "light"
          },
          "paper_bgcolor": "white",
          "plot_bgcolor": "#E5ECF6",
          "polar": {
           "angularaxis": {
            "gridcolor": "white",
            "linecolor": "white",
            "ticks": ""
           },
           "bgcolor": "#E5ECF6",
           "radialaxis": {
            "gridcolor": "white",
            "linecolor": "white",
            "ticks": ""
           }
          },
          "scene": {
           "xaxis": {
            "backgroundcolor": "#E5ECF6",
            "gridcolor": "white",
            "gridwidth": 2,
            "linecolor": "white",
            "showbackground": true,
            "ticks": "",
            "zerolinecolor": "white"
           },
           "yaxis": {
            "backgroundcolor": "#E5ECF6",
            "gridcolor": "white",
            "gridwidth": 2,
            "linecolor": "white",
            "showbackground": true,
            "ticks": "",
            "zerolinecolor": "white"
           },
           "zaxis": {
            "backgroundcolor": "#E5ECF6",
            "gridcolor": "white",
            "gridwidth": 2,
            "linecolor": "white",
            "showbackground": true,
            "ticks": "",
            "zerolinecolor": "white"
           }
          },
          "shapedefaults": {
           "line": {
            "color": "#2a3f5f"
           }
          },
          "ternary": {
           "aaxis": {
            "gridcolor": "white",
            "linecolor": "white",
            "ticks": ""
           },
           "baxis": {
            "gridcolor": "white",
            "linecolor": "white",
            "ticks": ""
           },
           "bgcolor": "#E5ECF6",
           "caxis": {
            "gridcolor": "white",
            "linecolor": "white",
            "ticks": ""
           }
          },
          "title": {
           "x": 0.05
          },
          "xaxis": {
           "automargin": true,
           "gridcolor": "white",
           "linecolor": "white",
           "ticks": "",
           "title": {
            "standoff": 15
           },
           "zerolinecolor": "white",
           "zerolinewidth": 2
          },
          "yaxis": {
           "automargin": true,
           "gridcolor": "white",
           "linecolor": "white",
           "ticks": "",
           "title": {
            "standoff": 15
           },
           "zerolinecolor": "white",
           "zerolinewidth": 2
          }
         }
        },
        "title": {
         "text": "Boxplot de Escolaridade do Pai em relação à Nota Geral",
         "x": 0.5,
         "y": 0.95
        },
        "xaxis": {
         "anchor": "y",
         "domain": [
          0,
          1
         ],
         "title": {
          "text": "Escolaridade do Pai"
         }
        },
        "yaxis": {
         "anchor": "x",
         "domain": [
          0,
          1
         ],
         "title": {
          "text": "Nota Geral"
         }
        }
       }
      }
     },
     "metadata": {},
     "output_type": "display_data"
    }
   ],
   "source": [
    "categorias = {\n",
    "    'A': 'Nenhuma escolaridade',\n",
    "    'B': 'Ensino fundamental',\n",
    "    'C': 'Ensino fundamental',\n",
    "    'D': 'Ensino médio',\n",
    "    'E': 'Ensino superior',\n",
    "    'F': 'Pós-graduação'\n",
    "}\n",
    "\n",
    "dados_explorados['Categoria'] = dados_explorados['Escolaridade_pai'].map(categorias)\n",
    "\n",
    "dados_explorados = dados_explorados.sort_values(by='Nota_geral')\n",
    "\n",
    "fig = px.box(dados_explorados, x='Categoria', y='Nota_geral', \n",
    "             labels={'Categoria': 'Escolaridade do Pai', 'Nota_geral': 'Nota Geral'})\n",
    "fig.update_layout(title='Boxplot de Escolaridade do Pai em relação à Nota Geral', title_x=0.5, title_y=0.95)\n",
    "fig.show()"
   ]
  }
 ],
 "metadata": {
  "kernelspec": {
   "display_name": "Python 3",
   "language": "python",
   "name": "python3"
  },
  "language_info": {
   "codemirror_mode": {
    "name": "ipython",
    "version": 3
   },
   "file_extension": ".py",
   "mimetype": "text/x-python",
   "name": "python",
   "nbconvert_exporter": "python",
   "pygments_lexer": "ipython3",
   "version": "3.12.0"
  }
 },
 "nbformat": 4,
 "nbformat_minor": 2
}
